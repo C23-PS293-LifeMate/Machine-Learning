{
  "nbformat": 4,
  "nbformat_minor": 0,
  "metadata": {
    "colab": {
      "provenance": [],
      "gpuType": "T4"
    },
    "kernelspec": {
      "name": "python3",
      "display_name": "Python 3"
    },
    "language_info": {
      "name": "python"
    },
    "accelerator": "GPU"
  },
  "cells": [
    {
      "cell_type": "markdown",
      "source": [
        "# **Menyiapkan Dataset**"
      ],
      "metadata": {
        "id": "AbOa77JdL1hu"
      }
    },
    {
      "cell_type": "code",
      "source": [],
      "metadata": {
        "id": "4OW7G_YfiZ8n"
      },
      "execution_count": null,
      "outputs": []
    },
    {
      "cell_type": "code",
      "source": [
        "# melakukan download dataset \n",
        "\n",
        "!wget --no-check-certificate \\\n",
        "  https://github.com/mawargun/Bangkit-Project/raw/main/Wellbeing_and_lifestyle_data.zip \\\n",
        "  -O /tmp/Wellbeing_and_lifestyle_data.zip"
      ],
      "metadata": {
        "id": "AYl9s9AIMBn2",
        "colab": {
          "base_uri": "https://localhost:8080/"
        },
        "outputId": "cf91812d-c697-463d-fe89-911d09c73a4d"
      },
      "execution_count": null,
      "outputs": [
        {
          "output_type": "stream",
          "name": "stdout",
          "text": [
            "--2023-06-05 05:50:05--  https://github.com/mawargun/Bangkit-Project/raw/main/Wellbeing_and_lifestyle_data.zip\n",
            "Resolving github.com (github.com)... 140.82.113.3\n",
            "Connecting to github.com (github.com)|140.82.113.3|:443... connected.\n",
            "HTTP request sent, awaiting response... 302 Found\n",
            "Location: https://raw.githubusercontent.com/mawargun/Bangkit-Project/main/Wellbeing_and_lifestyle_data.zip [following]\n",
            "--2023-06-05 05:50:05--  https://raw.githubusercontent.com/mawargun/Bangkit-Project/main/Wellbeing_and_lifestyle_data.zip\n",
            "Resolving raw.githubusercontent.com (raw.githubusercontent.com)... 185.199.108.133, 185.199.111.133, 185.199.110.133, ...\n",
            "Connecting to raw.githubusercontent.com (raw.githubusercontent.com)|185.199.108.133|:443... connected.\n",
            "HTTP request sent, awaiting response... 200 OK\n",
            "Length: 301853 (295K) [application/zip]\n",
            "Saving to: ‘/tmp/Wellbeing_and_lifestyle_data.zip’\n",
            "\n",
            "/tmp/Wellbeing_and_ 100%[===================>] 294.78K  --.-KB/s    in 0.03s   \n",
            "\n",
            "2023-06-05 05:50:05 (9.13 MB/s) - ‘/tmp/Wellbeing_and_lifestyle_data.zip’ saved [301853/301853]\n",
            "\n"
          ]
        }
      ]
    },
    {
      "cell_type": "code",
      "execution_count": null,
      "metadata": {
        "id": "5hYOFN1KeJ9a",
        "colab": {
          "base_uri": "https://localhost:8080/"
        },
        "outputId": "51cd3d53-ed63-4ecd-be3a-144b05d5c1ef"
      },
      "outputs": [
        {
          "output_type": "stream",
          "name": "stdout",
          "text": [
            "numpy version is 1.22.4\n",
            "tensorflow version is 2.12.0\n"
          ]
        }
      ],
      "source": [
        "#import library yang dibutuhkan\n",
        "import zipfile\n",
        "import os\n",
        "import pandas as pd\n",
        "import numpy as np\n",
        "import plotly.express as px\n",
        "from keras.models import Sequential\n",
        "from keras.layers import Dense\n",
        "from keras.layers import Dropout\n",
        "import tensorflow as tf\n",
        "import matplotlib.pyplot as plt\n",
        "import seaborn as sb\n",
        "from scipy import stats\n",
        "print(\"numpy version is \"+np.__version__)\n",
        "print(\"tensorflow version is \"+tf.__version__)\n",
        "local_zip = '/tmp/Wellbeing_and_lifestyle_data.zip'\n",
        "zip_ref = zipfile.ZipFile(local_zip, 'r')   #read zip file\n",
        "zip_ref.extractall('/tmp') #melakukan ekstact zipfile kemudian ditaruh pada directory tmp\n",
        "zip_ref.close()"
      ]
    },
    {
      "cell_type": "code",
      "source": [
        "directory = '/tmp'\n",
        "files_in_directory = os.listdir(directory)\n",
        "print(files_in_directory)\n"
      ],
      "metadata": {
        "colab": {
          "base_uri": "https://localhost:8080/"
        },
        "id": "x-1rhMEQR9GD",
        "outputId": "b09062eb-5e69-4f82-f1aa-f3d020f01b8a"
      },
      "execution_count": null,
      "outputs": [
        {
          "output_type": "stream",
          "name": "stdout",
          "text": [
            "['dap_multiplexer.INFO', 'pyright-339-3v22ZfNjSTzE', 'debugger_ewqnwcfqj', 'Wellbeing_and_lifestyle_data.csv', 'pyright-339-QeZXaZR6yUdt', 'python-languageserver-cancellation', 'language_service.86de35be6719.root.log.INFO.20230605-054926.331', 'dap_multiplexer.86de35be6719.root.log.INFO.20230605-054844.103', 'Wellbeing_and_lifestyle_data.zip', 'initgoogle_syslog_dir.0', 'language_service.INFO']\n"
          ]
        }
      ]
    },
    {
      "cell_type": "code",
      "source": [
        "\n",
        "csv_file_path = '/tmp/Wellbeing_and_lifestyle_data.csv' \n",
        "df = pd.read_csv(csv_file_path)\n"
      ],
      "metadata": {
        "id": "_irvYCjpSf2K"
      },
      "execution_count": null,
      "outputs": []
    },
    {
      "cell_type": "code",
      "source": [
        "df.head() # melihat data awal"
      ],
      "metadata": {
        "colab": {
          "base_uri": "https://localhost:8080/",
          "height": 386
        },
        "id": "Xp8b818fvlUH",
        "outputId": "49b330b2-f27e-47af-815d-fc5990402290"
      },
      "execution_count": null,
      "outputs": [
        {
          "output_type": "execute_result",
          "data": {
            "text/plain": [
              "  Timestamp  FRUITS_VEGGIES DAILY_STRESS  PLACES_VISITED  CORE_CIRCLE  \\\n",
              "0    7/7/15               3            2               2            5   \n",
              "1    7/7/15               2            3               4            3   \n",
              "2    7/7/15               2            3               3            4   \n",
              "3    7/7/15               3            3              10            3   \n",
              "4    7/7/15               5            1               3            3   \n",
              "\n",
              "   SUPPORTING_OTHERS  SOCIAL_NETWORK  ACHIEVEMENT  DONATION  BMI_RANGE  ...  \\\n",
              "0                  0               5            2         0          1  ...   \n",
              "1                  8              10            5         2          2  ...   \n",
              "2                  4              10            3         2          2  ...   \n",
              "3                 10               7            2         5          2  ...   \n",
              "4                 10               4            2         4          2  ...   \n",
              "\n",
              "   SLEEP_HOURS  LOST_VACATION  DAILY_SHOUTING  SUFFICIENT_INCOME  \\\n",
              "0            7              5               5                  1   \n",
              "1            8              2               2                  2   \n",
              "2            8             10               2                  2   \n",
              "3            5              7               5                  1   \n",
              "4            7              0               0                  2   \n",
              "\n",
              "   PERSONAL_AWARDS  TIME_FOR_PASSION  WEEKLY_MEDITATION         AGE  GENDER  \\\n",
              "0                4                 0                  5    36 to 50  Female   \n",
              "1                3                 2                  6    36 to 50  Female   \n",
              "2                4                 8                  3    36 to 50  Female   \n",
              "3                5                 2                  0  51 or more  Female   \n",
              "4                8                 1                  5  51 or more  Female   \n",
              "\n",
              "   WORK_LIFE_BALANCE_SCORE  \n",
              "0                    609.5  \n",
              "1                    655.6  \n",
              "2                    631.6  \n",
              "3                    622.7  \n",
              "4                    663.9  \n",
              "\n",
              "[5 rows x 24 columns]"
            ],
            "text/html": [
              "\n",
              "  <div id=\"df-15d42a81-493b-4f46-a0af-4f02ecc8faf7\">\n",
              "    <div class=\"colab-df-container\">\n",
              "      <div>\n",
              "<style scoped>\n",
              "    .dataframe tbody tr th:only-of-type {\n",
              "        vertical-align: middle;\n",
              "    }\n",
              "\n",
              "    .dataframe tbody tr th {\n",
              "        vertical-align: top;\n",
              "    }\n",
              "\n",
              "    .dataframe thead th {\n",
              "        text-align: right;\n",
              "    }\n",
              "</style>\n",
              "<table border=\"1\" class=\"dataframe\">\n",
              "  <thead>\n",
              "    <tr style=\"text-align: right;\">\n",
              "      <th></th>\n",
              "      <th>Timestamp</th>\n",
              "      <th>FRUITS_VEGGIES</th>\n",
              "      <th>DAILY_STRESS</th>\n",
              "      <th>PLACES_VISITED</th>\n",
              "      <th>CORE_CIRCLE</th>\n",
              "      <th>SUPPORTING_OTHERS</th>\n",
              "      <th>SOCIAL_NETWORK</th>\n",
              "      <th>ACHIEVEMENT</th>\n",
              "      <th>DONATION</th>\n",
              "      <th>BMI_RANGE</th>\n",
              "      <th>...</th>\n",
              "      <th>SLEEP_HOURS</th>\n",
              "      <th>LOST_VACATION</th>\n",
              "      <th>DAILY_SHOUTING</th>\n",
              "      <th>SUFFICIENT_INCOME</th>\n",
              "      <th>PERSONAL_AWARDS</th>\n",
              "      <th>TIME_FOR_PASSION</th>\n",
              "      <th>WEEKLY_MEDITATION</th>\n",
              "      <th>AGE</th>\n",
              "      <th>GENDER</th>\n",
              "      <th>WORK_LIFE_BALANCE_SCORE</th>\n",
              "    </tr>\n",
              "  </thead>\n",
              "  <tbody>\n",
              "    <tr>\n",
              "      <th>0</th>\n",
              "      <td>7/7/15</td>\n",
              "      <td>3</td>\n",
              "      <td>2</td>\n",
              "      <td>2</td>\n",
              "      <td>5</td>\n",
              "      <td>0</td>\n",
              "      <td>5</td>\n",
              "      <td>2</td>\n",
              "      <td>0</td>\n",
              "      <td>1</td>\n",
              "      <td>...</td>\n",
              "      <td>7</td>\n",
              "      <td>5</td>\n",
              "      <td>5</td>\n",
              "      <td>1</td>\n",
              "      <td>4</td>\n",
              "      <td>0</td>\n",
              "      <td>5</td>\n",
              "      <td>36 to 50</td>\n",
              "      <td>Female</td>\n",
              "      <td>609.5</td>\n",
              "    </tr>\n",
              "    <tr>\n",
              "      <th>1</th>\n",
              "      <td>7/7/15</td>\n",
              "      <td>2</td>\n",
              "      <td>3</td>\n",
              "      <td>4</td>\n",
              "      <td>3</td>\n",
              "      <td>8</td>\n",
              "      <td>10</td>\n",
              "      <td>5</td>\n",
              "      <td>2</td>\n",
              "      <td>2</td>\n",
              "      <td>...</td>\n",
              "      <td>8</td>\n",
              "      <td>2</td>\n",
              "      <td>2</td>\n",
              "      <td>2</td>\n",
              "      <td>3</td>\n",
              "      <td>2</td>\n",
              "      <td>6</td>\n",
              "      <td>36 to 50</td>\n",
              "      <td>Female</td>\n",
              "      <td>655.6</td>\n",
              "    </tr>\n",
              "    <tr>\n",
              "      <th>2</th>\n",
              "      <td>7/7/15</td>\n",
              "      <td>2</td>\n",
              "      <td>3</td>\n",
              "      <td>3</td>\n",
              "      <td>4</td>\n",
              "      <td>4</td>\n",
              "      <td>10</td>\n",
              "      <td>3</td>\n",
              "      <td>2</td>\n",
              "      <td>2</td>\n",
              "      <td>...</td>\n",
              "      <td>8</td>\n",
              "      <td>10</td>\n",
              "      <td>2</td>\n",
              "      <td>2</td>\n",
              "      <td>4</td>\n",
              "      <td>8</td>\n",
              "      <td>3</td>\n",
              "      <td>36 to 50</td>\n",
              "      <td>Female</td>\n",
              "      <td>631.6</td>\n",
              "    </tr>\n",
              "    <tr>\n",
              "      <th>3</th>\n",
              "      <td>7/7/15</td>\n",
              "      <td>3</td>\n",
              "      <td>3</td>\n",
              "      <td>10</td>\n",
              "      <td>3</td>\n",
              "      <td>10</td>\n",
              "      <td>7</td>\n",
              "      <td>2</td>\n",
              "      <td>5</td>\n",
              "      <td>2</td>\n",
              "      <td>...</td>\n",
              "      <td>5</td>\n",
              "      <td>7</td>\n",
              "      <td>5</td>\n",
              "      <td>1</td>\n",
              "      <td>5</td>\n",
              "      <td>2</td>\n",
              "      <td>0</td>\n",
              "      <td>51 or more</td>\n",
              "      <td>Female</td>\n",
              "      <td>622.7</td>\n",
              "    </tr>\n",
              "    <tr>\n",
              "      <th>4</th>\n",
              "      <td>7/7/15</td>\n",
              "      <td>5</td>\n",
              "      <td>1</td>\n",
              "      <td>3</td>\n",
              "      <td>3</td>\n",
              "      <td>10</td>\n",
              "      <td>4</td>\n",
              "      <td>2</td>\n",
              "      <td>4</td>\n",
              "      <td>2</td>\n",
              "      <td>...</td>\n",
              "      <td>7</td>\n",
              "      <td>0</td>\n",
              "      <td>0</td>\n",
              "      <td>2</td>\n",
              "      <td>8</td>\n",
              "      <td>1</td>\n",
              "      <td>5</td>\n",
              "      <td>51 or more</td>\n",
              "      <td>Female</td>\n",
              "      <td>663.9</td>\n",
              "    </tr>\n",
              "  </tbody>\n",
              "</table>\n",
              "<p>5 rows × 24 columns</p>\n",
              "</div>\n",
              "      <button class=\"colab-df-convert\" onclick=\"convertToInteractive('df-15d42a81-493b-4f46-a0af-4f02ecc8faf7')\"\n",
              "              title=\"Convert this dataframe to an interactive table.\"\n",
              "              style=\"display:none;\">\n",
              "        \n",
              "  <svg xmlns=\"http://www.w3.org/2000/svg\" height=\"24px\"viewBox=\"0 0 24 24\"\n",
              "       width=\"24px\">\n",
              "    <path d=\"M0 0h24v24H0V0z\" fill=\"none\"/>\n",
              "    <path d=\"M18.56 5.44l.94 2.06.94-2.06 2.06-.94-2.06-.94-.94-2.06-.94 2.06-2.06.94zm-11 1L8.5 8.5l.94-2.06 2.06-.94-2.06-.94L8.5 2.5l-.94 2.06-2.06.94zm10 10l.94 2.06.94-2.06 2.06-.94-2.06-.94-.94-2.06-.94 2.06-2.06.94z\"/><path d=\"M17.41 7.96l-1.37-1.37c-.4-.4-.92-.59-1.43-.59-.52 0-1.04.2-1.43.59L10.3 9.45l-7.72 7.72c-.78.78-.78 2.05 0 2.83L4 21.41c.39.39.9.59 1.41.59.51 0 1.02-.2 1.41-.59l7.78-7.78 2.81-2.81c.8-.78.8-2.07 0-2.86zM5.41 20L4 18.59l7.72-7.72 1.47 1.35L5.41 20z\"/>\n",
              "  </svg>\n",
              "      </button>\n",
              "      \n",
              "  <style>\n",
              "    .colab-df-container {\n",
              "      display:flex;\n",
              "      flex-wrap:wrap;\n",
              "      gap: 12px;\n",
              "    }\n",
              "\n",
              "    .colab-df-convert {\n",
              "      background-color: #E8F0FE;\n",
              "      border: none;\n",
              "      border-radius: 50%;\n",
              "      cursor: pointer;\n",
              "      display: none;\n",
              "      fill: #1967D2;\n",
              "      height: 32px;\n",
              "      padding: 0 0 0 0;\n",
              "      width: 32px;\n",
              "    }\n",
              "\n",
              "    .colab-df-convert:hover {\n",
              "      background-color: #E2EBFA;\n",
              "      box-shadow: 0px 1px 2px rgba(60, 64, 67, 0.3), 0px 1px 3px 1px rgba(60, 64, 67, 0.15);\n",
              "      fill: #174EA6;\n",
              "    }\n",
              "\n",
              "    [theme=dark] .colab-df-convert {\n",
              "      background-color: #3B4455;\n",
              "      fill: #D2E3FC;\n",
              "    }\n",
              "\n",
              "    [theme=dark] .colab-df-convert:hover {\n",
              "      background-color: #434B5C;\n",
              "      box-shadow: 0px 1px 3px 1px rgba(0, 0, 0, 0.15);\n",
              "      filter: drop-shadow(0px 1px 2px rgba(0, 0, 0, 0.3));\n",
              "      fill: #FFFFFF;\n",
              "    }\n",
              "  </style>\n",
              "\n",
              "      <script>\n",
              "        const buttonEl =\n",
              "          document.querySelector('#df-15d42a81-493b-4f46-a0af-4f02ecc8faf7 button.colab-df-convert');\n",
              "        buttonEl.style.display =\n",
              "          google.colab.kernel.accessAllowed ? 'block' : 'none';\n",
              "\n",
              "        async function convertToInteractive(key) {\n",
              "          const element = document.querySelector('#df-15d42a81-493b-4f46-a0af-4f02ecc8faf7');\n",
              "          const dataTable =\n",
              "            await google.colab.kernel.invokeFunction('convertToInteractive',\n",
              "                                                     [key], {});\n",
              "          if (!dataTable) return;\n",
              "\n",
              "          const docLinkHtml = 'Like what you see? Visit the ' +\n",
              "            '<a target=\"_blank\" href=https://colab.research.google.com/notebooks/data_table.ipynb>data table notebook</a>'\n",
              "            + ' to learn more about interactive tables.';\n",
              "          element.innerHTML = '';\n",
              "          dataTable['output_type'] = 'display_data';\n",
              "          await google.colab.output.renderOutput(dataTable, element);\n",
              "          const docLink = document.createElement('div');\n",
              "          docLink.innerHTML = docLinkHtml;\n",
              "          element.appendChild(docLink);\n",
              "        }\n",
              "      </script>\n",
              "    </div>\n",
              "  </div>\n",
              "  "
            ]
          },
          "metadata": {},
          "execution_count": 6
        }
      ]
    },
    {
      "cell_type": "code",
      "source": [
        "#Describe the data to find outliers\n",
        "df.describe()"
      ],
      "metadata": {
        "colab": {
          "base_uri": "https://localhost:8080/",
          "height": 364
        },
        "id": "MFPlavDDpsaC",
        "outputId": "08f98956-9f75-4deb-fb70-95a8db688fed"
      },
      "execution_count": null,
      "outputs": [
        {
          "output_type": "execute_result",
          "data": {
            "text/plain": [
              "       FRUITS_VEGGIES  PLACES_VISITED   CORE_CIRCLE  SUPPORTING_OTHERS  \\\n",
              "count    15972.000000    15972.000000  15972.000000       15972.000000   \n",
              "mean         2.922677        5.232970      5.508077           5.616454   \n",
              "std          1.442694        3.311912      2.840334           3.242021   \n",
              "min          0.000000        0.000000      0.000000           0.000000   \n",
              "25%          2.000000        2.000000      3.000000           3.000000   \n",
              "50%          3.000000        5.000000      5.000000           5.000000   \n",
              "75%          4.000000        8.000000      8.000000          10.000000   \n",
              "max          5.000000       10.000000     10.000000          10.000000   \n",
              "\n",
              "       SOCIAL_NETWORK   ACHIEVEMENT      DONATION     BMI_RANGE  \\\n",
              "count    15972.000000  15972.000000  15972.000000  15972.000000   \n",
              "mean         6.474267      4.000751      2.715314      1.410656   \n",
              "std          3.086672      2.755837      1.851586      0.491968   \n",
              "min          0.000000      0.000000      0.000000      1.000000   \n",
              "25%          4.000000      2.000000      1.000000      1.000000   \n",
              "50%          6.000000      3.000000      3.000000      1.000000   \n",
              "75%         10.000000      6.000000      5.000000      2.000000   \n",
              "max         10.000000     10.000000      5.000000      2.000000   \n",
              "\n",
              "       TODO_COMPLETED          FLOW   DAILY_STEPS   LIVE_VISION   SLEEP_HOURS  \\\n",
              "count    15972.000000  15972.000000  15972.000000  15972.000000  15972.000000   \n",
              "mean         5.745993      3.194778      5.703606      3.752129      7.042888   \n",
              "std          2.624097      2.357518      2.891013      3.230987      1.199044   \n",
              "min          0.000000      0.000000      1.000000      0.000000      1.000000   \n",
              "25%          4.000000      1.000000      3.000000      1.000000      6.000000   \n",
              "50%          6.000000      3.000000      5.000000      3.000000      7.000000   \n",
              "75%          8.000000      5.000000      8.000000      5.000000      8.000000   \n",
              "max         10.000000     10.000000     10.000000     10.000000     10.000000   \n",
              "\n",
              "       LOST_VACATION  DAILY_SHOUTING  SUFFICIENT_INCOME  PERSONAL_AWARDS  \\\n",
              "count   15972.000000    15972.000000       15972.000000     15972.000000   \n",
              "mean        2.898886        2.930879           1.728963         5.711558   \n",
              "std         3.692180        2.676301           0.444509         3.089630   \n",
              "min         0.000000        0.000000           1.000000         0.000000   \n",
              "25%         0.000000        1.000000           1.000000         3.000000   \n",
              "50%         0.000000        2.000000           2.000000         5.000000   \n",
              "75%         5.000000        4.000000           2.000000         9.000000   \n",
              "max        10.000000       10.000000           2.000000        10.000000   \n",
              "\n",
              "       TIME_FOR_PASSION  WEEKLY_MEDITATION  WORK_LIFE_BALANCE_SCORE  \n",
              "count      15972.000000       15972.000000             15972.000000  \n",
              "mean           3.326572           6.233346               666.751503  \n",
              "std            2.729293           3.016571                45.019868  \n",
              "min            0.000000           0.000000               480.000000  \n",
              "25%            1.000000           4.000000               636.000000  \n",
              "50%            3.000000           7.000000               667.700000  \n",
              "75%            5.000000          10.000000               698.500000  \n",
              "max           10.000000          10.000000               820.200000  "
            ],
            "text/html": [
              "\n",
              "  <div id=\"df-52d56cfb-081e-4c9c-a60b-67598ab94dc1\">\n",
              "    <div class=\"colab-df-container\">\n",
              "      <div>\n",
              "<style scoped>\n",
              "    .dataframe tbody tr th:only-of-type {\n",
              "        vertical-align: middle;\n",
              "    }\n",
              "\n",
              "    .dataframe tbody tr th {\n",
              "        vertical-align: top;\n",
              "    }\n",
              "\n",
              "    .dataframe thead th {\n",
              "        text-align: right;\n",
              "    }\n",
              "</style>\n",
              "<table border=\"1\" class=\"dataframe\">\n",
              "  <thead>\n",
              "    <tr style=\"text-align: right;\">\n",
              "      <th></th>\n",
              "      <th>FRUITS_VEGGIES</th>\n",
              "      <th>PLACES_VISITED</th>\n",
              "      <th>CORE_CIRCLE</th>\n",
              "      <th>SUPPORTING_OTHERS</th>\n",
              "      <th>SOCIAL_NETWORK</th>\n",
              "      <th>ACHIEVEMENT</th>\n",
              "      <th>DONATION</th>\n",
              "      <th>BMI_RANGE</th>\n",
              "      <th>TODO_COMPLETED</th>\n",
              "      <th>FLOW</th>\n",
              "      <th>DAILY_STEPS</th>\n",
              "      <th>LIVE_VISION</th>\n",
              "      <th>SLEEP_HOURS</th>\n",
              "      <th>LOST_VACATION</th>\n",
              "      <th>DAILY_SHOUTING</th>\n",
              "      <th>SUFFICIENT_INCOME</th>\n",
              "      <th>PERSONAL_AWARDS</th>\n",
              "      <th>TIME_FOR_PASSION</th>\n",
              "      <th>WEEKLY_MEDITATION</th>\n",
              "      <th>WORK_LIFE_BALANCE_SCORE</th>\n",
              "    </tr>\n",
              "  </thead>\n",
              "  <tbody>\n",
              "    <tr>\n",
              "      <th>count</th>\n",
              "      <td>15972.000000</td>\n",
              "      <td>15972.000000</td>\n",
              "      <td>15972.000000</td>\n",
              "      <td>15972.000000</td>\n",
              "      <td>15972.000000</td>\n",
              "      <td>15972.000000</td>\n",
              "      <td>15972.000000</td>\n",
              "      <td>15972.000000</td>\n",
              "      <td>15972.000000</td>\n",
              "      <td>15972.000000</td>\n",
              "      <td>15972.000000</td>\n",
              "      <td>15972.000000</td>\n",
              "      <td>15972.000000</td>\n",
              "      <td>15972.000000</td>\n",
              "      <td>15972.000000</td>\n",
              "      <td>15972.000000</td>\n",
              "      <td>15972.000000</td>\n",
              "      <td>15972.000000</td>\n",
              "      <td>15972.000000</td>\n",
              "      <td>15972.000000</td>\n",
              "    </tr>\n",
              "    <tr>\n",
              "      <th>mean</th>\n",
              "      <td>2.922677</td>\n",
              "      <td>5.232970</td>\n",
              "      <td>5.508077</td>\n",
              "      <td>5.616454</td>\n",
              "      <td>6.474267</td>\n",
              "      <td>4.000751</td>\n",
              "      <td>2.715314</td>\n",
              "      <td>1.410656</td>\n",
              "      <td>5.745993</td>\n",
              "      <td>3.194778</td>\n",
              "      <td>5.703606</td>\n",
              "      <td>3.752129</td>\n",
              "      <td>7.042888</td>\n",
              "      <td>2.898886</td>\n",
              "      <td>2.930879</td>\n",
              "      <td>1.728963</td>\n",
              "      <td>5.711558</td>\n",
              "      <td>3.326572</td>\n",
              "      <td>6.233346</td>\n",
              "      <td>666.751503</td>\n",
              "    </tr>\n",
              "    <tr>\n",
              "      <th>std</th>\n",
              "      <td>1.442694</td>\n",
              "      <td>3.311912</td>\n",
              "      <td>2.840334</td>\n",
              "      <td>3.242021</td>\n",
              "      <td>3.086672</td>\n",
              "      <td>2.755837</td>\n",
              "      <td>1.851586</td>\n",
              "      <td>0.491968</td>\n",
              "      <td>2.624097</td>\n",
              "      <td>2.357518</td>\n",
              "      <td>2.891013</td>\n",
              "      <td>3.230987</td>\n",
              "      <td>1.199044</td>\n",
              "      <td>3.692180</td>\n",
              "      <td>2.676301</td>\n",
              "      <td>0.444509</td>\n",
              "      <td>3.089630</td>\n",
              "      <td>2.729293</td>\n",
              "      <td>3.016571</td>\n",
              "      <td>45.019868</td>\n",
              "    </tr>\n",
              "    <tr>\n",
              "      <th>min</th>\n",
              "      <td>0.000000</td>\n",
              "      <td>0.000000</td>\n",
              "      <td>0.000000</td>\n",
              "      <td>0.000000</td>\n",
              "      <td>0.000000</td>\n",
              "      <td>0.000000</td>\n",
              "      <td>0.000000</td>\n",
              "      <td>1.000000</td>\n",
              "      <td>0.000000</td>\n",
              "      <td>0.000000</td>\n",
              "      <td>1.000000</td>\n",
              "      <td>0.000000</td>\n",
              "      <td>1.000000</td>\n",
              "      <td>0.000000</td>\n",
              "      <td>0.000000</td>\n",
              "      <td>1.000000</td>\n",
              "      <td>0.000000</td>\n",
              "      <td>0.000000</td>\n",
              "      <td>0.000000</td>\n",
              "      <td>480.000000</td>\n",
              "    </tr>\n",
              "    <tr>\n",
              "      <th>25%</th>\n",
              "      <td>2.000000</td>\n",
              "      <td>2.000000</td>\n",
              "      <td>3.000000</td>\n",
              "      <td>3.000000</td>\n",
              "      <td>4.000000</td>\n",
              "      <td>2.000000</td>\n",
              "      <td>1.000000</td>\n",
              "      <td>1.000000</td>\n",
              "      <td>4.000000</td>\n",
              "      <td>1.000000</td>\n",
              "      <td>3.000000</td>\n",
              "      <td>1.000000</td>\n",
              "      <td>6.000000</td>\n",
              "      <td>0.000000</td>\n",
              "      <td>1.000000</td>\n",
              "      <td>1.000000</td>\n",
              "      <td>3.000000</td>\n",
              "      <td>1.000000</td>\n",
              "      <td>4.000000</td>\n",
              "      <td>636.000000</td>\n",
              "    </tr>\n",
              "    <tr>\n",
              "      <th>50%</th>\n",
              "      <td>3.000000</td>\n",
              "      <td>5.000000</td>\n",
              "      <td>5.000000</td>\n",
              "      <td>5.000000</td>\n",
              "      <td>6.000000</td>\n",
              "      <td>3.000000</td>\n",
              "      <td>3.000000</td>\n",
              "      <td>1.000000</td>\n",
              "      <td>6.000000</td>\n",
              "      <td>3.000000</td>\n",
              "      <td>5.000000</td>\n",
              "      <td>3.000000</td>\n",
              "      <td>7.000000</td>\n",
              "      <td>0.000000</td>\n",
              "      <td>2.000000</td>\n",
              "      <td>2.000000</td>\n",
              "      <td>5.000000</td>\n",
              "      <td>3.000000</td>\n",
              "      <td>7.000000</td>\n",
              "      <td>667.700000</td>\n",
              "    </tr>\n",
              "    <tr>\n",
              "      <th>75%</th>\n",
              "      <td>4.000000</td>\n",
              "      <td>8.000000</td>\n",
              "      <td>8.000000</td>\n",
              "      <td>10.000000</td>\n",
              "      <td>10.000000</td>\n",
              "      <td>6.000000</td>\n",
              "      <td>5.000000</td>\n",
              "      <td>2.000000</td>\n",
              "      <td>8.000000</td>\n",
              "      <td>5.000000</td>\n",
              "      <td>8.000000</td>\n",
              "      <td>5.000000</td>\n",
              "      <td>8.000000</td>\n",
              "      <td>5.000000</td>\n",
              "      <td>4.000000</td>\n",
              "      <td>2.000000</td>\n",
              "      <td>9.000000</td>\n",
              "      <td>5.000000</td>\n",
              "      <td>10.000000</td>\n",
              "      <td>698.500000</td>\n",
              "    </tr>\n",
              "    <tr>\n",
              "      <th>max</th>\n",
              "      <td>5.000000</td>\n",
              "      <td>10.000000</td>\n",
              "      <td>10.000000</td>\n",
              "      <td>10.000000</td>\n",
              "      <td>10.000000</td>\n",
              "      <td>10.000000</td>\n",
              "      <td>5.000000</td>\n",
              "      <td>2.000000</td>\n",
              "      <td>10.000000</td>\n",
              "      <td>10.000000</td>\n",
              "      <td>10.000000</td>\n",
              "      <td>10.000000</td>\n",
              "      <td>10.000000</td>\n",
              "      <td>10.000000</td>\n",
              "      <td>10.000000</td>\n",
              "      <td>2.000000</td>\n",
              "      <td>10.000000</td>\n",
              "      <td>10.000000</td>\n",
              "      <td>10.000000</td>\n",
              "      <td>820.200000</td>\n",
              "    </tr>\n",
              "  </tbody>\n",
              "</table>\n",
              "</div>\n",
              "      <button class=\"colab-df-convert\" onclick=\"convertToInteractive('df-52d56cfb-081e-4c9c-a60b-67598ab94dc1')\"\n",
              "              title=\"Convert this dataframe to an interactive table.\"\n",
              "              style=\"display:none;\">\n",
              "        \n",
              "  <svg xmlns=\"http://www.w3.org/2000/svg\" height=\"24px\"viewBox=\"0 0 24 24\"\n",
              "       width=\"24px\">\n",
              "    <path d=\"M0 0h24v24H0V0z\" fill=\"none\"/>\n",
              "    <path d=\"M18.56 5.44l.94 2.06.94-2.06 2.06-.94-2.06-.94-.94-2.06-.94 2.06-2.06.94zm-11 1L8.5 8.5l.94-2.06 2.06-.94-2.06-.94L8.5 2.5l-.94 2.06-2.06.94zm10 10l.94 2.06.94-2.06 2.06-.94-2.06-.94-.94-2.06-.94 2.06-2.06.94z\"/><path d=\"M17.41 7.96l-1.37-1.37c-.4-.4-.92-.59-1.43-.59-.52 0-1.04.2-1.43.59L10.3 9.45l-7.72 7.72c-.78.78-.78 2.05 0 2.83L4 21.41c.39.39.9.59 1.41.59.51 0 1.02-.2 1.41-.59l7.78-7.78 2.81-2.81c.8-.78.8-2.07 0-2.86zM5.41 20L4 18.59l7.72-7.72 1.47 1.35L5.41 20z\"/>\n",
              "  </svg>\n",
              "      </button>\n",
              "      \n",
              "  <style>\n",
              "    .colab-df-container {\n",
              "      display:flex;\n",
              "      flex-wrap:wrap;\n",
              "      gap: 12px;\n",
              "    }\n",
              "\n",
              "    .colab-df-convert {\n",
              "      background-color: #E8F0FE;\n",
              "      border: none;\n",
              "      border-radius: 50%;\n",
              "      cursor: pointer;\n",
              "      display: none;\n",
              "      fill: #1967D2;\n",
              "      height: 32px;\n",
              "      padding: 0 0 0 0;\n",
              "      width: 32px;\n",
              "    }\n",
              "\n",
              "    .colab-df-convert:hover {\n",
              "      background-color: #E2EBFA;\n",
              "      box-shadow: 0px 1px 2px rgba(60, 64, 67, 0.3), 0px 1px 3px 1px rgba(60, 64, 67, 0.15);\n",
              "      fill: #174EA6;\n",
              "    }\n",
              "\n",
              "    [theme=dark] .colab-df-convert {\n",
              "      background-color: #3B4455;\n",
              "      fill: #D2E3FC;\n",
              "    }\n",
              "\n",
              "    [theme=dark] .colab-df-convert:hover {\n",
              "      background-color: #434B5C;\n",
              "      box-shadow: 0px 1px 3px 1px rgba(0, 0, 0, 0.15);\n",
              "      filter: drop-shadow(0px 1px 2px rgba(0, 0, 0, 0.3));\n",
              "      fill: #FFFFFF;\n",
              "    }\n",
              "  </style>\n",
              "\n",
              "      <script>\n",
              "        const buttonEl =\n",
              "          document.querySelector('#df-52d56cfb-081e-4c9c-a60b-67598ab94dc1 button.colab-df-convert');\n",
              "        buttonEl.style.display =\n",
              "          google.colab.kernel.accessAllowed ? 'block' : 'none';\n",
              "\n",
              "        async function convertToInteractive(key) {\n",
              "          const element = document.querySelector('#df-52d56cfb-081e-4c9c-a60b-67598ab94dc1');\n",
              "          const dataTable =\n",
              "            await google.colab.kernel.invokeFunction('convertToInteractive',\n",
              "                                                     [key], {});\n",
              "          if (!dataTable) return;\n",
              "\n",
              "          const docLinkHtml = 'Like what you see? Visit the ' +\n",
              "            '<a target=\"_blank\" href=https://colab.research.google.com/notebooks/data_table.ipynb>data table notebook</a>'\n",
              "            + ' to learn more about interactive tables.';\n",
              "          element.innerHTML = '';\n",
              "          dataTable['output_type'] = 'display_data';\n",
              "          await google.colab.output.renderOutput(dataTable, element);\n",
              "          const docLink = document.createElement('div');\n",
              "          docLink.innerHTML = docLinkHtml;\n",
              "          element.appendChild(docLink);\n",
              "        }\n",
              "      </script>\n",
              "    </div>\n",
              "  </div>\n",
              "  "
            ]
          },
          "metadata": {},
          "execution_count": 7
        }
      ]
    },
    {
      "cell_type": "markdown",
      "source": [
        "Finding outliers data on WORK_LIFE_BALANCE_SCORE"
      ],
      "metadata": {
        "id": "IGRk2iKbqogM"
      }
    },
    {
      "cell_type": "code",
      "source": [
        "\n",
        "fig = px.box(df,y=\"WORK_LIFE_BALANCE_SCORE\")\n",
        "fig.show()"
      ],
      "metadata": {
        "colab": {
          "base_uri": "https://localhost:8080/",
          "height": 542
        },
        "id": "rKkdGJEoqoP6",
        "outputId": "59fa15db-7875-4ee0-b4c9-96a359873e4b"
      },
      "execution_count": null,
      "outputs": [
        {
          "output_type": "display_data",
          "data": {
            "text/html": [
              "<html>\n",
              "<head><meta charset=\"utf-8\" /></head>\n",
              "<body>\n",
              "    <div>            <script src=\"https://cdnjs.cloudflare.com/ajax/libs/mathjax/2.7.5/MathJax.js?config=TeX-AMS-MML_SVG\"></script><script type=\"text/javascript\">if (window.MathJax && window.MathJax.Hub && window.MathJax.Hub.Config) {window.MathJax.Hub.Config({SVG: {font: \"STIX-Web\"}});}</script>                <script type=\"text/javascript\">window.PlotlyConfig = {MathJaxConfig: 'local'};</script>\n",
              "        <script src=\"https://cdn.plot.ly/plotly-2.18.2.min.js\"></script>                <div id=\"7eded25d-a086-4690-b97f-f3341987f703\" class=\"plotly-graph-div\" style=\"height:525px; width:100%;\"></div>            <script type=\"text/javascript\">                                    window.PLOTLYENV=window.PLOTLYENV || {};                                    if (document.getElementById(\"7eded25d-a086-4690-b97f-f3341987f703\")) {                    Plotly.newPlot(                        \"7eded25d-a086-4690-b97f-f3341987f703\",                        [{\"alignmentgroup\":\"True\",\"hovertemplate\":\"WORK_LIFE_BALANCE_SCORE=%{y}<extra></extra>\",\"legendgroup\":\"\",\"marker\":{\"color\":\"#636efa\"},\"name\":\"\",\"notched\":false,\"offsetgroup\":\"\",\"orientation\":\"v\",\"showlegend\":false,\"x0\":\" \",\"xaxis\":\"x\",\"y\":[609.5,655.6,631.6,622.7,663.9,722.3,727.2,676.2,702.8,634.4,610.1,618.6,686.4,689.6,639.7,720.4,673.5,707.6,727.8,687.1,652.9,668.6,709.4,752.7,677.7,633.9,628.8,692.8,673.2,673.9,712.5,692.6,574.5,630.1,746.5,591.7,729.4,593.7,682.8,723.4,687.3,635.9,655.2,652.4,657.9,686.6,732.7,685.5,742.5,663.5,710.4,658.3,633.1,677.9,640.8,557.9,669.2,712.5,712.5,571.9,575.3,678.1,648.8,649.0,656.9,680.7,663.7,661.5,609.7,656.5,739.5,657.5,528.8,694.7,662.2,704.7,694.0,694.0,709.3,538.8,654.5,680.3,538.8,651.4,724.7,677.5,696.4,658.4,749.7,749.7,676.4,594.8,758.6,640.3,678.1,678.8,551.5,639.2,718.7,697.9,670.5,666.9,638.8,651.8,639.8,687.9,593.6,626.7,658.2,605.3,645.9,669.4,605.4,690.9,709.4,709.4,627.3,643.5,637.3,665.3,665.3,714.6,649.0,717.6,748.2,637.5,628.4,634.2,653.7,656.6,670.5,588.5,672.8,695.3,591.7,649.0,708.5,673.5,595.3,671.7,625.4,705.7,753.5,707.6,713.1,687.9,729.4,665.6,576.8,602.5,669.2,680.7,694.7,612.5,679.2,677.3,730.4,658.4,714.5,619.7,672.6,602.5,689.4,683.7,683.7,632.9,665.8,733.6,711.0,558.7,753.5,636.3,604.2,620.4,645.8,594.8,674.9,715.7,596.6,680.5,680.5,715.9,639.4,698.5,639.7,714.9,657.9,658.6,732.3,706.2,642.2,702.1,699.8,665.6,677.3,729.5,628.9,583.4,597.0,679.8,628.4,627.0,739.3,704.2,661.4,679.8,615.9,741.2,677.0,677.0,644.8,727.6,727.6,608.9,734.7,650.5,743.1,725.5,749.3,703.8,660.9,702.4,639.0,639.0,609.1,645.4,688.3,688.3,698.1,615.0,727.6,720.0,727.8,754.8,624.2,676.4,573.2,581.1,624.4,667.7,667.7,754.4,706.4,645.4,598.1,625.2,728.1,668.4,672.8,710.2,629.5,693.2,638.6,729.1,607.4,685.1,655.6,664.1,672.2,665.0,687.3,646.9,681.7,741.4,722.9,620.7,589.9,720.0,575.7,684.1,769.3,620.8,601.3,771.2,671.3,649.7,600.6,700.2,646.0,636.3,681.8,699.2,642.7,665.6,684.1,641.8,627.6,673.7,682.2,579.6,656.7,655.6,709.1,553.8,630.5,710.2,754.2,657.1,610.3,556.0,554.9,683.5,721.2,668.8,638.4,559.4,679.8,632.9,722.1,683.5,691.1,702.1,764.6,701.9,656.7,703.7,648.0,683.0,722.1,643.3,643.3,682.2,646.3,626.1,622.9,633.1,609.5,625.6,656.6,663.9,704.2,666.0,642.4,686.6,659.4,722.1,621.4,731.0,663.4,667.1,585.7,626.7,597.2,675.8,729.7,703.4,655.8,625.0,626.1,653.7,724.0,670.9,699.6,635.2,655.0,657.1,611.6,672.0,584.5,685.5,550.9,603.6,686.6,696.4,670.0,618.2,670.0,684.3,665.2,700.6,656.7,741.4,627.6,611.7,645.6,704.5,684.5,699.1,699.1,671.7,694.5,596.8,691.1,640.9,661.5,622.1,622.1,747.8,690.2,694.3,551.5,645.4,697.9,633.1,738.5,641.8,603.6,603.6,706.0,687.0,687.0,637.8,651.8,614.0,649.7,648.0,722.7,731.0,690.2,674.5,713.8,657.1,658.4,739.5,651.8,634.4,714.6,780.7,700.9,781.6,799.0,734.4,628.4,678.6,681.3,693.2,659.2,607.6,704.5,704.5,699.2,671.6,707.2,680.7,670.0,607.2,709.7,641.8,636.9,719.6,658.6,655.2,704.5,704.5,660.5,649.3,673.0,704.5,619.7,704.5,714.4,647.7,600.8,685.8,723.6,689.8,612.3,740.0,607.4,627.6,715.1,709.2,705.1,583.2,615.9,694.7,714.0,705.3,642.0,600.6,620.3,751.8,663.9,711.1,628.2,727.0,563.7,760.1,663.2,706.2,664.1,681.7,583.8,620.5,627.8,637.8,693.8,693.8,635.0,710.8,596.8,636.3,636.3,636.3,706.0,684.9,612.9,728.0,704.7,703.2,756.5,666.9,629.3,614.0,662.2,705.3,719.8,657.7,638.6,689.0,644.8,652.4,622.9,627.8,718.3,661.7,667.3,665.4,751.8,617.8,736.1,736.1,620.3,595.5,734.7,651.6,648.2,636.1,699.8,640.9,676.4,688.5,748.2,661.9,716.0,778.2,734.8,734.9,616.1,697.0,675.4,718.3,659.4,626.9,604.4,760.3,687.1,682.4,620.4,610.1,680.9,671.1,683.0,717.0,688.5,593.6,638.4,643.1,622.0,649.5,653.9,657.3,667.1,632.6,666.2,648.8,691.9,626.3,588.9,608.7,617.6,651.6,718.9,729.1,671.4,622.3,634.2,634.2,682.0,688.8,656.9,661.6,755.2,697.9,671.6,663.0,672.0,665.8,688.1,677.9,734.2,694.9,656.9,639.9,681.9,677.5,693.4,713.6,703.6,693.4,714.0,689.0,674.7,731.9,692.6,679.4,703.0,646.5,646.5,624.6,674.9,692.4,632.9,687.7,699.8,709.1,652.2,595.9,648.6,672.4,672.4,696.0,681.7,702.1,702.1,702.1,682.6,689.6,699.6,672.4,673.7,700.0,633.3,683.9,595.9,689.0,727.6,722.9,657.5,653.3,698.5,653.2,650.7,633.3,690.0,701.9,722.3,663.4,605.9,694.9,694.3,618.4,619.7,633.3,643.3,687.2,707.2,684.9,674.9,669.8,734.4,674.9,661.8,634.3,622.1,711.7,651.8,690.9,598.5,606.8,574.9,641.4,632.7,752.1,721.2,731.7,697.0,724.6,732.7,756.1,714.0,714.0,631.0,722.9,648.0,632.5,673.5,573.4,698.9,625.7,735.9,735.9,715.9,656.4,738.0,657.0,734.0,648.6,619.5,665.8,716.1,635.0,693.4,739.1,699.3,715.3,692.1,605.7,669.6,615.4,723.3,715.7,696.2,680.0,661.6,701.5,700.0,680.0,682.1,709.6,710.8,679.1,720.8,696.6,651.8,734.8,695.1,600.0,622.2,675.6,567.7,690.9,685.5,665.2,596.6,683.0,616.5,717.4,585.8,716.4,623.5,667.1,697.9,700.4,677.7,682.1,619.9,682.1,696.6,591.7,626.9,677.9,599.9,644.0,680.9,656.0,721.1,643.7,653.9,715.3,653.1,709.6,687.5,619.3,649.8,676.7,654.1,669.0,779.4,697.0,646.8,629.1,660.5,740.8,613.7,652.2,628.7,712.3,623.8,722.8,733.1,659.6,717.6,617.6,690.3,639.4,727.6,641.1,704.5,671.1,668.8,596.6,660.9,612.1,660.1,695.1,787.5,669.0,724.0,703.6,638.6,692.8,607.2,622.9,636.7,694.3,744.0,678.7,664.5,696.4,692.8,667.9,718.5,658.4,731.0,734.2,598.3,598.3,689.6,592.1,726.8,590.0,632.5,635.0,742.5,702.3,639.9,659.6,699.1,608.7,699.2,656.5,711.5,629.3,646.2,685.6,707.0,596.6,672.8,643.5,642.9,708.9,658.2,657.7,705.7,680.0,706.6,544.7,637.8,747.6,656.0,685.6,685.6,661.1,598.5,729.7,710.8,605.7,613.3,664.3,710.8,692.1,659.9,733.8,591.9,735.5,710.8,681.9,632.7,706.6,654.3,605.5,533.3,626.3,609.7,631.4,681.8,688.1,729.3,710.8,644.8,580.6,715.6,617.4,684.5,651.6,681.3,632.7,638.0,758.6,710.9,598.7,701.9,659.6,703.0,652.4,706.4,665.2,666.6,675.1,662.0,614.0,693.8,663.0,714.9,731.4,660.5,663.0,702.3,692.3,631.2,718.5,697.0,671.5,647.7,622.0,697.4,681.3,581.9,598.9,598.9,715.7,688.3,636.0,582.9,716.8,617.2,622.5,615.0,668.5,617.6,669.0,638.0,687.5,675.4,681.1,627.5,712.5,691.7,742.1,674.7,712.6,689.6,663.3,699.6,689.8,716.2,642.8,661.8,595.1,743.4,646.5,647.7,706.6,673.2,628.0,612.9,679.4,645.2,770.3,648.4,667.1,624.2,655.6,605.5,662.4,638.4,648.4,648.4,646.5,742.9,673.9,652.4,588.1,684.1,623.3,588.1,678.5,671.1,754.6,729.3,618.9,686.2,686.0,627.6,741.0,724.0,709.0,571.7,714.9,617.2,640.5,700.4,616.7,651.1,651.1,643.5,665.2,643.3,697.0,729.2,667.1,632.5,672.4,552.2,737.8,737.8,746.3,736.3,641.6,690.5,690.5,701.9,692.3,742.7,673.9,678.3,680.0,672.4,658.5,576.6,726.1,726.1,706.1,720.0,705.7,705.5,676.9,641.4,610.8,729.3,670.3,679.9,637.8,588.0,768.8,673.4,639.9,652.9,681.6,611.7,686.4,645.0,591.7,677.1,635.6,687.1,601.2,719.5,730.2,730.8,632.7,696.2,649.9,723.8,752.7,669.6,770.5,619.7,702.3,636.5,746.8,716.4,683.0,658.8,697.7,589.1,659.8,655.0,585.5,594.6,720.6,720.8,704.3,650.5,644.8,679.6,707.0,653.9,629.2,707.0,740.8,682.1,759.7,622.5,627.6,703.4,665.6,655.4,690.5,704.9,768.6,668.8,655.6,747.8,658.8,728.0,686.0,658.8,667.3,656.7,660.1,726.1,617.6,647.6,663.9,728.0,609.1,635.7,705.2,670.9,651.6,643.1,597.2,659.7,619.0,622.3,723.3,700.4,723.3,626.5,599.3,597.0,681.7,700.8,663.3,770.5,728.4,643.3,704.0,612.2,627.0,605.7,561.1,670.2,637.3,588.9,729.1,729.1,611.2,644.8,730.8,730.8,739.3,744.8,739.7,677.1,672.8,601.7,729.7,732.3,605.3,622.5,584.0,726.7,728.0,627.4,672.0,612.3,712.8,690.5,674.3,674.3,674.3,628.4,562.3,672.6,670.9,656.5,622.0,722.3,693.9,651.2,651.2,741.5,721.9,632.6,654.9,612.5,752.2,752.2,752.2,702.4,688.8,751.4,607.2,632.6,654.9,669.6,618.0,679.2,748.0,717.0,706.2,648.4,642.9,708.7,672.4,652.8,615.4,642.0,725.9,639.9,496.1,496.1,630.1,730.6,692.4,692.4,731.2,695.5,711.1,650.9,670.0,612.5,741.6,683.8,720.8,750.4,741.6,820.2,650.1,734.4,655.6,706.2,656.5,607.0,650.9,690.4,590.2,690.5,665.2,628.4,639.4,706.2,684.3,618.4,679.6,665.6,616.1,608.8,617.5,758.2,672.2,582.1,731.4,637.5,685.4,585.3,642.0,698.7,638.2,644.5,682.8,698.9,736.5,563.2,704.7,688.7,665.6,728.0,597.0,749.3,749.3,749.3,662.0,690.4,648.8,592.6,636.5,688.3,692.3,707.6,766.3,635.0,643.3,705.1,648.6,641.4,641.4,666.0,641.4,641.4,641.4,641.4,641.4,641.4,641.4,641.4,641.4,641.4,641.4,641.4,641.4,641.4,641.4,641.4,641.4,641.4,641.4,641.4,641.4,641.4,641.4,641.4,641.4,641.4,623.3,643.5,655.6,653.1,715.1,670.7,631.6,641.4,641.4,641.4,641.4,641.4,641.4,641.4,641.4,641.4,641.4,641.4,728.0,665.3,693.4,746.3,693.0,693.0,767.3,723.4,708.7,663.5,592.5,631.2,629.7,623.5,740.4,719.1,641.4,641.4,641.4,675.8,624.2,583.8,697.3,659.4,673.7,629.2,681.1,695.3,725.5,598.9,689.4,668.3,688.8,669.4,681.5,714.1,657.5,703.2,675.8,632.9,717.4,632.5,720.4,669.8,631.6,630.1,709.1,681.7,598.4,598.4,656.7,656.7,714.0,627.4,758.4,658.4,587.4,587.4,652.9,622.9,652.4,623.5,683.7,605.3,647.6,704.7,758.0,719.9,675.6,629.7,698.3,608.5,741.0,741.0,745.9,642.2,719.9,704.3,679.7,690.9,633.1,617.2,713.4,670.7,670.7,677.9,677.9,677.9,662.2,695.3,699.6,688.8,695.1,614.6,772.2,614.6,630.8,672.2,710.2,700.0,602.2,630.7,639.7,689.2,682.4,694.3,628.2,686.7,713.8,632.5,632.5,681.7,718.1,641.0,633.5,691.3,684.7,705.6,629.9,721.0,574.7,606.5,645.6,645.6,650.3,735.9,735.9,664.9,663.5,732.9,660.0,591.0,714.7,547.9,660.3,657.7,598.9,676.6,547.9,602.1,692.0,615.6,664.5,726.6,643.7,585.1,594.2,547.9,632.7,581.4,663.7,710.0,608.4,741.4,629.0,735.7,661.7,693.4,685.8,647.7,701.1,663.7,795.4,627.6,619.3,601.9,606.3,744.0,606.3,649.5,697.0,676.0,708.1,668.8,626.7,597.0,676.7,657.9,670.2,710.6,631.8,614.2,601.0,666.2,704.3,663.5,611.9,611.9,632.7,634.0,671.4,666.3,612.5,693.2,637.8,597.4,659.0,665.8,631.2,660.3,652.4,609.7,631.6,569.6,625.6,725.5,671.5,718.9,702.3,664.1,612.5,775.4,651.6,735.3,726.1,651.8,605.9,735.3,735.3,680.7,669.6,658.4,658.4,716.0,721.7,642.8,644.6,663.9,684.9,649.9,644.8,719.7,685.8,662.0,628.9,626.3,684.7,721.7,705.8,704.1,635.8,629.0,704.2,685.1,629.2,787.5,684.7,623.1,678.4,730.6,646.9,722.1,729.5,758.2,736.7,598.5,617.6,637.4,698.1,664.1,649.9,631.6,651.2,673.9,639.7,639.7,639.7,676.0,656.2,651.4,729.1,721.9,731.0,641.4,648.2,708.3,667.9,699.6,578.1,645.2,772.4,708.1,722.7,594.2,653.7,695.5,648.0,780.1,733.1,662.2,620.8,637.8,690.7,719.3,774.1,663.7,704.7,622.1,656.7,673.0,675.8,665.6,601.7,697.8,721.2,563.2,670.7,721.9,735.5,668.0,667.3,728.0,723.4,677.3,677.3,646.3,676.9,634.4,672.8,672.8,671.8,598.9,768.2,652.0,683.0,607.0,669.4,656.7,619.7,703.2,635.9,633.3,678.4,721.0,681.8,674.1,739.5,655.4,694.5,650.9,602.9,602.1,621.6,671.9,708.1,683.2,585.9,710.0,634.2,620.7,631.8,578.9,734.4,654.8,716.0,670.3,717.9,710.6,714.2,641.6,637.4,631.8,712.6,671.6,578.9,658.8,712.6,624.8,745.0,686.2,687.3,696.6,698.9,678.1,637.6,651.2,731.4,648.4,711.5,659.7,712.1,676.7,600.6,727.8,650.3,727.4,698.9,700.2,649.9,641.4,622.7,722.4,633.3,730.4,654.4,658.8,685.8,651.8,643.1,698.9,619.1,668.2,690.6,724.0,583.8,711.5,671.7,733.1,641.4,700.4,642.7,642.7,720.6,698.7,729.3,658.6,635.9,664.7,700.2,674.1,686.2,643.1,647.8,644.1,609.7,723.0,723.0,659.4,668.3,600.8,597.6,682.0,682.0,692.3,641.2,678.3,682.8,677.7,684.5,696.6,679.8,657.3,660.5,652.0,669.8,644.4,626.1,708.7,593.6,698.1,659.0,645.8,678.2,670.9,670.7,665.0,649.2,692.6,655.2,658.2,598.9,692.6,597.0,613.1,689.0,735.9,629.3,703.4,748.2,712.8,685.4,686.8,604.0,696.8,616.5,697.2,700.7,717.4,650.3,622.3,699.1,639.7,753.5,673.8,686.9,777.5,645.0,636.1,717.4,617.4,661.9,646.6,639.9,663.7,745.0,627.4,719.6,591.5,676.2,667.9,677.9,718.5,733.2,670.3,679.4,645.4,651.4,665.0,642.7,620.6,686.2,655.6,744.4,749.7,749.7,632.5,697.4,799.2,710.0,730.8,680.4,629.9,711.0,649.5,730.8,723.4,675.8,674.1,609.5,616.1,611.0,668.3,729.7,729.7,718.9,691.3,646.7,646.7,690.6,713.2,629.9,652.0,653.5,662.4,694.3,636.9,636.9,634.6,649.0,609.1,652.2,676.4,708.1,631.8,752.7,706.6,752.7,672.0,715.3,695.3,686.4,730.6,614.4,606.3,609.1,634.3,634.3,706.0,609.1,624.0,703.2,610.6,624.4,734.0,697.5,697.5,628.4,735.5,677.3,592.3,730.8,608.9,669.2,649.4,604.9,671.8,616.7,613.8,746.3,646.5,680.4,655.0,705.5,685.3,694.5,714.0,714.0,718.1,683.8,681.7,651.8,683.4,627.1,705.3,566.6,662.6,695.3,665.8,638.6,611.4,671.9,698.3,761.6,643.9,616.1,705.4,697.0,718.3,649.2,650.9,614.2,612.7,621.4,665.4,658.6,614.2,614.2,688.8,652.2,706.4,748.6,652.9,662.8,600.4,653.4,640.0,694.5,752.1,682.2,645.0,682.4,597.0,683.4,697.5,676.6,689.0,656.9,685.4,598.7,738.9,727.8,694.5,722.3,685.6,659.8,659.2,635.0,693.2,676.2,712.2,690.5,671.1,578.5,626.3,713.4,713.4,669.5,744.6,639.9,645.8,688.6,622.7,722.5,683.6,639.7,681.3,666.0,705.3,594.9,585.3,597.0,662.8,705.3,724.0,656.9,616.1,686.4,617.8,641.8,628.1,649.7,637.1,546.2,664.1,674.3,642.6,718.5,637.1,759.9,703.0,661.4,699.6,687.4,563.2,644.7,691.9,691.9,716.2,686.0,676.2,625.9,567.9,568.5,657.1,683.0,637.3,612.1,681.7,691.5,677.7,683.4,670.5,600.2,600.6,617.8,612.9,758.4,639.7,651.6,685.1,630.8,697.1,712.6,693.6,662.0,626.1,629.0,653.3,608.4,636.7,657.5,701.9,689.6,689.6,602.3,696.0,649.0,755.0,745.0,600.6,720.9,745.1,753.6,724.4,628.2,716.8,614.4,620.5,620.5,639.5,632.3,738.9,738.9,639.3,748.8,722.3,665.4,628.9,712.1,690.9,641.0,721.9,640.5,641.6,676.0,720.4,616.1,679.0,713.6,643.9,679.2,600.8,585.3,670.1,701.7,676.0,741.2,709.1,678.3,713.0,644.6,619.1,707.2,634.4,677.7,659.0,693.0,693.0,607.0,711.1,648.6,619.7,640.9,648.0,677.3,684.7,611.0,575.1,575.1,575.1,575.1,712.1,628.0,703.2,629.1,698.1,660.3,590.2,660.1,662.6,638.7,665.4,718.9,665.0,660.5,766.7,716.8,635.9,614.6,668.0,661.8,649.7,643.7,655.0,678.8,623.8,577.8,658.4,741.4,648.4,646.2,674.3,672.6,622.2,655.6,718.0,658.3,620.1,620.6,660.7,643.5,655.6,655.6,599.3,629.9,669.2,657.5,670.1,624.0,726.8,703.4,562.8,729.3,637.3,550.5,643.5,630.8,709.7,626.3,682.6,666.6,648.8,694.7,651.6,577.9,643.3,673.2,598.5,670.3,686.8,619.7,673.7,645.2,643.7,692.2,655.2,607.0,703.6,703.6,675.1,644.1,696.1,595.8,736.1,590.4,691.7,656.2,649.0,665.6,721.2,611.6,658.4,634.3,612.2,663.7,637.6,711.7,597.8,586.6,671.5,707.0,655.2,701.7,682.8,573.6,576.4,576.4,655.0,597.0,634.6,669.4,704.9,650.7,667.3,655.4,666.0,669.8,678.7,678.7,678.7,635.4,709.3,683.9,648.2,685.1,685.1,685.1,697.9,686.6,651.6,639.9,706.4,649.2,745.7,616.7,679.4,756.3,758.6,720.4,708.3,649.7,645.0,627.1,687.0,683.5,582.1,676.4,697.0,680.3,645.8,669.8,691.9,595.5,658.6,609.7,639.9,624.2,708.7,595.3,690.7,610.6,644.8,698.1,628.2,698.9,697.7,666.8,668.4,644.5,690.6,667.7,676.2,743.8,649.2,690.9,689.4,726.2,666.6,715.7,643.7,721.7,711.3,584.2,624.4,595.2,592.3,665.2,693.0,702.4,636.9,649.8,649.8,619.3,714.9,674.1,672.1,651.1,592.3,640.7,681.3,686.2,712.8,724.2,579.0,761.0,661.3,712.7,603.8,622.4,665.2,661.7,604.9,604.9,700.4,749.9,651.6,721.7,717.4,674.5,629.3,622.7,670.7,713.6,673.9,742.7,722.1,655.2,731.0,731.0,731.0,731.0,643.1,699.0,645.6,595.3,710.6,633.9,649.7,703.8,655.2,671.3,670.7,718.0,700.8,700.8,612.9,665.4,645.2,620.5,590.2,713.5,629.7,641.6,715.1,742.9,724.0,705.7,658.2,581.7,688.5,585.9,658.4,704.0,641.6,678.1,714.4,583.2,711.2,639.5,735.9,634.2,636.9,662.2,643.1,626.5,608.0,723.6,569.3,694.3,688.7,667.7,666.2,580.6,677.1,740.4,661.6,714.5,632.0,649.9,656.9,714.5,596.1,752.1,615.3,710.0,679.4,659.0,749.7,690.0,627.0,666.9,691.9,731.4,673.2,681.7,698.9,684.9,645.0,712.8,625.8,675.8,689.0,648.8,650.9,550.7,668.3,695.1,695.1,664.5,643.2,653.5,728.1,635.6,739.3,663.3,692.6,641.1,568.5,671.3,649.3,668.6,611.8,599.9,596.5,684.3,678.1,669.6,591.7,681.3,674.7,669.0,653.9,706.8,706.8,609.5,632.9,632.9,609.5,679.0,656.9,629.7,744.8,660.0,721.9,714.5,683.6,626.3,615.9,758.2,749.5,693.0,680.0,680.0,701.3,686.8,669.0,647.1,679.4,629.3,704.1,710.2,667.5,671.3,705.7,678.5,706.0,586.6,682.0,704.3,647.1,584.9,680.5,613.4,617.4,661.6,661.6,640.1,631.9,619.3,571.1,693.0,747.0,602.5,627.1,713.9,625.0,713.9,565.9,696.0,627.1,627.1,684.1,679.2,664.9,584.7,660.9,598.5,647.9,663.3,724.5,708.3,653.6,739.7,650.5,678.3,748.4,624.4,649.5,675.4,666.0,667.5,675.2,680.4,690.2,638.0,659.2,648.2,694.0,598.7,708.7,694.5,595.5,723.2,644.9,735.7,710.2,547.9,673.9,653.5,710.2,649.4,647.5,595.3,657.8,568.5,653.1,697.0,710.4,606.3,606.3,697.0,656.0,674.9,556.4,677.0,735.5,681.5,655.4,630.1,667.5,717.0,639.9,697.7,602.7,652.6,684.7,598.5,589.1,679.6,600.1,629.1,595.1,672.2,703.9,623.1,616.1,687.3,629.7,605.7,741.0,624.2,618.4,744.8,755.9,717.4,674.8,712.8,560.0,700.9,702.6,612.7,663.9,730.2,667.5,713.2,670.2,635.2,641.4,673.2,686.8,632.7,633.7,703.6,646.7,698.9,684.7,646.2,641.6,681.3,681.3,604.6,763.5,658.1,661.3,636.7,609.0,660.9,614.6,650.3,653.5,680.0,683.4,627.1,631.0,645.0,700.3,645.7,760.3,595.5,744.8,632.9,715.3,660.1,660.1,708.3,708.3,616.3,638.2,651.2,668.0,552.0,605.9,605.9,704.0,759.7,638.2,711.1,645.0,663.9,658.6,631.4,544.7,620.5,629.5,643.1,656.5,665.0,671.6,648.0,639.3,616.9,700.2,701.9,680.9,704.0,670.5,694.1,602.5,634.5,732.7,662.8,670.0,618.0,627.1,623.9,623.9,667.5,707.2,635.0,662.8,636.3,581.5,638.0,742.7,678.5,681.9,591.9,620.8,610.4,637.8,686.4,625.2,698.7,699.6,674.1,609.1,688.1,566.6,697.3,678.3,639.9,639.5,690.0,670.0,669.8,669.8,633.3,634.4,659.9,640.1,617.6,605.8,547.7,669.2,648.6,634.0,684.3,684.3,725.9,598.5,720.0,644.6,685.3,732.5,732.5,690.3,668.4,684.5,691.1,691.1,680.2,662.6,660.7,660.7,697.3,706.2,679.0,684.9,707.2,629.5,684.5,584.7,629.1,629.1,655.0,655.8,686.6,683.2,612.7,688.8,722.9,722.9,674.1,701.7,636.3,682.6,672.4,571.7,604.0,650.1,652.8,654.3,676.4,648.8,648.8,729.3,703.0,669.7,734.4,678.6,713.6,648.4,642.7,732.6,719.1,713.8,672.8,676.8,702.7,639.0,671.7,710.8,583.6,694.5,683.8,671.7,594.2,662.0,770.5,663.9,683.9,672.6,654.8,643.3,631.5,625.0,648.4,652.2,675.4,631.4,666.9,629.3,723.4,624.0,646.3,687.2,690.3,611.4,662.0,692.5,655.2,697.9,675.6,640.5,632.3,687.5,639.0,658.8,666.6,650.7,666.0,692.4,674.7,605.9,605.9,678.6,562.8,663.3,676.4,583.2,659.7,646.2,635.8,671.1,671.1,595.5,595.5,607.4,660.7,619.0,736.5,750.1,735.2,707.4,634.7,608.4,613.6,684.1,623.5,663.0,634.1,787.7,645.6,589.3,624.6,672.0,638.4,610.4,603.2,741.2,595.3,644.8,626.9,653.9,605.0,755.0,543.3,728.0,604.8,634.4,694.1,693.4,614.2,601.8,626.9,662.6,640.5,656.0,574.6,593.0,569.6,691.7,564.5,816.4,656.0,626.7,630.5,614.2,685.1,818.3,582.7,649.7,705.7,649.6,648.0,687.9,578.1,629.2,614.2,684.3,688.5,631.8,714.0,654.1,724.4,614.2,611.2,652.2,600.2,718.7,677.3,685.1,647.1,721.6,590.6,561.3,596.2,695.7,630.5,627.8,571.3,677.3,641.4,612.5,624.8,639.9,566.6,682.4,719.3,629.9,631.0,659.4,638.1,606.0,694.1,698.5,738.2,705.9,722.1,627.7,725.7,564.9,630.5,644.6,654.5,665.0,740.3,642.5,598.1,687.0,645.4,576.9,614.4,606.7,637.6,687.0,612.5,555.6,714.0,724.4,617.6,638.4,631.4,616.5,598.9,670.7,724.4,632.2,697.5,696.2,612.5,636.0,480.0,612.5,688.3,654.8,642.4,599.5,629.3,618.4,634.6,655.0,733.1,659.0,626.7,626.7,636.7,571.0,531.0,585.1,705.9,634.5,693.4,603.4,653.7,709.8,639.7,709.8,711.9,665.0,741.2,736.3,640.9,679.8,747.6,686.9,663.0,648.6,703.4,726.5,703.4,703.4,627.8,701.7,705.7,619.1,619.1,604.0,692.1,673.3,632.4,653.0,674.9,581.6,655.6,645.4,661.8,641.2,641.0,638.4,657.7,622.9,622.9,622.9,666.7,730.2,730.2,723.6,663.7,760.6,647.1,701.5,611.2,611.2,653.7,655.8,741.6,676.9,711.9,677.1,704.9,711.9,610.2,610.8,585.1,654.6,664.5,669.4,671.1,622.9,680.5,648.4,611.4,606.7,622.9,622.9,615.2,677.3,623.9,686.6,688.1,633.3,623.1,691.5,618.0,692.6,685.6,619.5,674.1,695.8,625.4,619.5,665.1,663.3,635.4,647.7,644.4,643.3,700.8,759.9,635.9,619.3,619.3,619.3,660.3,674.3,668.4,539.6,624.8,632.9,649.5,617.2,617.2,695.8,645.8,641.4,721.7,653.5,749.5,724.0,728.7,717.6,657.1,662.4,595.3,598.7,695.4,712.6,632.7,632.7,669.2,698.3,642.9,642.9,642.9,642.9,633.9,685.8,634.4,705.8,705.8,604.0,700.9,689.8,634.4,646.1,728.1,660.1,635.4,641.2,625.5,633.9,731.0,614.0,687.5,614.0,686.8,569.4,671.5,701.9,670.0,592.9,587.8,712.7,683.5,661.1,624.8,723.6,659.6,656.5,669.8,648.0,703.2,731.2,622.2,664.5,615.9,557.9,683.9,624.8,684.5,771.4,601.8,714.0,667.5,717.6,672.6,712.5,726.1,718.9,718.9,620.4,597.4,674.5,705.1,710.0,634.1,689.8,607.8,741.6,697.4,643.4,610.2,610.2,598.2,680.2,639.3,750.8,557.9,627.8,625.8,667.3,698.3,700.6,750.6,537.3,647.9,695.1,695.1,656.9,603.6,616.8,603.6,592.9,636.2,642.2,732.9,691.1,714.0,589.5,692.4,671.3,683.7,704.9,614.4,709.1,648.4,670.7,659.2,612.3,688.3,640.6,602.5,644.2,644.2,692.0,672.4,640.1,711.4,631.6,667.5,707.4,667.9,735.5,675.4,685.1,611.4,648.0,695.5,675.6,709.6,712.5,721.0,726.1,659.0,726.1,705.3,658.1,698.7,610.4,638.0,626.9,629.1,687.5,814.5,706.4,589.3,597.0,706.4,692.3,682.6,655.2,593.8,661.4,685.4,715.5,715.5,715.5,715.5,721.9,652.6,675.6,625.4,620.8,617.2,703.8,634.3,652.2,646.1,698.9,697.0,684.5,728.7,631.6,654.8,654.8,682.8,689.2,620.3,620.3,675.6,641.1,671.1,617.1,617.1,674.1,629.5,698.7,622.9,590.6,667.5,554.3,674.7,625.7,617.2,617.6,702.8,645.0,537.5,537.5,529.8,709.3,576.6,600.8,750.1,720.6,725.9,765.2,659.4,549.0,600.6,639.9,753.3,593.2,674.5,731.5,596.2,762.0,686.2,603.7,732.9,480.0,634.4,578.5,687.9,641.8,666.0,673.6,612.9,741.4,622.9,649.5,674.7,690.0,692.3,691.9,722.7,687.5,678.5,648.2,649.0,721.0,636.3,765.0,628.4,738.9,640.8,588.3,724.5,677.3,605.3,605.3,683.9,707.4,717.2,702.6,728.7,667.9,669.6,734.8,646.3,717.0,643.9,746.1,557.7,564.3,652.8,634.0,634.0,612.3,625.9,590.6,701.7,723.4,607.0,663.7,743.1,612.3,642.2,670.5,672.2,644.0,644.0,739.3,746.5,618.9,621.4,621.4,718.5,635.2,721.5,594.0,693.4,690.0,608.4,619.3,650.1,686.8,666.9,631.6,573.8,701.9,619.3,678.3,691.3,646.3,603.8,669.8,706.8,660.7,680.7,604.2,588.9,626.1,674.1,664.6,666.9,693.0,647.8,677.9,690.2,674.1,666.9,747.2,676.2,580.0,666.9,683.6,621.6,679.2,572.5,679.2,679.2,688.1,703.0,679.2,666.9,649.9,642.7,677.0,693.0,762.7,682.2,666.7,622.1,622.1,651.4,646.3,666.9,667.1,666.9,650.1,767.5,700.0,650.8,773.3,589.3,605.7,688.8,595.1,652.4,636.0,660.1,635.9,642.0,657.1,736.1,641.2,641.2,601.5,601.7,634.6,634.6,605.5,701.3,668.8,617.6,621.2,627.6,720.8,646.7,643.7,724.3,662.6,665.4,580.4,706.8,706.8,615.7,659.0,697.4,716.4,679.2,680.7,640.1,640.1,708.5,708.5,742.9,647.6,602.5,595.7,606.3,621.0,621.0,682.0,671.3,646.7,680.4,646.3,696.8,600.0,701.0,652.2,605.1,690.0,625.4,739.7,667.3,679.4,646.3,639.5,646.3,729.1,719.3,661.8,695.1,638.6,710.6,676.9,756.3,702.4,674.3,625.7,712.3,628.0,712.3,712.3,635.0,703.6,690.4,658.8,662.2,642.2,705.7,573.8,730.0,667.7,625.9,695.5,685.4,669.6,736.3,658.2,606.6,654.1,633.6,639.5,627.5,691.7,587.2,659.8,729.7,737.6,656.4,647.1,605.5,686.8,731.2,692.8,660.7,688.1,667.5,610.8,619.7,673.9,722.7,717.4,709.7,767.1,653.8,627.4,593.3,764.8,647.3,611.4,647.5,746.5,705.5,578.1,623.8,625.0,728.7,668.4,704.0,707.2,686.2,686.2,612.0,627.5,654.7,569.4,618.6,733.8,640.7,741.2,684.7,594.5,661.3,674.5,704.0,655.6,655.6,586.6,661.8,595.5,661.8,712.7,662.0,724.8,644.6,529.9,653.0,611.9,716.8,661.7,642.0,645.0,588.5,601.9,644.6,649.5,688.1,687.5,597.4,629.9,687.2,736.6,685.1,751.8,744.6,643.1,689.4,680.4,680.4,618.6,695.3,566.4,566.4,715.7,646.3,657.3,639.9,683.9,685.8,675.6,676.6,680.0,618.7,703.2,674.5,698.7,650.3,646.2,677.9,653.5,679.6,751.6,647.3,650.5,728.3,653.2,626.2,673.9,696.2,573.2,610.6,696.6,635.9,681.9,641.4,722.5,689.2,712.3,782.4,655.2,640.1,732.3,714.7,640.5,617.2,667.9,729.5,711.3,667.1,667.1,727.6,689.6,608.7,729.8,678.3,657.5,703.8,619.5,625.7,674.1,727.7,637.8,663.4,644.7,702.5,684.7,684.7,629.9,608.2,707.9,673.4,671.3,736.6,584.9,727.0,649.9,685.6,724.4,691.5,655.2,650.5,627.6,724.7,670.9,768.5,707.7,685.7,588.0,669.4,577.9,683.4,581.7,714.2,686.6,604.4,682.6,686.6,736.1,701.5,662.2,698.7,656.2,664.3,632.5,693.5,686.9,743.1,661.5,586.6,625.0,671.3,638.0,609.1,589.1,682.2,768.6,589.1,627.1,694.1,628.4,721.2,697.9,699.2,632.3,667.1,679.0,619.3,723.8,600.4,698.7,639.5,639.5,720.0,728.9,736.3,643.0,725.9,603.4,626.7,655.2,708.5,701.7,660.1,693.2,652.2,633.5,706.2,709.4,628.2,636.1,707.9,685.5,713.2,676.9,642.5,654.3,566.2,635.0,635.0,636.5,591.9,628.8,664.7,598.9,612.5,707.4,668.5,595.3,695.1,683.6,705.1,729.5,734.6,614.6,717.4,665.2,671.5,719.3,651.3,737.2,654.5,605.5,786.0,663.9,652.8,660.0,638.2,755.0,639.4,641.2,644.8,644.8,653.7,617.2,652.2,713.8,671.8,650.5,742.7,749.7,721.0,585.5,621.6,636.2,657.5,669.0,688.7,663.0,722.1,663.5,617.1,617.1,732.9,597.0,675.2,611.0,610.3,653.7,623.4,687.3,636.3,642.6,694.9,651.3,694.5,751.8,642.6,696.6,688.5,672.0,732.7,684.7,688.1,681.3,698.3,707.7,781.1,681.1,681.1,661.8,722.7,661.8,601.9,649.6,649.6,649.6,626.1,656.9,679.0,710.0,649.0,681.7,651.2,657.3,621.2,615.0,663.7,636.0,675.2,600.2,707.2,703.2,670.9,585.9,626.1,620.3,677.5,587.6,730.9,647.7,705.9,616.1,621.4,743.3,659.0,557.9,684.5,684.5,715.7,606.1,746.7,557.5,677.9,674.7,642.4,667.7,646.4,598.7,599.7,704.2,722.7,761.2,722.7,729.1,606.6,659.4,673.6,677.7,677.7,675.4,641.1,685.1,685.1,625.8,622.4,719.1,531.8,689.6,674.5,675.8,666.5,722.5,671.5,615.7,779.0,641.2,571.3,625.5,707.4,662.0,586.6,697.0,681.5,684.9,683.2,676.6,707.4,686.8,724.4,756.7,633.9,633.9,676.9,717.7,699.0,675.8,656.0,604.6,691.9,679.2,583.4,627.6,595.3,685.4,751.9,662.2,703.2,608.2,663.2,660.1,656.9,656.9,658.4,649.2,595.3,623.1,674.1,710.0,685.2,620.6,613.7,606.1,728.7,624.4,617.4,645.6,626.5,643.3,673.2,664.1,682.2,676.9,509.7,746.7,590.4,612.9,659.8,653.5,641.8,596.3,663.5,690.0,633.5,585.5,650.9,635.8,690.7,687.7,667.1,576.6,617.6,758.9,690.5,624.6,617.8,679.4,638.4,605.6,724.9,654.8,553.0,701.1,709.0,660.5,652.2,666.2,674.3,660.5,648.2,685.6,675.1,666.4,722.9,634.8,694.1,671.4,671.7,664.1,655.0,681.8,646.3,652.6,703.0,620.1,677.5,644.8,657.3,705.7,663.9,626.3,694.7,654.5,654.6,641.4,704.3,710.2,649.8,690.5,681.8,635.2,685.8,699.8,718.5,671.5,656.3,686.4,624.2,698.8,714.5,726.3,663.0,595.7,715.1,675.0,680.5,658.8,658.8,615.7,650.1,632.4,750.0,703.0,676.6,688.8,694.1,628.0,665.4,658.0,704.0,702.1,769.5,638.0,616.5,654.1,605.5,656.5,607.4,607.4,596.8,631.2,743.6,729.1,625.9,590.2,707.2,641.8,641.8,625.9,706.6,648.0,724.0,612.5,709.0,680.9,625.2,656.7,656.7,656.7,663.5,715.7,675.0,643.7,674.7,607.4,683.9,683.9,675.0,670.5,647.7,666.2,728.9,716.8,602.3,693.0,755.2,533.7,696.4,711.0,709.6,723.8,729.3,749.5,729.3,677.5,627.8,668.6,637.6,677.0,689.8,659.6,612.3,668.3,583.4,612.3,618.0,655.4,613.8,657.8,629.5,685.6,624.1,672.2,614.4,661.6,661.6,657.9,657.9,661.1,661.1,669.6,658.2,661.9,626.1,645.6,602.9,683.9,669.8,697.2,584.9,592.5,692.2,672.0,710.2,678.5,670.0,632.4,705.5,710.2,670.7,624.2,639.0,639.0,537.5,607.3,583.0,636.5,696.2,670.7,659.2,579.2,684.3,733.6,653.7,598.5,592.7,728.5,693.0,797.7,635.9,641.8,616.7,746.7,722.5,689.6,649.7,649.7,612.9,654.3,652.2,699.2,650.3,594.9,643.3,656.9,733.1,550.2,550.2,749.9,701.7,691.5,672.6,696.4,624.2,641.4,711.9,677.7,590.2,688.8,709.1,677.5,590.2,586.6,700.2,719.1,641.4,666.0,605.1,610.8,730.8,642.4,748.2,715.3,622.9,654.3,670.9,637.2,705.3,705.3,571.7,595.3,588.9,623.1,709.8,709.8,713.0,629.5,672.2,687.0,717.8,717.8,696.6,663.0,629.0,703.4,608.2,681.1,738.2,559.4,654.1,645.0,684.3,663.9,646.9,663.2,663.2,726.1,759.3,579.1,579.1,674.1,653.0,662.0,629.2,697.1,662.8,717.4,634.1,668.2,621.2,638.9,655.6,749.3,634.1,643.1,694.1,743.3,675.2,657.1,705.7,667.9,652.2,634.0,721.6,642.2,666.4,666.4,722.9,633.7,657.7,672.0,619.3,663.2,612.1,686.9,659.7,660.7,603.8,717.2,656.9,672.4,633.5,641.1,635.6,733.6,748.2,719.5,651.6,768.6,711.7,718.5,650.1,634.6,711.2,686.8,557.5,720.0,699.1,675.6,648.2,624.4,634.3,709.8,670.9,658.2,612.3,654.1,699.1,658.8,658.8,662.2,638.6,713.6,640.7,698.5,588.1,685.8,684.7,608.0,700.9,700.9,658.2,717.6,641.4,638.0,661.4,680.9,671.1,688.1,642.9,685.5,578.3,655.6,691.7,659.4,716.0,716.0,561.9,691.7,693.6,656.9,668.5,652.0,652.0,636.5,711.0,676.4,625.0,731.1,687.5,667.8,741.4,684.5,684.5,665.2,673.7,684.5,665.2,634.4,661.3,692.8,603.3,685.7,685.7,603.4,719.1,706.6,673.5,706.8,615.2,691.3,739.5,637.1,578.3,698.5,685.8,697.2,652.0,696.6,652.4,700.9,609.3,693.9,682.4,620.8,727.6,650.0,638.4,746.2,691.3,722.5,723.4,659.5,641.1,641.1,741.2,739.1,698.9,698.9,590.2,625.9,589.1,629.3,674.3,710.8,710.8,629.5,609.9,619.3,716.8,571.5,616.1,659.2,715.5,696.4,694.7,651.0,649.1,730.6,701.7,626.3,626.3,645.6,670.5,669.4,664.5,658.2,734.2,731.2,641.8,704.9,599.3,696.4,635.0,716.8,734.8,686.6,645.6,654.8,633.1,683.4,598.9,711.3,731.4,700.0,700.6,680.9,680.9,631.4,696.2,713.6,620.6,696.6,631.8,721.7,588.4,624.6,750.5,639.5,721.7,641.4,727.7,695.1,695.1,673.2,653.7,641.4,749.5,678.4,726.2,646.5,666.9,620.4,672.8,671.5,614.4,705.1,679.2,702.5,742.9,640.3,663.4,663.4,699.0,664.5,658.1,667.5,670.9,641.6,626.3,673.9,656.5,690.9,678.3,630.7,637.7,676.4,685.6,615.9,738.0,703.8,629.2,661.8,689.0,554.5,554.5,619.5,668.8,643.5,614.8,691.3,612.3,670.3,605.1,622.9,659.4,687.5,647.1,677.9,560.9,632.7,767.1,658.6,707.9,695.1,713.4,677.3,661.6,642.4,717.1,588.1,639.7,582.9,708.1,663.5,688.7,649.4,670.9,697.7,683.4,735.5,718.9,639.3,639.3,658.6,658.6,641.4,742.7,756.9,723.3,648.6,641.8,576.8,620.3,645.6,645.2,594.0,612.5,689.2,646.3,645.2,645.6,728.5,654.8,763.3,662.0,655.2,661.5,655.4,661.1,620.9,663.4,638.4,612.9,597.0,602.1,630.9,691.9,636.7,682.6,647.7,676.4,612.9,629.9,689.2,635.7,685.5,592.1,756.5,639.5,693.2,623.8,601.7,646.9,715.7,581.1,632.9,761.4,645.2,647.9,722.3,643.7,643.7,584.9,676.2,751.4,663.9,675.8,675.8,655.4,653.9,755.5,707.4,667.5,729.7,728.0,679.8,688.9,611.0,706.8,691.1,706.8,680.9,742.9,673.9,632.4,652.2,639.3,709.2,669.2,659.2,616.3,601.0,480.0,656.1,625.2,709.2,739.9,668.4,725.7,684.7,660.1,656.1,648.4,652.8,755.9,694.7,679.4,656.1,617.4,733.1,583.8,674.9,661.1,611.9,628.2,656.1,602.5,696.2,607.1,685.8,653.7,724.0,653.2,676.9,705.7,703.6,604.4,683.9,625.4,632.4,632.4,632.4,621.2,671.3,742.9,727.2,635.0,681.9,641.1,660.9,643.9,673.7,685.3,693.6,634.6,616.7,656.1,704.9,680.3,701.5,669.8,669.8,685.5,693.0,670.3,640.8,629.5,666.6,624.8,603.6,659.6,624.8,685.4,636.3,703.6,655.8,701.1,702.5,723.4,696.2,617.4,635.4,737.8,678.5,691.9,702.5,684.7,732.7,658.6,587.2,628.0,673.9,606.6,702.1,722.5,642.9,661.3,632.7,624.4,725.3,698.9,707.9,618.2,664.8,679.2,696.4,659.9,692.4,639.7,687.0,732.1,652.8,658.8,718.9,615.4,720.4,624.2,745.9,646.6,647.1,694.9,624.2,696.2,598.7,713.2,665.4,660.5,660.5,663.2,699.8,670.1,651.8,756.7,618.9,618.6,667.5,670.5,651.1,725.7,742.3,658.3,660.5,700.6,616.7,629.7,705.7,599.8,660.5,682.4,694.5,770.3,648.8,648.8,661.5,678.6,588.7,660.5,710.8,620.6,620.6,681.3,681.3,601.0,698.7,607.6,660.5,627.3,650.9,643.3,693.0,710.4,660.5,741.0,696.2,713.8,785.4,742.7,572.4,670.5,660.5,637.8,690.9,660.5,700.4,593.1,647.1,691.3,564.7,681.1,663.7,660.5,631.2,650.5,655.0,607.6,637.9,775.3,620.6,649.0,660.5,671.1,666.5,678.7,707.9,621.0,624.2,675.1,660.5,660.5,644.8,660.5,756.7,765.2,645.8,660.5,720.4,638.2,687.1,658.2,660.5,715.1,604.8,620.8,661.7,661.8,644.3,602.1,717.0,705.8,641.6,592.1,644.3,673.3,648.8,638.4,660.5,710.8,714.7,714.7,626.5,663.1,705.9,604.8,625.9,679.8,591.7,660.5,626.1,681.3,670.9,680.9,609.5,660.5,689.8,640.7,658.6,685.1,660.5,670.7,679.2,669.9,748.2,679.8,653.7,665.4,637.6,573.0,677.5,642.2,660.5,666.9,637.8,639.3,660.5,590.0,673.4,707.5,653.7,612.5,715.1,660.5,643.1,601.4,660.5,710.0,612.3,591.9,660.5,714.2,727.6,721.2,649.9,660.5,616.8,660.5,721.3,679.8,646.9,696.2,646.7,673.1,649.4,660.5,663.7,609.3,725.5,599.9,620.4,598.9,679.6,773.3,773.3,700.6,746.5,681.5,643.1,758.2,627.4,690.3,714.0,629.7,643.1,702.4,666.9,660.5,610.8,751.0,740.8,624.6,684.1,659.8,636.2,715.9,687.3,635.0,611.0,634.6,674.9,720.6,605.3,686.0,690.9,690.9,635.0,671.5,693.0,749.5,670.9,669.4,701.3,706.6,659.2,677.5,647.5,701.3,740.0,715.7,576.8,616.6,739.3,681.7,636.9,652.8,662.2,666.9,632.4,720.6,690.4,660.7,626.2,731.7,734.4,657.3,614.4,687.5,660.7,646.7,679.2,675.2,688.1,670.5,720.2,638.0,708.3,660.3,727.6,727.6,708.5,742.5,628.7,590.8,676.4,629.0,670.3,744.6,648.0,648.0,684.3,624.6,641.8,656.7,592.3,546.2,673.7,659.4,676.2,707.7,695.7,680.9,665.8,639.6,680.4,686.8,749.1,607.1,658.8,655.8,722.7,755.2,652.4,643.5,569.8,676.9,695.1,610.4,632.5,671.6,633.1,687.5,729.8,749.9,749.9,697.7,728.7,634.6,622.7,622.7,694.7,660.3,695.3,694.3,658.0,705.3,638.0,747.0,635.9,559.4,703.6,685.3,661.8,669.8,686.0,660.3,660.3,708.5,642.7,714.0,642.7,674.3,670.7,714.9,753.3,646.5,652.0,661.3,686.2,688.3,640.3,673.0,694.7,654.4,654.4,709.1,580.1,752.1,711.5,624.2,655.8,613.1,693.0,668.6,780.4,656.7,679.2,567.1,638.0,676.0,703.4,730.6,636.1,620.8,689.4,650.1,703.6,666.1,665.0,562.6,638.0,638.0,733.8,679.0,720.6,666.2,739.8,675.3,671.5,641.8,658.8,662.8,613.8,640.1,652.0,689.8,673.0,653.9,710.6,677.9,646.5,627.8,636.9,622.9,658.4,725.9,630.3,669.0,704.0,701.3,666.6,677.0,745.3,668.5,660.5,645.2,633.9,617.6,646.7,672.0,704.9,646.9,603.7,684.7,623.8,623.8,623.8,603.4,751.4,639.0,670.1,626.0,676.9,703.4,703.4,651.8,722.9,666.9,703.4,644.1,643.1,643.1,693.9,659.2,590.2,703.0,662.6,707.0,599.5,599.1,704.5,702.1,670.9,733.4,650.7,641.8,672.4,694.3,608.5,608.5,618.2,743.3,673.6,632.9,554.5,554.5,638.4,699.6,763.7,693.7,644.4,611.8,598.7,595.3,643.9,736.3,607.6,593.8,759.9,689.6,604.8,684.5,688.9,655.6,595.5,595.5,714.9,726.6,697.0,697.0,757.6,612.5,620.8,671.5,669.8,741.4,679.8,684.5,713.8,666.7,761.8,698.7,707.2,782.2,782.2,660.3,680.3,673.3,632.2,605.9,683.4,682.8,650.1,669.6,688.4,707.3,672.0,672.0,654.8,643.1,651.6,687.5,723.4,750.1,621.8,621.8,663.9,661.5,703.9,593.8,714.0,663.9,654.6,642.8,668.5,671.5,662.2,672.0,636.5,705.1,597.0,592.3,571.9,571.9,656.0,749.9,584.7,602.9,608.0,672.8,658.6,724.2,681.8,681.8,680.3,629.3,628.2,677.7,677.7,639.5,711.0,701.5,606.1,708.9,640.8,708.9,681.8,619.3,614.0,681.7,681.8,729.5,640.5,708.7,731.2,626.5,710.6,603.4,603.4,683.2,603.4,647.6,600.0,718.1,657.5,597.2,601.9,570.6,572.8,721.0,711.9,644.6,658.4,626.1,689.6,662.4,605.2,718.7,632.6,683.0,687.1,664.9,674.1,706.1,706.1,711.9,640.1,667.9,702.8,689.4,654.7,654.5,696.8,699.4,687.7,598.9,691.7,677.7,652.3,683.1,689.2,665.8,645.0,571.1,684.7,654.2,642.7,666.7,700.2,626.5,696.8,623.1,736.5,786.7,786.7,627.6,699.6,649.7,651.6,588.5,627.8,619.3,593.6,704.5,626.3,717.6,622.7,641.6,658.6,649.2,586.8,682.0,711.2,677.5,730.4,678.6,631.4,672.2,637.8,657.3,595.5,683.2,724.7,640.1,734.0,672.2,578.3,659.4,642.6,699.4,666.5,758.4,704.7,672.2,699.4,678.2,730.6,733.1,631.0,581.0,678.8,678.8,673.9,552.8,704.7,598.4,656.5,608.9,719.5,719.5,695.3,692.8,640.3,630.8,626.7,730.4,735.1,630.1,627.8,717.4,677.1,710.0,663.4,544.3,590.0,616.3,628.6,707.1,646.7,648.2,711.9,674.7,674.7,617.2,676.9,666.4,722.9,552.4,663.7,682.2,706.6,703.2,653.9,697.0,604.0,652.9,610.6,698.1,612.7,666.4,717.2,694.9,677.5,679.4,598.3,598.7,679.4,728.5,705.1,641.8,662.0,759.9,703.2,674.9,679.2,598.7,710.4,672.4,748.0,678.1,667.1,679.4,719.5,701.9,714.9,726.5,628.2,712.1,643.9,642.0,704.0,719.5,647.1,647.1,621.4,679.4,715.9,652.6,711.7,660.5,635.0,646.3,749.9,702.3,645.0,645.6,649.2,690.0,587.0,704.1,638.4,647.9,619.5,696.8,664.9,609.3,561.5,628.0,708.5,649.7,750.2,668.2,661.3,626.3,684.5,693.8,585.5,666.4,692.8,732.5,624.4,670.0,717.2,731.2,714.9,612.5,670.0,721.2,668.6,696.0,698.5,625.2,716.1,597.2,699.3,672.0,769.7,747.2,700.6,703.0,732.5,658.8,671.8,714.9,602.5,602.5,736.3,686.2,576.6,576.6,586.8,676.6,602.5,704.7,669.9,727.4,667.5,663.2,631.0,670.7,734.6,701.1,683.9,677.1,732.8,695.5,629.4,603.8,712.3,633.5,672.0,680.9,666.0,722.7,672.4,601.2,654.7,654.7,629.3,651.5,687.1,593.2,727.3,557.7,649.4,660.5,643.7,745.7,634.3,718.5,656.7,660.7,748.8,650.3,701.2,618.4,666.9,611.0,741.2,765.2,706.4,670.5,771.4,668.2,685.6,586.6,709.8,650.7,665.2,696.4,631.4,654.6,654.6,671.8,690.0,662.2,668.4,677.9,696.4,662.2,676.0,680.9,658.8,688.3,658.3,765.7,702.5,709.1,665.4,617.4,637.7,696.0,719.1,690.6,690.6,691.9,691.9,694.3,616.5,616.5,616.5,600.2,645.6,702.8,702.8,732.1,593.4,622.9,691.9,687.3,692.8,581.7,670.7,598.2,596.5,704.7,704.7,643.1,666.0,688.5,655.0,656.9,658.1,677.7,700.9,644.1,660.5,708.1,767.8,701.5,598.3,651.0,672.6,645.6,695.1,667.5,666.0,631.4,680.8,642.2,720.0,701.9,637.8,688.6,741.9,707.2,663.3,588.7,610.2,685.6,597.8,752.7,684.0,659.7,636.1,662.2,738.0,685.6,619.3,671.3,653.9,685.4,663.0,681.5,665.1,717.8,659.7,659.7,648.6,656.7,693.0,662.0,632.7,633.5,658.1,682.4,694.0,620.4,627.6,748.4,649.9,635.0,703.0,673.9,743.1,680.2,627.6,656.7,681.5,644.5,653.7,680.2,743.1,668.1,675.0,744.4,673.9,708.3,718.1,694.3,621.8,620.6,751.4,581.5,626.5,648.8,691.1,688.7,679.0,714.0,745.2,592.5,745.0,642.7,657.5,677.9,645.8,664.8,666.0,659.0,667.7,687.9,718.1,750.1,620.1,675.4,673.2,655.6,681.1,666.0,696.2,743.1,636.3,671.3,690.5,701.5,731.7,620.8,719.3,734.6,630.1,675.8,625.9,676.0,706.6,706.6,713.8,722.5,698.5,681.3,693.2,698.5,698.5,630.1,672.6,647.6,588.3,696.6,588.3,772.3,607.0,634.6,633.3,671.3,721.5,671.7,671.3,650.3,682.0,670.0,625.8,634.6,744.4,612.3,682.6,661.3,597.0,675.2,656.7,647.3,668.6,587.2,654.4,691.9,666.4,621.2,677.9,628.0,607.2,607.2,566.2,698.9,655.4,736.1,633.9,696.2,711.9,714.0,705.9,691.5,659.6,659.6,636.7,654.9,702.6,659.2,667.3,715.3,726.1,712.5,711.9,702.1,645.2,640.7,681.3,655.0,648.0,670.5,639.2,674.5,701.9,523.7,716.6,661.6,702.6,622.3,698.1,698.1,749.7,682.6,613.1,710.6,594.9,700.4,711.3,629.7,618.6,661.5,698.1,651.8,721.2,583.4,571.9,707.0,625.6,768.4,580.4,620.2,646.7,619.3,629.7,656.0,629.7,673.3,686.2,715.5,698.9,621.4,705.7,657.3,672.0,680.0,605.1,667.9,633.1,604.6,604.6,609.3,700.2,619.7,668.6,684.5,667.7,571.3,715.1,671.9,632.5,745.3,584.0,649.7,635.6,697.4,675.3,646.2,611.0,662.8,662.8,656.5,735.1,725.1,725.1,713.4,723.6,723.6,680.4,684.5,676.8,648.0,593.2,593.2,593.2,684.3,585.9,728.5,649.2,662.0,598.7,790.9,631.2,631.2,698.5,667.5,557.7,560.0,670.0,654.4,679.6,583.0,681.5,676.6,661.4,665.0,728.3,684.1,708.5,692.4,622.7,696.6,614.2,614.2,668.4,702.3,702.3,690.5,704.5,658.6,628.4,752.3,626.5,623.6,730.4,654.9,702.1,615.9,732.5,593.4,649.0,707.3,663.5,655.8,655.2,706.6,652.2,722.6,663.5,711.7,659.9,648.8,633.3,658.6,669.0,619.5,613.7,722.6,687.9,659.7,562.6,562.6,636.1,637.8,704.5,722.6,654.7,601.8,633.5,665.4,620.8,687.5,710.6,637.1,632.9,744.0,638.4,638.4,643.1,642.4,663.5,663.2,679.6,575.1,663.5,636.9,683.4,592.5,592.5,592.5,659.5,670.3,665.0,725.5,706.6,749.6,703.2,624.6,681.1,659.4,679.4,689.4,740.6,698.9,716.1,693.6,668.3,601.0,694.5,665.6,681.8,715.3,593.2,650.5,691.5,755.4,666.2,662.8,641.6,586.5,703.6,593.2,593.2,630.8,654.1,696.8,635.4,600.6,643.3,641.0,659.0,630.3,730.8,666.9,698.6,564.7,658.8,707.6,621.6,683.6,702.5,621.6,649.6,647.9,655.4,730.2,683.6,722.3,600.6,645.7,649.9,576.8,685.6,751.2,750.4,589.8,629.7,633.1,629.1,729.3,634.2,695.5,633.5,703.9,676.2,711.1,603.1,627.4,629.3,598.6,679.4,697.9,687.7,718.9,684.5,668.8,717.6,661.0,772.2,693.2,522.2,594.0,681.7,733.8,733.8,569.4,650.9,676.2,653.9,646.5,710.2,698.9,654.6,683.9,683.9,580.3,656.0,712.7,590.6,622.3,683.8,651.3,722.9,630.9,636.7,716.1,629.3,629.7,633.9,663.2,658.1,675.4,680.5,682.6,703.8,610.6,601.6,622.3,755.7,605.5,588.7,630.3,664.1,674.7,591.9,653.0,707.9,646.9,669.0,642.7,712.8,696.9,651.6,613.8,687.9,673.5,654.4,707.5,711.9,718.5,692.5,651.8,651.8,723.1,573.8,717.4,717.4,730.8,730.8,571.7,749.9,616.5,724.0,701.1,688.1,696.2,696.2,712.3,585.5,677.3,677.9,605.5,643.5,649.2,720.4,720.2,718.7,713.6,693.6,658.1,718.1,672.0,656.5,648.4,599.5,668.5,624.8,640.1,651.6,724.9,612.7,692.8,687.0,627.6,650.9,743.1,694.5,650.9,635.7,653.9,700.7,666.4,758.9,670.5,713.6,718.5,616.7,697.0,697.0,682.6,768.0,768.0,693.6,658.4,679.0,742.7,739.7,744.8,692.1,744.8,715.9,662.6,615.0,638.4,689.4,744.8,679.4,665.4,629.1,744.8,615.7,653.7,578.1,677.7,653.0,734.4,702.1,734.6,675.6,675.6,675.6,726.1,658.4,544.5,618.4,724.6,608.0,628.0,576.2,604.0,687.1,723.8,663.3,633.5,633.7,662.6,646.3,665.1,521.5,524.9,524.9,606.7,639.5,616.3,739.3,724.4,650.5,668.1,682.8,744.8,756.7,676.0,705.5,618.7,727.4,588.7,722.9,716.1,571.3,624.5,659.6,689.6,672.2,683.8,672.2,655.2,660.7,660.7,748.2,648.0,748.2,672.2,742.1,748.2,672.2,578.3,666.0,619.9,619.9,647.5,730.2,685.3,669.6,744.2,694.5,762.7,607.0,710.0,699.6,625.6,624.3,614.0,668.1,610.0,588.7,614.2,749.3,763.7,601.9,710.6,761.8,612.7,664.7,639.2,627.8,637.3,654.9,640.1,701.3,700.4,588.3,669.0,638.4,692.6,627.3,580.0,592.1,726.3,601.8,711.0,714.9,733.8,643.7,664.9,637.5,677.7,627.3,697.3,696.6,646.5,646.5,704.0,559.8,672.2,683.0,727.2,744.8,675.8,631.8,629.7,744.8,744.8,744.8,744.8,727.2,727.2,671.5,649.8,623.8,729.1,584.2,682.4,736.2,616.1,696.4,726.1,703.8,715.5,694.7,661.7,661.7,703.8,590.6,680.9,703.8,726.3,726.3,685.1,685.1,694.7,695.8,688.3,615.5,652.2,619.7,718.3,695.4,669.0,705.3,737.0,661.7,597.3,619.1,681.9,759.9,647.7,683.4,633.1,646.9,707.2,695.7,638.4,625.2,624.4,634.8,588.3,570.9,585.9,676.2,624.4,627.6,668.8,668.8,621.8,588.1,695.1,585.1,648.2,693.4,664.3,720.6,735.3,758.6,733.8,650.3,677.9,661.8,672.6,676.0,693.8,703.6,663.2,695.8,669.8,635.6,605.9,697.9,670.5,654.5,729.1,658.2,728.7,623.9,698.5,697.4,650.1,728.0,687.0,631.8,569.6,578.1,596.1,589.1,592.7,687.5,691.9,717.4,655.8,668.8,694.5,610.6,654.1,736.5,741.6,725.7,689.8,690.7,637.8,669.0,635.9,688.5,698.7,720.6,656.7,678.1,676.8,630.6,636.9,607.6,630.6,668.8,651.6,641.4,641.4,673.0,661.7,609.1,703.4,707.0,688.3,676.4,676.4,659.4,684.3,680.5,655.4,733.8,727.4,755.2,656.7,691.7,725.9,780.5,795.8,700.0,694.7,601.8,657.3,601.8,723.6,676.2,684.3,704.0,570.0,657.3,685.3,685.3,537.0,663.3,582.9,640.7,741.6,673.2,689.6,576.4,666.4,646.2,644.3,785.8,743.3,687.7,646.7,652.0,615.5,618.9,699.0,576.8,694.1,658.4,701.9,567.9,704.7,677.7,676.0,658.6,687.7,712.3,599.2,717.2,606.8,663.5,663.5,656.7,743.1,650.7,665.2,700.0,705.1,635.4,697.1,727.2,669.0,628.0,698.3,632.4,676.0,700.2,700.4,703.8,560.9,645.0,630.1,630.1,649.0,748.2,607.8,604.0,675.0,739.3,624.8,737.2,638.4,676.9,709.3,685.8,649.8,691.9,725.9,709.6,616.3,672.8,596.0,804.3,674.7,662.0,686.2,703.6,617.2,695.4,734.8,743.1,705.3,754.0,647.1,688.5,588.3,655.4,744.2,604.0,730.4,604.0,680.7,672.6,663.2,718.3,676.6,746.1,599.1,649.7,605.7,655.0,632.7,604.0,652.4,719.1,724.7,593.2,603.1,653.3,621.2,700.0,601.2,657.9,648.6,632.7,757.6,695.7,710.2,690.7,640.8,670.7,629.7,724.7,609.1,670.3,687.9,747.2,664.9,664.8,598.0,598.0,648.2,673.5,711.5,580.2,614.8,652.9,687.1,638.2,658.1,678.9,636.9,675.8,732.7,729.6,626.3,633.1,701.3,705.9,618.2,618.2,656.9,653.9,692.8,631.2,685.8,607.6,615.4,679.8,678.2,568.5,627.8,609.5,717.6,704.2,622.7,698.5,751.0,765.9,614.2,647.3,621.2,666.3,658.3,685.8,694.7,714.4,714.4,714.4,677.1,718.7,729.7,666.3,649.7,694.7,636.1,661.5,663.7,614.4,678.1,614.8,668.6,653.3,604.6,639.0,660.7,717.4,646.5,667.7,624.6,749.1,710.8,703.4,646.1,647.5,584.9,687.0,679.0,660.1,751.9,731.7,660.7,653.1,708.9,612.7,681.8,652.4,673.4,665.2,663.9,585.9,557.5,608.9,675.0,621.8,711.5,789.7,678.3,682.6,568.7,656.4,674.3,679.0,603.0,758.4,646.7,675.8,642.9,701.7,685.3,720.6,694.3,661.6,564.7,651.6,682.8,684.9,635.0,771.2,722.1,686.6,612.3,648.2,595.9,654.9,655.6,702.8,662.6,700.3,692.1,670.4,616.5,620.7,677.5,670.1,656.2,681.1,729.1,678.5,739.5,626.3,634.2,663.7,595.2,650.3,583.8,633.3,641.0,604.8,678.1,689.8,597.0,624.8,681.5,710.8,580.6,681.5,723.2,659.2,665.2,667.9,700.7,626.9,624.6,645.2,708.9,760.8,647.7,730.4,718.3,718.3,668.5,652.8,640.8,703.2,673.7,608.3,677.7,652.2,678.3,592.9,616.8,686.0,668.8,701.5,660.9,699.2,682.0,703.4,612.9,617.4,636.9,745.5,636.7,577.4,655.4,647.8,637.8,579.8,624.6,619.7,744.6,701.3,632.4,683.6,662.4,655.2,655.2,622.0,622.0,603.4,688.5,615.4,727.0,621.4,672.4,729.1,729.1,686.0,657.1,645.2,662.4,638.6,712.1,675.1,660.3,599.1,641.8,642.0,676.4,738.0,712.1,668.6,694.1,710.2,755.0,688.3,600.4,666.4,689.8,752.1,707.2,721.7,698.7,698.7,681.5,671.1,648.8,658.6,721.7,634.2,634.8,660.3,677.3,661.6,609.1,724.2,562.1,725.7,682.4,644.4,721.0,578.3,674.5,724.4,597.4,647.7,615.0,589.1,733.6,634.0,579.1,662.8,637.6,794.8,758.2,614.2,703.6,692.8,749.3,635.9,675.0,683.8,683.8,723.6,632.0,663.5,746.3,721.7,690.0,636.5,674.3,644.1,607.2,614.2,584.9,734.8,665.6,644.1,664.5,615.7,695.3,674.9,693.7,597.0,716.8,641.3,671.3,713.4,628.2,632.7,697.4,612.5,597.0,651.3,568.5,683.6,670.7,608.3,705.8,655.0,661.8,639.3,659.2,756.7,699.6,676.8,659.0,754.2,702.8,607.0,648.0,713.8,674.1,684.5,604.6,677.5,660.5,736.1,697.0,698.9,712.3,678.5,601.0,604.8,668.8,668.4,624.0,750.1,664.3,598.7,659.9,677.2,706.6,664.3,592.5,723.0,620.8,612.9,708.9,672.2,624.2,653.0,680.9,728.7,693.9,698.9,734.2,652.4,610.2,620.3,721.9,620.5,649.9,660.1,716.2,730.4,681.5,671.3,687.0,642.2,641.8,643.3,575.3,687.1,684.1,673.7,663.1,635.4,638.2,646.5,663.9,645.0,593.6,658.8,728.9,711.9,711.9,659.8,656.4,667.1,634.4,706.8,706.4,699.6,735.5,684.3,662.2,748.2,778.4,746.5,611.8,740.6,598.7,617.4,735.7,654.9,719.3,662.2,690.0,686.6,696.9,682.8,729.7,630.9,640.1,728.3,692.4,635.4,638.6,704.1,648.6,680.0,704.1,685.8,600.2,647.1,583.6,592.5,608.6,639.0,718.7,673.0,707.9,635.0,635.0,609.5,680.9,615.3,553.2,630.7,705.8,672.6,661.8,666.0,691.3,678.1,631.4,689.6,664.9,625.7,666.4,664.9,686.6,626.9,676.2,621.2,575.1,635.0,661.3,682.0,717.0,783.3,705.1,679.4,744.2,613.3,635.7,626.1,717.0,651.1,675.8,646.5,737.4,662.6,711.7,644.6,622.9,674.3,670.5,588.5,687.7,551.5,611.2,706.2,689.6,637.8,643.5,651.3,650.9,722.5,702.1,625.2,681.1,538.8,702.5,710.8,683.7,633.5,685.6,634.8,683.9,718.7,606.7,628.2,635.8,679.4,725.5,731.0,634.6,735.1,689.6,670.9,692.6,633.5,611.9,705.1,627.8,603.8,740.6,584.6,675.8,694.1,664.3,637.7,669.0,645.0,645.2,713.9,644.8,684.7,633.3,759.1,661.4,648.6,741.4,678.4,622.5,588.5,635.0,603.8,646.5,662.9,594.4,598.7,692.8,691.7,696.6,680.5,622.2,655.2,680.7,689.0,672.8,604.0,744.8,681.1,666.6,667.5,682.2,686.8,637.3,601.6,620.1,637.7,685.3,690.0,680.4,617.6,768.6,666.9,754.4,667.1,720.8,666.7,704.0,705.3,693.0,683.6,718.9,691.3,653.7,635.2,682.2,749.3,658.4,730.2,683.2,647.1,629.7,681.5,736.1,634.0,693.8,663.5,639.5,666.4,726.3,692.4,705.1,608.0,604.0,695.1,714.2,715.3,658.8,647.3,593.4,702.8,625.2,732.7,673.1,619.5,645.2,684.1,663.7,613.8,669.0,702.6,619.5,693.8,702.5,718.1,719.5,696.2,721.7,738.4,632.7,672.9,672.9,604.9,700.2,609.5,673.3,718.7,719.5,700.4,714.0,626.9,639.3,587.0,607.4,624.4,635.8,665.2,702.1,668.1,693.0,647.5,573.6,670.9,667.3,704.0,719.3,707.0,717.6,695.3,672.8,639.7,712.5,644.1,674.5,641.1,687.5,698.3,672.6,672.0,706.2,679.4,710.2,741.0,722.1,616.8,710.8,666.6,666.6,571.9,646.9,584.0,580.4,689.4,675.2,676.0,676.0,670.1,656.6,673.2,664.3,664.8,694.3,653.3,634.2,675.4,740.1,608.6,602.3,600.0,711.7,685.8,627.4,627.4,694.9,704.9,617.4,700.6,671.1,657.9,640.1,678.1,681.5,649.0,647.5,651.1,660.5,676.6,677.7,653.9,745.5,730.8,606.2,601.1,631.6,631.6,631.6,631.6,678.4,678.8,607.2,731.9,598.8,669.0,616.3,632.8,625.4,722.9,643.3,692.8,698.5,679.4,654.5,721.2,674.3,648.6,649.0,649.0,708.7,656.0,700.6,650.3,652.6,703.4,673.0,635.8,635.8,694.9,643.5,742.9,757.3,715.1,657.5,656.9,692.4,715.3,709.1,659.0,679.0,686.8,656.1,783.9,657.7,686.9,676.2,715.1,646.7,676.0,702.1,651.8,733.5,684.3,698.9,672.2,669.6,626.7,672.0,727.8,658.1,690.9,752.0,701.5,654.5,678.7,679.8,668.8,667.5,697.9,697.9,672.0,640.6,602.7,665.4,749.7,618.2,616.3,670.5,743.1,740.1,729.5,667.7,646.9,601.9,663.7,640.5,640.5,665.2,615.9,697.9,697.9,645.2,636.3,636.3,610.6,697.3,697.3,687.7,652.8,659.0,668.1,619.7,644.3,667.3,605.7,655.8,658.4,676.9,721.7,610.8,640.7,677.9,561.1,599.1,683.7,702.6,635.0,610.2,615.3,629.7,694.3,641.8,630.8,656.4,694.7,639.5,626.3,657.7,651.6,621.6,678.3,652.0,662.2,552.4,693.8,624.6,554.9,701.1,658.8,646.3,680.9,702.4,680.3,634.2,679.6,673.6,716.1,652.0,605.9,682.1,627.6,651.6,623.8,639.6,673.7,667.5,707.2,720.9,619.1,720.8,601.5,658.0,734.8,720.7,666.0,588.5,698.3,671.9,630.5,619.7,644.8,686.4,603.9,619.7,598.7,665.6,584.4,629.1,651.6,690.6,629.1,663.5,706.6,675.8,639.3,617.3,695.5,677.0,654.5,633.8,724.2,738.5,652.7,624.6,683.4,687.3,678.6,590.2,617.2,612.5,766.5,770.3,664.1,613.1,655.4,597.0,597.2,675.8,676.9,633.1,671.5,641.8,617.3,578.7,644.8,580.2,717.6,628.9,679.8,657.7,629.9,657.7,579.6,693.2,641.8,700.2,694.1,553.9,712.5,713.0,709.2,722.8,651.1,676.4,739.3,678.5,665.8,689.4,658.3,690.0,703.4,695.8,714.7,639.9,708.7,645.8,676.2,701.7,668.6,683.4,604.0,639.1,620.7,645.2,649.0,704.7,587.0,589.1,637.3,630.1,656.9,704.0,683.6,681.1,655.0,648.8,695.5,725.7,629.9,636.1,597.3,720.4,731.7,731.7,624.0,618.6,715.5,680.7,615.7,639.3,695.3,642.8,585.5,658.2,574.9,680.2,753.1,558.1,675.4,617.1,613.5,678.1,700.5,669.7,700.2,636.0,618.9,658.8,656.9,739.9,607.0,711.7,670.5,680.7,603.4,699.4,672.0,592.9,655.8,692.2,756.7,696.4,642.7,705.6,646.5,720.6,633.7,686.2,632.2,670.5,683.2,573.0,624.6,688.9,685.1,679.8,676.0,609.3,754.6,668.4,703.0,626.9,704.9,674.5,688.0,672.6,611.0,592.1,691.5,638.4,664.7,652.2,656.0,580.0,658.2,656.7,611.6,716.8,677.5,687.9,637.6,630.5,618.6,665.0,724.4,660.1,655.0,714.3,696.8,705.9,713.2,727.6,732.7,681.9,680.0,694.5,666.6,755.9,650.7,721.7,738.3,638.2,613.1,634.2,603.6,698.1,698.5,709.6,709.6,614.2,657.9,642.0,569.8,642.5,755.0,690.6,625.9,629.7,649.5,597.2,588.5,653.7,601.8,601.8,651.6,637.3,668.4,682.4,759.7,675.8,686.0,630.5,657.9,680.9,635.7,639.4,712.3,635.4,619.9,655.6,741.6,639.5,627.1,697.7,697.7,622.7,622.3,663.5,652.0,613.1,685.4,651.5,662.2,667.9,704.7,633.5,715.9,590.2,696.4,700.0,559.4,711.0,605.3,597.2,621.6,744.6,627.1,648.8,683.3,705.3,616.9,626.7,662.4,751.6,691.7,680.0,670.4,656.6,691.5,603.6,638.2,730.0,676.0,718.5,748.7,675.1,687.9,687.5,741.4,681.9,597.2,688.8,681.1,670.7,603.6,640.3,649.5,732.9,696.2,693.8,670.5,681.1,706.2,695.8,684.3,690.9,634.4,602.7,675.6,688.9,751.5,677.7,605.2,744.6,693.0,694.1,707.4,674.7,637.8,632.7,680.0,680.0,601.8,603.8,603.8,651.6,668.6,667.0,598.5,627.2,675.4,693.2,592.5,663.5,682.6,690.4,677.1,625.0,650.7,629.9,607.6,753.4,715.7,619.3,642.4,626.9,653.2,746.5,746.5,639.5,615.7,639.5,679.0,672.0,634.4,728.0,628.8,713.8,661.5,586.8,622.7,635.9,732.7,697.7,705.6,747.0,676.2,633.1,598.3,679.6,593.4,672.0,683.0,601.0,716.6,625.2,698.1,641.0,641.0,670.0,660.3,540.5,593.6,663.5,580.0,715.1,659.2,657.3,698.5,636.5,701.5,698.3,662.2,706.6,705.7,692.8,695.2,696.4,660.3,700.8,652.0,681.5,664.3,659.9,578.5,687.0,628.2,621.6,682.6,607.8,671.1,607.8,634.6,617.8,670.7,670.2,656.0,705.3,708.5,659.2,619.2,725.9,613.3,642.2,690.0,702.5,728.0,672.8,620.8,728.7,703.6,640.8,683.9,658.6,716.1,640.1,686.0,629.0,662.0,665.6,660.7,739.5,658.2,741.4,731.5,682.4,638.8,698.9,739.5,634.4,727.0,667.5,737.2,622.9,582.5,623.1,635.9,614.0,664.5,721.1,663.0,556.4,684.9,739.5,658.8,710.8,537.1,722.9,600.4,682.0,607.4,680.7,761.6,689.2,673.5,667.1,668.1,703.2,676.0,696.0,657.1,683.2,668.6,703.2,634.0,660.5,625.4,690.9,717.6,719.4,724.4,707.6,698.3,703.2,721.1,690.2,732.9,713.6,714.4,675.8,662.8,630.7,678.5,669.4,702.1,748.2,643.9,682.6,668.1,690.9,717.9,720.8,702.3,686.9,679.4,749.5,684.9,754.8,615.0,642.9,630.1,632.7,584.9,584.9,616.7,750.8,630.1,727.0,620.8,645.6,662.4,660.1,648.1,608.7,624.0,753.5,662.2,626.7,756.9,677.9,699.4,648.1,677.0,671.9,641.8,615.7,607.6,666.4,617.6,678.3,717.6,717.6,617.8,656.0,686.4,717.6,677.9,655.4,726.8,543.9,688.7,634.8,706.8,713.2,653.7,634.8,541.1,646.3,657.7,634.6,691.1,683.0,641.4,578.3,737.0,661.8,656.7,628.6,679.2,661.5,580.6,711.7,656.5,644.7,667.1,699.0,656.4,724.4,674.3,701.1,765.6,658.8,676.0,622.6,686.2,604.0,597.0,708.3,656.9,690.2,598.9,614.8,643.1,654.4,630.5,699.1,630.3,621.0,636.0,624.3,666.9,668.1,631.2,667.7,680.7,646.1,688.7,673.0,728.5,657.5,674.7,705.7,612.9,595.9,668.4,636.9,568.5,721.3,725.1,641.6,703.8,648.6,650.5,688.6,648.9,575.5,629.3,699.8,746.1,647.7,685.3,714.0,690.0,592.9,673.4,635.0,628.2,608.0,680.2,669.8,607.6,706.0,736.1,719.8,580.8,697.9,728.5,663.0,684.1,713.8,629.9,686.8,660.9,705.5,665.4,721.2,625.9,624.8,705.3,734.2,608.5,696.4,670.5,670.9,641.8,671.7,759.7,554.1,722.9,672.6,671.9,691.5,688.7,710.8,606.7,603.6,667.1,591.7,698.1,628.2,649.5,668.6,652.0,615.5,746.7,698.7,772.0,681.3,634.6,627.6,696.0,668.3,726.5,564.9,670.7,674.1,744.8,694.9,653.7,676.8,733.1,694.7,742.7,667.3,704.3,644.5,565.3,653.9,648.6,705.7,681.7,667.9,694.3,627.0,610.8,710.6,735.5,674.7,627.5,664.5,650.9,726.1,728.0,663.9,571.9,702.8,621.7,572.3,645.4,701.0,648.6,626.1,685.3,671.1,666.2,655.2,746.6,645.8,585.5,643.1,603.6,640.8,662.4,704.9,672.6,652.2,636.3,607.8,661.6,628.2,664.1,734.6,665.6,727.8,661.1,611.7,651.2,673.4,735.9,713.6,658.8,622.5,660.3,717.2,674.5,682.1,698.3,680.2,629.4,628.6,629.4,624.8,686.6,684.1,620.8,713.2,648.6,732.9,706.0,716.6,703.6,665.2,672.8,669.0,718.1,714.4,724.7,574.9,731.4,691.1,596.7,683.6,616.5,632.0,717.2,787.3,669.4,680.4,671.1,666.4,661.3,690.0,631.6,645.6,663.7,660.7,611.2,677.9,717.8,622.9,688.1,604.8,675.4,742.7,717.6,731.2,639.6,749.1,715.3,666.4,711.3,743.3,712.1,694.9,724.6,689.2,744.6,670.7,653.5,597.2,700.2,654.8,741.4,678.7,688.4,720.4,674.3,640.3,699.2,674.1,604.8,658.8,696.8,661.6,596.1,701.5,710.0,678.5,742.3,693.9,624.6,697.2,665.1,699.6,647.5,670.9,724.2,672.4,696.6,703.2,655.4,614.2,653.9,690.0,694.9,717.8,694.7,726.7,628.8,707.9,719.7,670.9,623.1,696.0,665.2,689.0,667.1,714.4,652.0,617.2,728.3,653.7,655.6,709.6,588.5,559.2,645.2,691.5,748.4,607.6,564.7,739.3,706.2,680.0,673.9,673.0,685.6,699.1,663.2,646.5,701.3,709.1,714.7,705.1,620.1,749.7,693.6,717.2,720.4,676.4,712.7,680.7,616.3,616.1,736.1,681.3,574.4,713.4,698.1,734.8,629.5,588.3,644.4,667.1,724.7,704.3,748.2,786.2,752.2,607.0,639.9,633.3,692.3,701.9,685.3,675.1,677.3,726.3,753.5,695.6,693.4,699.4,739.9,635.9,589.6,645.2,684.1,716.1,737.8,653.5,660.1,661.6,703.4,625.7,703.2,669.4,690.2,610.7,665.4,648.1,773.7,625.2,731.0,652.2,699.6,592.3,625.4,724.6,676.6,660.0,631.1,659.0,703.2,771.8,687.9,716.8,710.4,630.1,686.8,716.8,730.0,682.4,738.0,685.3,674.1,751.2,713.2,696.4,701.9,601.9,686.6,700.0,596.3,715.1,662.6,754.6,635.4,582.1,622.9,652.4,772.2,637.6,745.7,654.1,715.9,700.0,693.6,692.7,710.6,652.9,743.1,665.2,693.8,707.0,698.3,628.2,749.7,671.6,664.3,695.7,703.4,664.7,639.7,632.9,634.4,683.0,672.4,653.9,700.6,706.2,618.3,686.7,674.1,794.3,620.1,642.5,665.0,656.0,566.0,697.1,721.0,632.0,647.5,606.8,594.2,669.0,768.4,634.8,698.7,685.8,750.1,657.7,792.4,653.9,635.9,706.4,650.3,655.8,636.1,697.5,658.4,693.8,645.4,722.5,666.5,626.3,678.6,530.5,716.1,660.7,652.4,662.2,644.8,689.2,670.0,660.9,647.3,680.0,726.1,720.8,651.2,699.8,665.1,664.9,564.5,626.3,654.8,672.8,689.6,666.3,625.0,630.1,701.1,679.4,639.0,696.4,640.1,677.1,707.9,676.0,694.7,714.2,732.7,690.7,640.3,598.3,610.3,696.6,663.9,606.3,667.7,660.5,630.7,626.1,637.3,777.1,700.1,702.1,706.0,702.1,659.2,587.6,587.6,628.0,721.7,687.0,602.5,690.9,686.4,680.7,669.6,664.3,671.3,615.7,714.9,662.0,690.9,567.4,646.4,676.6,607.2,773.7,672.8,716.8,627.4,678.1,628.2,624.6,801.1,646.9,664.1,632.2,631.2,674.7,497.0,640.3,732.7,695.8,675.0,678.4,598.3,590.0,728.7,629.5,710.4,652.6,692.2,667.9,666.2,647.1,641.8,641.4,693.7,691.1,655.0,646.1,681.7,587.4,729.3,620.9,608.9,671.1,691.9,673.9,697.9,571.3,664.3,688.8,680.5,617.2,649.7,642.9,706.2,705.1,730.6,677.5,639.7,514.0,684.9,717.0,697.1,667.1,701.3,724.6,619.7,754.6,754.6,634.6,754.8,681.5,611.6,604.0,648.0,712.1,707.9,690.4,739.9,563.0,735.5,712.3,678.5,614.2,643.9,643.9,668.6,755.2,661.5,718.1,634.4,714.9,738.7,700.8,658.3,647.1,709.8,689.2,698.9,610.0,677.7,718.0,686.4,725.9,715.9,594.0,676.9,684.3,638.0,640.3,672.1,691.8,763.8,661.5,624.4,624.4,634.4,668.3,747.8,622.7,636.7,678.5,666.9,617.4,619.9,699.4,604.4,689.8,661.1,627.1,682.8,636.5,684.7,671.9,723.6,749.1,611.2,686.4,600.2,676.0,633.1,698.5,698.5,718.9,702.3,683.5,697.5,670.3,710.2,689.6,564.7,698.3,736.2,624.3,650.3,634.5,689.4,625.2,695.5,728.0,756.9,660.3,676.8,640.7,674.9,720.4,715.1,692.6,660.2,711.9,673.4,682.6,639.4,695.1,640.5,731.0,664.3,674.3,675.6,720.4,641.4,673.4,730.2,679.6,736.5,680.9,785.6,692.1,659.6,716.4,717.4,658.6,737.4,699.8,763.3,646.0,651.1,703.6,683.4,663.7,692.8,651.8,746.5,729.1,685.5,706.6,714.7,666.6,623.7,743.1,653.9,649.6,645.4,661.1,708.9,692.1,739.7,698.9,741.0,714.4,668.4,710.8,715.9,698.1,706.2,728.9,670.0,713.4,730.2,724.0,674.8,645.4,636.9,603.8,649.3,729.3,656.9,701.7,700.8,594.6,653.5,692.4,700.2,680.2,710.8,738.0,722.3,709.6,687.9,681.1,663.0,691.5,724.2,645.4,736.3,714.9,705.5,699.1,732.9,654.8,753.1,690.6,652.7,646.2,712.5,670.9,764.2,739.1,746.5,662.4,683.0,709.1,688.1,703.8,733.8,674.5,685.3,727.2,631.0,638.2,772.2,702.1,701.7,695.3,704.9,650.7,716.1,759.1,693.2,700.2,763.8,641.4,687.7,669.9,639.2,627.3,635.6,680.9,751.2,663.1,632.0,719.5,578.7,662.4,729.7,646.7,655.4,645.8,639.2,667.3,635.2,654.8,683.4,700.8,728.1,688.1,679.2,715.1,656.9,624.2,587.4,638.4,688.7,665.6,723.4,648.0,691.5,687.9,675.8,647.1,679.2,681.8,689.6,714.2,727.0,571.7,717.0,578.5,594.2,651.8,642.0,677.9,616.5,605.9,567.9,734.8,647.5,672.2,665.4,694.5,601.9,612.3,713.0,714.9,646.7,682.6,678.3,719.1,726.4,748.2,694.9,670.0,636.7,674.3,756.7,637.5,716.6,638.0,645.0,666.0,681.3,644.1,650.7,657.3,646.2,653.1,719.5,630.3,613.4,712.3,758.6,755.2,676.0,699.2,644.6,597.8,671.5,637.9,622.4,664.9,673.9,646.1,668.5,709.8,655.4,576.4,675.3,577.2,611.4,648.8,676.0,679.2,721.0,643.9,643.5,580.8,693.2,650.3,655.4,655.2,499.0,698.3,594.6,674.3,685.5,682.1,672.0,608.4,592.9,625.4,677.0,662.8,677.9,693.6,670.7,734.8,606.3,697.4,605.9,726.5,480.0,643.1,652.4,643.3,674.3,643.5,602.3,702.1,792.6,606.3,646.7,693.0,658.8,648.6,582.5,667.3,759.9,697.2,689.8,697.7,612.9,696.2,703.6,698.5,712.1,676.6,631.6,637.3,730.8,653.7,651.8,649.7,723.2,697.2,755.0,717.0,672.0,626.1,644.8,684.9,666.9,585.1,691.7,633.5,655.2,710.2,659.4,651.3,697.2,653.7,666.2,768.8,681.5,674.7,632.2,651.8,619.7,643.3,693.6,710.4,701.9,690.4,671.1,680.7,689.8,647.9,705.1,612.3,676.2,645.2,734.4,720.0,680.2,750.3,648.2,629.9,643.5,627.2,704.5,706.4,729.1,559.6,571.1,657.3,605.5,627.7,688.5,629.4,633.3,705.9,586.6,717.8,731.0,737.8,654.7,703.8,698.7,693.2,632.4,619.9,639.5,743.3,741.4,709.1,734.4,686.8,628.6,648.4,613.1,711.0,770.5,696.0,653.5,683.2,660.5,670.5,555.8,677.3,695.6,706.6,710.4,598.2,588.3,655.2,706.1,672.6,718.9,731.7,702.3,717.6,695.6,647.3,740.1,645.8,690.9,741.6,717.8,709.8,680.2,648.6,678.6,612.5,678.1,689.0,671.5,664.3,651.1,650.1,569.0,621.7,714.0,684.3,685.4,672.0,679.0,754.0,692.4,693.2,635.8,730.4,704.7,608.0,663.9,688.9,726.1,602.5,727.0,730.4,732.1,760.3,630.5,679.8,625.0,720.6,621.4,637.5,653.5,693.0,665.4,717.6,731.7,721.9,674.5,692.8,734.6,726.1,727.8,597.0,652.0,712.1,669.2,688.3,590.6,585.5,738.2,616.7,611.6,642.8,680.9,753.3,622.0,779.0,773.3,674.1,658.0,688.3,702.3,665.2,635.9,737.6,662.6,694.3,692.1,702.3,688.7,679.4,662.4,622.0,727.8,672.6,655.4,748.2,746.3,681.9,625.6,700.2,748.7,628.9,732.7,587.4,780.3,753.5,663.9,648.0,703.6,676.0,635.9,754.6,571.7,650.3,621.0,718.5,623.3,661.7,695.1,732.3,621.4,679.4,719.1,705.9,700.4,610.0,677.0,735.1,675.8,625.7,656.0,659.7,701.3,716.8,697.9,628.2,632.3,646.2,742.7,724.0,633.7,683.0,725.5,591.0,633.3,748.2,664.9,701.3,685.8,653.7,672.0,629.5,659.2,745.0,597.2,733.1,600.1,625.7,700.7,713.8,684.3,696.4,674.3,694.0,701.5,695.3,675.8,625.4,612.3,691.3,646.7,603.7,686.8,524.8,681.1,747.0,650.5,685.3,653.0,665.2,655.4,674.5,700.7,597.4,656.5,752.3,596.3,631.4,679.2,721.1,641.0,618.0,667.3,682.6,588.1,653.5,624.0,650.5,755.7,705.9,732.5,585.1,731.4,622.7,746.3,693.0,706.8,682.6,591.9,641.6,626.5,681.5,785.6,571.9,650.5,722.7,695.5,661.5,602.3,628.9,672.0,697.5,683.0,706.0,662.4,716.6,698.7,631.4,632.4,609.9,715.5,709.8,771.8,687.4,797.7,634.1,636.5,646.0,728.2,626.1,680.0,691.1,640.1,685.6,653.3,727.2,661.5,627.6,680.7,690.2,609.1,648.8,614.2,682.2,700.4,632.7,614.8,692.3,724.2,740.4,701.5,701.5,680.6,674.7,653.3,647.5,688.5,676.4,630.3,697.0,654.5,681.7,713.6,690.9,674.7,696.4,710.8,667.3,711.1,680.7,653.5,688.7,714.4,642.0,592.3,710.2,715.5,623.9,666.4,706.6,695.5,673.0,673.6,684.5,693.7,675.1,623.7,722.1,664.9,706.0,716.4,729.1,704.9,672.8,644.1,659.7,659.9,659.3,630.8,773.1,672.8,685.1,697.2,641.2,698.3,646.7,662.4,722.1,603.6,705.7,581.3,714.7,573.8,709.8,598.7,672.6,681.9,785.4,674.3,637.5,604.9,698.7,643.7,621.8,675.8,720.0,672.8,618.6,642.4,697.2,718.7,587.9,644.6,633.1,645.8,645.0,701.9,727.0,696.2,696.4,654.8,663.9,717.2,640.1,663.5,663.5,641.5,687.7,638.2,606.5,642.2,587.4,662.0,710.0,618.0,686.8,650.5,690.2,525.6,715.7,645.2,669.2,747.2,697.0,723.2,670.5,675.6,595.5,694.2,666.9,745.3,592.0,642.1,689.6,691.3,696.4,678.3,694.3,685.8,658.4,711.1,714.5,699.6,641.2,648.6,725.9,710.0,706.6,656.5,662.0,661.8,679.6,685.8,699.2,678.1,660.7,697.7,746.3,698.7,701.7,660.7,649.4,731.5,662.8,596.1,584.4,679.0,669.2,721.0,710.4,715.7,688.1,671.7,661.5,667.5,677.5,617.8,739.8,684.3,675.1,671.7,561.1,694.9,682.4,700.0,615.5,700.0,699.8,728.9,709.8,706.4,676.4,692.8,696.4,762.3,634.4,641.8,546.0,643.7,660.9,706.2,682.6,632.6,638.6,710.4,667.5,680.9,707.4,661.1,661.6,681.1,731.6,640.1,642.5,668.1,572.2,573.9,693.4,635.6,612.3,634.8,545.2,637.6,637.6,672.8,699.8,691.5,642.4,718.7,657.7,557.9,627.6,749.7,666.8,743.1,726.4,630.5,691.7,703.2,690.5,672.0,672.0,637.8,625.3,684.1,684.9,694.9,633.5,693.4,593.6,629.3,727.6,630.1,643.5,648.2,580.0,621.2,662.0,734.6,601.2,672.6,758.2,613.5,645.4,691.1,636.9,667.9,636.9,631.0,690.4,634.6,596.4,664.3,548.0,674.1,709.1,654.7,673.5,575.3,726.4,581.0,617.8,674.8,646.9,656.0,722.1,688.9,606.9,690.6,587.2,587.2,682.6,664.5,679.0,755.2,608.4,635.8,688.3,710.0,646.9,696.0,571.3,595.9,705.9,646.1,688.9,773.5,605.1,680.1,715.9,668.4,638.8,734.4,597.0,689.6,640.1,611.2,602.7,698.7,632.2,676.6,637.9,559.6,663.9,633.7,624.6,622.9,640.9,610.9,697.2,661.1,623.1,671.3,657.7,614.2,684.7,694.9,714.3,672.8,672.6,673.9,674.9,661.8,626.7,593.1,651.5,687.3,678.6,736.6,698.5,628.2,694.1,637.1,701.7,602.3,671.8,655.2,644.1,696.6,623.6,688.3,651.1,686.0,663.2,596.4,579.8,610.4,684.9,674.5,568.8,643.3,729.9,660.3,710.4,659.4,739.7,628.8,643.5,631.2,675.0,624.3,744.0,635.6,640.7,656.6,654.1,660.1,644.5,679.9,690.2,622.0,699.8,722.3,700.8,753.1,667.9,772.2,708.7,623.3,649.3,684.5,611.6,626.7,658.8,602.3,706.8,703.4,630.7,633.8,569.4,661.4,634.2,615.3,649.6,631.0,655.4,560.7,672.8,679.2,609.5,671.6,680.3,684.1,679.0,638.2,703.4,650.7,648.4,721.2,695.1,662.0,692.8,564.9,684.7,639.9,614.2,670.9,705.9,710.0,637.8,673.6,647.5,650.3,686.6,737.2,702.3,636.5,645.4,622.0,641.6,590.4,616.9,601.6,599.9,610.6,682.8,671.7,724.6,732.7,744.8,629.7,605.7,652.0,744.0,626.5,567.9,696.4,674.9,632.7,649.9,712.1,657.1,667.3,709.6,693.8,652.0,676.9,617.8,601.0,647.1,649.2,667.9,612.9,700.0,674.7,681.7,655.4,708.1,712.3,592.3,626.3,612.1,625.7,663.3,629.5,687.9,706.6,694.7,693.0,568.3,720.6,582.9,722.3,715.5,684.3,573.2,727.8,683.4,665.2,717.0,684.9,683.5,655.0,649.2,593.5,576.4,591.9,567.7,688.7,637.8,606.8,657.1,608.9,763.7,753.3,629.3,622.9,632.9,714.4,730.1,677.3,725.9,651.2,752.9,642.2,632.6,671.3,689.0,659.6,683.9,670.3,641.2,715.3,745.0,609.9,601.4,706.6,695.8,647.8,643.3,652.0,622.2,701.3,643.3,647.7,740.2,680.3,722.5,638.4,659.0,696.2,605.1,701.1,644.8,656.0,707.0,672.8,636.3,785.2,731.4,763.5,746.1,674.1,626.7,713.2,670.1,648.6,649.2,696.0,668.4,704.2,755.0,651.3,772.2,689.6,704.9,689.0,619.0,636.1,684.5,693.0,715.3,645.9,580.6,557.9,640.5,695.5,696.2,635.2,678.3,699.6,674.9,662.6,609.5,683.4,723.2,730.6,641.4,639.2,657.1,595.5,619.5,645.9,683.4,700.0,673.7,674.5,577.0,522.0,673.0,707.0,684.5,645.9,715.3,718.9,659.8,657.9,678.5,714.9,685.5,685.5,644.1,706.2,608.5,713.9,589.3,668.5,661.3,562.8,697.2,697.2,676.2,629.7,635.2,700.6,640.6,673.5,699.4,599.7,738.0,737.0,681.7,591.9,690.9,701.9,607.3,743.1,716.8,653.5,626.9,728.5,765.4,737.2,645.2,701.7,700.6,715.5,717.2,752.3,727.6,622.7,727.8,571.5,578.1,573.0,576.6,689.0,612.2,634.8,715.7,707.0,639.5,728.3,656.7,638.4,636.5,708.7,665.0,636.5,657.7,648.0,673.6,618.5,742.7,686.4,619.3,716.2,678.4,607.8,591.4,706.8,672.4,652.0,639.5,690.2,655.4,688.7,652.4,706.4,702.6,699.1,636.3,676.5,631.4,600.8,588.9,605.9,648.0,647.9,693.8,625.7,638.8,623.1,648.8,602.7,615.0,687.7,674.1,629.3,692.6,744.6,593.8,666.2,683.0,698.3,629.3,677.1,725.7,709.8,634.8,726.2,656.2,643.5,590.6,640.8,736.3,703.8,662.8,661.8,579.8,581.7,679.9,552.4,675.8,670.3,709.3,625.5,722.5,729.5,612.7,696.6,696.6,731.7,658.6,660.1,644.2,591.9,669.8,704.7,606.9,672.8,649.8,634.3,673.6,698.1,642.8,631.8,644.1,617.8,635.9,609.5,668.6,638.6,634.6,641.2,661.5,725.7,653.0,736.1,701.9,633.5,571.7,679.1,666.4,687.7,637.3,612.7,571.5,706.6,654.3,678.6,628.8,679.0,696.8,700.0,706.0,682.6,717.4,576.0,576.0,680.0,716.8,717.6,653.5,669.4,646.5,661.8,597.2,644.8,691.5,663.3,637.9,728.2,688.1,660.1,746.5,590.4,683.7,574.7,675.8,711.5,627.4,622.5,696.8,644.8,590.2,718.7,645.4,679.2,641.4,612.4,674.5,695.3,708.9,697.0,675.1,624.6,639.5,693.8,668.8,697.2,684.9,684.1,749.9,649.1,677.5,627.8,641.2,653.9,638.6,639.9,641.8,662.0,695.5,701.5,594.4,702.5,630.1,704.5,709.6,649.5,612.4,609.3,715.9,665.6,644.8,625.9,646.3,645.6,683.8,667.3,705.5,638.6,712.1,626.5,714.9,591.4,583.8,700.0,728.0,636.5,687.0,690.4,564.9,601.5,658.6,627.3,590.8,770.9,702.8,718.3,699.1,628.9,698.7,676.6,625.7,642.9,697.1,687.5,660.5,633.3,724.0,714.4,712.7,712.7,625.9,657.5,658.2,605.4,722.9,714.4,583.4,681.5,636.2,579.6,702.2,671.1,676.8,571.1,637.8,620.6,744.6,635.4,715.5,591.2,608.3,572.8,612.1,733.4,669.8,606.3,642.0,609.1,700.4,701.3,707.0,700.7,674.3,667.8,638.4,656.0,717.4,639.0,635.7,645.0,694.1,703.2,593.8,608.0,689.6,698.1,709.2,693.6,680.3,690.2,761.8,572.1,608.7,714.9,683.2,644.6,718.5,665.4,747.6,667.3,661.5,667.9,642.6,680.2,728.9,683.9,660.9,720.6,695.3,698.9,734.0,577.4,619.1,688.9,773.5,615.1,671.7,644.3,685.8,656.7,759.9,575.3,676.2,728.1,647.8,703.0,623.9,639.5,682.2,655.4,595.1,698.7,628.2,669.0,645.0,653.5,653.5,620.8,631.1,654.7,689.2,633.7,644.3,662.4,647.9,700.2,682.8,670.7,694.9,680.0,700.2,674.1,663.9,669.8,583.8,668.6,722.5,702.3,702.3,652.0,656.4,678.6,699.6,622.7,648.0,695.4,707.5,645.8,663.6,710.6,675.1,651.1,586.8,664.3,634.5,763.1,709.8,679.6,656.3,719.1,636.3,676.6,689.2,698.5,605.5,756.9,595.7,648.4,653.0,671.3,628.0,698.3,717.2,645.2,676.0,647.1,682.1,691.1,661.5,685.8,675.4,706.6,706.4,648.6,703.8,627.8,597.4,668.2,730.8,668.6,694.5,715.1,752.7,600.6,656.5,689.8,694.9,728.9,714.3,640.7,744.8,726.4,682.8,519.0,664.1,661.1,667.9,756.3,626.0,612.1,686.0,717.2,733.4,684.1,701.3,724.6,712.7,716.1,719.5,651.0,731.8,648.0,756.5,612.7,679.4,682.2,684.1,610.6,666.9,690.3,664.8,639.5,668.8,630.8,653.3,651.0,716.6,638.8,696.8,703.8,714.5,711.9,560.2,660.7,627.8,615.0,666.5,586.8,603.6,639.5,706.0,622.6,600.8,680.9,627.8,764.0,621.0,651.4,563.2,667.1,684.3,572.1,611.4,614.0,760.6,661.6,694.5,605.0,669.4,624.4,655.8,709.4,701.9,713.8,711.1,705.5,668.3,656.5,657.9,673.2,660.7,657.5,682.2,663.9,683.9,764.4,692.6,776.9,671.8,642.9,739.5,674.9,643.5,637.6,659.9,700.9,641.2,607.0,705.3,667.3,590.4,638.0,666.0,667.3,616.7,555.8,690.0,636.3,636.1,651.6,655.0,718.9,632.7,717.6,741.0,627.6,547.1,630.9,703.2,634.8,646.4,637.4,631.6,668.3,610.2,612.0,676.0,614.6,668.4,726.3,673.0,623.1,681.7,673.4,749.1,667.3,691.7,682.6,648.6,579.5,674.9,693.8,652.6,701.5,615.4,595.1,662.0,615.4,600.2,723.2,642.9,669.2,667.7,654.2,647.5,674.9,694.9,652.8,615.7,649.4,652.6,705.5,683.4,662.6,633.1,703.2,609.5,683.0,732.5,631.2,609.9,664.9,655.4,665.8,618.9,649.4,684.7,683.0,680.1,615.4,672.6,584.5,595.7,643.1,631.6,712.9,670.7,680.0,699.2,707.7,647.3,706.6,720.6,691.3,724.9,641.4,698.9,593.8,666.7,659.6,669.2,637.5,709.6,674.9,716.3,718.0,651.5,688.3,718.9,744.2,653.7,696.8,720.6,556.0,645.0,653.9,584.4,711.3,631.4,723.0,597.4,754.2,712.5,624.2,699.8,622.7,560.9,679.8,662.6,669.4,694.9,664.7,687.5,579.6,595.5,760.3,729.3,646.5,651.6,701.9,729.7,736.3,667.9,697.5,621.0,623.1,625.9,610.8,584.4,637.8,633.9,743.1,669.6,710.8,614.8,619.5,644.4,755.2,695.7,682.1,629.9,614.6,685.4,559.4,668.6,725.5,705.5,653.9,681.1,661.8,647.7,768.8,659.7,604.4,745.7,618.7,687.2,654.3,752.3,688.7,684.7,547.3,742.5,681.7,719.1,677.0,701.5,662.8,685.3,662.8,631.8,621.0,686.8,597.4,732.3,635.9,752.7,765.4,712.5,660.9,746.1,729.3,691.7,625.0,618.9,700.0,706.6,608.6,702.3,617.2,607.0,680.2,626.1,610.6,643.3,647.1,584.8,759.7,626.1,687.9,691.1,602.7,602.7,594.2,673.4,628.0,555.8,667.3,624.2,680.0,708.9,606.8,658.6,660.7,707.0,623.3,625.0,662.4,646.5,653.0,616.3,595.5,622.3,713.4,587.2,631.2,581.7,751.0,685.5,655.2,663.5,678.1,729.1,571.0,654.1,725.7,694.9,667.5,741.2,770.1,732.9,635.6,632.9,655.0,619.5,759.9,636.7,588.3,605.3,751.7,674.7,620.8,630.9,683.0,658.4,676.6,572.8,672.8,681.3,645.2,713.4,630.1,664.1,650.3,704.5,662.0,676.8,620.7,689.6,656.3,675.8,677.0,777.3,603.8,616.3,627.6,597.0,668.6,639.7,653.2,712.7,725.9,696.2,769.2,670.0,681.1,629.9,605.9,649.7,672.4,632.5,678.5,644.3,640.7,686.6,637.6,719.4,612.3,697.3,656.3,655.6,625.6,615.7,723.8,595.5,618.4,688.1,675.6,704.9,569.4,644.2,778.4,697.9,633.3,603.4,603.4,627.1,721.9,689.0,662.6,651.1,671.6,708.1,671.7,738.2,592.1,696.2,732.1,745.7,665.8,613.7,715.6,647.7,613.7,680.4,703.6,611.8,736.1,671.7,652.2,689.4,704.0,634.8,635.0,731.2,567.8,618.2,632.0,718.1,726.6,687.2,735.9,702.6,627.2,632.7,730.8,677.4,670.0,717.2,639.9,690.0,679.4,628.4,699.4,639.9,714.0,642.6,617.2,693.7,673.4,640.5,678.5,626.1,602.9,654.3,712.8,664.3,703.6,694.0,623.5,688.5,673.5,672.4,570.2,648.0,672.6,649.9,670.0,663.9,695.1,678.3,714.7,646.1,608.9,666.0,693.4,679.0,669.6,721.2,627.6,597.1,634.2,709.3,674.9,637.8,672.6,605.5,696.6,659.9,666.7,682.2,698.7,725.7,669.8,675.2,634.6,568.3,620.4,615.9,660.9,660.1,675.4,649.0,676.8,667.1,758.9,679.8,670.7,656.6,698.7,673.4,684.7,707.0,656.9,636.3,710.9,635.0,648.4,652.6,667.7,673.0,648.6,680.9,742.9,595.1,613.1,695.5,751.6,738.0,613.6,747.8,686.6,658.8,596.8,631.8,748.2,665.2,615.9,660.0,654.8,708.1,671.9,593.4,725.1,659.4,653.1,595.5,593.4,632.9,675.1,631.4,682.4,666.7,588.5,633.3,664.1,724.4,690.5,649.9,720.0,693.2,712.1,712.7,674.1,682.4,654.7,648.0,644.9,593.4,675.6,752.9,664.9,694.1,669.0,664.1,668.5,690.9,635.0,607.0,639.0,653.5,686.8,648.8,704.0,632.9,642.5,540.7,766.7,650.3,763.3,659.6,629.5,572.6,625.0,636.0,624.6,631.8,623.9,666.3,674.8,674.8,674.8,671.8,584.7,626.5,703.4,586.6,587.4,587.4,672.4,689.8,693.6,749.3,684.7,645.0,597.2,615.5,554.3,600.6,678.8,641.6,617.4,717.8,620.6,669.6,641.8,598.7,598.7,657.3,701.5,667.9,629.3,656.9,727.2,676.4,568.1,687.7,680.4,651.2,617.6,712.8,577.0,597.0,697.5,605.9,609.7,666.9,688.7,711.9,741.4,641.4,698.1,634.2,628.0,559.8,615.4,666.2,629.9,640.9,594.9,688.5,684.1,721.0,683.5,662.6,721.3,658.4,625.9,686.4,671.8,694.0,629.1,663.5,665.0,559.2,629.3,703.4,674.3,690.0,649.8,620.5,693.8,731.0,686.0,606.1,638.6,743.3,692.3,605.2,585.3,640.7,698.5,622.5,672.4,712.1,689.8,660.7,718.5,723.0,659.6,713.4,654.1,683.2,723.4,650.9,621.8,671.1,611.4,716.4,603.7,721.7,667.1,610.6,686.8,723.4,621.8,675.1,628.6,664.5,651.8,566.6,660.9,686.2,580.2,635.2,666.4,684.5,639.4,685.8,708.3,666.0,666.0,652.6,674.9,654.5,600.0,654.8,659.9,592.3,670.1,687.9,608.7,676.6,620.1,635.8,722.5,627.5,705.7,611.2,600.0,653.7,606.9,623.1,632.9,717.0,587.2,556.2,641.0,630.3,701.3,677.9,632.8,729.5,663.2,662.0,650.7,601.2,646.9,673.0,690.7,628.8,717.0,653.7,649.4,650.5,633.5,694.3,614.0,639.3,705.7,610.3,721.5,611.2,703.4,633.1,592.7,691.7,688.1,727.4,615.9,782.2,693.6,637.5,695.1,628.2,703.4,689.8,700.0,647.7,671.7,599.5,692.8,751.8,589.9,666.0,787.5,709.8,644.6,621.0,713.2,659.0,663.2,559.6,701.7,679.6,611.6,630.6,610.4,681.5,636.1,635.6,772.9,744.8,616.5,721.2,632.6,642.6,705.7,718.7,645.6,625.2,727.2,678.3,669.9,621.4,730.2,683.8,634.6,722.7,644.5,554.3,626.3,624.4,625.2,661.8,696.4,684.5,619.5,662.6,686.8,706.6,641.0,579.1,629.7,696.2,589.1,652.4,661.4,545.4,713.8,672.6,734.4,612.9,630.7,688.9,640.1,659.0,680.5,629.7,700.2,673.2,674.1,712.3,681.3,622.0,668.3,714.2,723.8,628.4,628.4,754.8,682.6,669.2,629.7,649.9,678.6,722.9,697.4,623.1,639.5,638.4,711.5,676.0,637.3,601.2,556.2,755.0,694.0,681.1,627.3,634.6,670.7,707.2,724.7,667.7,704.1,704.0,701.9,653.1,665.6,645.9,590.0,689.2,699.8,629.1,644.6,706.2,612.1,626.1,623.1,686.2,679.4,699.0,640.3,606.8,652.0,636.7,681.7,684.5,695.8,630.3,693.9,686.2,674.1,665.6,599.1,656.0,736.8,654.5,738.0,600.8,557.5,692.8,690.4,698.9,616.3,584.7,681.7,634.6,617.8,675.8,627.6,698.1,645.8,689.2,706.2,727.7,726.0,622.3,687.4,627.4,588.1,612.3,682.4,689.2,612.1,661.7,696.8,714.2,637.1,560.7,622.6,685.3,659.2,642.4,691.3,656.4,672.6,726.8,713.4,693.9,623.7,660.9,664.1,660.9,665.0,631.4,634.0,706.8,712.5,745.5,663.2,639.9,636.7,707.0,624.8,601.2,679.8,622.2,674.7,698.3,713.0,646.4,751.0,638.6,694.3,660.9,720.8,675.6,704.7,661.3,735.9,737.8,634.8,667.5,667.5,593.2,651.6,646.7,616.9,650.5,605.9,675.6,690.0,603.8,690.0,636.3,746.5,632.7,684.5,665.4,701.9,694.7,790.9,698.6,734.4,657.3,664.7,640.5,679.9,685.1,650.5,590.8,774.6,604.8,677.5,657.5,672.2,588.9,696.4,618.8,720.4,647.9,698.9,642.8,717.2,607.8,651.2,607.4,686.4,671.8,694.3,696.4,671.7,642.4,749.3,747.6,682.2,644.1,698.9,668.6,655.8,693.0,645.2,648.6,699.8,690.2,743.3,698.9,668.8,705.5,702.1,618.8,657.1,657.1,665.6,681.9,686.4,706.2,713.0,706.8,704.2,608.2,599.7,637.1,683.0,674.5,601.9,601.9,595.1,613.7,620.8,714.9,692.6,589.8,557.5,692.8,659.9,686.4,697.2,632.3,675.1,732.5,697.3,736.5,799.4,619.9,706.6,651.8,738.0,696.4,631.4,711.5,704.9,737.6,668.4,681.9,668.4,659.2,666.9,538.6,654.3,666.8,672.4,644.1,623.3,642.5,645.8,695.1,704.7,718.5,694.9,680.9,707.2,617.8,592.5,606.1,594.0,652.0,590.8,649.0,660.1,585.3,681.3,657.1,596.7,693.8,635.6,667.7,608.7,642.6,717.8,721.0,645.4,609.9,666.7,758.2,697.9,640.5,683.2,713.6,677.0,694.9,606.5,726.8,606.5,607.3,646.2,615.0,621.8,601.9,736.5,620.3,647.7,623.7,633.9,682.2,677.7,688.3,654.6,698.3,678.7,711.0,694.5,694.5,694.5,644.2,680.9,727.2,621.8,669.7,602.7,673.2,604.4,620.7,695.1,654.7,679.2,643.9,689.0,672.1,643.1,691.9,646.9,669.9,727.8,645.4,607.6,701.5,699.2,686.2,679.4,664.7,668.8,632.0,647.3,651.8,720.0,698.1,610.3,661.8,665.6,712.1,708.5,593.2,612.1,648.2,646.9,651.2,637.3,753.3,685.3,764.2,708.5,680.0,683.4,669.6,597.6,711.9,633.5,659.4,644.8,610.6,637.1,613.5,698.5,649.6,731.9,638.6,661.7,686.4,741.4,734.9,722.3,617.4,575.1,679.8,649.9,603.5,660.3,675.3,624.8,663.9,646.7,763.1,690.2,677.7,684.9,773.1,711.7,625.2,705.1,659.8,634.0,595.5,624.3,622.1,689.8,678.3,642.8,708.3,727.2,707.0,576.8,752.5,697.5,734.2,715.8,641.5,655.2,690.2,595.5,725.7,608.9,602.1,603.8,713.6,638.6,714.7,633.7,693.4,728.0,735.7,634.8,725.7,613.8,674.5,720.2,670.7,708.3,665.8,670.7,667.3,666.6,673.0,668.0,693.2,673.0,657.1,631.8,665.4,732.1,673.3,674.6,727.4,735.5,697.6,638.6,638.6,691.9,739.9,675.1,618.8,725.3,670.2,727.6,676.8,679.2,613.3,663.2,719.3,588.5,665.4,597.4,670.5,670.5,661.6,641.4,673.0,732.5,705.1,564.7,588.3,682.2,600.4,736.6,587.0,729.5,607.6,680.9,661.7,663.9,635.4,656.7,705.7,633.9,674.1,672.4,637.1,567.6,622.5,683.6,645.8,622.9,632.7,670.9,658.6,620.6,667.5,675.4,595.1,642.7,701.5,676.6,737.0,698.3,717.6,685.2,708.9,618.4,721.5,694.7,695.1,701.7,647.5,655.4,667.7,697.7,614.2,628.2,683.7,733.6,669.0,627.1,604.2,675.2,656.9,686.8,776.0,688.3,718.1,637.5,663.6,643.3,707.2,695.3,652.0,724.7,658.4,594.2,664.5,712.5,691.1,594.0,689.0,603.5,619.7,686.2,673.2,646.0,605.0,660.9,683.7,646.0,680.7,711.9,676.9,612.2,686.4,670.7,698.5,718.3,686.9,609.3,676.0,676.0,683.4,557.5,607.1,644.3,649.9,634.5,733.1,685.4,671.9,672.1,643.7,708.1,592.7,637.3,636.7,619.1,646.7,670.5,671.3,687.7,755.2,677.0,676.6,732.9,666.9,664.9,635.2,618.6,713.8,595.5,600.3,634.8,644.0,616.7,706.4,750.2,627.6,675.8,659.4,652.6,668.2,690.0,644.3,618.2,659.8,644.5,684.1,660.3,579.1,703.9,684.5,682.8,700.6,631.6,652.0,736.1,690.0,604.8,641.2,665.1,619.1,695.6,677.3,628.0,714.0,705.7,732.3,744.4,691.1,682.1,660.7,655.8,707.2,767.3,619.1,737.4,687.2,607.6,687.3,645.2,636.7,710.6,650.9,764.2,557.5,641.0,640.7,639.9,676.2,724.4,679.6,563.6,640.5,657.1,623.7,658.6,650.1,525.4,713.2,686.2,705.3,722.1,703.4,670.5,706.4,688.3,686.2,642.0,594.6,594.6,730.2,748.9,717.4,634.6,635.2,675.8,604.6,622.0,596.6,662.6,720.2,717.3,657.1,615.9,552.6,679.8,605.5,654.3,555.4,740.4,725.1,702.3,707.4,713.0,719.8,561.7,622.2,625.6,660.5,782.0,748.2,714.0,774.8,663.5,653.3,655.0,669.4,712.3,627.4,701.9,714.0,678.7,667.9,713.4,666.2,663.2,651.1,607.6,622.9,710.2,677.9,641.8,669.6,607.2,636.0,654.7,701.5,732.3,646.7,732.7,649.6,708.5,661.5,708.7,707.0,671.9,730.0,670.2,624.2,710.9,606.3,729.1,649.7,671.1,684.7,671.7,642.6,661.4,696.2,648.0,664.7,742.1,632.9,676.0,646.9,682.6,645.0,636.3,690.5,642.7,679.2,709.8,696.4,702.8,705.7,696.4,610.6,697.9,702.8,702.8,707.6,660.1,672.8,734.2,635.6,699.4,672.6,730.4,667.3,694.3,690.0,701.1,606.7,735.9,664.3,664.3,700.0,677.5,592.3,672.0,653.2,729.1,646.3,655.6,663.9,647.7,650.9,702.3,649.2,708.7,709.3,623.1,701.5,708.1,576.2,637.5,722.5,641.2,663.2,698.1,658.4,691.5,697.7,690.2,701.5,734.8,708.5,643.1,697.7,639.9,693.0,662.6,680.2,634.4,692.0,651.2,735.9,718.7,701.5,644.4,700.8,738.9,635.4,655.6,697.5,662.0,704.7,724.7,649.7,664.7,660.5,674.1,693.2,629.9,648.0,644.6,663.9,631.8,618.2,674.9,666.0,734.8,710.6,657.5,690.0,630.1,705.7,697.2,747.8,628.6,635.2,645.8,734.6,706.6,677.5,682.6,677.0,697.9,715.5,638.4,654.3,720.8,662.8,677.5,707.7,669.4,682.4,659.2,687.9,688.1,701.7,732.9,685.1,699.0,639.4,744.0,622.0,720.6,708.9,681.5,663.9,649.0,626.7,704.9,685.1,683.2,728.3,704.7,684.5,671.8,605.5,682.4,655.0,711.1,672.2,691.5,664.3,684.1,763.5,658.1,668.0,612.3,625.2,707.0,636.1,740.8,749.3,723.8,654.6,681.7,655.0,689.0,712.7,701.9,730.0,618.4,634.6,615.9,669.4,700.4,696.8,714.9,659.6,669.8,634.2,720.4,724.2,623.5,623.5,723.8,720.8,591.0,704.9,609.5,636.7,632.9,675.2,786.7,725.9,696.4,686.0,691.7,718.7,710.6,703.4,715.7,582.3,769.9,627.4,628.2,681.1,700.6,658.8,647.8,654.6,739.7,716.8,683.8,673.3,700.8,613.4,601.5,718.9,682.8,679.6,639.4,681.1,662.4,671.1,655.6,597.2,639.9,626.1,652.0,670.9,710.4,624.8,620.1,693.6,633.9,728.7,695.5,614.0,631.8,714.3,599.1,629.5,665.1,712.5,676.6,708.7,651.4,659.9,658.2,682.1,666.0,709.4,609.7,670.3,686.9,662.6,694.7,600.4,600.4,629.7,633.7,607.4,668.6,618.0,677.3,689.0,648.0,650.3,737.2,654.5,628.4,651.8,698.4,624.3,636.9,612.0,725.3,707.4,718.5,625.0,652.4,586.4,590.2,718.3,601.6,584.4,732.9,700.2,622.9,751.0,632.7,639.5,662.2,625.2,607.0,704.0,639.3,693.0,693.0,638.4,592.5,685.8,685.8,691.3,668.1,689.4,647.7,725.5,598.2,673.5,685.8,676.6,657.1,702.6,712.8,704.0,686.4,674.9,681.3,654.1,703.6,689.0,588.1,688.1,717.4,656.7,607.4,682.6,658.8,657.1,668.1,719.3,719.3,568.3,739.5,612.5,743.1,628.2,636.3,612.5,581.9,622.6,652.4,744.4,737.6,716.6,623.1,579.8,609.0,655.8,643.1,719.3,670.9,608.9,657.3,642.4,714.7,742.9,620.1,599.5,697.9,646.9,642.0,566.2,689.4,659.2,662.4,665.1,700.0,678.4,656.3,729.3,678.3,618.8,708.5,619.5,688.7,709.1,645.4,708.7,677.3,715.7,655.4,707.2,706.2,647.7,616.9,605.5,674.9,701.7,651.8,677.2,744.8,635.2,591.9,597.4,600.8,695.7,650.9,573.4,667.7,596.9,703.7,686.0,630.8,657.3,642.0,640.5,645.6,660.9,691.5,648.0,603.1,594.0,654.7,694.7,659.2,721.3,591.0,668.5,669.2,644.1,590.4,658.1,637.3,734.4,747.8,666.9,663.2,638.6,686.4,612.1,612.9,634.0,677.3,685.0,696.8,663.7,602.5,692.4,667.9,585.7,629.2,546.7,631.4,664.3,677.1,646.3,653.1,657.7,629.5,550.5,730.2,531.6,615.9,679.9,759.0,729.7,614.4,667.9,626.7,732.3,621.2,708.3,648.0,646.7,638.4,655.4,666.0,690.7,726.3,690.2,678.1,662.2,660.3,687.7,708.7,708.7,584.7,704.2,683.6,752.7,609.5,672.0,636.9,637.1,562.6,623.5,667.1,685.1,673.0,624.8,773.9,672.6,615.0,667.9,621.2,661.8,670.3,642.8,682.6,678.3,620.5,652.8,767.8,705.3,631.4,674.1,716.1,703.2,656.5,576.8,709.1,617.3,700.0,741.2,685.5,687.9,656.9,696.6,605.5,616.3,652.4,704.0,701.7,698.5,705.3,678.8,717.4,617.4,744.2,720.4,632.5,584.0,663.7,650.7,649.6,690.7,609.9,643.1,679.2,669.0,658.8,669.2,675.4,619.5,700.9,639.7,604.8,674.3,699.1,757.2,734.4,634.8,619.3,585.1,574.9,664.1,688.3,589.8,669.9,700.6,594.9,572.8,663.2,729.5,675.0,666.7,700.2,681.7,676.0,681.7,681.7,634.6,610.1,612.0,678.1,694.0,675.4,619.5,656.5,601.3,642.0,714.0,620.4,626.7,604.6,677.9,655.4,605.9,623.7,728.0,666.6,601.2,659.0,632.9,683.6,655.0,671.1,665.6,640.3,652.0,704.7,713.8,681.1,703.6,685.8,599.1,673.5,641.4,641.4,609.7,694.7,658.0,690.2,712.8,612.1,687.7,690.0,583.6,645.2,700.4,683.6,670.7,665.4,664.5,673.4,723.8,723.8,664.3,690.1,579.8,668.0,702.6,673.9,749.9,683.0,618.7,665.4,643.9,611.7,693.5,678.5,649.2,706.6,629.9,697.7,619.5,712.1,688.3,789.0,695.7,652.0,677.3,684.1,673.2,700.0,632.0,648.6,658.3,705.3,549.4,618.9,584.4,672.2,689.8,716.6,609.0,632.0,569.8,698.3,680.4,728.5,695.8,707.0,659.0,649.6,665.4,649.0,572.3,647.1,632.6,700.9,690.4,578.5,655.0,739.5,619.9,718.9,646.8,658.2,660.5,617.6,617.6,683.2,663.7,673.0,619.1,627.8,662.8,666.0,658.1,730.8,653.5,730.8,615.7,755.0,755.0,602.1,675.6,669.0,646.3,707.6,613.8,619.5,694.0,664.3,606.7,604.8,633.5,641.8,731.9,636.1,680.0,646.3,680.0,708.1,634.5,653.7,639.4,699.4,642.5,723.8,698.9,727.2,659.2,652.2,607.8,594.2,629.1,661.5,628.8,604.6,731.2,556.2,651.8,620.6,647.9,621.2,709.1,683.9,711.0,686.4,696.4,646.1,647.8,631.0,613.4,718.9,672.8,631.6,689.4,672.2,675.4,680.0,598.5,625.9,629.9,749.9,620.4,597.2,685.4,644.1,685.8,670.7,700.0,681.2,755.4,752.0,693.6,625.4,635.0,644.8,646.3,641.4,679.6,684.5,693.2,687.0,652.2,594.7,626.1,683.6,643.3,648.4,580.2,711.3,677.7,628.6,640.7,615.2,667.5,669.8,664.3,644.8,597.2,717.8,711.0,659.0,694.5,693.4,658.0,729.5,689.2,631.4,690.0,674.9,673.9,591.9,700.6,709.8,709.8,637.8,748.4,668.3,649.9,621.6,786.2,797.5,677.3,682.8,616.1,669.4,571.7,712.5,667.5,627.6,664.3,621.8,636.3,700.6,635.0,624.8,656.0,609.7,612.1,687.0,634.4,551.5,611.0,713.8,618.9,714.9,692.8,695.7,688.5,673.6,699.2,641.1,729.5,707.6,710.8,636.1,643.3,713.0,661.5,719.3,663.3,643.1,671.3,610.4,682.6,693.2,718.9,699.1,656.7,656.7,659.9,742.1,618.2,698.7,636.7,638.0,696.4,700.8,598.2,637.6,678.1,668.6,704.9,662.8,738.0,567.9,689.2,691.3,707.8,546.0,645.2,604.2,676.8,676.0,616.9,672.6,731.7,608.7,581.7,731.5,744.4,619.7,692.6,695.8,629.1,698.5,731.0,685.3,684.5,660.5,652.2,656.7,693.2,671.8,653.3,664.1,667.5,667.5,771.6,771.6,668.2,672.8,737.0,693.7,641.1,684.2,578.1,721.5,746.7,683.2,645.7,610.3,726.1,695.1,589.1,702.6,687.7,598.9,648.2,720.8,616.3,611.4,642.5,704.3,696.8,690.0,786.7,674.3,633.3,643.7,652.7,656.4,648.6,675.3,725.7,690.4,687.0,686.6,674.5,666.0,749.9,617.8,636.0,744.4,627.1,637.3,671.7,639.7,698.9,629.1,605.7,747.8,682.4,619.3,765.8,753.3,634.2,666.7,721.5,674.3,726.3,714.2,673.9,674.5,697.7,654.8,618.4,644.5,688.7,663.9,711.0,641.2,679.0,647.8,581.5,661.8,690.7,672.6,698.7,694.7,666.2,644.8,690.9,626.7,637.8,751.4,656.2,724.4,706.2,645.4,719.5,613.1,670.1,588.9,589.9,601.9,676.4,638.6,585.1,657.1,662.8,718.3,668.4,663.2,713.6,633.9,671.6,662.4,724.6,675.0,614.0,737.4,729.3,733.3,646.9,736.1,670.3,645.9,669.4,589.1,670.5,667.1,688.7,717.6,623.9,660.7,680.7,675.2,668.5,607.8,673.0,620.2,662.2,693.6,691.5,676.0,601.0,673.0,744.8,716.8,677.9,573.2,676.2,710.4,680.1,632.1,633.5,645.0,632.0,646.0,591.7,618.2,591.5,691.3,607.1,643.9,692.4,613.3,623.3,665.6,690.0,700.8,631.0,703.0,630.5,642.7,748.5,681.1,605.5,734.6,611.6,707.3,581.7,634.4,725.9,689.4,646.0,738.0,765.4,624.6,665.2,734.6,648.4,650.3,650.1,641.0,639.9,635.0,686.8,628.4,647.5,571.1,600.4,621.2,607.8,721.9,713.6,699.4,640.7,664.7,693.8,657.3,724.0,724.0,622.9,673.4,737.4,567.9,687.5,676.2,656.5,710.0,657.5,787.5,643.0,594.6,683.6,665.8,657.3,636.3,671.5,630.6,606.7,683.2,697.2,683.0,663.0,605.9,704.0,684.1,706.8,648.6,713.4,667.7,734.8,612.7,609.8,695.8,656.5,645.6,615.2,656.0,691.5,646.7,608.0,656.9,669.8,647.5,706.1,653.9,724.4,722.7,622.9,600.1,720.4,625.6,624.2,636.5,720.8,675.8,635.7,731.0,701.7,655.6,597.6,598.5,689.6,670.1,606.8,660.3,750.3,655.8,680.7,641.8,673.6,720.8,675.4,668.5,702.8,740.8,749.9,682.0,663.0,619.7,694.3,694.0,575.2,530.5,583.2,684.5,622.5,647.8,682.0,625.0,691.7,659.4,612.5,677.3,663.3,593.6,664.1,631.4,632.9,718.9,668.7,711.7,654.5,654.0,664.3,694.3,724.4,625.8,699.8,703.8,631.8,693.4,648.2,745.7,667.1,686.2,679.0,696.6,653.9,736.6,683.6,718.7,636.1,626.9,615.5,680.2,668.8,697.7,645.2,674.5,611.4,591.7,731.4,656.9,643.7,624.2,671.2,771.0,692.1,632.5,642.2,646.7,640.5,631.4,629.9,656.9,717.0,571.1,694.7,617.6,639.2,594.2,653.7,728.5,670.1,644.3,589.1,705.5,746.7,627.3,658.6,682.4,699.1,658.6,669.0,626.3,623.7,672.0,636.5,726.1,654.5,707.0,669.0,633.3,706.8,671.3,659.5,633.3,631.2,670.5,629.5,614.6,668.3,746.1,750.5,640.1,657.1,655.4,713.4,683.9,711.1,662.0,662.0,666.7,636.0,680.5,671.9,602.5,606.1,642.9,625.5,692.8,648.2,699.2,603.8,636.5,620.9,627.6,607.2,691.9,707.2,690.4,657.1,704.9,698.9,625.8,723.8,670.0,666.0,684.5,639.8,729.5,685.8,589.5,717.6,624.4,725.3,724.6,682.4,664.1,666.9,608.0,635.0,679.6,591.6,671.2,684.1,687.1,664.7,673.9,736.5,523.7,662.4,614.2,603.8,697.0,725.7,643.1,710.4,649.0,685.6,664.3,635.2,696.6,715.9,697.0,644.2,709.1,690.2,717.2,666.2,736.5,727.4,634.6,672.0,681.1,670.0,694.3,737.2,715.1,703.6,648.2,608.0,621.0,705.5,641.8,733.1,699.0,669.6,668.4,628.9,634.8,669.2,625.6,671.3,764.4,557.7,624.0,646.9,603.8,675.2,623.8,685.8,680.3,703.6,640.8,632.7,622.4,701.7,615.7,696.0,679.0,708.5,634.6,587.0,699.4,688.8,687.7,651.8,684.5,619.9,665.6,658.0,640.7,595.7,697.6,634.3,677.1,591.9,696.2,652.8,606.5,682.8,629.2,614.2,680.5,658.8,649.9,619.1,671.5,643.5,708.3,706.6,703.6,611.9,651.2,602.5,615.0,682.0,671.3,573.0,619.3,724.4,720.4,627.6,750.1,639.7,639.2,667.7,685.3,663.5,648.8,688.5,672.0,687.9,598.7,668.8,670.3,645.4,600.4,578.3,618.0,629.3,763.7,605.7,648.8,662.8,650.1,660.3,662.0,641.0,712.1,605.2,711.9,734.0,737.6,731.2,734.6,699.8,676.0,679.8,672.2,658.1,658.1,591.4,657.3,668.5,717.6,669.8,713.2,691.5,689.1,645.9,654.6,704.7,670.1,663.3,665.6,659.9,660.5,590.0,686.6,571.3,680.4,711.1,645.8,725.3,615.7,748.0,677.7,674.7,681.5,672.4,656.0,612.9,683.0,629.9,682.1,628.2,717.8,716.1,680.0,581.3,647.8,696.4,751.4,611.4,698.7,725.5,629.9,703.2,683.5,684.7,732.9,653.1,622.5,660.5,569.0,641.2,673.9,605.2,603.4,542.2,682.4,587.6,701.9,666.0,714.7,735.5,635.4,734.4,711.0,658.2,652.8,653.3,641.6,621.0,626.3,638.4,722.9,632.0,595.5,665.8,642.2,699.8,701.5,737.0,677.7,658.0,650.0,659.4,675.8,710.5,634.4,651.8,694.0,564.7,721.7,657.7,609.3,673.3,696.8,697.9,744.3,600.4,739.3,638.6,608.0,687.5,710.8,653.9,701.7,697.9,594.4,639.9,720.6,641.8,583.0,703.8,666.2,712.5,721.0,688.5,697.5,639.4,709.3,703.6,708.7,760.2,617.3,717.8,644.8,736.3,637.1,675.8,644.4,741.9,651.0,636.7,636.7,690.7,670.5,622.1,687.3,697.0,632.7,737.8,673.9,586.6,651.4,721.9,673.5,680.7,710.4,601.0,636.0,679.0,746.7,741.6,638.8,705.1,601.7,702.1,694.9,751.2,733.8,693.8,679.6,679.2,615.0,670.5,669.6,617.8,637.3,705.1,675.0,634.6,677.3,642.7,724.2,726.4,718.7,694.7,715.7,585.9,608.3,586.1,713.8,639.3,699.6,641.6,732.1,655.8,662.6,674.9,622.5,687.9,729.7,670.7,653.2,680.3,734.4,749.1,683.4,617.2,660.5,626.9,585.7,643.1,751.7,692.4,637.7,678.1,667.3,609.5,672.6,629.3,633.3,740.6,607.8,692.8,659.6,660.3,613.8,619.9,653.3,633.1,648.2,598.5,653.5,688.3,665.4,604.4,614.2,668.3,611.4,690.6,625.7,688.5,637.1,635.6,609.5,627.2,669.8,604.1,634.8,657.1,671.1,657.1,604.0,629.3,656.0,668.4,707.2,700.0,670.5,705.7,645.9,557.9,580.0,647.1,646.4,715.5,698.9,591.2,682.2,574.3,704.2,642.5,634.1,626.9,670.9,597.4,696.4,636.9,726.1,582.7,711.3,635.4,608.7,583.4,659.0,688.9,653.1,700.2,697.5,569.1,606.3,629.1,685.8,675.6,657.5,676.5,614.0,655.0,670.7,670.7,654.3,660.5,720.7,625.3,653.5,585.0,652.8,653.9,724.4,698.5,601.2,655.4,694.5,640.1,698.5,710.8,710.6,738.5,596.1,621.8,716.6,705.5,632.0,654.9,738.0,718.5,612.0,675.6,670.2,581.5,753.1,700.2,794.6,694.1,568.8,664.6,665.6,751.4,696.8,671.8,680.7,649.2,588.3,652.4,663.0,691.1,669.2,686.4,641.4,607.6,631.6,766.9,645.8,605.9,656.0,635.6,722.3,741.0,658.8,607.0,692.6,680.2,708.5,615.9,690.7,697.0,710.4,645.4,724.4,611.9,733.1,661.6,648.8,720.8,604.0,597.4,681.5,683.4,663.9,692.8,613.5,709.1,687.3,598.5,704.1,658.0,669.4,675.2,658.8,663.7,614.4,754.6,696.6,632.9,594.7,687.2,648.4,684.9,656.1,614.2,752.2,646.9,619.7,677.9,662.4,634.6,640.9,661.7,661.7,665.0,649.5,670.9,646.7,622.2,641.6,674.1,629.3,682.0,700.6,611.8,651.8,661.3,662.0,705.7,658.8,632.9,629.2,761.8,611.0,598.1,727.0,731.0,696.8,724.2,664.7,679.0,716.4,709.8,640.8,696.8,692.1,668.1,714.7,751.6,733.1,680.5,687.9,735.9,704.9,653.9,668.1,683.3,736.1,633.7,642.2,682.8,629.1,662.2,643.9,661.0,704.0,675.6,631.8,744.2,726.1,586.2,719.3,686.0,607.0,682.0,636.7,763.7,719.4,581.3,651.5,664.3,709.8,620.5,725.9,680.9,610.5,694.5,700.9,622.1,691.3,681.1,647.7,687.2,674.1,660.9,686.2,716.6,685.3,697.9,720.2,586.4,640.5,693.0,696.4,608.5,670.5,718.5,644.6,655.2,698.3,678.6,638.8,598.5,662.4,716.1,660.1,701.7,661.9,708.5,708.3,672.6,723.4,563.6,651.8,680.0,749.5,651.8,608.2,771.6,643.5,687.7,729.5,717.6,697.0,636.5,673.9,672.0,717.4,610.4,684.3,645.4,721.9,666.4,711.9,734.2,723.2,676.0,626.1,610.8,706.2,619.5,701.9,615.2,650.1,677.9,629.0,662.0,638.6,660.7,703.4,789.0,722.3,598.2,755.0,692.1,623.7,721.0,751.9,649.0,693.6,663.7,622.5,667.3,625.7,673.2,666.4,662.0,677.7,755.0,686.2,692.6,648.1,735.9,654.7,694.3,660.5,722.5,673.4,664.7,614.0,594.0,627.2,697.2,681.5,681.1,695.6,708.5,720.0,652.0,740.2,688.3,672.2,656.2,624.6,733.1,651.8,659.0,689.8,729.3,652.4,708.1,561.5,670.0,660.3,674.1,630.5,689.4,607.8,652.2,628.9,695.8,692.4,708.7,637.8,648.2,649.2,614.8,665.4,714.6,639.9,675.1,619.7,572.1,634.6,605.4,638.8,581.5,647.5,710.8,607.4,662.2,652.7,670.9,583.4,654.6,687.0,678.5,730.6,707.4,674.3,665.6,641.4,711.9,763.5,733.1,671.9,618.7,593.4,685.8,715.9,721.0,649.5,654.1,717.5,712.4,703.4,698.5,702.3,692.1,646.3,680.9,693.0,733.1,694.7,659.0,563.0,780.7,654.5,639.3,579.6,649.2,697.0,601.6,656.9,663.7,648.8,605.5,696.8,637.8,665.8,626.7,664.7,672.2,733.6,618.6,768.6,678.5,627.8,632.6,691.5,731.2,695.7,643.1,724.6,612.3,655.6,621.0,600.4,724.4,639.9,605.0,612.3,762.0,661.4,725.3,663.2,586.2,703.4,655.8,643.1,682.8,647.1,615.5,656.7,695.3,686.8,659.6,688.3,590.0,628.6,692.8,626.5,676.6,677.1,578.3,673.6,688.9,685.8,681.1,747.0,684.7,677.3,705.9,643.7,661.5,585.0,716.8,626.7,665.4,688.5,742.5,705.1,674.7,619.7,681.5,663.5,718.5,603.6,744.2,709.8,609.9,710.6,681.3,626.7,648.6,621.2,649.2,716.1,729.5,730.6,708.8,721.7,662.8,608.9,701.5,638.0,657.5,718.5,678.8,626.1,722.6,734.6,611.0,625.8,641.4,612.2,652.0,701.7,663.5,618.8,721.7,651.6,693.6,711.9,611.0,651.6,651.6,802.6,695.7,614.4,672.6,681.3,696.8,728.4,758.4,640.7,676.9,607.2,731.4,637.3,723.2,677.7,722.1,616.5,601.9,760.4,677.9,669.2,645.9,644.3,660.1,635.9,687.9,683.2,614.4,593.4,683.2,749.9,629.3,615.7,688.3,696.8,719.4,714.7,701.9,666.9,677.9,706.6,693.8,634.2,698.5,668.3,663.2,706.8,675.6,630.1,680.3,653.9,626.3,684.5,637.1,637.8,670.3,504.2,631.4,688.5,639.3,701.7,691.3,642.6,709.7,631.0,678.5,706.6,644.8,688.9,649.7,567.5,736.1,668.8,629.1,645.2,688.7,688.8,660.7,661.4,733.1,642.6,654.3,729.4,613.5,672.6,675.4,697.7,670.9,714.7,728.0,591.7,673.3,617.8,685.8,606.8,716.6,717.8,611.9,611.9,643.3,607.4,748.6,651.8,703.6,673.9,585.5,633.9,691.9,669.0,666.0,688.9,641.6,651.1,717.0,686.2,719.1,689.2,659.4,662.1,642.6,749.7,624.6,644.8,659.4,633.5,600.4,720.4,641.0,682.1,691.3,670.0,627.8,663.2,645.4,722.3,737.4,679.8,709.6,667.9,751.0,657.5,701.7,671.8,695.3,638.0,708.1,613.6,664.1,706.2,637.6,651.3,587.0,687.3,617.8,610.6,666.4,657.8,640.8,691.5,686.6,690.2,690.0,659.0,740.8,735.9,666.8,666.8,667.3,614.0,707.2,698.3,643.7,580.0,713.0,717.6,683.8,683.8,593.6,638.0,736.5,635.0,644.8,629.7,653.9,686.0,681.7,721.9,687.5,744.8,706.8,700.4,673.1,622.7,698.5,582.9,646.7,701.7,695.7,653.0,624.3,665.0,682.1,732.1,693.4,701.7,593.6,656.5,653.5,653.5,654.8,654.1,672.8,668.1,629.9,630.1,696.4,752.2,685.8,627.6,649.9,710.8,637.8,627.2,612.0,659.9,670.2,728.0,619.7,669.2,694.9,654.5,666.8,637.8,675.8,661.6,661.4,705.5,617.8,645.0,702.8,700.6,726.6,672.2,609.1,638.2,710.0,636.9,707.9,653.9,662.0,651.0,632.7,613.4,699.6,635.0,637.1,671.3,672.2,656.0,710.6,684.3,590.4,642.4,628.2,694.3,652.8,693.4,667.3,641.2,634.4,671.8,518.6,736.7,677.7,711.3,646.9,655.4,704.5,703.0,685.5,709.1,671.1,710.4,624.0,656.2,691.5,710.8,647.7,652.0,666.9,612.3,717.6,656.0,734.8,695.5,746.5,686.8,749.9,682.8,727.6,659.9,623.9,663.9,741.4,692.4,583.4,638.8,630.8,627.6,638.4,704.2,709.8,660.3,648.6,650.3,569.4,667.5,645.6,693.4,715.7,701.9,662.6,636.9,702.8,619.9,693.9,593.4,667.9,693.8,692.6,746.3,670.7,647.1,649.4,665.4,647.3,661.5,636.0,641.0,647.5,699.4,610.4,672.4,681.3,696.8,755.9,662.8,699.3,676.4,720.2,688.6,663.3,693.6,628.0,696.9,597.4,605.5,633.1,667.3,702.5,707.9,677.7,643.5,722.8,689.6,618.4,685.3,665.1,691.3,635.4,713.6,638.8,621.4,616.3,703.0,732.7,610.6,666.9,591.7,626.1,700.2,711.5,673.7,649.4,644.6,662.2,640.9,656.7,766.1,681.3,653.7,686.2,612.5,698.9,568.1,710.9,741.0,623.3,686.2,663.5,647.7,650.5,731.9,736.5,639.9,700.0,677.1,671.7,645.0,615.7,700.0,617.4,678.3,681.3,708.9,705.7,700.0,592.3,675.1,611.2,617.0,675.8,704.3,710.4,712.6,667.9,684.9,685.4,745.5,589.6,605.9,684.9,711.5,653.3,729.1,652.0,712.3,661.3,651.0,804.3,666.9,608.9,814.5,679.2,759.7,689.0,623.7,648.1,623.7,666.2,666.4,652.8,620.3,607.8,663.1,597.6,624.4,652.0,691.7,741.6,638.8,648.1,691.7,666.2,653.1,595.9,695.8,597.6,625.7,702.8,675.6,654.8,670.9,662.6,700.5,650.3,706.8,709.5,632.0,651.8,620.2,677.5,727.8,720.8,651.1,727.8,714.2,733.5,693.0,682.2,672.6,653.0,693.2,689.4,664.3,668.3,756.7,637.7,687.3,710.6,620.8,714.4,697.0,687.9,693.6,672.6,628.0,653.3,649.7,676.0,619.5,667.7,669.7,614.6,614.0,706.6,691.3,680.7,638.4,736.5,737.8,702.1,702.3,673.9,688.3,719.1,661.6,651.6,695.4,718.1,718.1,623.3,593.2,717.7,616.4,670.0,679.4,755.2,713.2,663.7,685.1,712.1,704.7,601.0,601.0,681.3,616.8,684.1,624.8,703.2,694.3,626.5,563.9,632.0,671.7,588.0,542.4,668.2,609.7,649.0,675.6,646.3,700.8,670.2,622.7,598.5,682.0,636.5,664.9,622.9,619.7,717.6,617.5,642.7,611.4,711.4,657.8,605.9,655.8,670.0,652.0,704.3,604.0,601.9,671.3,588.9,652.9,698.5,644.8,677.5,612.7,628.7,652.0,680.9,670.3,716.8,645.7,681.9,679.2,627.4,699.4,670.3,666.9,654.8,676.4,664.3,702.1,687.7,654.1,663.0,592.1,701.5,679.4,605.5,705.1,678.1,696.0,705.9,723.4,677.0,695.5,667.9,682.8,677.0,635.8,714.9,690.0,600.1,682.2,725.9,672.8,601.9,634.6,731.4,732.5,729.5,744.4,695.6,686.8,688.8,698.9,566.8,624.8,621.0,621.0,699.8,620.7,688.8,629.5,714.0,690.7,576.2,631.0,670.7,664.7,557.9,554.5,660.0,754.4,626.7,682.4,679.6,709.6,640.5,635.2,726.2,593.3,622.2,663.5,645.4,683.4,682.0,673.0,668.4,649.2,654.8,654.3,663.3,653.5,633.1,692.1,692.0,768.8,681.7,675.2,605.5,686.0,704.9,591.9,637.4,691.5,589.9,700.0,630.1,790.7,724.2,630.8,679.9,663.1,550.7,646.5,694.9,650.7,621.4,699.8,561.7,724.2,611.6,654.8,729.1,571.7,657.5,769.7,684.7,617.1,650.3,620.4,715.9,661.4,607.2,612.7,693.7,657.3,659.2,692.4,740.6,690.0,722.1,712.6,704.9,654.5,675.6,721.2,606.8,738.0,627.4,690.2,733.6,638.6,666.7,581.1,649.9,655.0,602.3,663.3,666.5,689.4,683.2,656.5,686.4,708.9,711.1,648.0,706.2,639.3,638.2,618.0,695.8,663.7,729.1,663.5,615.4,662.8,644.8,639.7,640.1,692.1,715.7,674.9,717.2,660.9,655.0,587.6,704.9,674.3,760.3,677.1,649.9,736.1,665.8,677.9,677.5,670.7,712.8,680.7,684.7,709.6,693.2,700.4,649.3,652.2,712.3,618.9,700.6,546.2,603.6,644.3,627.1,644.7,657.1,617.2,696.4,591.9,749.5,645.9,659.4,643.7,674.3,663.7,587.2,703.2,648.8,639.3,643.3,581.7,646.7,621.4,640.1,664.5,682.6,682.6,633.7,690.9,657.7,681.1,707.2,631.4,711.7,745.9,654.6,609.5,709.1,705.7,705.7,628.0,721.0,645.2,661.5,635.6,646.3,662.8,690.7,603.8,645.2,682.4,617.8,615.4,616.9,662.2,760.1,705.6,672.2,688.9,684.7,672.6,597.0,696.0,704.9,593.6,667.5,691.5,678.8,699.2,656.4,686.4,667.5,705.1,704.9,736.1,620.8,627.8,722.7,656.3,675.8,659.2,634.4,566.8,715.9,663.9,643.5,663.7,762.0,706.8,669.0,617.8,700.9,709.4,591.0,677.3,666.9,636.1,698.9,680.2,682.8,571.7,570.0,679.2,553.9,681.1,675.6,629.9,698.3,652.8,649.4,722.7,593.8,716.2,700.0,644.4,655.0,724.0,705.3,723.6,629.4,650.5,712.7,752.5,708.7,652.2,690.6,698.5,701.9,749.1,731.0,712.3,584.6,666.6,645.9,671.7,660.7,666.7,660.9,641.6,654.8,648.4,708.5,660.5,644.6,683.2,698.7,664.5,600.8,636.9,699.6,639.7,617.4,658.1,746.5,666.2,721.5,694.7,680.5,650.7,677.1,618.8,649.6,550.3,618.9,541.8,615.0,720.0,609.5,734.6,720.6,696.6,748.2,664.9,658.2,731.4,734.6,639.9,740.8,672.2,651.6,577.9,639.6,674.5,674.9,697.0,619.5,654.6,693.2,653.7,694.5,664.9,654.8,707.0,687.2,676.8,714.0,665.0,689.6,652.8,739.1,708.7,658.2,626.3,646.4,670.9,643.1,661.5,721.2,699.2,560.7,752.0,567.7,674.1,691.1,702.1,703.8,588.7,659.4,609.9,643.3,665.4,727.2,597.4,712.1,719.5,720.8,664.1,700.8,697.7,698.3,694.0,689.2,603.4,607.6,685.4,625.7,671.8,636.7,634.7,653.2,711.7,662.2,708.1,680.7,657.3,690.9,614.4,591.7,662.6,608.3,672.2,710.0,737.6,563.6,651.7,692.2,675.2,680.9,615.9,622.1,646.2,758.6,649.6,686.6,679.8,732.9,710.8,611.5,677.7,665.2,705.3,613.3,670.0,713.6,670.9,720.8,720.6,614.8,722.5,687.9,611.0,604.6,717.2,677.7,690.5,640.7,710.2,750.2,708.5,664.7,660.5,681.5,693.4,646.3,649.5,676.4,684.9,664.3,745.0,703.8,628.9,653.0,743.1,695.3,738.0,712.1,676.4,698.7,662.4,732.7,649.4,580.2,663.4,657.5,655.2,692.4,628.8,591.9,691.3,665.2,682.8,705.9,646.7,681.1,751.8,703.4,621.4,592.3,604.4,602.5,656.2,709.1,596.8,714.3,664.9,605.7,581.0,572.3,731.2,644.8,648.4,628.2,628.2,618.9,669.8,651.1,708.5,605.3,685.1,694.7,664.5,604.8,694.5,670.9,645.0,660.7,731.2,677.7,746.7,790.5,663.5,693.7,785.4,653.1,676.9,676.9,649.2,622.9,688.7,685.6,689.0,620.1,627.6,644.5,714.9,716.6,682.0,651.4],\"y0\":\" \",\"yaxis\":\"y\",\"type\":\"box\"}],                        {\"template\":{\"data\":{\"histogram2dcontour\":[{\"type\":\"histogram2dcontour\",\"colorbar\":{\"outlinewidth\":0,\"ticks\":\"\"},\"colorscale\":[[0.0,\"#0d0887\"],[0.1111111111111111,\"#46039f\"],[0.2222222222222222,\"#7201a8\"],[0.3333333333333333,\"#9c179e\"],[0.4444444444444444,\"#bd3786\"],[0.5555555555555556,\"#d8576b\"],[0.6666666666666666,\"#ed7953\"],[0.7777777777777778,\"#fb9f3a\"],[0.8888888888888888,\"#fdca26\"],[1.0,\"#f0f921\"]]}],\"choropleth\":[{\"type\":\"choropleth\",\"colorbar\":{\"outlinewidth\":0,\"ticks\":\"\"}}],\"histogram2d\":[{\"type\":\"histogram2d\",\"colorbar\":{\"outlinewidth\":0,\"ticks\":\"\"},\"colorscale\":[[0.0,\"#0d0887\"],[0.1111111111111111,\"#46039f\"],[0.2222222222222222,\"#7201a8\"],[0.3333333333333333,\"#9c179e\"],[0.4444444444444444,\"#bd3786\"],[0.5555555555555556,\"#d8576b\"],[0.6666666666666666,\"#ed7953\"],[0.7777777777777778,\"#fb9f3a\"],[0.8888888888888888,\"#fdca26\"],[1.0,\"#f0f921\"]]}],\"heatmap\":[{\"type\":\"heatmap\",\"colorbar\":{\"outlinewidth\":0,\"ticks\":\"\"},\"colorscale\":[[0.0,\"#0d0887\"],[0.1111111111111111,\"#46039f\"],[0.2222222222222222,\"#7201a8\"],[0.3333333333333333,\"#9c179e\"],[0.4444444444444444,\"#bd3786\"],[0.5555555555555556,\"#d8576b\"],[0.6666666666666666,\"#ed7953\"],[0.7777777777777778,\"#fb9f3a\"],[0.8888888888888888,\"#fdca26\"],[1.0,\"#f0f921\"]]}],\"heatmapgl\":[{\"type\":\"heatmapgl\",\"colorbar\":{\"outlinewidth\":0,\"ticks\":\"\"},\"colorscale\":[[0.0,\"#0d0887\"],[0.1111111111111111,\"#46039f\"],[0.2222222222222222,\"#7201a8\"],[0.3333333333333333,\"#9c179e\"],[0.4444444444444444,\"#bd3786\"],[0.5555555555555556,\"#d8576b\"],[0.6666666666666666,\"#ed7953\"],[0.7777777777777778,\"#fb9f3a\"],[0.8888888888888888,\"#fdca26\"],[1.0,\"#f0f921\"]]}],\"contourcarpet\":[{\"type\":\"contourcarpet\",\"colorbar\":{\"outlinewidth\":0,\"ticks\":\"\"}}],\"contour\":[{\"type\":\"contour\",\"colorbar\":{\"outlinewidth\":0,\"ticks\":\"\"},\"colorscale\":[[0.0,\"#0d0887\"],[0.1111111111111111,\"#46039f\"],[0.2222222222222222,\"#7201a8\"],[0.3333333333333333,\"#9c179e\"],[0.4444444444444444,\"#bd3786\"],[0.5555555555555556,\"#d8576b\"],[0.6666666666666666,\"#ed7953\"],[0.7777777777777778,\"#fb9f3a\"],[0.8888888888888888,\"#fdca26\"],[1.0,\"#f0f921\"]]}],\"surface\":[{\"type\":\"surface\",\"colorbar\":{\"outlinewidth\":0,\"ticks\":\"\"},\"colorscale\":[[0.0,\"#0d0887\"],[0.1111111111111111,\"#46039f\"],[0.2222222222222222,\"#7201a8\"],[0.3333333333333333,\"#9c179e\"],[0.4444444444444444,\"#bd3786\"],[0.5555555555555556,\"#d8576b\"],[0.6666666666666666,\"#ed7953\"],[0.7777777777777778,\"#fb9f3a\"],[0.8888888888888888,\"#fdca26\"],[1.0,\"#f0f921\"]]}],\"mesh3d\":[{\"type\":\"mesh3d\",\"colorbar\":{\"outlinewidth\":0,\"ticks\":\"\"}}],\"scatter\":[{\"fillpattern\":{\"fillmode\":\"overlay\",\"size\":10,\"solidity\":0.2},\"type\":\"scatter\"}],\"parcoords\":[{\"type\":\"parcoords\",\"line\":{\"colorbar\":{\"outlinewidth\":0,\"ticks\":\"\"}}}],\"scatterpolargl\":[{\"type\":\"scatterpolargl\",\"marker\":{\"colorbar\":{\"outlinewidth\":0,\"ticks\":\"\"}}}],\"bar\":[{\"error_x\":{\"color\":\"#2a3f5f\"},\"error_y\":{\"color\":\"#2a3f5f\"},\"marker\":{\"line\":{\"color\":\"#E5ECF6\",\"width\":0.5},\"pattern\":{\"fillmode\":\"overlay\",\"size\":10,\"solidity\":0.2}},\"type\":\"bar\"}],\"scattergeo\":[{\"type\":\"scattergeo\",\"marker\":{\"colorbar\":{\"outlinewidth\":0,\"ticks\":\"\"}}}],\"scatterpolar\":[{\"type\":\"scatterpolar\",\"marker\":{\"colorbar\":{\"outlinewidth\":0,\"ticks\":\"\"}}}],\"histogram\":[{\"marker\":{\"pattern\":{\"fillmode\":\"overlay\",\"size\":10,\"solidity\":0.2}},\"type\":\"histogram\"}],\"scattergl\":[{\"type\":\"scattergl\",\"marker\":{\"colorbar\":{\"outlinewidth\":0,\"ticks\":\"\"}}}],\"scatter3d\":[{\"type\":\"scatter3d\",\"line\":{\"colorbar\":{\"outlinewidth\":0,\"ticks\":\"\"}},\"marker\":{\"colorbar\":{\"outlinewidth\":0,\"ticks\":\"\"}}}],\"scattermapbox\":[{\"type\":\"scattermapbox\",\"marker\":{\"colorbar\":{\"outlinewidth\":0,\"ticks\":\"\"}}}],\"scatterternary\":[{\"type\":\"scatterternary\",\"marker\":{\"colorbar\":{\"outlinewidth\":0,\"ticks\":\"\"}}}],\"scattercarpet\":[{\"type\":\"scattercarpet\",\"marker\":{\"colorbar\":{\"outlinewidth\":0,\"ticks\":\"\"}}}],\"carpet\":[{\"aaxis\":{\"endlinecolor\":\"#2a3f5f\",\"gridcolor\":\"white\",\"linecolor\":\"white\",\"minorgridcolor\":\"white\",\"startlinecolor\":\"#2a3f5f\"},\"baxis\":{\"endlinecolor\":\"#2a3f5f\",\"gridcolor\":\"white\",\"linecolor\":\"white\",\"minorgridcolor\":\"white\",\"startlinecolor\":\"#2a3f5f\"},\"type\":\"carpet\"}],\"table\":[{\"cells\":{\"fill\":{\"color\":\"#EBF0F8\"},\"line\":{\"color\":\"white\"}},\"header\":{\"fill\":{\"color\":\"#C8D4E3\"},\"line\":{\"color\":\"white\"}},\"type\":\"table\"}],\"barpolar\":[{\"marker\":{\"line\":{\"color\":\"#E5ECF6\",\"width\":0.5},\"pattern\":{\"fillmode\":\"overlay\",\"size\":10,\"solidity\":0.2}},\"type\":\"barpolar\"}],\"pie\":[{\"automargin\":true,\"type\":\"pie\"}]},\"layout\":{\"autotypenumbers\":\"strict\",\"colorway\":[\"#636efa\",\"#EF553B\",\"#00cc96\",\"#ab63fa\",\"#FFA15A\",\"#19d3f3\",\"#FF6692\",\"#B6E880\",\"#FF97FF\",\"#FECB52\"],\"font\":{\"color\":\"#2a3f5f\"},\"hovermode\":\"closest\",\"hoverlabel\":{\"align\":\"left\"},\"paper_bgcolor\":\"white\",\"plot_bgcolor\":\"#E5ECF6\",\"polar\":{\"bgcolor\":\"#E5ECF6\",\"angularaxis\":{\"gridcolor\":\"white\",\"linecolor\":\"white\",\"ticks\":\"\"},\"radialaxis\":{\"gridcolor\":\"white\",\"linecolor\":\"white\",\"ticks\":\"\"}},\"ternary\":{\"bgcolor\":\"#E5ECF6\",\"aaxis\":{\"gridcolor\":\"white\",\"linecolor\":\"white\",\"ticks\":\"\"},\"baxis\":{\"gridcolor\":\"white\",\"linecolor\":\"white\",\"ticks\":\"\"},\"caxis\":{\"gridcolor\":\"white\",\"linecolor\":\"white\",\"ticks\":\"\"}},\"coloraxis\":{\"colorbar\":{\"outlinewidth\":0,\"ticks\":\"\"}},\"colorscale\":{\"sequential\":[[0.0,\"#0d0887\"],[0.1111111111111111,\"#46039f\"],[0.2222222222222222,\"#7201a8\"],[0.3333333333333333,\"#9c179e\"],[0.4444444444444444,\"#bd3786\"],[0.5555555555555556,\"#d8576b\"],[0.6666666666666666,\"#ed7953\"],[0.7777777777777778,\"#fb9f3a\"],[0.8888888888888888,\"#fdca26\"],[1.0,\"#f0f921\"]],\"sequentialminus\":[[0.0,\"#0d0887\"],[0.1111111111111111,\"#46039f\"],[0.2222222222222222,\"#7201a8\"],[0.3333333333333333,\"#9c179e\"],[0.4444444444444444,\"#bd3786\"],[0.5555555555555556,\"#d8576b\"],[0.6666666666666666,\"#ed7953\"],[0.7777777777777778,\"#fb9f3a\"],[0.8888888888888888,\"#fdca26\"],[1.0,\"#f0f921\"]],\"diverging\":[[0,\"#8e0152\"],[0.1,\"#c51b7d\"],[0.2,\"#de77ae\"],[0.3,\"#f1b6da\"],[0.4,\"#fde0ef\"],[0.5,\"#f7f7f7\"],[0.6,\"#e6f5d0\"],[0.7,\"#b8e186\"],[0.8,\"#7fbc41\"],[0.9,\"#4d9221\"],[1,\"#276419\"]]},\"xaxis\":{\"gridcolor\":\"white\",\"linecolor\":\"white\",\"ticks\":\"\",\"title\":{\"standoff\":15},\"zerolinecolor\":\"white\",\"automargin\":true,\"zerolinewidth\":2},\"yaxis\":{\"gridcolor\":\"white\",\"linecolor\":\"white\",\"ticks\":\"\",\"title\":{\"standoff\":15},\"zerolinecolor\":\"white\",\"automargin\":true,\"zerolinewidth\":2},\"scene\":{\"xaxis\":{\"backgroundcolor\":\"#E5ECF6\",\"gridcolor\":\"white\",\"linecolor\":\"white\",\"showbackground\":true,\"ticks\":\"\",\"zerolinecolor\":\"white\",\"gridwidth\":2},\"yaxis\":{\"backgroundcolor\":\"#E5ECF6\",\"gridcolor\":\"white\",\"linecolor\":\"white\",\"showbackground\":true,\"ticks\":\"\",\"zerolinecolor\":\"white\",\"gridwidth\":2},\"zaxis\":{\"backgroundcolor\":\"#E5ECF6\",\"gridcolor\":\"white\",\"linecolor\":\"white\",\"showbackground\":true,\"ticks\":\"\",\"zerolinecolor\":\"white\",\"gridwidth\":2}},\"shapedefaults\":{\"line\":{\"color\":\"#2a3f5f\"}},\"annotationdefaults\":{\"arrowcolor\":\"#2a3f5f\",\"arrowhead\":0,\"arrowwidth\":1},\"geo\":{\"bgcolor\":\"white\",\"landcolor\":\"#E5ECF6\",\"subunitcolor\":\"white\",\"showland\":true,\"showlakes\":true,\"lakecolor\":\"white\"},\"title\":{\"x\":0.05},\"mapbox\":{\"style\":\"light\"}}},\"xaxis\":{\"anchor\":\"y\",\"domain\":[0.0,1.0]},\"yaxis\":{\"anchor\":\"x\",\"domain\":[0.0,1.0],\"title\":{\"text\":\"WORK_LIFE_BALANCE_SCORE\"}},\"legend\":{\"tracegroupgap\":0},\"margin\":{\"t\":60},\"boxmode\":\"group\"},                        {\"responsive\": true}                    ).then(function(){\n",
              "                            \n",
              "var gd = document.getElementById('7eded25d-a086-4690-b97f-f3341987f703');\n",
              "var x = new MutationObserver(function (mutations, observer) {{\n",
              "        var display = window.getComputedStyle(gd).display;\n",
              "        if (!display || display === 'none') {{\n",
              "            console.log([gd, 'removed!']);\n",
              "            Plotly.purge(gd);\n",
              "            observer.disconnect();\n",
              "        }}\n",
              "}});\n",
              "\n",
              "// Listen for the removal of the full notebook cells\n",
              "var notebookContainer = gd.closest('#notebook-container');\n",
              "if (notebookContainer) {{\n",
              "    x.observe(notebookContainer, {childList: true});\n",
              "}}\n",
              "\n",
              "// Listen for the clearing of the current output cell\n",
              "var outputEl = gd.closest('.output');\n",
              "if (outputEl) {{\n",
              "    x.observe(outputEl, {childList: true});\n",
              "}}\n",
              "\n",
              "                        })                };                            </script>        </div>\n",
              "</body>\n",
              "</html>"
            ]
          },
          "metadata": {}
        }
      ]
    },
    {
      "cell_type": "markdown",
      "source": [
        "Found outliers! So we need to remove it "
      ],
      "metadata": {
        "id": "TCF8rGTYsTSC"
      }
    },
    {
      "cell_type": "code",
      "source": [
        "\n",
        "\n",
        "for x in ['WORK_LIFE_BALANCE_SCORE']:\n",
        "    q75,q25 = np.percentile(df.loc[:,x],[75,25])\n",
        "    intr_qr = q75-q25\n",
        " \n",
        "    max = q75+(1.5*intr_qr)\n",
        "    min = q25-(1.5*intr_qr)\n",
        " \n",
        "    df.loc[df[x] < min,x] = np.nan\n",
        "    df.loc[df[x] > max,x] = np.nan\n",
        "\n",
        "df.isnull().sum()\n",
        "\n"
      ],
      "metadata": {
        "id": "LcKC73e4ssai",
        "colab": {
          "base_uri": "https://localhost:8080/"
        },
        "outputId": "50e76afb-b246-4299-d2cf-6523dd4ff9c1"
      },
      "execution_count": null,
      "outputs": [
        {
          "output_type": "execute_result",
          "data": {
            "text/plain": [
              "Timestamp                   0\n",
              "FRUITS_VEGGIES              0\n",
              "DAILY_STRESS                0\n",
              "PLACES_VISITED              0\n",
              "CORE_CIRCLE                 0\n",
              "SUPPORTING_OTHERS           0\n",
              "SOCIAL_NETWORK              0\n",
              "ACHIEVEMENT                 0\n",
              "DONATION                    0\n",
              "BMI_RANGE                   0\n",
              "TODO_COMPLETED              0\n",
              "FLOW                        0\n",
              "DAILY_STEPS                 0\n",
              "LIVE_VISION                 0\n",
              "SLEEP_HOURS                 0\n",
              "LOST_VACATION               0\n",
              "DAILY_SHOUTING              0\n",
              "SUFFICIENT_INCOME           0\n",
              "PERSONAL_AWARDS             0\n",
              "TIME_FOR_PASSION            0\n",
              "WEEKLY_MEDITATION           0\n",
              "AGE                         0\n",
              "GENDER                      0\n",
              "WORK_LIFE_BALANCE_SCORE    71\n",
              "dtype: int64"
            ]
          },
          "metadata": {},
          "execution_count": 9
        }
      ]
    },
    {
      "cell_type": "code",
      "source": [
        "df = df.dropna(axis = 0)"
      ],
      "metadata": {
        "id": "Hc3mlPivcGlK"
      },
      "execution_count": null,
      "outputs": []
    },
    {
      "cell_type": "code",
      "source": [
        "df.isnull().sum()\n"
      ],
      "metadata": {
        "colab": {
          "base_uri": "https://localhost:8080/"
        },
        "id": "LtH6vdF6tYaL",
        "outputId": "550c0fa0-ebe7-496d-e9f6-6fa58ae92725"
      },
      "execution_count": null,
      "outputs": [
        {
          "output_type": "execute_result",
          "data": {
            "text/plain": [
              "Timestamp                  0\n",
              "FRUITS_VEGGIES             0\n",
              "DAILY_STRESS               0\n",
              "PLACES_VISITED             0\n",
              "CORE_CIRCLE                0\n",
              "SUPPORTING_OTHERS          0\n",
              "SOCIAL_NETWORK             0\n",
              "ACHIEVEMENT                0\n",
              "DONATION                   0\n",
              "BMI_RANGE                  0\n",
              "TODO_COMPLETED             0\n",
              "FLOW                       0\n",
              "DAILY_STEPS                0\n",
              "LIVE_VISION                0\n",
              "SLEEP_HOURS                0\n",
              "LOST_VACATION              0\n",
              "DAILY_SHOUTING             0\n",
              "SUFFICIENT_INCOME          0\n",
              "PERSONAL_AWARDS            0\n",
              "TIME_FOR_PASSION           0\n",
              "WEEKLY_MEDITATION          0\n",
              "AGE                        0\n",
              "GENDER                     0\n",
              "WORK_LIFE_BALANCE_SCORE    0\n",
              "dtype: int64"
            ]
          },
          "metadata": {},
          "execution_count": 11
        }
      ]
    },
    {
      "cell_type": "code",
      "source": [
        "data_types = df.dtypes\n",
        "print(data_types)"
      ],
      "metadata": {
        "colab": {
          "base_uri": "https://localhost:8080/"
        },
        "id": "UtR7lpR8vpy-",
        "outputId": "795f4a48-478a-4694-a150-eaf2ea4d85e3"
      },
      "execution_count": null,
      "outputs": [
        {
          "output_type": "stream",
          "name": "stdout",
          "text": [
            "Timestamp                   object\n",
            "FRUITS_VEGGIES               int64\n",
            "DAILY_STRESS                object\n",
            "PLACES_VISITED               int64\n",
            "CORE_CIRCLE                  int64\n",
            "SUPPORTING_OTHERS            int64\n",
            "SOCIAL_NETWORK               int64\n",
            "ACHIEVEMENT                  int64\n",
            "DONATION                     int64\n",
            "BMI_RANGE                    int64\n",
            "TODO_COMPLETED               int64\n",
            "FLOW                         int64\n",
            "DAILY_STEPS                  int64\n",
            "LIVE_VISION                  int64\n",
            "SLEEP_HOURS                  int64\n",
            "LOST_VACATION                int64\n",
            "DAILY_SHOUTING               int64\n",
            "SUFFICIENT_INCOME            int64\n",
            "PERSONAL_AWARDS              int64\n",
            "TIME_FOR_PASSION             int64\n",
            "WEEKLY_MEDITATION            int64\n",
            "AGE                         object\n",
            "GENDER                      object\n",
            "WORK_LIFE_BALANCE_SCORE    float64\n",
            "dtype: object\n"
          ]
        }
      ]
    },
    {
      "cell_type": "markdown",
      "source": [
        "Change Timestamp data type from object to datime, and filter the data from 2021"
      ],
      "metadata": {
        "id": "4A1szuAPyroI"
      }
    },
    {
      "cell_type": "code",
      "source": [
        "df['Timestamp'] = pd.to_datetime(df['Timestamp'])\n",
        "\n",
        "df = df[(df['Timestamp'].dt.year == 2021)]\n",
        "# Filter the data for the desired date range\n",
        "df.tail()"
      ],
      "metadata": {
        "colab": {
          "base_uri": "https://localhost:8080/",
          "height": 473
        },
        "id": "iFATXC9QSmBf",
        "outputId": "c6781fda-2204-451b-ac0f-277e29e2cea9"
      },
      "execution_count": null,
      "outputs": [
        {
          "output_type": "execute_result",
          "data": {
            "text/plain": [
              "                Timestamp  FRUITS_VEGGIES DAILY_STRESS  PLACES_VISITED  \\\n",
              "15967 2021-03-14 05:42:00               3            3               0   \n",
              "15968 2021-03-14 06:30:00               3            3               6   \n",
              "15969 2021-03-14 08:35:00               4            3               0   \n",
              "15970 2021-03-14 08:43:00               1            1              10   \n",
              "15971 2021-03-14 09:03:00               5            4               0   \n",
              "\n",
              "       CORE_CIRCLE  SUPPORTING_OTHERS  SOCIAL_NETWORK  ACHIEVEMENT  DONATION  \\\n",
              "15967            4                  0              10            0         4   \n",
              "15968            8                  7               4            6         3   \n",
              "15969           10                 10               8            6         5   \n",
              "15970            8                  2               7            3         2   \n",
              "15971            2                 10              10            5         1   \n",
              "\n",
              "       BMI_RANGE  ...  SLEEP_HOURS  LOST_VACATION  DAILY_SHOUTING  \\\n",
              "15967          2  ...            7              0               1   \n",
              "15968          1  ...            6              0               0   \n",
              "15969          1  ...            7              0               1   \n",
              "15970          1  ...            8              7               2   \n",
              "15971          2  ...            8              5               2   \n",
              "\n",
              "       SUFFICIENT_INCOME  PERSONAL_AWARDS  TIME_FOR_PASSION  \\\n",
              "15967                  1                5                 2   \n",
              "15968                  2               10                 5   \n",
              "15969                  2               10                 1   \n",
              "15970                  2                1                 6   \n",
              "15971                  2                1                 8   \n",
              "\n",
              "       WEEKLY_MEDITATION         AGE  GENDER  WORK_LIFE_BALANCE_SCORE  \n",
              "15967                  5  51 or more  Female                    644.5  \n",
              "15968                  8    21 to 35  Female                    714.9  \n",
              "15969                 10    21 to 35    Male                    716.6  \n",
              "15970                  8    21 to 35  Female                    682.0  \n",
              "15971                  4    21 to 35  Female                    651.4  \n",
              "\n",
              "[5 rows x 24 columns]"
            ],
            "text/html": [
              "\n",
              "  <div id=\"df-bc1464fd-b58b-4590-b300-0352de92f006\">\n",
              "    <div class=\"colab-df-container\">\n",
              "      <div>\n",
              "<style scoped>\n",
              "    .dataframe tbody tr th:only-of-type {\n",
              "        vertical-align: middle;\n",
              "    }\n",
              "\n",
              "    .dataframe tbody tr th {\n",
              "        vertical-align: top;\n",
              "    }\n",
              "\n",
              "    .dataframe thead th {\n",
              "        text-align: right;\n",
              "    }\n",
              "</style>\n",
              "<table border=\"1\" class=\"dataframe\">\n",
              "  <thead>\n",
              "    <tr style=\"text-align: right;\">\n",
              "      <th></th>\n",
              "      <th>Timestamp</th>\n",
              "      <th>FRUITS_VEGGIES</th>\n",
              "      <th>DAILY_STRESS</th>\n",
              "      <th>PLACES_VISITED</th>\n",
              "      <th>CORE_CIRCLE</th>\n",
              "      <th>SUPPORTING_OTHERS</th>\n",
              "      <th>SOCIAL_NETWORK</th>\n",
              "      <th>ACHIEVEMENT</th>\n",
              "      <th>DONATION</th>\n",
              "      <th>BMI_RANGE</th>\n",
              "      <th>...</th>\n",
              "      <th>SLEEP_HOURS</th>\n",
              "      <th>LOST_VACATION</th>\n",
              "      <th>DAILY_SHOUTING</th>\n",
              "      <th>SUFFICIENT_INCOME</th>\n",
              "      <th>PERSONAL_AWARDS</th>\n",
              "      <th>TIME_FOR_PASSION</th>\n",
              "      <th>WEEKLY_MEDITATION</th>\n",
              "      <th>AGE</th>\n",
              "      <th>GENDER</th>\n",
              "      <th>WORK_LIFE_BALANCE_SCORE</th>\n",
              "    </tr>\n",
              "  </thead>\n",
              "  <tbody>\n",
              "    <tr>\n",
              "      <th>15967</th>\n",
              "      <td>2021-03-14 05:42:00</td>\n",
              "      <td>3</td>\n",
              "      <td>3</td>\n",
              "      <td>0</td>\n",
              "      <td>4</td>\n",
              "      <td>0</td>\n",
              "      <td>10</td>\n",
              "      <td>0</td>\n",
              "      <td>4</td>\n",
              "      <td>2</td>\n",
              "      <td>...</td>\n",
              "      <td>7</td>\n",
              "      <td>0</td>\n",
              "      <td>1</td>\n",
              "      <td>1</td>\n",
              "      <td>5</td>\n",
              "      <td>2</td>\n",
              "      <td>5</td>\n",
              "      <td>51 or more</td>\n",
              "      <td>Female</td>\n",
              "      <td>644.5</td>\n",
              "    </tr>\n",
              "    <tr>\n",
              "      <th>15968</th>\n",
              "      <td>2021-03-14 06:30:00</td>\n",
              "      <td>3</td>\n",
              "      <td>3</td>\n",
              "      <td>6</td>\n",
              "      <td>8</td>\n",
              "      <td>7</td>\n",
              "      <td>4</td>\n",
              "      <td>6</td>\n",
              "      <td>3</td>\n",
              "      <td>1</td>\n",
              "      <td>...</td>\n",
              "      <td>6</td>\n",
              "      <td>0</td>\n",
              "      <td>0</td>\n",
              "      <td>2</td>\n",
              "      <td>10</td>\n",
              "      <td>5</td>\n",
              "      <td>8</td>\n",
              "      <td>21 to 35</td>\n",
              "      <td>Female</td>\n",
              "      <td>714.9</td>\n",
              "    </tr>\n",
              "    <tr>\n",
              "      <th>15969</th>\n",
              "      <td>2021-03-14 08:35:00</td>\n",
              "      <td>4</td>\n",
              "      <td>3</td>\n",
              "      <td>0</td>\n",
              "      <td>10</td>\n",
              "      <td>10</td>\n",
              "      <td>8</td>\n",
              "      <td>6</td>\n",
              "      <td>5</td>\n",
              "      <td>1</td>\n",
              "      <td>...</td>\n",
              "      <td>7</td>\n",
              "      <td>0</td>\n",
              "      <td>1</td>\n",
              "      <td>2</td>\n",
              "      <td>10</td>\n",
              "      <td>1</td>\n",
              "      <td>10</td>\n",
              "      <td>21 to 35</td>\n",
              "      <td>Male</td>\n",
              "      <td>716.6</td>\n",
              "    </tr>\n",
              "    <tr>\n",
              "      <th>15970</th>\n",
              "      <td>2021-03-14 08:43:00</td>\n",
              "      <td>1</td>\n",
              "      <td>1</td>\n",
              "      <td>10</td>\n",
              "      <td>8</td>\n",
              "      <td>2</td>\n",
              "      <td>7</td>\n",
              "      <td>3</td>\n",
              "      <td>2</td>\n",
              "      <td>1</td>\n",
              "      <td>...</td>\n",
              "      <td>8</td>\n",
              "      <td>7</td>\n",
              "      <td>2</td>\n",
              "      <td>2</td>\n",
              "      <td>1</td>\n",
              "      <td>6</td>\n",
              "      <td>8</td>\n",
              "      <td>21 to 35</td>\n",
              "      <td>Female</td>\n",
              "      <td>682.0</td>\n",
              "    </tr>\n",
              "    <tr>\n",
              "      <th>15971</th>\n",
              "      <td>2021-03-14 09:03:00</td>\n",
              "      <td>5</td>\n",
              "      <td>4</td>\n",
              "      <td>0</td>\n",
              "      <td>2</td>\n",
              "      <td>10</td>\n",
              "      <td>10</td>\n",
              "      <td>5</td>\n",
              "      <td>1</td>\n",
              "      <td>2</td>\n",
              "      <td>...</td>\n",
              "      <td>8</td>\n",
              "      <td>5</td>\n",
              "      <td>2</td>\n",
              "      <td>2</td>\n",
              "      <td>1</td>\n",
              "      <td>8</td>\n",
              "      <td>4</td>\n",
              "      <td>21 to 35</td>\n",
              "      <td>Female</td>\n",
              "      <td>651.4</td>\n",
              "    </tr>\n",
              "  </tbody>\n",
              "</table>\n",
              "<p>5 rows × 24 columns</p>\n",
              "</div>\n",
              "      <button class=\"colab-df-convert\" onclick=\"convertToInteractive('df-bc1464fd-b58b-4590-b300-0352de92f006')\"\n",
              "              title=\"Convert this dataframe to an interactive table.\"\n",
              "              style=\"display:none;\">\n",
              "        \n",
              "  <svg xmlns=\"http://www.w3.org/2000/svg\" height=\"24px\"viewBox=\"0 0 24 24\"\n",
              "       width=\"24px\">\n",
              "    <path d=\"M0 0h24v24H0V0z\" fill=\"none\"/>\n",
              "    <path d=\"M18.56 5.44l.94 2.06.94-2.06 2.06-.94-2.06-.94-.94-2.06-.94 2.06-2.06.94zm-11 1L8.5 8.5l.94-2.06 2.06-.94-2.06-.94L8.5 2.5l-.94 2.06-2.06.94zm10 10l.94 2.06.94-2.06 2.06-.94-2.06-.94-.94-2.06-.94 2.06-2.06.94z\"/><path d=\"M17.41 7.96l-1.37-1.37c-.4-.4-.92-.59-1.43-.59-.52 0-1.04.2-1.43.59L10.3 9.45l-7.72 7.72c-.78.78-.78 2.05 0 2.83L4 21.41c.39.39.9.59 1.41.59.51 0 1.02-.2 1.41-.59l7.78-7.78 2.81-2.81c.8-.78.8-2.07 0-2.86zM5.41 20L4 18.59l7.72-7.72 1.47 1.35L5.41 20z\"/>\n",
              "  </svg>\n",
              "      </button>\n",
              "      \n",
              "  <style>\n",
              "    .colab-df-container {\n",
              "      display:flex;\n",
              "      flex-wrap:wrap;\n",
              "      gap: 12px;\n",
              "    }\n",
              "\n",
              "    .colab-df-convert {\n",
              "      background-color: #E8F0FE;\n",
              "      border: none;\n",
              "      border-radius: 50%;\n",
              "      cursor: pointer;\n",
              "      display: none;\n",
              "      fill: #1967D2;\n",
              "      height: 32px;\n",
              "      padding: 0 0 0 0;\n",
              "      width: 32px;\n",
              "    }\n",
              "\n",
              "    .colab-df-convert:hover {\n",
              "      background-color: #E2EBFA;\n",
              "      box-shadow: 0px 1px 2px rgba(60, 64, 67, 0.3), 0px 1px 3px 1px rgba(60, 64, 67, 0.15);\n",
              "      fill: #174EA6;\n",
              "    }\n",
              "\n",
              "    [theme=dark] .colab-df-convert {\n",
              "      background-color: #3B4455;\n",
              "      fill: #D2E3FC;\n",
              "    }\n",
              "\n",
              "    [theme=dark] .colab-df-convert:hover {\n",
              "      background-color: #434B5C;\n",
              "      box-shadow: 0px 1px 3px 1px rgba(0, 0, 0, 0.15);\n",
              "      filter: drop-shadow(0px 1px 2px rgba(0, 0, 0, 0.3));\n",
              "      fill: #FFFFFF;\n",
              "    }\n",
              "  </style>\n",
              "\n",
              "      <script>\n",
              "        const buttonEl =\n",
              "          document.querySelector('#df-bc1464fd-b58b-4590-b300-0352de92f006 button.colab-df-convert');\n",
              "        buttonEl.style.display =\n",
              "          google.colab.kernel.accessAllowed ? 'block' : 'none';\n",
              "\n",
              "        async function convertToInteractive(key) {\n",
              "          const element = document.querySelector('#df-bc1464fd-b58b-4590-b300-0352de92f006');\n",
              "          const dataTable =\n",
              "            await google.colab.kernel.invokeFunction('convertToInteractive',\n",
              "                                                     [key], {});\n",
              "          if (!dataTable) return;\n",
              "\n",
              "          const docLinkHtml = 'Like what you see? Visit the ' +\n",
              "            '<a target=\"_blank\" href=https://colab.research.google.com/notebooks/data_table.ipynb>data table notebook</a>'\n",
              "            + ' to learn more about interactive tables.';\n",
              "          element.innerHTML = '';\n",
              "          dataTable['output_type'] = 'display_data';\n",
              "          await google.colab.output.renderOutput(dataTable, element);\n",
              "          const docLink = document.createElement('div');\n",
              "          docLink.innerHTML = docLinkHtml;\n",
              "          element.appendChild(docLink);\n",
              "        }\n",
              "      </script>\n",
              "    </div>\n",
              "  </div>\n",
              "  "
            ]
          },
          "metadata": {},
          "execution_count": 13
        }
      ]
    },
    {
      "cell_type": "code",
      "source": [
        "column_counts = df.count()\n",
        "print(column_counts)"
      ],
      "metadata": {
        "colab": {
          "base_uri": "https://localhost:8080/"
        },
        "id": "ypQ96mW8x5tt",
        "outputId": "cc7c9c65-4d87-4bda-9fc3-e20f444890b9"
      },
      "execution_count": null,
      "outputs": [
        {
          "output_type": "stream",
          "name": "stdout",
          "text": [
            "Timestamp                  370\n",
            "FRUITS_VEGGIES             370\n",
            "DAILY_STRESS               370\n",
            "PLACES_VISITED             370\n",
            "CORE_CIRCLE                370\n",
            "SUPPORTING_OTHERS          370\n",
            "SOCIAL_NETWORK             370\n",
            "ACHIEVEMENT                370\n",
            "DONATION                   370\n",
            "BMI_RANGE                  370\n",
            "TODO_COMPLETED             370\n",
            "FLOW                       370\n",
            "DAILY_STEPS                370\n",
            "LIVE_VISION                370\n",
            "SLEEP_HOURS                370\n",
            "LOST_VACATION              370\n",
            "DAILY_SHOUTING             370\n",
            "SUFFICIENT_INCOME          370\n",
            "PERSONAL_AWARDS            370\n",
            "TIME_FOR_PASSION           370\n",
            "WEEKLY_MEDITATION          370\n",
            "AGE                        370\n",
            "GENDER                     370\n",
            "WORK_LIFE_BALANCE_SCORE    370\n",
            "dtype: int64\n"
          ]
        }
      ]
    },
    {
      "cell_type": "markdown",
      "source": [
        "**Dropping timestamp columns**"
      ],
      "metadata": {
        "id": "XoUHOw1Hrv1x"
      }
    },
    {
      "cell_type": "code",
      "source": [
        "df = df.drop(\"Timestamp\", axis=1)"
      ],
      "metadata": {
        "id": "RwA6Isd9pGWJ"
      },
      "execution_count": null,
      "outputs": []
    },
    {
      "cell_type": "code",
      "source": [
        "columns = df.columns\n",
        "print(columns)"
      ],
      "metadata": {
        "colab": {
          "base_uri": "https://localhost:8080/"
        },
        "id": "AuXXnHSwqumr",
        "outputId": "524668e3-2719-42c4-8056-24ad4564ef0f"
      },
      "execution_count": null,
      "outputs": [
        {
          "output_type": "stream",
          "name": "stdout",
          "text": [
            "Index(['FRUITS_VEGGIES', 'DAILY_STRESS', 'PLACES_VISITED', 'CORE_CIRCLE',\n",
            "       'SUPPORTING_OTHERS', 'SOCIAL_NETWORK', 'ACHIEVEMENT', 'DONATION',\n",
            "       'BMI_RANGE', 'TODO_COMPLETED', 'FLOW', 'DAILY_STEPS', 'LIVE_VISION',\n",
            "       'SLEEP_HOURS', 'LOST_VACATION', 'DAILY_SHOUTING', 'SUFFICIENT_INCOME',\n",
            "       'PERSONAL_AWARDS', 'TIME_FOR_PASSION', 'WEEKLY_MEDITATION', 'AGE',\n",
            "       'GENDER', 'WORK_LIFE_BALANCE_SCORE'],\n",
            "      dtype='object')\n"
          ]
        }
      ]
    },
    {
      "cell_type": "code",
      "source": [
        "\n",
        "# Scatter plot\n",
        "plt.scatter(df['WORK_LIFE_BALANCE_SCORE'], df.index)\n",
        "\n",
        "# Set labels and title\n",
        "plt.xlabel('WORK_LIFE_BALANCE_SCORE')\n",
        "plt.ylabel('Index')\n",
        "plt.title('Scatter Plot of WORK_LIFE_BALANCE_SCORE')\n",
        "\n",
        "# Show the plot\n",
        "plt.show()\n"
      ],
      "metadata": {
        "colab": {
          "base_uri": "https://localhost:8080/",
          "height": 472
        },
        "id": "EJAAElu6raLc",
        "outputId": "80992a3c-ec54-4a19-d6fc-19bba7119a1e"
      },
      "execution_count": null,
      "outputs": [
        {
          "output_type": "display_data",
          "data": {
            "text/plain": [
              "<Figure size 640x480 with 1 Axes>"
            ],
            "image/png": "[encoded data removed]"
          },
          "metadata": {}
        }
      ]
    },
    {
      "cell_type": "code",
      "source": [
        "\n"
      ],
      "metadata": {
        "id": "52LPDsy0K_YC"
      },
      "execution_count": null,
      "outputs": []
    },
    {
      "cell_type": "code",
      "source": [
        "#one-hot encoding\n",
        "df['GENDER'].replace('Female', 1, inplace=True)\n",
        "df['GENDER'].replace('Male', 0, inplace=True)"
      ],
      "metadata": {
        "id": "UxVGKMRbWXs3"
      },
      "execution_count": null,
      "outputs": []
    },
    {
      "cell_type": "markdown",
      "source": [
        "Female = 1, male = 0"
      ],
      "metadata": {
        "id": "Xx3tXSIebABO"
      }
    },
    {
      "cell_type": "code",
      "source": [
        "df.tail()"
      ],
      "metadata": {
        "colab": {
          "base_uri": "https://localhost:8080/",
          "height": 386
        },
        "id": "RgLzPc0Jaqqg",
        "outputId": "964bf521-88fc-47ee-f0e2-e2abacf765c0"
      },
      "execution_count": null,
      "outputs": [
        {
          "output_type": "execute_result",
          "data": {
            "text/plain": [
              "       FRUITS_VEGGIES DAILY_STRESS  PLACES_VISITED  CORE_CIRCLE  \\\n",
              "15967               3            3               0            4   \n",
              "15968               3            3               6            8   \n",
              "15969               4            3               0           10   \n",
              "15970               1            1              10            8   \n",
              "15971               5            4               0            2   \n",
              "\n",
              "       SUPPORTING_OTHERS  SOCIAL_NETWORK  ACHIEVEMENT  DONATION  BMI_RANGE  \\\n",
              "15967                  0              10            0         4          2   \n",
              "15968                  7               4            6         3          1   \n",
              "15969                 10               8            6         5          1   \n",
              "15970                  2               7            3         2          1   \n",
              "15971                 10              10            5         1          2   \n",
              "\n",
              "       TODO_COMPLETED  ...  SLEEP_HOURS  LOST_VACATION  DAILY_SHOUTING  \\\n",
              "15967               8  ...            7              0               1   \n",
              "15968               7  ...            6              0               0   \n",
              "15969               7  ...            7              0               1   \n",
              "15970               6  ...            8              7               2   \n",
              "15971               7  ...            8              5               2   \n",
              "\n",
              "       SUFFICIENT_INCOME  PERSONAL_AWARDS  TIME_FOR_PASSION  \\\n",
              "15967                  1                5                 2   \n",
              "15968                  2               10                 5   \n",
              "15969                  2               10                 1   \n",
              "15970                  2                1                 6   \n",
              "15971                  2                1                 8   \n",
              "\n",
              "       WEEKLY_MEDITATION         AGE  GENDER  WORK_LIFE_BALANCE_SCORE  \n",
              "15967                  5  51 or more       1                    644.5  \n",
              "15968                  8    21 to 35       1                    714.9  \n",
              "15969                 10    21 to 35       0                    716.6  \n",
              "15970                  8    21 to 35       1                    682.0  \n",
              "15971                  4    21 to 35       1                    651.4  \n",
              "\n",
              "[5 rows x 23 columns]"
            ],
            "text/html": [
              "\n",
              "  <div id=\"df-3cfd6206-2088-47f0-81e1-4dc9fa0198b8\">\n",
              "    <div class=\"colab-df-container\">\n",
              "      <div>\n",
              "<style scoped>\n",
              "    .dataframe tbody tr th:only-of-type {\n",
              "        vertical-align: middle;\n",
              "    }\n",
              "\n",
              "    .dataframe tbody tr th {\n",
              "        vertical-align: top;\n",
              "    }\n",
              "\n",
              "    .dataframe thead th {\n",
              "        text-align: right;\n",
              "    }\n",
              "</style>\n",
              "<table border=\"1\" class=\"dataframe\">\n",
              "  <thead>\n",
              "    <tr style=\"text-align: right;\">\n",
              "      <th></th>\n",
              "      <th>FRUITS_VEGGIES</th>\n",
              "      <th>DAILY_STRESS</th>\n",
              "      <th>PLACES_VISITED</th>\n",
              "      <th>CORE_CIRCLE</th>\n",
              "      <th>SUPPORTING_OTHERS</th>\n",
              "      <th>SOCIAL_NETWORK</th>\n",
              "      <th>ACHIEVEMENT</th>\n",
              "      <th>DONATION</th>\n",
              "      <th>BMI_RANGE</th>\n",
              "      <th>TODO_COMPLETED</th>\n",
              "      <th>...</th>\n",
              "      <th>SLEEP_HOURS</th>\n",
              "      <th>LOST_VACATION</th>\n",
              "      <th>DAILY_SHOUTING</th>\n",
              "      <th>SUFFICIENT_INCOME</th>\n",
              "      <th>PERSONAL_AWARDS</th>\n",
              "      <th>TIME_FOR_PASSION</th>\n",
              "      <th>WEEKLY_MEDITATION</th>\n",
              "      <th>AGE</th>\n",
              "      <th>GENDER</th>\n",
              "      <th>WORK_LIFE_BALANCE_SCORE</th>\n",
              "    </tr>\n",
              "  </thead>\n",
              "  <tbody>\n",
              "    <tr>\n",
              "      <th>15967</th>\n",
              "      <td>3</td>\n",
              "      <td>3</td>\n",
              "      <td>0</td>\n",
              "      <td>4</td>\n",
              "      <td>0</td>\n",
              "      <td>10</td>\n",
              "      <td>0</td>\n",
              "      <td>4</td>\n",
              "      <td>2</td>\n",
              "      <td>8</td>\n",
              "      <td>...</td>\n",
              "      <td>7</td>\n",
              "      <td>0</td>\n",
              "      <td>1</td>\n",
              "      <td>1</td>\n",
              "      <td>5</td>\n",
              "      <td>2</td>\n",
              "      <td>5</td>\n",
              "      <td>51 or more</td>\n",
              "      <td>1</td>\n",
              "      <td>644.5</td>\n",
              "    </tr>\n",
              "    <tr>\n",
              "      <th>15968</th>\n",
              "      <td>3</td>\n",
              "      <td>3</td>\n",
              "      <td>6</td>\n",
              "      <td>8</td>\n",
              "      <td>7</td>\n",
              "      <td>4</td>\n",
              "      <td>6</td>\n",
              "      <td>3</td>\n",
              "      <td>1</td>\n",
              "      <td>7</td>\n",
              "      <td>...</td>\n",
              "      <td>6</td>\n",
              "      <td>0</td>\n",
              "      <td>0</td>\n",
              "      <td>2</td>\n",
              "      <td>10</td>\n",
              "      <td>5</td>\n",
              "      <td>8</td>\n",
              "      <td>21 to 35</td>\n",
              "      <td>1</td>\n",
              "      <td>714.9</td>\n",
              "    </tr>\n",
              "    <tr>\n",
              "      <th>15969</th>\n",
              "      <td>4</td>\n",
              "      <td>3</td>\n",
              "      <td>0</td>\n",
              "      <td>10</td>\n",
              "      <td>10</td>\n",
              "      <td>8</td>\n",
              "      <td>6</td>\n",
              "      <td>5</td>\n",
              "      <td>1</td>\n",
              "      <td>7</td>\n",
              "      <td>...</td>\n",
              "      <td>7</td>\n",
              "      <td>0</td>\n",
              "      <td>1</td>\n",
              "      <td>2</td>\n",
              "      <td>10</td>\n",
              "      <td>1</td>\n",
              "      <td>10</td>\n",
              "      <td>21 to 35</td>\n",
              "      <td>0</td>\n",
              "      <td>716.6</td>\n",
              "    </tr>\n",
              "    <tr>\n",
              "      <th>15970</th>\n",
              "      <td>1</td>\n",
              "      <td>1</td>\n",
              "      <td>10</td>\n",
              "      <td>8</td>\n",
              "      <td>2</td>\n",
              "      <td>7</td>\n",
              "      <td>3</td>\n",
              "      <td>2</td>\n",
              "      <td>1</td>\n",
              "      <td>6</td>\n",
              "      <td>...</td>\n",
              "      <td>8</td>\n",
              "      <td>7</td>\n",
              "      <td>2</td>\n",
              "      <td>2</td>\n",
              "      <td>1</td>\n",
              "      <td>6</td>\n",
              "      <td>8</td>\n",
              "      <td>21 to 35</td>\n",
              "      <td>1</td>\n",
              "      <td>682.0</td>\n",
              "    </tr>\n",
              "    <tr>\n",
              "      <th>15971</th>\n",
              "      <td>5</td>\n",
              "      <td>4</td>\n",
              "      <td>0</td>\n",
              "      <td>2</td>\n",
              "      <td>10</td>\n",
              "      <td>10</td>\n",
              "      <td>5</td>\n",
              "      <td>1</td>\n",
              "      <td>2</td>\n",
              "      <td>7</td>\n",
              "      <td>...</td>\n",
              "      <td>8</td>\n",
              "      <td>5</td>\n",
              "      <td>2</td>\n",
              "      <td>2</td>\n",
              "      <td>1</td>\n",
              "      <td>8</td>\n",
              "      <td>4</td>\n",
              "      <td>21 to 35</td>\n",
              "      <td>1</td>\n",
              "      <td>651.4</td>\n",
              "    </tr>\n",
              "  </tbody>\n",
              "</table>\n",
              "<p>5 rows × 23 columns</p>\n",
              "</div>\n",
              "      <button class=\"colab-df-convert\" onclick=\"convertToInteractive('df-3cfd6206-2088-47f0-81e1-4dc9fa0198b8')\"\n",
              "              title=\"Convert this dataframe to an interactive table.\"\n",
              "              style=\"display:none;\">\n",
              "        \n",
              "  <svg xmlns=\"http://www.w3.org/2000/svg\" height=\"24px\"viewBox=\"0 0 24 24\"\n",
              "       width=\"24px\">\n",
              "    <path d=\"M0 0h24v24H0V0z\" fill=\"none\"/>\n",
              "    <path d=\"M18.56 5.44l.94 2.06.94-2.06 2.06-.94-2.06-.94-.94-2.06-.94 2.06-2.06.94zm-11 1L8.5 8.5l.94-2.06 2.06-.94-2.06-.94L8.5 2.5l-.94 2.06-2.06.94zm10 10l.94 2.06.94-2.06 2.06-.94-2.06-.94-.94-2.06-.94 2.06-2.06.94z\"/><path d=\"M17.41 7.96l-1.37-1.37c-.4-.4-.92-.59-1.43-.59-.52 0-1.04.2-1.43.59L10.3 9.45l-7.72 7.72c-.78.78-.78 2.05 0 2.83L4 21.41c.39.39.9.59 1.41.59.51 0 1.02-.2 1.41-.59l7.78-7.78 2.81-2.81c.8-.78.8-2.07 0-2.86zM5.41 20L4 18.59l7.72-7.72 1.47 1.35L5.41 20z\"/>\n",
              "  </svg>\n",
              "      </button>\n",
              "      \n",
              "  <style>\n",
              "    .colab-df-container {\n",
              "      display:flex;\n",
              "      flex-wrap:wrap;\n",
              "      gap: 12px;\n",
              "    }\n",
              "\n",
              "    .colab-df-convert {\n",
              "      background-color: #E8F0FE;\n",
              "      border: none;\n",
              "      border-radius: 50%;\n",
              "      cursor: pointer;\n",
              "      display: none;\n",
              "      fill: #1967D2;\n",
              "      height: 32px;\n",
              "      padding: 0 0 0 0;\n",
              "      width: 32px;\n",
              "    }\n",
              "\n",
              "    .colab-df-convert:hover {\n",
              "      background-color: #E2EBFA;\n",
              "      box-shadow: 0px 1px 2px rgba(60, 64, 67, 0.3), 0px 1px 3px 1px rgba(60, 64, 67, 0.15);\n",
              "      fill: #174EA6;\n",
              "    }\n",
              "\n",
              "    [theme=dark] .colab-df-convert {\n",
              "      background-color: #3B4455;\n",
              "      fill: #D2E3FC;\n",
              "    }\n",
              "\n",
              "    [theme=dark] .colab-df-convert:hover {\n",
              "      background-color: #434B5C;\n",
              "      box-shadow: 0px 1px 3px 1px rgba(0, 0, 0, 0.15);\n",
              "      filter: drop-shadow(0px 1px 2px rgba(0, 0, 0, 0.3));\n",
              "      fill: #FFFFFF;\n",
              "    }\n",
              "  </style>\n",
              "\n",
              "      <script>\n",
              "        const buttonEl =\n",
              "          document.querySelector('#df-3cfd6206-2088-47f0-81e1-4dc9fa0198b8 button.colab-df-convert');\n",
              "        buttonEl.style.display =\n",
              "          google.colab.kernel.accessAllowed ? 'block' : 'none';\n",
              "\n",
              "        async function convertToInteractive(key) {\n",
              "          const element = document.querySelector('#df-3cfd6206-2088-47f0-81e1-4dc9fa0198b8');\n",
              "          const dataTable =\n",
              "            await google.colab.kernel.invokeFunction('convertToInteractive',\n",
              "                                                     [key], {});\n",
              "          if (!dataTable) return;\n",
              "\n",
              "          const docLinkHtml = 'Like what you see? Visit the ' +\n",
              "            '<a target=\"_blank\" href=https://colab.research.google.com/notebooks/data_table.ipynb>data table notebook</a>'\n",
              "            + ' to learn more about interactive tables.';\n",
              "          element.innerHTML = '';\n",
              "          dataTable['output_type'] = 'display_data';\n",
              "          await google.colab.output.renderOutput(dataTable, element);\n",
              "          const docLink = document.createElement('div');\n",
              "          docLink.innerHTML = docLinkHtml;\n",
              "          element.appendChild(docLink);\n",
              "        }\n",
              "      </script>\n",
              "    </div>\n",
              "  </div>\n",
              "  "
            ]
          },
          "metadata": {},
          "execution_count": 19
        }
      ]
    },
    {
      "cell_type": "markdown",
      "source": [
        "Finding unique value in non-integer columns"
      ],
      "metadata": {
        "id": "eaSrNmJ_UPOz"
      }
    },
    {
      "cell_type": "code",
      "source": [
        "print(df['AGE'].unique())\n",
        "print(\"Unique value from daily_stress column is:\"+df['DAILY_STRESS'].unique())"
      ],
      "metadata": {
        "colab": {
          "base_uri": "https://localhost:8080/"
        },
        "id": "NzKn65RCTLQb",
        "outputId": "4c042429-19f5-4b70-a2f7-5cb7d0cbdd5d"
      },
      "execution_count": null,
      "outputs": [
        {
          "output_type": "stream",
          "name": "stdout",
          "text": [
            "['36 to 50' '51 or more' '21 to 35' 'Less than 20']\n",
            "['Unique value from daily_stress column is:3'\n",
            " 'Unique value from daily_stress column is:1'\n",
            " 'Unique value from daily_stress column is:5'\n",
            " 'Unique value from daily_stress column is:2'\n",
            " 'Unique value from daily_stress column is:4'\n",
            " 'Unique value from daily_stress column is:0']\n"
          ]
        }
      ]
    },
    {
      "cell_type": "markdown",
      "source": [
        "Changing the DAILY_STRESS value to integer "
      ],
      "metadata": {
        "id": "mjQxBWLviHlp"
      }
    },
    {
      "cell_type": "code",
      "source": [
        "df['DAILY_STRESS'].replace('0', 0, inplace=True)\n",
        "df['DAILY_STRESS'].replace('1', 1, inplace=True)\n",
        "df['DAILY_STRESS'].replace('2', 2, inplace=True)\n",
        "df['DAILY_STRESS'].replace('3', 3, inplace=True)\n",
        "df['DAILY_STRESS'].replace('4', 4, inplace=True)\n",
        "df['DAILY_STRESS'].replace('5', 5, inplace=True)\n",
        "\n",
        "print(df['DAILY_STRESS'].unique())"
      ],
      "metadata": {
        "colab": {
          "base_uri": "https://localhost:8080/"
        },
        "id": "GeqY_s1ciN3Q",
        "outputId": "00cc4639-a281-4d3d-8946-24344b443d5d"
      },
      "execution_count": null,
      "outputs": [
        {
          "output_type": "stream",
          "name": "stdout",
          "text": [
            "[3 1 5 2 4 0]\n"
          ]
        }
      ]
    },
    {
      "cell_type": "markdown",
      "source": [
        "One hot encoding the age column"
      ],
      "metadata": {
        "id": "oSTAMiQWVE4K"
      }
    },
    {
      "cell_type": "code",
      "source": [
        "age_one_hot_encoded = pd.get_dummies(df['AGE'])\n",
        "df_encoded = pd.concat([df, age_one_hot_encoded], axis=1)"
      ],
      "metadata": {
        "id": "Sf7nc-5_UZ49"
      },
      "execution_count": null,
      "outputs": []
    },
    {
      "cell_type": "markdown",
      "source": [
        "Drop the uneeded column"
      ],
      "metadata": {
        "id": "rwahi8MpVGRy"
      }
    },
    {
      "cell_type": "code",
      "source": [
        "#drop the age column\n",
        "df_encoded= df_encoded.drop('AGE', axis=1)\n",
        "\n",
        "print(df_encoded.dtypes)\n"
      ],
      "metadata": {
        "colab": {
          "base_uri": "https://localhost:8080/"
        },
        "id": "fJ-QeRG6VRpS",
        "outputId": "4a7d1888-1697-46f5-9d52-eb609b5b940c"
      },
      "execution_count": null,
      "outputs": [
        {
          "output_type": "stream",
          "name": "stdout",
          "text": [
            "FRUITS_VEGGIES               int64\n",
            "DAILY_STRESS                 int64\n",
            "PLACES_VISITED               int64\n",
            "CORE_CIRCLE                  int64\n",
            "SUPPORTING_OTHERS            int64\n",
            "SOCIAL_NETWORK               int64\n",
            "ACHIEVEMENT                  int64\n",
            "DONATION                     int64\n",
            "BMI_RANGE                    int64\n",
            "TODO_COMPLETED               int64\n",
            "FLOW                         int64\n",
            "DAILY_STEPS                  int64\n",
            "LIVE_VISION                  int64\n",
            "SLEEP_HOURS                  int64\n",
            "LOST_VACATION                int64\n",
            "DAILY_SHOUTING               int64\n",
            "SUFFICIENT_INCOME            int64\n",
            "PERSONAL_AWARDS              int64\n",
            "TIME_FOR_PASSION             int64\n",
            "WEEKLY_MEDITATION            int64\n",
            "GENDER                       int64\n",
            "WORK_LIFE_BALANCE_SCORE    float64\n",
            "21 to 35                     uint8\n",
            "36 to 50                     uint8\n",
            "51 or more                   uint8\n",
            "Less than 20                 uint8\n",
            "dtype: object\n"
          ]
        }
      ]
    },
    {
      "cell_type": "markdown",
      "source": [
        "Move the target label to the last column"
      ],
      "metadata": {
        "id": "DBUdWVGZyVLS"
      }
    },
    {
      "cell_type": "code",
      "source": [
        "column_to_move = 'WORK_LIFE_BALANCE_SCORE'\n",
        "moved_column = df_encoded.pop(column_to_move)\n",
        "df_encoded = df_encoded.assign(WORK_LIFE_BALANCE_SCORE=moved_column)\n",
        "print(df_encoded.dtypes)"
      ],
      "metadata": {
        "colab": {
          "base_uri": "https://localhost:8080/"
        },
        "id": "x0pSpsAEyYPx",
        "outputId": "780912cb-4403-4c68-cfe2-c5817cab18c1"
      },
      "execution_count": null,
      "outputs": [
        {
          "output_type": "stream",
          "name": "stdout",
          "text": [
            "FRUITS_VEGGIES               int64\n",
            "DAILY_STRESS                 int64\n",
            "PLACES_VISITED               int64\n",
            "CORE_CIRCLE                  int64\n",
            "SUPPORTING_OTHERS            int64\n",
            "SOCIAL_NETWORK               int64\n",
            "ACHIEVEMENT                  int64\n",
            "DONATION                     int64\n",
            "BMI_RANGE                    int64\n",
            "TODO_COMPLETED               int64\n",
            "FLOW                         int64\n",
            "DAILY_STEPS                  int64\n",
            "LIVE_VISION                  int64\n",
            "SLEEP_HOURS                  int64\n",
            "LOST_VACATION                int64\n",
            "DAILY_SHOUTING               int64\n",
            "SUFFICIENT_INCOME            int64\n",
            "PERSONAL_AWARDS              int64\n",
            "TIME_FOR_PASSION             int64\n",
            "WEEKLY_MEDITATION            int64\n",
            "GENDER                       int64\n",
            "21 to 35                     uint8\n",
            "36 to 50                     uint8\n",
            "51 or more                   uint8\n",
            "Less than 20                 uint8\n",
            "WORK_LIFE_BALANCE_SCORE    float64\n",
            "dtype: object\n"
          ]
        }
      ]
    },
    {
      "cell_type": "code",
      "source": [
        "#check corelation between age and work life balance score\n",
        "import scipy.stats as stats\n",
        "\n",
        "stats.pointbiserialr(df_encoded[\"GENDER\"],df_encoded[\"WORK_LIFE_BALANCE_SCORE\"])"
      ],
      "metadata": {
        "id": "fv38e9TDa1Hw",
        "colab": {
          "base_uri": "https://localhost:8080/"
        },
        "outputId": "684b9be1-36ee-4a80-eed8-234ad6e95c2c"
      },
      "execution_count": null,
      "outputs": [
        {
          "output_type": "execute_result",
          "data": {
            "text/plain": [
              "SignificanceResult(statistic=0.008379678719509938, pvalue=0.872373985262232)"
            ]
          },
          "metadata": {},
          "execution_count": 25
        }
      ]
    },
    {
      "cell_type": "markdown",
      "source": [
        "Because the p-value is no less than .05, this correlation is not statistically significant"
      ],
      "metadata": {
        "id": "2EcLUOIemGhR"
      }
    },
    {
      "cell_type": "markdown",
      "source": [
        "Checking if the WORK_LIFE_BALANCE data is normally distributed"
      ],
      "metadata": {
        "id": "iBF_h6ivmt1h"
      }
    },
    {
      "cell_type": "code",
      "source": [
        "from scipy.stats import shapiro \n",
        "\n",
        "shapiro(df_encoded[\"WORK_LIFE_BALANCE_SCORE\"])"
      ],
      "metadata": {
        "colab": {
          "base_uri": "https://localhost:8080/"
        },
        "id": "3s8w_XbcmtaS",
        "outputId": "4d038a32-499b-47d8-c87c-5e86c4e46af4"
      },
      "execution_count": null,
      "outputs": [
        {
          "output_type": "execute_result",
          "data": {
            "text/plain": [
              "ShapiroResult(statistic=0.9943022131919861, pvalue=0.18352697789669037)"
            ]
          },
          "metadata": {},
          "execution_count": 26
        }
      ]
    },
    {
      "cell_type": "markdown",
      "source": [
        "Since in the above example, the p-value is 0.18 which is more than the threshold(0.05) which is the alpha(0.05) then we fail to reject the null hypothesis i.e. we do not have sufficient evidence to say that sample does not come from a normal distribution."
      ],
      "metadata": {
        "id": "dLPEUKmUnCCD"
      }
    },
    {
      "cell_type": "markdown",
      "source": [
        "Perform Feature Selection by using f regression"
      ],
      "metadata": {
        "id": "I2VEJwYMvaWZ"
      }
    },
    {
      "cell_type": "code",
      "source": [
        "from sklearn.feature_selection import SelectKBest\n",
        "from sklearn.feature_selection import f_regression\n",
        "from sklearn.model_selection import train_test_split\n",
        "from matplotlib import pyplot\n",
        "\n",
        "X = df_encoded.iloc[:, :-1]\n",
        "Y = df_encoded.iloc[:,-1]\n",
        "\n",
        "X_train, X_val_and_test, Y_train, Y_val_and_test = train_test_split(X, Y, test_size=0.2)\n",
        "X_val, X_test, Y_val, Y_test = train_test_split(X_val_and_test, Y_val_and_test, test_size=0.5)\n",
        "print(X.shape)\n",
        "print(Y)"
      ],
      "metadata": {
        "colab": {
          "base_uri": "https://localhost:8080/"
        },
        "id": "z4r7843ivj3C",
        "outputId": "b5638f0e-1a28-432e-f02a-2117480ad1e2"
      },
      "execution_count": null,
      "outputs": [
        {
          "output_type": "stream",
          "name": "stdout",
          "text": [
            "(370, 25)\n",
            "15601    696.4\n",
            "15602    591.9\n",
            "15603    749.5\n",
            "15604    645.9\n",
            "15605    659.4\n",
            "         ...  \n",
            "15967    644.5\n",
            "15968    714.9\n",
            "15969    716.6\n",
            "15970    682.0\n",
            "15971    651.4\n",
            "Name: WORK_LIFE_BALANCE_SCORE, Length: 370, dtype: float64\n"
          ]
        }
      ]
    },
    {
      "cell_type": "code",
      "source": [
        "fs = SelectKBest(score_func=f_regression, k='all')\n",
        "fs.fit(X_train,Y_train)\n",
        "X_train_fs = fs.transform(X_train)\n",
        "X_test_fs = fs.transform(X_test)\n",
        "\n",
        "for i in range(len(fs.scores_)):\n",
        " print('Feature %d: %f' % (i, fs.scores_[i]))\n",
        "# plot the scores\n",
        "pyplot.bar([i for i in range(len(fs.scores_))], fs.scores_)\n",
        "pyplot.show()"
      ],
      "metadata": {
        "id": "aEt1LaTFvcVy",
        "colab": {
          "base_uri": "https://localhost:8080/",
          "height": 864
        },
        "outputId": "f039b9f7-b8f6-4fb1-8be1-16dbcd44d995"
      },
      "execution_count": null,
      "outputs": [
        {
          "output_type": "stream",
          "name": "stdout",
          "text": [
            "Feature 0: 92.647387\n",
            "Feature 1: 31.817707\n",
            "Feature 2: 109.722013\n",
            "Feature 3: 108.230919\n",
            "Feature 4: 182.378703\n",
            "Feature 5: 93.939464\n",
            "Feature 6: 94.107504\n",
            "Feature 7: 91.568888\n",
            "Feature 8: 6.313020\n",
            "Feature 9: 125.024956\n",
            "Feature 10: 103.373682\n",
            "Feature 11: 88.420482\n",
            "Feature 12: 59.593833\n",
            "Feature 13: 4.689795\n",
            "Feature 14: 26.716350\n",
            "Feature 15: 9.572978\n",
            "Feature 16: 61.607303\n",
            "Feature 17: 123.054900\n",
            "Feature 18: 139.121897\n",
            "Feature 19: 62.175011\n",
            "Feature 20: 0.326833\n",
            "Feature 21: 4.492215\n",
            "Feature 22: 0.010433\n",
            "Feature 23: 7.439621\n",
            "Feature 24: 1.148860\n"
          ]
        },
        {
          "output_type": "display_data",
          "data": {
            "text/plain": [
              "<Figure size 640x480 with 1 Axes>"
            ],
            "image/png": "[encoded data removed]"
          },
          "metadata": {}
        }
      ]
    },
    {
      "cell_type": "markdown",
      "source": [
        "Features that correlated at the most with WORK_LIFE_BALANCE_SCORE :\n",
        "1. Feature 4  = SUPPORTING_OTHERS\n",
        "2. Feature 17 = PERSONAL_AWARDS \n",
        "3. Feature 18 = TIME_FOR_PASSION\n",
        "4. Feature 9  = TODO_COMPLETED"
      ],
      "metadata": {
        "id": "ket-_JgAeOft"
      }
    },
    {
      "cell_type": "code",
      "source": [
        "#Creating new dataset by using the column that are highly correlated \n",
        "selected_columns = ['SUPPORTING_OTHERS', 'TIME_FOR_PASSION', 'TODO_COMPLETED', 'PERSONAL_AWARDS', 'WORK_LIFE_BALANCE_SCORE']\n",
        "new_df = df_encoded[selected_columns]\n",
        "null_counts = new_df.isnull().sum()\n",
        "print(null_counts)"
      ],
      "metadata": {
        "colab": {
          "base_uri": "https://localhost:8080/"
        },
        "id": "TbxcFVLTY0WW",
        "outputId": "128e137c-d8ff-4c93-91c6-1a232ee97907"
      },
      "execution_count": null,
      "outputs": [
        {
          "output_type": "stream",
          "name": "stdout",
          "text": [
            "SUPPORTING_OTHERS          0\n",
            "TIME_FOR_PASSION           0\n",
            "TODO_COMPLETED             0\n",
            "PERSONAL_AWARDS            0\n",
            "WORK_LIFE_BALANCE_SCORE    0\n",
            "dtype: int64\n"
          ]
        }
      ]
    },
    {
      "cell_type": "code",
      "source": [
        "print(new_df.head(3))"
      ],
      "metadata": {
        "colab": {
          "base_uri": "https://localhost:8080/"
        },
        "id": "FyN6qrIRKBgc",
        "outputId": "221d72d5-38b8-4b13-b32b-1d7f2569f598"
      },
      "execution_count": null,
      "outputs": [
        {
          "output_type": "stream",
          "name": "stdout",
          "text": [
            "       SUPPORTING_OTHERS  TIME_FOR_PASSION  TODO_COMPLETED  PERSONAL_AWARDS  \\\n",
            "15601                  8                 3               7                4   \n",
            "15602                  0                 1               1                3   \n",
            "15603                 10                 8               9               10   \n",
            "\n",
            "       WORK_LIFE_BALANCE_SCORE  \n",
            "15601                    696.4  \n",
            "15602                    591.9  \n",
            "15603                    749.5  \n"
          ]
        }
      ]
    },
    {
      "cell_type": "code",
      "source": [
        "print(new_df.max())"
      ],
      "metadata": {
        "colab": {
          "base_uri": "https://localhost:8080/"
        },
        "id": "fb9Uax5tAKzS",
        "outputId": "60092c51-33f1-4d8b-9c21-7e68cc64dce3"
      },
      "execution_count": null,
      "outputs": [
        {
          "output_type": "stream",
          "name": "stdout",
          "text": [
            "SUPPORTING_OTHERS           10.0\n",
            "TIME_FOR_PASSION            10.0\n",
            "TODO_COMPLETED              10.0\n",
            "PERSONAL_AWARDS             10.0\n",
            "WORK_LIFE_BALANCE_SCORE    790.5\n",
            "dtype: float64\n"
          ]
        }
      ]
    },
    {
      "cell_type": "code",
      "source": [
        "print(new_df.min())"
      ],
      "metadata": {
        "colab": {
          "base_uri": "https://localhost:8080/"
        },
        "id": "NZxfIuDnAQxD",
        "outputId": "6e207e4e-e403-4797-d533-44fff01ce54c"
      },
      "execution_count": null,
      "outputs": [
        {
          "output_type": "stream",
          "name": "stdout",
          "text": [
            "SUPPORTING_OTHERS            0.0\n",
            "TIME_FOR_PASSION             0.0\n",
            "TODO_COMPLETED               0.0\n",
            "PERSONAL_AWARDS              0.0\n",
            "WORK_LIFE_BALANCE_SCORE    550.3\n",
            "dtype: float64\n"
          ]
        }
      ]
    },
    {
      "cell_type": "code",
      "source": [
        "print(new_df.shape)"
      ],
      "metadata": {
        "colab": {
          "base_uri": "https://localhost:8080/"
        },
        "id": "v-rxKAjHeorw",
        "outputId": "65b21e29-b575-4399-cdee-32e56756edf1"
      },
      "execution_count": null,
      "outputs": [
        {
          "output_type": "stream",
          "name": "stdout",
          "text": [
            "(370, 5)\n"
          ]
        }
      ]
    },
    {
      "cell_type": "markdown",
      "source": [
        "Preprocessing the data\n"
      ],
      "metadata": {
        "id": "Z23eI01yg1Tc"
      }
    },
    {
      "cell_type": "code",
      "source": [
        "X = new_df.iloc[:, :-1]\n",
        "Y = new_df.iloc[:,-1]\n",
        "\n",
        "X_train, X_val_and_test, Y_train, Y_val_and_test = train_test_split(X, Y, test_size=0.2,random_state=100)\n",
        "X_val, X_test, Y_val, Y_test = train_test_split(X_val_and_test, Y_val_and_test, test_size=0.5, random_state=100)\n",
        "print(X_test)\n",
        "print(Y_test)\n"
      ],
      "metadata": {
        "id": "kpqOLKKKfWJd",
        "colab": {
          "base_uri": "https://localhost:8080/"
        },
        "outputId": "e86c36aa-6da2-495b-98de-8c20147e9163"
      },
      "execution_count": null,
      "outputs": [
        {
          "output_type": "stream",
          "name": "stdout",
          "text": [
            "       SUPPORTING_OTHERS  TIME_FOR_PASSION  TODO_COMPLETED  PERSONAL_AWARDS\n",
            "15606                  2                 2               8                6\n",
            "15807                 10                 2               7                4\n",
            "15866                  3                 4              10                7\n",
            "15922                  1                 0               3                5\n",
            "15950                 10                 9               6               10\n",
            "15741                  4                 0               2                2\n",
            "15619                  4                 1              10               10\n",
            "15837                 10                 8               8                5\n",
            "15759                  2                 3               3                7\n",
            "15750                 10                 2               8                6\n",
            "15665                  7                 9               7                6\n",
            "15766                  7                 2               9                2\n",
            "15622                 10                 5               6               10\n",
            "15704                 10                 8              10               10\n",
            "15670                  3                 1               5                4\n",
            "15644                 10                 8               9               10\n",
            "15939                  7                 4               5                7\n",
            "15844                 10                 8               7               10\n",
            "15833                 10                 1               5                7\n",
            "15607                 10                 2               5                3\n",
            "15838                  5                 5               2                2\n",
            "15928                 10                 2               7                7\n",
            "15602                  0                 1               1                3\n",
            "15719                  8                 2               8                6\n",
            "15946                  4                 4              10                8\n",
            "15898                  9                 4              10               10\n",
            "15780                  2                 2               2               10\n",
            "15697                  0                 0               1                2\n",
            "15869                  5                 3               9               10\n",
            "15721                  6                 1               6                6\n",
            "15831                  6                 5               6                4\n",
            "15832                  5                 2              10               10\n",
            "15676                  2                 0               0                5\n",
            "15647                  9                 0               2                3\n",
            "15657                  8                 4               7               10\n",
            "15883                  3                 0               3                4\n",
            "15953                 10                 8               9               10\n",
            "15606    643.7\n",
            "15807    691.1\n",
            "15866    670.0\n",
            "15922    604.4\n",
            "15950    731.2\n",
            "15741    600.8\n",
            "15619    682.6\n",
            "15837    680.7\n",
            "15759    615.0\n",
            "15750    694.7\n",
            "15665    667.5\n",
            "15766    664.9\n",
            "15622    690.9\n",
            "15704    722.7\n",
            "15670    627.8\n",
            "15644    682.4\n",
            "15939    651.1\n",
            "15844    672.2\n",
            "15833    653.2\n",
            "15607    674.3\n",
            "15838    657.3\n",
            "15928    664.9\n",
            "15602    591.9\n",
            "15719    690.6\n",
            "15946    694.5\n",
            "15898    738.0\n",
            "15780    654.6\n",
            "15697    553.9\n",
            "15869    720.8\n",
            "15721    701.9\n",
            "15831    636.7\n",
            "15832    634.7\n",
            "15676    566.8\n",
            "15647    616.9\n",
            "15657    704.9\n",
            "15883    664.7\n",
            "15953    790.5\n",
            "Name: WORK_LIFE_BALANCE_SCORE, dtype: float64\n"
          ]
        }
      ]
    },
    {
      "cell_type": "markdown",
      "source": [
        "Using Random Forest Regression for the baseline error of the model\n"
      ],
      "metadata": {
        "id": "FPAhyJcZ2ky1"
      }
    },
    {
      "cell_type": "code",
      "source": [
        "from sklearn.ensemble import RandomForestRegressor\n",
        "rf = RandomForestRegressor()\n",
        "rf.fit(X_train, Y_train)"
      ],
      "metadata": {
        "colab": {
          "base_uri": "https://localhost:8080/",
          "height": 74
        },
        "id": "G6azRtx_2hU8",
        "outputId": "53cd40a9-5b1d-499e-b1d3-d4d778e27bab"
      },
      "execution_count": null,
      "outputs": [
        {
          "output_type": "execute_result",
          "data": {
            "text/plain": [
              "RandomForestRegressor()"
            ],
            "text/html": [
              "<style>#sk-container-id-1 {color: black;background-color: white;}#sk-container-id-1 pre{padding: 0;}#sk-container-id-1 div.sk-toggleable {background-color: white;}#sk-container-id-1 label.sk-toggleable__label {cursor: pointer;display: block;width: 100%;margin-bottom: 0;padding: 0.3em;box-sizing: border-box;text-align: center;}#sk-container-id-1 label.sk-toggleable__label-arrow:before {content: \"▸\";float: left;margin-right: 0.25em;color: #696969;}#sk-container-id-1 label.sk-toggleable__label-arrow:hover:before {color: black;}#sk-container-id-1 div.sk-estimator:hover label.sk-toggleable__label-arrow:before {color: black;}#sk-container-id-1 div.sk-toggleable__content {max-height: 0;max-width: 0;overflow: hidden;text-align: left;background-color: #f0f8ff;}#sk-container-id-1 div.sk-toggleable__content pre {margin: 0.2em;color: black;border-radius: 0.25em;background-color: #f0f8ff;}#sk-container-id-1 input.sk-toggleable__control:checked~div.sk-toggleable__content {max-height: 200px;max-width: 100%;overflow: auto;}#sk-container-id-1 input.sk-toggleable__control:checked~label.sk-toggleable__label-arrow:before {content: \"▾\";}#sk-container-id-1 div.sk-estimator input.sk-toggleable__control:checked~label.sk-toggleable__label {background-color: #d4ebff;}#sk-container-id-1 div.sk-label input.sk-toggleable__control:checked~label.sk-toggleable__label {background-color: #d4ebff;}#sk-container-id-1 input.sk-hidden--visually {border: 0;clip: rect(1px 1px 1px 1px);clip: rect(1px, 1px, 1px, 1px);height: 1px;margin: -1px;overflow: hidden;padding: 0;position: absolute;width: 1px;}#sk-container-id-1 div.sk-estimator {font-family: monospace;background-color: #f0f8ff;border: 1px dotted black;border-radius: 0.25em;box-sizing: border-box;margin-bottom: 0.5em;}#sk-container-id-1 div.sk-estimator:hover {background-color: #d4ebff;}#sk-container-id-1 div.sk-parallel-item::after {content: \"\";width: 100%;border-bottom: 1px solid gray;flex-grow: 1;}#sk-container-id-1 div.sk-label:hover label.sk-toggleable__label {background-color: #d4ebff;}#sk-container-id-1 div.sk-serial::before {content: \"\";position: absolute;border-left: 1px solid gray;box-sizing: border-box;top: 0;bottom: 0;left: 50%;z-index: 0;}#sk-container-id-1 div.sk-serial {display: flex;flex-direction: column;align-items: center;background-color: white;padding-right: 0.2em;padding-left: 0.2em;position: relative;}#sk-container-id-1 div.sk-item {position: relative;z-index: 1;}#sk-container-id-1 div.sk-parallel {display: flex;align-items: stretch;justify-content: center;background-color: white;position: relative;}#sk-container-id-1 div.sk-item::before, #sk-container-id-1 div.sk-parallel-item::before {content: \"\";position: absolute;border-left: 1px solid gray;box-sizing: border-box;top: 0;bottom: 0;left: 50%;z-index: -1;}#sk-container-id-1 div.sk-parallel-item {display: flex;flex-direction: column;z-index: 1;position: relative;background-color: white;}#sk-container-id-1 div.sk-parallel-item:first-child::after {align-self: flex-end;width: 50%;}#sk-container-id-1 div.sk-parallel-item:last-child::after {align-self: flex-start;width: 50%;}#sk-container-id-1 div.sk-parallel-item:only-child::after {width: 0;}#sk-container-id-1 div.sk-dashed-wrapped {border: 1px dashed gray;margin: 0 0.4em 0.5em 0.4em;box-sizing: border-box;padding-bottom: 0.4em;background-color: white;}#sk-container-id-1 div.sk-label label {font-family: monospace;font-weight: bold;display: inline-block;line-height: 1.2em;}#sk-container-id-1 div.sk-label-container {text-align: center;}#sk-container-id-1 div.sk-container {/* jupyter's `normalize.less` sets `[hidden] { display: none; }` but bootstrap.min.css set `[hidden] { display: none !important; }` so we also need the `!important` here to be able to override the default hidden behavior on the sphinx rendered scikit-learn.org. See: https://github.com/scikit-learn/scikit-learn/issues/21755 */display: inline-block !important;position: relative;}#sk-container-id-1 div.sk-text-repr-fallback {display: none;}</style><div id=\"sk-container-id-1\" class=\"sk-top-container\"><div class=\"sk-text-repr-fallback\"><pre>RandomForestRegressor()</pre><b>In a Jupyter environment, please rerun this cell to show the HTML representation or trust the notebook. <br />On GitHub, the HTML representation is unable to render, please try loading this page with nbviewer.org.</b></div><div class=\"sk-container\" hidden><div class=\"sk-item\"><div class=\"sk-estimator sk-toggleable\"><input class=\"sk-toggleable__control sk-hidden--visually\" id=\"sk-estimator-id-1\" type=\"checkbox\" checked><label for=\"sk-estimator-id-1\" class=\"sk-toggleable__label sk-toggleable__label-arrow\">RandomForestRegressor</label><div class=\"sk-toggleable__content\"><pre>RandomForestRegressor()</pre></div></div></div></div></div>"
            ]
          },
          "metadata": {},
          "execution_count": 35
        }
      ]
    },
    {
      "cell_type": "code",
      "source": [
        "from sklearn.metrics import mean_squared_error\n",
        "Y_pred = rf.predict(X_test)\n",
        "baseline = np.sqrt(mean_squared_error(Y_test,Y_pred))\n",
        "print(\"The baseline for the root mean square error of the model is \"+str(baseline))\n"
      ],
      "metadata": {
        "colab": {
          "base_uri": "https://localhost:8080/"
        },
        "id": "CFa3nOCO3Jd0",
        "outputId": "64b7b98c-27f1-46db-de1f-8b425b3f428b"
      },
      "execution_count": null,
      "outputs": [
        {
          "output_type": "stream",
          "name": "stdout",
          "text": [
            "The baseline for the root mean square error of the model is 28.142970804960473\n"
          ]
        }
      ]
    },
    {
      "cell_type": "code",
      "source": [
        "!pip install sklearn-json\n"
      ],
      "metadata": {
        "colab": {
          "base_uri": "https://localhost:8080/"
        },
        "id": "6GqiAePjxVsv",
        "outputId": "da4259b0-7f20-4d80-b4ab-1445fe547882"
      },
      "execution_count": null,
      "outputs": [
        {
          "output_type": "stream",
          "name": "stdout",
          "text": [
            "Looking in indexes: https://pypi.org/simple, https://us-python.pkg.dev/colab-wheels/public/simple/\n",
            "Collecting sklearn-json\n",
            "  Downloading sklearn_json-0.1.0-py3-none-any.whl (12 kB)\n",
            "Requirement already satisfied: scikit-learn>=0.21.3 in /usr/local/lib/python3.10/dist-packages (from sklearn-json) (1.2.2)\n",
            "Requirement already satisfied: numpy>=1.17.3 in /usr/local/lib/python3.10/dist-packages (from scikit-learn>=0.21.3->sklearn-json) (1.22.4)\n",
            "Requirement already satisfied: scipy>=1.3.2 in /usr/local/lib/python3.10/dist-packages (from scikit-learn>=0.21.3->sklearn-json) (1.10.1)\n",
            "Requirement already satisfied: joblib>=1.1.1 in /usr/local/lib/python3.10/dist-packages (from scikit-learn>=0.21.3->sklearn-json) (1.2.0)\n",
            "Requirement already satisfied: threadpoolctl>=2.0.0 in /usr/local/lib/python3.10/dist-packages (from scikit-learn>=0.21.3->sklearn-json) (3.1.0)\n",
            "Installing collected packages: sklearn-json\n",
            "Successfully installed sklearn-json-0.1.0\n"
          ]
        }
      ]
    },
    {
      "cell_type": "code",
      "source": [
        "import sklearn_json as skljson\n",
        "import sklearn\n",
        "print(sklearn.__version__)"
      ],
      "metadata": {
        "colab": {
          "base_uri": "https://localhost:8080/"
        },
        "id": "MVAKDa4DxdI2",
        "outputId": "103a1784-1707-4e56-e553-dbf0da12b0cf"
      },
      "execution_count": null,
      "outputs": [
        {
          "output_type": "stream",
          "name": "stdout",
          "text": [
            "1.2.2\n"
          ]
        }
      ]
    },
    {
      "cell_type": "code",
      "source": [
        "import pickle\n",
        "pkl_filename = \"model.pkl\"\n",
        "with open(pkl_filename,'wb') as file:\n",
        "  pickle.dump(rf,file)"
      ],
      "metadata": {
        "id": "wgcRamQTBOCw"
      },
      "execution_count": null,
      "outputs": []
    },
    {
      "cell_type": "markdown",
      "source": [
        "Using Neural Network\n"
      ],
      "metadata": {
        "id": "JyUloZ3jGDo8"
      }
    },
    {
      "cell_type": "code",
      "source": [
        "NN_model = Sequential([\n",
        "    Dense(16),\n",
        "    #Dropout(0.05),\n",
        "    Dense(1)\n",
        "])\n",
        "\n",
        "NN_model.compile(\n",
        "    optimizer=tf.keras.optimizers.Adam(learning_rate=0.01),\n",
        "    loss='mean_absolute_error',\n",
        "    metrics=tf.keras.metrics.RootMeanSquaredError())"
      ],
      "metadata": {
        "id": "iQLjnoDNGDVz"
      },
      "execution_count": null,
      "outputs": []
    },
    {
      "cell_type": "code",
      "source": [
        "history = NN_model.fit(X_train, Y_train, epochs=500,\n",
        "          validation_data=(X_val, Y_val))\n",
        "\n",
        "hist = pd.DataFrame(history.history)\n",
        "hist['epoch'] = history.epoch\n"
      ],
      "metadata": {
        "colab": {
          "base_uri": "https://localhost:8080/"
        },
        "id": "W6BGRjNJGv_c",
        "outputId": "6324cd9d-4a4b-48d5-8b73-c6df7d946fd9"
      },
      "execution_count": null,
      "outputs": [
        {
          "output_type": "stream",
          "name": "stdout",
          "text": [
            "Epoch 1/500\n",
            "10/10 [==============================] - 2s 38ms/step - loss: 650.7092 - root_mean_squared_error: 651.8243 - val_loss: 645.4034 - val_root_mean_squared_error: 646.5257\n",
            "Epoch 2/500\n",
            "10/10 [==============================] - 0s 13ms/step - loss: 629.7233 - root_mean_squared_error: 630.5950 - val_loss: 621.1065 - val_root_mean_squared_error: 621.9952\n",
            "Epoch 3/500\n",
            "10/10 [==============================] - 0s 10ms/step - loss: 601.3211 - root_mean_squared_error: 602.0887 - val_loss: 587.7578 - val_root_mean_squared_error: 588.5161\n",
            "Epoch 4/500\n",
            "10/10 [==============================] - 0s 14ms/step - loss: 562.0198 - root_mean_squared_error: 562.7079 - val_loss: 543.2373 - val_root_mean_squared_error: 544.2269\n",
            "Epoch 5/500\n",
            "10/10 [==============================] - 0s 15ms/step - loss: 510.8515 - root_mean_squared_error: 512.1265 - val_loss: 484.5085 - val_root_mean_squared_error: 486.7086\n",
            "Epoch 6/500\n",
            "10/10 [==============================] - 0s 12ms/step - loss: 442.9186 - root_mean_squared_error: 446.4079 - val_loss: 410.9374 - val_root_mean_squared_error: 416.7094\n",
            "Epoch 7/500\n",
            "10/10 [==============================] - 0s 13ms/step - loss: 360.5392 - root_mean_squared_error: 369.6081 - val_loss: 319.7121 - val_root_mean_squared_error: 335.1107\n",
            "Epoch 8/500\n",
            "10/10 [==============================] - 0s 15ms/step - loss: 259.0384 - root_mean_squared_error: 284.4557 - val_loss: 212.9488 - val_root_mean_squared_error: 253.9420\n",
            "Epoch 9/500\n",
            "10/10 [==============================] - 0s 10ms/step - loss: 174.3338 - root_mean_squared_error: 211.3789 - val_loss: 162.6728 - val_root_mean_squared_error: 207.5612\n",
            "Epoch 10/500\n",
            "10/10 [==============================] - 0s 15ms/step - loss: 154.8606 - root_mean_squared_error: 190.1195 - val_loss: 161.1818 - val_root_mean_squared_error: 201.7814\n",
            "Epoch 11/500\n",
            "10/10 [==============================] - 0s 16ms/step - loss: 157.5003 - root_mean_squared_error: 190.8071 - val_loss: 160.5504 - val_root_mean_squared_error: 201.0600\n",
            "Epoch 12/500\n",
            "10/10 [==============================] - 0s 11ms/step - loss: 154.9993 - root_mean_squared_error: 188.8272 - val_loss: 159.3838 - val_root_mean_squared_error: 201.2063\n",
            "Epoch 13/500\n",
            "10/10 [==============================] - 0s 11ms/step - loss: 152.8456 - root_mean_squared_error: 187.9127 - val_loss: 159.0568 - val_root_mean_squared_error: 203.1402\n",
            "Epoch 14/500\n",
            "10/10 [==============================] - 0s 11ms/step - loss: 152.4541 - root_mean_squared_error: 187.8956 - val_loss: 158.5578 - val_root_mean_squared_error: 202.9185\n",
            "Epoch 15/500\n",
            "10/10 [==============================] - 0s 11ms/step - loss: 150.8855 - root_mean_squared_error: 186.1043 - val_loss: 157.6175 - val_root_mean_squared_error: 200.5869\n",
            "Epoch 16/500\n",
            "10/10 [==============================] - 0s 11ms/step - loss: 150.1237 - root_mean_squared_error: 184.5738 - val_loss: 156.7239 - val_root_mean_squared_error: 198.7908\n",
            "Epoch 17/500\n",
            "10/10 [==============================] - 0s 19ms/step - loss: 149.2467 - root_mean_squared_error: 183.5507 - val_loss: 156.1748 - val_root_mean_squared_error: 198.4817\n",
            "Epoch 18/500\n",
            "10/10 [==============================] - 0s 14ms/step - loss: 148.3524 - root_mean_squared_error: 182.7728 - val_loss: 155.8445 - val_root_mean_squared_error: 198.7082\n",
            "Epoch 19/500\n",
            "10/10 [==============================] - 0s 18ms/step - loss: 147.6018 - root_mean_squared_error: 181.8637 - val_loss: 154.8834 - val_root_mean_squared_error: 196.8532\n",
            "Epoch 20/500\n",
            "10/10 [==============================] - 0s 18ms/step - loss: 146.5716 - root_mean_squared_error: 180.5764 - val_loss: 154.3834 - val_root_mean_squared_error: 196.3590\n",
            "Epoch 21/500\n",
            "10/10 [==============================] - 0s 17ms/step - loss: 145.8013 - root_mean_squared_error: 179.8837 - val_loss: 154.1422 - val_root_mean_squared_error: 196.0282\n",
            "Epoch 22/500\n",
            "10/10 [==============================] - 0s 19ms/step - loss: 145.0199 - root_mean_squared_error: 178.9216 - val_loss: 153.3306 - val_root_mean_squared_error: 194.7865\n",
            "Epoch 23/500\n",
            "10/10 [==============================] - 0s 18ms/step - loss: 144.0494 - root_mean_squared_error: 178.0121 - val_loss: 153.3111 - val_root_mean_squared_error: 194.8332\n",
            "Epoch 24/500\n",
            "10/10 [==============================] - 0s 15ms/step - loss: 143.1872 - root_mean_squared_error: 177.4254 - val_loss: 153.1011 - val_root_mean_squared_error: 194.6509\n",
            "Epoch 25/500\n",
            "10/10 [==============================] - 0s 6ms/step - loss: 142.2959 - root_mean_squared_error: 176.3904 - val_loss: 152.4428 - val_root_mean_squared_error: 193.7018\n",
            "Epoch 26/500\n",
            "10/10 [==============================] - 0s 6ms/step - loss: 141.4662 - root_mean_squared_error: 175.4852 - val_loss: 152.0323 - val_root_mean_squared_error: 193.0697\n",
            "Epoch 27/500\n",
            "10/10 [==============================] - 0s 6ms/step - loss: 140.8056 - root_mean_squared_error: 174.4782 - val_loss: 151.1938 - val_root_mean_squared_error: 191.9133\n",
            "Epoch 28/500\n",
            "10/10 [==============================] - 0s 6ms/step - loss: 139.8248 - root_mean_squared_error: 173.7827 - val_loss: 151.6929 - val_root_mean_squared_error: 192.4303\n",
            "Epoch 29/500\n",
            "10/10 [==============================] - 0s 7ms/step - loss: 139.1782 - root_mean_squared_error: 173.6772 - val_loss: 152.0570 - val_root_mean_squared_error: 192.9368\n",
            "Epoch 30/500\n",
            "10/10 [==============================] - 0s 9ms/step - loss: 138.2321 - root_mean_squared_error: 172.4209 - val_loss: 149.8815 - val_root_mean_squared_error: 190.0322\n",
            "Epoch 31/500\n",
            "10/10 [==============================] - 0s 9ms/step - loss: 137.8510 - root_mean_squared_error: 170.9882 - val_loss: 148.2355 - val_root_mean_squared_error: 188.0000\n",
            "Epoch 32/500\n",
            "10/10 [==============================] - 0s 8ms/step - loss: 136.7304 - root_mean_squared_error: 169.8936 - val_loss: 148.8536 - val_root_mean_squared_error: 188.6312\n",
            "Epoch 33/500\n",
            "10/10 [==============================] - 0s 8ms/step - loss: 135.7522 - root_mean_squared_error: 169.3019 - val_loss: 148.8596 - val_root_mean_squared_error: 188.5894\n",
            "Epoch 34/500\n",
            "10/10 [==============================] - 0s 9ms/step - loss: 134.9387 - root_mean_squared_error: 168.4030 - val_loss: 147.2281 - val_root_mean_squared_error: 186.6151\n",
            "Epoch 35/500\n",
            "10/10 [==============================] - 0s 11ms/step - loss: 134.3439 - root_mean_squared_error: 167.7764 - val_loss: 148.0087 - val_root_mean_squared_error: 187.5106\n",
            "Epoch 36/500\n",
            "10/10 [==============================] - 0s 10ms/step - loss: 133.5546 - root_mean_squared_error: 167.0654 - val_loss: 146.2582 - val_root_mean_squared_error: 185.3628\n",
            "Epoch 37/500\n",
            "10/10 [==============================] - 0s 10ms/step - loss: 132.6049 - root_mean_squared_error: 165.7287 - val_loss: 145.9084 - val_root_mean_squared_error: 184.9046\n",
            "Epoch 38/500\n",
            "10/10 [==============================] - 0s 9ms/step - loss: 131.9161 - root_mean_squared_error: 165.3353 - val_loss: 146.0805 - val_root_mean_squared_error: 185.1357\n",
            "Epoch 39/500\n",
            "10/10 [==============================] - 0s 9ms/step - loss: 131.3043 - root_mean_squared_error: 164.3752 - val_loss: 144.5453 - val_root_mean_squared_error: 183.3167\n",
            "Epoch 40/500\n",
            "10/10 [==============================] - 0s 9ms/step - loss: 130.4701 - root_mean_squared_error: 163.6257 - val_loss: 145.2263 - val_root_mean_squared_error: 184.2480\n",
            "Epoch 41/500\n",
            "10/10 [==============================] - 0s 10ms/step - loss: 129.9765 - root_mean_squared_error: 163.7868 - val_loss: 144.6344 - val_root_mean_squared_error: 183.6198\n",
            "Epoch 42/500\n",
            "10/10 [==============================] - 0s 8ms/step - loss: 129.2149 - root_mean_squared_error: 162.5719 - val_loss: 143.5959 - val_root_mean_squared_error: 182.3251\n",
            "Epoch 43/500\n",
            "10/10 [==============================] - 0s 9ms/step - loss: 128.3846 - root_mean_squared_error: 161.8066 - val_loss: 142.9478 - val_root_mean_squared_error: 181.6205\n",
            "Epoch 44/500\n",
            "10/10 [==============================] - 0s 9ms/step - loss: 127.8028 - root_mean_squared_error: 160.9958 - val_loss: 142.3413 - val_root_mean_squared_error: 180.9222\n",
            "Epoch 45/500\n",
            "10/10 [==============================] - 0s 8ms/step - loss: 127.2080 - root_mean_squared_error: 160.5454 - val_loss: 141.7600 - val_root_mean_squared_error: 180.2034\n",
            "Epoch 46/500\n",
            "10/10 [==============================] - 0s 10ms/step - loss: 126.5939 - root_mean_squared_error: 159.4070 - val_loss: 140.9271 - val_root_mean_squared_error: 179.0036\n",
            "Epoch 47/500\n",
            "10/10 [==============================] - 0s 10ms/step - loss: 126.2311 - root_mean_squared_error: 159.0781 - val_loss: 140.6996 - val_root_mean_squared_error: 178.9732\n",
            "Epoch 48/500\n",
            "10/10 [==============================] - 0s 8ms/step - loss: 125.3927 - root_mean_squared_error: 158.1540 - val_loss: 139.8929 - val_root_mean_squared_error: 177.7845\n",
            "Epoch 49/500\n",
            "10/10 [==============================] - 0s 10ms/step - loss: 125.1269 - root_mean_squared_error: 157.1568 - val_loss: 139.2247 - val_root_mean_squared_error: 176.9947\n",
            "Epoch 50/500\n",
            "10/10 [==============================] - 0s 8ms/step - loss: 124.2339 - root_mean_squared_error: 156.7344 - val_loss: 139.0887 - val_root_mean_squared_error: 177.2894\n",
            "Epoch 51/500\n",
            "10/10 [==============================] - 0s 8ms/step - loss: 123.7725 - root_mean_squared_error: 156.5809 - val_loss: 138.2834 - val_root_mean_squared_error: 176.1616\n",
            "Epoch 52/500\n",
            "10/10 [==============================] - 0s 10ms/step - loss: 123.1984 - root_mean_squared_error: 155.1999 - val_loss: 136.9214 - val_root_mean_squared_error: 173.8929\n",
            "Epoch 53/500\n",
            "10/10 [==============================] - 0s 10ms/step - loss: 122.7224 - root_mean_squared_error: 154.3239 - val_loss: 136.9264 - val_root_mean_squared_error: 174.4925\n",
            "Epoch 54/500\n",
            "10/10 [==============================] - 0s 9ms/step - loss: 121.9655 - root_mean_squared_error: 153.9326 - val_loss: 135.8135 - val_root_mean_squared_error: 172.7466\n",
            "Epoch 55/500\n",
            "10/10 [==============================] - 0s 9ms/step - loss: 121.2693 - root_mean_squared_error: 153.1541 - val_loss: 135.6348 - val_root_mean_squared_error: 172.9775\n",
            "Epoch 56/500\n",
            "10/10 [==============================] - 0s 8ms/step - loss: 120.4885 - root_mean_squared_error: 152.0424 - val_loss: 134.2126 - val_root_mean_squared_error: 170.6044\n",
            "Epoch 57/500\n",
            "10/10 [==============================] - 0s 7ms/step - loss: 120.1068 - root_mean_squared_error: 150.8990 - val_loss: 133.7196 - val_root_mean_squared_error: 170.1144\n",
            "Epoch 58/500\n",
            "10/10 [==============================] - 0s 6ms/step - loss: 119.4185 - root_mean_squared_error: 150.9645 - val_loss: 133.8454 - val_root_mean_squared_error: 171.1334\n",
            "Epoch 59/500\n",
            "10/10 [==============================] - 0s 7ms/step - loss: 118.5877 - root_mean_squared_error: 149.6667 - val_loss: 131.4621 - val_root_mean_squared_error: 166.9152\n",
            "Epoch 60/500\n",
            "10/10 [==============================] - 0s 5ms/step - loss: 118.2441 - root_mean_squared_error: 148.3775 - val_loss: 131.1977 - val_root_mean_squared_error: 166.8257\n",
            "Epoch 61/500\n",
            "10/10 [==============================] - 0s 5ms/step - loss: 117.4972 - root_mean_squared_error: 147.6772 - val_loss: 131.1072 - val_root_mean_squared_error: 167.2764\n",
            "Epoch 62/500\n",
            "10/10 [==============================] - 0s 8ms/step - loss: 116.7717 - root_mean_squared_error: 147.8147 - val_loss: 130.5587 - val_root_mean_squared_error: 166.8140\n",
            "Epoch 63/500\n",
            "10/10 [==============================] - 0s 6ms/step - loss: 115.6784 - root_mean_squared_error: 146.1200 - val_loss: 128.8325 - val_root_mean_squared_error: 163.8811\n",
            "Epoch 64/500\n",
            "10/10 [==============================] - 0s 6ms/step - loss: 115.1739 - root_mean_squared_error: 144.6900 - val_loss: 128.0859 - val_root_mean_squared_error: 162.9962\n",
            "Epoch 65/500\n",
            "10/10 [==============================] - 0s 6ms/step - loss: 114.3583 - root_mean_squared_error: 144.7613 - val_loss: 128.6017 - val_root_mean_squared_error: 164.9931\n",
            "Epoch 66/500\n",
            "10/10 [==============================] - 0s 6ms/step - loss: 113.9678 - root_mean_squared_error: 144.6682 - val_loss: 127.0855 - val_root_mean_squared_error: 162.3511\n",
            "Epoch 67/500\n",
            "10/10 [==============================] - 0s 6ms/step - loss: 112.9819 - root_mean_squared_error: 142.2233 - val_loss: 125.2035 - val_root_mean_squared_error: 159.3856\n",
            "Epoch 68/500\n",
            "10/10 [==============================] - 0s 9ms/step - loss: 112.6890 - root_mean_squared_error: 142.4686 - val_loss: 126.0351 - val_root_mean_squared_error: 162.0988\n",
            "Epoch 69/500\n",
            "10/10 [==============================] - 0s 5ms/step - loss: 111.0674 - root_mean_squared_error: 140.4356 - val_loss: 123.1053 - val_root_mean_squared_error: 156.5727\n",
            "Epoch 70/500\n",
            "10/10 [==============================] - 0s 7ms/step - loss: 110.4612 - root_mean_squared_error: 139.0919 - val_loss: 123.1946 - val_root_mean_squared_error: 157.6499\n",
            "Epoch 71/500\n",
            "10/10 [==============================] - 0s 8ms/step - loss: 109.8386 - root_mean_squared_error: 139.2168 - val_loss: 122.6967 - val_root_mean_squared_error: 157.6374\n",
            "Epoch 72/500\n",
            "10/10 [==============================] - 0s 9ms/step - loss: 108.5249 - root_mean_squared_error: 137.0998 - val_loss: 120.4559 - val_root_mean_squared_error: 153.3080\n",
            "Epoch 73/500\n",
            "10/10 [==============================] - 0s 6ms/step - loss: 108.4427 - root_mean_squared_error: 135.7883 - val_loss: 119.9968 - val_root_mean_squared_error: 153.6002\n",
            "Epoch 74/500\n",
            "10/10 [==============================] - 0s 6ms/step - loss: 107.5069 - root_mean_squared_error: 136.9235 - val_loss: 122.7965 - val_root_mean_squared_error: 158.3722\n",
            "Epoch 75/500\n",
            "10/10 [==============================] - 0s 7ms/step - loss: 106.1213 - root_mean_squared_error: 134.8796 - val_loss: 117.5211 - val_root_mean_squared_error: 149.6139\n",
            "Epoch 76/500\n",
            "10/10 [==============================] - 0s 8ms/step - loss: 106.0708 - root_mean_squared_error: 132.6826 - val_loss: 116.6441 - val_root_mean_squared_error: 148.7561\n",
            "Epoch 77/500\n",
            "10/10 [==============================] - 0s 7ms/step - loss: 104.3442 - root_mean_squared_error: 131.9881 - val_loss: 116.3205 - val_root_mean_squared_error: 149.8304\n",
            "Epoch 78/500\n",
            "10/10 [==============================] - 0s 8ms/step - loss: 103.1774 - root_mean_squared_error: 130.3913 - val_loss: 114.4087 - val_root_mean_squared_error: 146.0327\n",
            "Epoch 79/500\n",
            "10/10 [==============================] - 0s 7ms/step - loss: 102.5298 - root_mean_squared_error: 129.4069 - val_loss: 114.4037 - val_root_mean_squared_error: 147.9055\n",
            "Epoch 80/500\n",
            "10/10 [==============================] - 0s 7ms/step - loss: 101.4238 - root_mean_squared_error: 128.4966 - val_loss: 112.4872 - val_root_mean_squared_error: 144.6882\n",
            "Epoch 81/500\n",
            "10/10 [==============================] - 0s 6ms/step - loss: 100.3479 - root_mean_squared_error: 127.3490 - val_loss: 112.4412 - val_root_mean_squared_error: 145.8679\n",
            "Epoch 82/500\n",
            "10/10 [==============================] - 0s 7ms/step - loss: 99.6452 - root_mean_squared_error: 126.2390 - val_loss: 109.9947 - val_root_mean_squared_error: 141.2201\n",
            "Epoch 83/500\n",
            "10/10 [==============================] - 0s 6ms/step - loss: 99.1789 - root_mean_squared_error: 125.2491 - val_loss: 109.8089 - val_root_mean_squared_error: 142.4035\n",
            "Epoch 84/500\n",
            "10/10 [==============================] - 0s 8ms/step - loss: 97.6435 - root_mean_squared_error: 122.9913 - val_loss: 107.3909 - val_root_mean_squared_error: 137.5654\n",
            "Epoch 85/500\n",
            "10/10 [==============================] - 0s 7ms/step - loss: 96.4426 - root_mean_squared_error: 121.7781 - val_loss: 107.4265 - val_root_mean_squared_error: 139.4724\n",
            "Epoch 86/500\n",
            "10/10 [==============================] - 0s 6ms/step - loss: 95.2637 - root_mean_squared_error: 121.1367 - val_loss: 105.5650 - val_root_mean_squared_error: 136.5988\n",
            "Epoch 87/500\n",
            "10/10 [==============================] - 0s 6ms/step - loss: 94.1480 - root_mean_squared_error: 119.1094 - val_loss: 103.8966 - val_root_mean_squared_error: 134.0227\n",
            "Epoch 88/500\n",
            "10/10 [==============================] - 0s 6ms/step - loss: 92.8437 - root_mean_squared_error: 117.6814 - val_loss: 102.6416 - val_root_mean_squared_error: 132.8085\n",
            "Epoch 89/500\n",
            "10/10 [==============================] - 0s 8ms/step - loss: 91.6107 - root_mean_squared_error: 116.0606 - val_loss: 101.6335 - val_root_mean_squared_error: 131.9020\n",
            "Epoch 90/500\n",
            "10/10 [==============================] - 0s 7ms/step - loss: 90.5200 - root_mean_squared_error: 114.9963 - val_loss: 100.0084 - val_root_mean_squared_error: 129.7681\n",
            "Epoch 91/500\n",
            "10/10 [==============================] - 0s 6ms/step - loss: 89.2188 - root_mean_squared_error: 113.2066 - val_loss: 98.5487 - val_root_mean_squared_error: 127.9619\n",
            "Epoch 92/500\n",
            "10/10 [==============================] - 0s 7ms/step - loss: 87.9842 - root_mean_squared_error: 111.7626 - val_loss: 96.9898 - val_root_mean_squared_error: 126.0346\n",
            "Epoch 93/500\n",
            "10/10 [==============================] - 0s 5ms/step - loss: 86.9216 - root_mean_squared_error: 109.8442 - val_loss: 95.0923 - val_root_mean_squared_error: 123.3006\n",
            "Epoch 94/500\n",
            "10/10 [==============================] - 0s 6ms/step - loss: 85.4166 - root_mean_squared_error: 108.2590 - val_loss: 94.7197 - val_root_mean_squared_error: 123.8523\n",
            "Epoch 95/500\n",
            "10/10 [==============================] - 0s 6ms/step - loss: 84.5057 - root_mean_squared_error: 107.8569 - val_loss: 92.3307 - val_root_mean_squared_error: 120.6997\n",
            "Epoch 96/500\n",
            "10/10 [==============================] - 0s 8ms/step - loss: 82.7507 - root_mean_squared_error: 104.8499 - val_loss: 90.5429 - val_root_mean_squared_error: 117.9560\n",
            "Epoch 97/500\n",
            "10/10 [==============================] - 0s 6ms/step - loss: 81.5303 - root_mean_squared_error: 102.7063 - val_loss: 88.9407 - val_root_mean_squared_error: 116.0450\n",
            "Epoch 98/500\n",
            "10/10 [==============================] - 0s 7ms/step - loss: 80.0405 - root_mean_squared_error: 101.4686 - val_loss: 87.7223 - val_root_mean_squared_error: 115.1487\n",
            "Epoch 99/500\n",
            "10/10 [==============================] - 0s 7ms/step - loss: 78.5666 - root_mean_squared_error: 99.8278 - val_loss: 85.1791 - val_root_mean_squared_error: 110.9176\n",
            "Epoch 100/500\n",
            "10/10 [==============================] - 0s 9ms/step - loss: 77.9455 - root_mean_squared_error: 97.4195 - val_loss: 83.9232 - val_root_mean_squared_error: 110.1226\n",
            "Epoch 101/500\n",
            "10/10 [==============================] - 0s 6ms/step - loss: 75.3184 - root_mean_squared_error: 95.5088 - val_loss: 83.2818 - val_root_mean_squared_error: 109.3616\n",
            "Epoch 102/500\n",
            "10/10 [==============================] - 0s 6ms/step - loss: 73.9295 - root_mean_squared_error: 93.9514 - val_loss: 80.4101 - val_root_mean_squared_error: 105.9014\n",
            "Epoch 103/500\n",
            "10/10 [==============================] - 0s 6ms/step - loss: 72.8987 - root_mean_squared_error: 91.2211 - val_loss: 78.1091 - val_root_mean_squared_error: 102.6157\n",
            "Epoch 104/500\n",
            "10/10 [==============================] - 0s 7ms/step - loss: 70.6182 - root_mean_squared_error: 89.0294 - val_loss: 76.3469 - val_root_mean_squared_error: 100.7873\n",
            "Epoch 105/500\n",
            "10/10 [==============================] - 0s 6ms/step - loss: 69.2173 - root_mean_squared_error: 87.8427 - val_loss: 74.8239 - val_root_mean_squared_error: 98.9087\n",
            "Epoch 106/500\n",
            "10/10 [==============================] - 0s 6ms/step - loss: 66.9717 - root_mean_squared_error: 84.2767 - val_loss: 72.2217 - val_root_mean_squared_error: 94.2195\n",
            "Epoch 107/500\n",
            "10/10 [==============================] - 0s 7ms/step - loss: 65.7167 - root_mean_squared_error: 82.8779 - val_loss: 72.2747 - val_root_mean_squared_error: 95.5946\n",
            "Epoch 108/500\n",
            "10/10 [==============================] - 0s 6ms/step - loss: 63.1427 - root_mean_squared_error: 79.6924 - val_loss: 68.3912 - val_root_mean_squared_error: 88.1273\n",
            "Epoch 109/500\n",
            "10/10 [==============================] - 0s 6ms/step - loss: 61.9327 - root_mean_squared_error: 77.7065 - val_loss: 67.8690 - val_root_mean_squared_error: 90.7218\n",
            "Epoch 110/500\n",
            "10/10 [==============================] - 0s 7ms/step - loss: 59.6921 - root_mean_squared_error: 75.6105 - val_loss: 63.4813 - val_root_mean_squared_error: 83.4019\n",
            "Epoch 111/500\n",
            "10/10 [==============================] - 0s 6ms/step - loss: 58.0566 - root_mean_squared_error: 72.7485 - val_loss: 62.4222 - val_root_mean_squared_error: 83.6528\n",
            "Epoch 112/500\n",
            "10/10 [==============================] - 0s 6ms/step - loss: 56.1024 - root_mean_squared_error: 70.0782 - val_loss: 59.1431 - val_root_mean_squared_error: 78.3654\n",
            "Epoch 113/500\n",
            "10/10 [==============================] - 0s 7ms/step - loss: 53.9060 - root_mean_squared_error: 67.7538 - val_loss: 57.1413 - val_root_mean_squared_error: 76.5920\n",
            "Epoch 114/500\n",
            "10/10 [==============================] - 0s 8ms/step - loss: 51.9554 - root_mean_squared_error: 64.8965 - val_loss: 55.2541 - val_root_mean_squared_error: 73.1890\n",
            "Epoch 115/500\n",
            "10/10 [==============================] - 0s 6ms/step - loss: 50.1128 - root_mean_squared_error: 62.7997 - val_loss: 53.0953 - val_root_mean_squared_error: 70.0358\n",
            "Epoch 116/500\n",
            "10/10 [==============================] - 0s 9ms/step - loss: 47.4005 - root_mean_squared_error: 59.5224 - val_loss: 51.4053 - val_root_mean_squared_error: 68.7432\n",
            "Epoch 117/500\n",
            "10/10 [==============================] - 0s 8ms/step - loss: 46.1206 - root_mean_squared_error: 57.6235 - val_loss: 48.8583 - val_root_mean_squared_error: 64.1635\n",
            "Epoch 118/500\n",
            "10/10 [==============================] - 0s 6ms/step - loss: 43.3943 - root_mean_squared_error: 54.4229 - val_loss: 46.9239 - val_root_mean_squared_error: 61.0843\n",
            "Epoch 119/500\n",
            "10/10 [==============================] - 0s 8ms/step - loss: 41.2966 - root_mean_squared_error: 51.6182 - val_loss: 45.3462 - val_root_mean_squared_error: 59.9857\n",
            "Epoch 120/500\n",
            "10/10 [==============================] - 0s 6ms/step - loss: 39.2963 - root_mean_squared_error: 49.2111 - val_loss: 42.4859 - val_root_mean_squared_error: 55.3373\n",
            "Epoch 121/500\n",
            "10/10 [==============================] - 0s 6ms/step - loss: 37.0083 - root_mean_squared_error: 46.3284 - val_loss: 42.7244 - val_root_mean_squared_error: 55.5565\n",
            "Epoch 122/500\n",
            "10/10 [==============================] - 0s 6ms/step - loss: 35.4840 - root_mean_squared_error: 44.2445 - val_loss: 41.3489 - val_root_mean_squared_error: 48.9448\n",
            "Epoch 123/500\n",
            "10/10 [==============================] - 0s 7ms/step - loss: 33.2176 - root_mean_squared_error: 41.6474 - val_loss: 43.6023 - val_root_mean_squared_error: 53.9049\n",
            "Epoch 124/500\n",
            "10/10 [==============================] - 0s 7ms/step - loss: 33.2723 - root_mean_squared_error: 41.6774 - val_loss: 35.2161 - val_root_mean_squared_error: 45.4236\n",
            "Epoch 125/500\n",
            "10/10 [==============================] - 0s 6ms/step - loss: 32.3636 - root_mean_squared_error: 39.9748 - val_loss: 34.1644 - val_root_mean_squared_error: 41.8177\n",
            "Epoch 126/500\n",
            "10/10 [==============================] - 0s 9ms/step - loss: 28.6278 - root_mean_squared_error: 36.4258 - val_loss: 37.6223 - val_root_mean_squared_error: 45.9754\n",
            "Epoch 127/500\n",
            "10/10 [==============================] - 0s 8ms/step - loss: 26.5972 - root_mean_squared_error: 33.9541 - val_loss: 29.6431 - val_root_mean_squared_error: 37.9155\n",
            "Epoch 128/500\n",
            "10/10 [==============================] - 0s 8ms/step - loss: 25.8037 - root_mean_squared_error: 32.5932 - val_loss: 28.5379 - val_root_mean_squared_error: 36.5950\n",
            "Epoch 129/500\n",
            "10/10 [==============================] - 0s 8ms/step - loss: 26.0660 - root_mean_squared_error: 32.4122 - val_loss: 28.2279 - val_root_mean_squared_error: 36.1948\n",
            "Epoch 130/500\n",
            "10/10 [==============================] - 0s 6ms/step - loss: 25.0483 - root_mean_squared_error: 32.0469 - val_loss: 31.0741 - val_root_mean_squared_error: 37.9903\n",
            "Epoch 131/500\n",
            "10/10 [==============================] - 0s 7ms/step - loss: 22.5125 - root_mean_squared_error: 28.8481 - val_loss: 25.4468 - val_root_mean_squared_error: 33.7059\n",
            "Epoch 132/500\n",
            "10/10 [==============================] - 0s 8ms/step - loss: 23.9408 - root_mean_squared_error: 29.9082 - val_loss: 26.6529 - val_root_mean_squared_error: 34.1105\n",
            "Epoch 133/500\n",
            "10/10 [==============================] - 0s 6ms/step - loss: 22.2505 - root_mean_squared_error: 27.7059 - val_loss: 26.4750 - val_root_mean_squared_error: 33.9259\n",
            "Epoch 134/500\n",
            "10/10 [==============================] - 0s 6ms/step - loss: 21.6117 - root_mean_squared_error: 26.7909 - val_loss: 23.8628 - val_root_mean_squared_error: 31.9816\n",
            "Epoch 135/500\n",
            "10/10 [==============================] - 0s 6ms/step - loss: 21.2211 - root_mean_squared_error: 26.5627 - val_loss: 23.2603 - val_root_mean_squared_error: 31.6133\n",
            "Epoch 136/500\n",
            "10/10 [==============================] - 0s 8ms/step - loss: 21.2881 - root_mean_squared_error: 26.6389 - val_loss: 22.6523 - val_root_mean_squared_error: 31.2877\n",
            "Epoch 137/500\n",
            "10/10 [==============================] - 0s 6ms/step - loss: 21.6296 - root_mean_squared_error: 26.8275 - val_loss: 25.7489 - val_root_mean_squared_error: 33.2306\n",
            "Epoch 138/500\n",
            "10/10 [==============================] - 0s 8ms/step - loss: 21.8128 - root_mean_squared_error: 27.6537 - val_loss: 25.3954 - val_root_mean_squared_error: 32.9083\n",
            "Epoch 139/500\n",
            "10/10 [==============================] - 0s 7ms/step - loss: 21.3410 - root_mean_squared_error: 26.5998 - val_loss: 23.4357 - val_root_mean_squared_error: 31.4682\n",
            "Epoch 140/500\n",
            "10/10 [==============================] - 0s 8ms/step - loss: 20.9982 - root_mean_squared_error: 26.2098 - val_loss: 27.3200 - val_root_mean_squared_error: 34.3709\n",
            "Epoch 141/500\n",
            "10/10 [==============================] - 0s 7ms/step - loss: 22.1540 - root_mean_squared_error: 27.3908 - val_loss: 22.5597 - val_root_mean_squared_error: 30.6475\n",
            "Epoch 142/500\n",
            "10/10 [==============================] - 0s 9ms/step - loss: 20.8807 - root_mean_squared_error: 25.9864 - val_loss: 26.1692 - val_root_mean_squared_error: 33.4080\n",
            "Epoch 143/500\n",
            "10/10 [==============================] - 0s 8ms/step - loss: 22.0224 - root_mean_squared_error: 27.3893 - val_loss: 22.2673 - val_root_mean_squared_error: 30.7645\n",
            "Epoch 144/500\n",
            "10/10 [==============================] - 0s 7ms/step - loss: 22.0072 - root_mean_squared_error: 27.1803 - val_loss: 24.3611 - val_root_mean_squared_error: 32.9691\n",
            "Epoch 145/500\n",
            "10/10 [==============================] - 0s 6ms/step - loss: 22.4594 - root_mean_squared_error: 28.0490 - val_loss: 24.8590 - val_root_mean_squared_error: 32.4733\n",
            "Epoch 146/500\n",
            "10/10 [==============================] - 0s 6ms/step - loss: 20.7973 - root_mean_squared_error: 25.9633 - val_loss: 22.2439 - val_root_mean_squared_error: 30.6543\n",
            "Epoch 147/500\n",
            "10/10 [==============================] - 0s 5ms/step - loss: 21.0671 - root_mean_squared_error: 26.0212 - val_loss: 22.3479 - val_root_mean_squared_error: 30.7782\n",
            "Epoch 148/500\n",
            "10/10 [==============================] - 0s 7ms/step - loss: 21.5960 - root_mean_squared_error: 26.8381 - val_loss: 24.9641 - val_root_mean_squared_error: 32.6390\n",
            "Epoch 149/500\n",
            "10/10 [==============================] - 0s 7ms/step - loss: 21.6897 - root_mean_squared_error: 27.0264 - val_loss: 23.6452 - val_root_mean_squared_error: 31.8193\n",
            "Epoch 150/500\n",
            "10/10 [==============================] - 0s 7ms/step - loss: 20.9851 - root_mean_squared_error: 26.2134 - val_loss: 23.0162 - val_root_mean_squared_error: 31.3656\n",
            "Epoch 151/500\n",
            "10/10 [==============================] - 0s 7ms/step - loss: 21.0292 - root_mean_squared_error: 26.1146 - val_loss: 22.4085 - val_root_mean_squared_error: 30.7424\n",
            "Epoch 152/500\n",
            "10/10 [==============================] - 0s 7ms/step - loss: 21.0732 - root_mean_squared_error: 26.4654 - val_loss: 24.0354 - val_root_mean_squared_error: 31.6867\n",
            "Epoch 153/500\n",
            "10/10 [==============================] - 0s 6ms/step - loss: 20.8501 - root_mean_squared_error: 25.8111 - val_loss: 22.3240 - val_root_mean_squared_error: 30.5134\n",
            "Epoch 154/500\n",
            "10/10 [==============================] - 0s 6ms/step - loss: 20.9111 - root_mean_squared_error: 25.9915 - val_loss: 22.0950 - val_root_mean_squared_error: 30.5436\n",
            "Epoch 155/500\n",
            "10/10 [==============================] - 0s 7ms/step - loss: 21.5606 - root_mean_squared_error: 27.1078 - val_loss: 27.1706 - val_root_mean_squared_error: 34.4141\n",
            "Epoch 156/500\n",
            "10/10 [==============================] - 0s 9ms/step - loss: 22.5573 - root_mean_squared_error: 28.1126 - val_loss: 24.1422 - val_root_mean_squared_error: 31.8968\n",
            "Epoch 157/500\n",
            "10/10 [==============================] - 0s 8ms/step - loss: 21.3850 - root_mean_squared_error: 26.2126 - val_loss: 22.2389 - val_root_mean_squared_error: 30.5985\n",
            "Epoch 158/500\n",
            "10/10 [==============================] - 0s 6ms/step - loss: 20.9791 - root_mean_squared_error: 25.9763 - val_loss: 23.3529 - val_root_mean_squared_error: 31.3750\n",
            "Epoch 159/500\n",
            "10/10 [==============================] - 0s 7ms/step - loss: 21.4037 - root_mean_squared_error: 26.3564 - val_loss: 22.5847 - val_root_mean_squared_error: 30.8906\n",
            "Epoch 160/500\n",
            "10/10 [==============================] - 0s 7ms/step - loss: 21.5936 - root_mean_squared_error: 26.3792 - val_loss: 21.7995 - val_root_mean_squared_error: 30.4644\n",
            "Epoch 161/500\n",
            "10/10 [==============================] - 0s 8ms/step - loss: 21.2390 - root_mean_squared_error: 26.3727 - val_loss: 23.4731 - val_root_mean_squared_error: 31.3096\n",
            "Epoch 162/500\n",
            "10/10 [==============================] - 0s 6ms/step - loss: 20.7484 - root_mean_squared_error: 25.8465 - val_loss: 22.6970 - val_root_mean_squared_error: 30.7584\n",
            "Epoch 163/500\n",
            "10/10 [==============================] - 0s 6ms/step - loss: 21.0346 - root_mean_squared_error: 26.0135 - val_loss: 25.9893 - val_root_mean_squared_error: 33.2119\n",
            "Epoch 164/500\n",
            "10/10 [==============================] - 0s 6ms/step - loss: 21.1219 - root_mean_squared_error: 26.3290 - val_loss: 22.6482 - val_root_mean_squared_error: 30.8154\n",
            "Epoch 165/500\n",
            "10/10 [==============================] - 0s 8ms/step - loss: 20.7824 - root_mean_squared_error: 25.4898 - val_loss: 22.5575 - val_root_mean_squared_error: 30.6936\n",
            "Epoch 166/500\n",
            "10/10 [==============================] - 0s 6ms/step - loss: 20.7728 - root_mean_squared_error: 25.7353 - val_loss: 23.7006 - val_root_mean_squared_error: 31.4615\n",
            "Epoch 167/500\n",
            "10/10 [==============================] - 0s 6ms/step - loss: 20.7912 - root_mean_squared_error: 25.5359 - val_loss: 21.8261 - val_root_mean_squared_error: 30.3324\n",
            "Epoch 168/500\n",
            "10/10 [==============================] - 0s 6ms/step - loss: 21.2210 - root_mean_squared_error: 26.2247 - val_loss: 25.1418 - val_root_mean_squared_error: 32.5550\n",
            "Epoch 169/500\n",
            "10/10 [==============================] - 0s 6ms/step - loss: 21.0922 - root_mean_squared_error: 26.1323 - val_loss: 22.0347 - val_root_mean_squared_error: 30.3596\n",
            "Epoch 170/500\n",
            "10/10 [==============================] - 0s 9ms/step - loss: 20.7825 - root_mean_squared_error: 25.9141 - val_loss: 24.5893 - val_root_mean_squared_error: 32.0756\n",
            "Epoch 171/500\n",
            "10/10 [==============================] - 0s 6ms/step - loss: 21.1302 - root_mean_squared_error: 26.0741 - val_loss: 21.8913 - val_root_mean_squared_error: 30.3882\n",
            "Epoch 172/500\n",
            "10/10 [==============================] - 0s 5ms/step - loss: 20.8753 - root_mean_squared_error: 25.9137 - val_loss: 25.1213 - val_root_mean_squared_error: 32.7286\n",
            "Epoch 173/500\n",
            "10/10 [==============================] - 0s 6ms/step - loss: 20.8518 - root_mean_squared_error: 25.7635 - val_loss: 21.8864 - val_root_mean_squared_error: 30.6195\n",
            "Epoch 174/500\n",
            "10/10 [==============================] - 0s 8ms/step - loss: 21.2147 - root_mean_squared_error: 26.1303 - val_loss: 24.1872 - val_root_mean_squared_error: 31.8564\n",
            "Epoch 175/500\n",
            "10/10 [==============================] - 0s 6ms/step - loss: 20.9363 - root_mean_squared_error: 25.9967 - val_loss: 23.1415 - val_root_mean_squared_error: 30.9554\n",
            "Epoch 176/500\n",
            "10/10 [==============================] - 0s 8ms/step - loss: 20.9697 - root_mean_squared_error: 26.0747 - val_loss: 23.8098 - val_root_mean_squared_error: 31.4251\n",
            "Epoch 177/500\n",
            "10/10 [==============================] - 0s 8ms/step - loss: 21.2335 - root_mean_squared_error: 26.3169 - val_loss: 25.6578 - val_root_mean_squared_error: 33.0609\n",
            "Epoch 178/500\n",
            "10/10 [==============================] - 0s 7ms/step - loss: 21.5944 - root_mean_squared_error: 26.0072 - val_loss: 21.8546 - val_root_mean_squared_error: 30.4099\n",
            "Epoch 179/500\n",
            "10/10 [==============================] - 0s 6ms/step - loss: 20.6956 - root_mean_squared_error: 25.6627 - val_loss: 23.4483 - val_root_mean_squared_error: 31.5219\n",
            "Epoch 180/500\n",
            "10/10 [==============================] - 0s 6ms/step - loss: 21.3136 - root_mean_squared_error: 26.0748 - val_loss: 21.9269 - val_root_mean_squared_error: 30.3738\n",
            "Epoch 181/500\n",
            "10/10 [==============================] - 0s 8ms/step - loss: 20.9581 - root_mean_squared_error: 26.1087 - val_loss: 22.5481 - val_root_mean_squared_error: 30.6215\n",
            "Epoch 182/500\n",
            "10/10 [==============================] - 0s 8ms/step - loss: 21.0220 - root_mean_squared_error: 26.4028 - val_loss: 23.8708 - val_root_mean_squared_error: 31.4975\n",
            "Epoch 183/500\n",
            "10/10 [==============================] - 0s 8ms/step - loss: 21.1397 - root_mean_squared_error: 25.8772 - val_loss: 22.5688 - val_root_mean_squared_error: 31.0444\n",
            "Epoch 184/500\n",
            "10/10 [==============================] - 0s 6ms/step - loss: 21.4214 - root_mean_squared_error: 26.7034 - val_loss: 24.1459 - val_root_mean_squared_error: 31.9328\n",
            "Epoch 185/500\n",
            "10/10 [==============================] - 0s 7ms/step - loss: 20.9950 - root_mean_squared_error: 26.0373 - val_loss: 23.3414 - val_root_mean_squared_error: 31.3828\n",
            "Epoch 186/500\n",
            "10/10 [==============================] - 0s 6ms/step - loss: 20.9232 - root_mean_squared_error: 25.6265 - val_loss: 22.3946 - val_root_mean_squared_error: 30.7543\n",
            "Epoch 187/500\n",
            "10/10 [==============================] - 0s 6ms/step - loss: 20.7164 - root_mean_squared_error: 25.6545 - val_loss: 21.6556 - val_root_mean_squared_error: 30.3606\n",
            "Epoch 188/500\n",
            "10/10 [==============================] - 0s 6ms/step - loss: 20.9796 - root_mean_squared_error: 26.1434 - val_loss: 27.2138 - val_root_mean_squared_error: 34.1597\n",
            "Epoch 189/500\n",
            "10/10 [==============================] - 0s 7ms/step - loss: 21.7638 - root_mean_squared_error: 26.5920 - val_loss: 21.5832 - val_root_mean_squared_error: 30.3156\n",
            "Epoch 190/500\n",
            "10/10 [==============================] - 0s 8ms/step - loss: 21.1991 - root_mean_squared_error: 26.2076 - val_loss: 21.6607 - val_root_mean_squared_error: 30.3465\n",
            "Epoch 191/500\n",
            "10/10 [==============================] - 0s 6ms/step - loss: 22.1950 - root_mean_squared_error: 28.1026 - val_loss: 27.2659 - val_root_mean_squared_error: 34.4031\n",
            "Epoch 192/500\n",
            "10/10 [==============================] - 0s 8ms/step - loss: 23.0638 - root_mean_squared_error: 29.1327 - val_loss: 21.7940 - val_root_mean_squared_error: 30.5538\n",
            "Epoch 193/500\n",
            "10/10 [==============================] - 0s 6ms/step - loss: 21.3154 - root_mean_squared_error: 26.2785 - val_loss: 21.7145 - val_root_mean_squared_error: 30.7180\n",
            "Epoch 194/500\n",
            "10/10 [==============================] - 0s 8ms/step - loss: 21.3093 - root_mean_squared_error: 26.4042 - val_loss: 25.2352 - val_root_mean_squared_error: 32.8465\n",
            "Epoch 195/500\n",
            "10/10 [==============================] - 0s 10ms/step - loss: 21.1431 - root_mean_squared_error: 25.8322 - val_loss: 21.6476 - val_root_mean_squared_error: 30.4224\n",
            "Epoch 196/500\n",
            "10/10 [==============================] - 0s 9ms/step - loss: 21.4834 - root_mean_squared_error: 26.8334 - val_loss: 26.7719 - val_root_mean_squared_error: 33.5607\n",
            "Epoch 197/500\n",
            "10/10 [==============================] - 0s 10ms/step - loss: 21.5192 - root_mean_squared_error: 26.4891 - val_loss: 24.3813 - val_root_mean_squared_error: 31.8824\n",
            "Epoch 198/500\n",
            "10/10 [==============================] - 0s 10ms/step - loss: 21.4038 - root_mean_squared_error: 26.1218 - val_loss: 21.8704 - val_root_mean_squared_error: 30.2725\n",
            "Epoch 199/500\n",
            "10/10 [==============================] - 0s 12ms/step - loss: 21.2432 - root_mean_squared_error: 27.0328 - val_loss: 27.4040 - val_root_mean_squared_error: 34.2975\n",
            "Epoch 200/500\n",
            "10/10 [==============================] - 0s 8ms/step - loss: 22.2485 - root_mean_squared_error: 27.4286 - val_loss: 22.1193 - val_root_mean_squared_error: 30.5265\n",
            "Epoch 201/500\n",
            "10/10 [==============================] - 0s 9ms/step - loss: 21.4388 - root_mean_squared_error: 26.0781 - val_loss: 22.1523 - val_root_mean_squared_error: 30.5624\n",
            "Epoch 202/500\n",
            "10/10 [==============================] - 0s 10ms/step - loss: 20.7359 - root_mean_squared_error: 26.0452 - val_loss: 27.5114 - val_root_mean_squared_error: 34.4735\n",
            "Epoch 203/500\n",
            "10/10 [==============================] - 0s 10ms/step - loss: 21.6183 - root_mean_squared_error: 26.4604 - val_loss: 21.7998 - val_root_mean_squared_error: 30.4132\n",
            "Epoch 204/500\n",
            "10/10 [==============================] - 0s 10ms/step - loss: 21.2376 - root_mean_squared_error: 26.0033 - val_loss: 21.8148 - val_root_mean_squared_error: 30.3994\n",
            "Epoch 205/500\n",
            "10/10 [==============================] - 0s 11ms/step - loss: 21.0591 - root_mean_squared_error: 26.3785 - val_loss: 23.2802 - val_root_mean_squared_error: 31.1377\n",
            "Epoch 206/500\n",
            "10/10 [==============================] - 0s 10ms/step - loss: 20.9473 - root_mean_squared_error: 25.7421 - val_loss: 22.0181 - val_root_mean_squared_error: 30.4013\n",
            "Epoch 207/500\n",
            "10/10 [==============================] - 0s 10ms/step - loss: 21.9845 - root_mean_squared_error: 27.2910 - val_loss: 26.4839 - val_root_mean_squared_error: 33.7357\n",
            "Epoch 208/500\n",
            "10/10 [==============================] - 0s 8ms/step - loss: 22.2169 - root_mean_squared_error: 27.6436 - val_loss: 21.9063 - val_root_mean_squared_error: 30.5452\n",
            "Epoch 209/500\n",
            "10/10 [==============================] - 0s 10ms/step - loss: 22.0755 - root_mean_squared_error: 26.9863 - val_loss: 22.5477 - val_root_mean_squared_error: 30.7967\n",
            "Epoch 210/500\n",
            "10/10 [==============================] - 0s 10ms/step - loss: 20.8322 - root_mean_squared_error: 26.1032 - val_loss: 23.9784 - val_root_mean_squared_error: 31.6529\n",
            "Epoch 211/500\n",
            "10/10 [==============================] - 0s 8ms/step - loss: 20.8622 - root_mean_squared_error: 25.6169 - val_loss: 22.0924 - val_root_mean_squared_error: 30.3989\n",
            "Epoch 212/500\n",
            "10/10 [==============================] - 0s 8ms/step - loss: 21.2220 - root_mean_squared_error: 26.1851 - val_loss: 23.9904 - val_root_mean_squared_error: 31.6886\n",
            "Epoch 213/500\n",
            "10/10 [==============================] - 0s 11ms/step - loss: 20.9034 - root_mean_squared_error: 26.0309 - val_loss: 21.9322 - val_root_mean_squared_error: 30.5050\n",
            "Epoch 214/500\n",
            "10/10 [==============================] - 0s 10ms/step - loss: 21.0186 - root_mean_squared_error: 26.4008 - val_loss: 26.7730 - val_root_mean_squared_error: 33.7809\n",
            "Epoch 215/500\n",
            "10/10 [==============================] - 0s 10ms/step - loss: 21.2334 - root_mean_squared_error: 25.9234 - val_loss: 21.6434 - val_root_mean_squared_error: 30.3784\n",
            "Epoch 216/500\n",
            "10/10 [==============================] - 0s 11ms/step - loss: 21.1185 - root_mean_squared_error: 25.8610 - val_loss: 23.3968 - val_root_mean_squared_error: 31.2288\n",
            "Epoch 217/500\n",
            "10/10 [==============================] - 0s 9ms/step - loss: 21.6010 - root_mean_squared_error: 27.1329 - val_loss: 26.6238 - val_root_mean_squared_error: 33.6565\n",
            "Epoch 218/500\n",
            "10/10 [==============================] - 0s 10ms/step - loss: 22.3486 - root_mean_squared_error: 27.2683 - val_loss: 21.8451 - val_root_mean_squared_error: 30.7140\n",
            "Epoch 219/500\n",
            "10/10 [==============================] - 0s 10ms/step - loss: 21.5390 - root_mean_squared_error: 27.4470 - val_loss: 27.5888 - val_root_mean_squared_error: 34.7734\n",
            "Epoch 220/500\n",
            "10/10 [==============================] - 0s 8ms/step - loss: 21.6103 - root_mean_squared_error: 26.6232 - val_loss: 22.7496 - val_root_mean_squared_error: 31.2213\n",
            "Epoch 221/500\n",
            "10/10 [==============================] - 0s 8ms/step - loss: 20.7981 - root_mean_squared_error: 25.5749 - val_loss: 22.1771 - val_root_mean_squared_error: 30.8092\n",
            "Epoch 222/500\n",
            "10/10 [==============================] - 0s 8ms/step - loss: 20.8340 - root_mean_squared_error: 25.9156 - val_loss: 23.8714 - val_root_mean_squared_error: 31.6376\n",
            "Epoch 223/500\n",
            "10/10 [==============================] - 0s 6ms/step - loss: 21.0065 - root_mean_squared_error: 25.5793 - val_loss: 22.4682 - val_root_mean_squared_error: 30.8646\n",
            "Epoch 224/500\n",
            "10/10 [==============================] - 0s 7ms/step - loss: 21.9357 - root_mean_squared_error: 27.6854 - val_loss: 30.4299 - val_root_mean_squared_error: 37.0683\n",
            "Epoch 225/500\n",
            "10/10 [==============================] - 0s 8ms/step - loss: 21.9328 - root_mean_squared_error: 27.2597 - val_loss: 22.3493 - val_root_mean_squared_error: 30.5126\n",
            "Epoch 226/500\n",
            "10/10 [==============================] - 0s 6ms/step - loss: 21.1896 - root_mean_squared_error: 25.9023 - val_loss: 22.2918 - val_root_mean_squared_error: 30.7889\n",
            "Epoch 227/500\n",
            "10/10 [==============================] - 0s 8ms/step - loss: 20.9251 - root_mean_squared_error: 25.7499 - val_loss: 22.3521 - val_root_mean_squared_error: 30.9138\n",
            "Epoch 228/500\n",
            "10/10 [==============================] - 0s 8ms/step - loss: 20.9153 - root_mean_squared_error: 25.8138 - val_loss: 22.0694 - val_root_mean_squared_error: 30.7144\n",
            "Epoch 229/500\n",
            "10/10 [==============================] - 0s 8ms/step - loss: 20.8740 - root_mean_squared_error: 25.9929 - val_loss: 25.9067 - val_root_mean_squared_error: 33.2149\n",
            "Epoch 230/500\n",
            "10/10 [==============================] - 0s 8ms/step - loss: 21.5618 - root_mean_squared_error: 26.7414 - val_loss: 22.0344 - val_root_mean_squared_error: 30.2093\n",
            "Epoch 231/500\n",
            "10/10 [==============================] - 0s 8ms/step - loss: 22.8373 - root_mean_squared_error: 27.9864 - val_loss: 21.7776 - val_root_mean_squared_error: 30.1225\n",
            "Epoch 232/500\n",
            "10/10 [==============================] - 0s 8ms/step - loss: 20.9795 - root_mean_squared_error: 26.2511 - val_loss: 25.6542 - val_root_mean_squared_error: 32.7954\n",
            "Epoch 233/500\n",
            "10/10 [==============================] - 0s 7ms/step - loss: 21.5544 - root_mean_squared_error: 26.4944 - val_loss: 21.6747 - val_root_mean_squared_error: 30.4861\n",
            "Epoch 234/500\n",
            "10/10 [==============================] - 0s 6ms/step - loss: 21.3065 - root_mean_squared_error: 26.3202 - val_loss: 26.7739 - val_root_mean_squared_error: 33.9084\n",
            "Epoch 235/500\n",
            "10/10 [==============================] - 0s 6ms/step - loss: 21.5733 - root_mean_squared_error: 26.6776 - val_loss: 22.0950 - val_root_mean_squared_error: 30.7764\n",
            "Epoch 236/500\n",
            "10/10 [==============================] - 0s 6ms/step - loss: 21.3413 - root_mean_squared_error: 26.0348 - val_loss: 21.7754 - val_root_mean_squared_error: 30.3883\n",
            "Epoch 237/500\n",
            "10/10 [==============================] - 0s 6ms/step - loss: 20.9606 - root_mean_squared_error: 25.8139 - val_loss: 23.1724 - val_root_mean_squared_error: 31.0738\n",
            "Epoch 238/500\n",
            "10/10 [==============================] - 0s 8ms/step - loss: 20.8149 - root_mean_squared_error: 25.7773 - val_loss: 22.3342 - val_root_mean_squared_error: 30.6077\n",
            "Epoch 239/500\n",
            "10/10 [==============================] - 0s 8ms/step - loss: 20.7838 - root_mean_squared_error: 25.7075 - val_loss: 23.9477 - val_root_mean_squared_error: 31.7976\n",
            "Epoch 240/500\n",
            "10/10 [==============================] - 0s 7ms/step - loss: 21.4417 - root_mean_squared_error: 27.0257 - val_loss: 26.7061 - val_root_mean_squared_error: 33.9453\n",
            "Epoch 241/500\n",
            "10/10 [==============================] - 0s 7ms/step - loss: 22.0652 - root_mean_squared_error: 26.6954 - val_loss: 21.9430 - val_root_mean_squared_error: 30.7735\n",
            "Epoch 242/500\n",
            "10/10 [==============================] - 0s 7ms/step - loss: 21.9951 - root_mean_squared_error: 27.6695 - val_loss: 25.6565 - val_root_mean_squared_error: 33.1692\n",
            "Epoch 243/500\n",
            "10/10 [==============================] - 0s 8ms/step - loss: 21.1037 - root_mean_squared_error: 26.4857 - val_loss: 21.7187 - val_root_mean_squared_error: 30.5165\n",
            "Epoch 244/500\n",
            "10/10 [==============================] - 0s 6ms/step - loss: 20.8593 - root_mean_squared_error: 25.6109 - val_loss: 23.6126 - val_root_mean_squared_error: 31.5685\n",
            "Epoch 245/500\n",
            "10/10 [==============================] - 0s 7ms/step - loss: 20.8360 - root_mean_squared_error: 25.8474 - val_loss: 23.4239 - val_root_mean_squared_error: 31.5086\n",
            "Epoch 246/500\n",
            "10/10 [==============================] - 0s 8ms/step - loss: 20.7757 - root_mean_squared_error: 25.6437 - val_loss: 23.0540 - val_root_mean_squared_error: 31.1010\n",
            "Epoch 247/500\n",
            "10/10 [==============================] - 0s 6ms/step - loss: 20.7774 - root_mean_squared_error: 25.7893 - val_loss: 23.6791 - val_root_mean_squared_error: 31.4449\n",
            "Epoch 248/500\n",
            "10/10 [==============================] - 0s 6ms/step - loss: 20.8497 - root_mean_squared_error: 25.8039 - val_loss: 22.7961 - val_root_mean_squared_error: 30.7381\n",
            "Epoch 249/500\n",
            "10/10 [==============================] - 0s 6ms/step - loss: 20.8193 - root_mean_squared_error: 25.7251 - val_loss: 22.3319 - val_root_mean_squared_error: 30.6467\n",
            "Epoch 250/500\n",
            "10/10 [==============================] - 0s 8ms/step - loss: 20.8918 - root_mean_squared_error: 25.9548 - val_loss: 23.1868 - val_root_mean_squared_error: 31.1893\n",
            "Epoch 251/500\n",
            "10/10 [==============================] - 0s 7ms/step - loss: 20.8643 - root_mean_squared_error: 25.8586 - val_loss: 22.6630 - val_root_mean_squared_error: 30.8630\n",
            "Epoch 252/500\n",
            "10/10 [==============================] - 0s 7ms/step - loss: 21.1186 - root_mean_squared_error: 25.8870 - val_loss: 22.1710 - val_root_mean_squared_error: 30.5984\n",
            "Epoch 253/500\n",
            "10/10 [==============================] - 0s 6ms/step - loss: 21.1065 - root_mean_squared_error: 26.6566 - val_loss: 24.9349 - val_root_mean_squared_error: 32.5063\n",
            "Epoch 254/500\n",
            "10/10 [==============================] - 0s 8ms/step - loss: 21.2158 - root_mean_squared_error: 26.0312 - val_loss: 22.1662 - val_root_mean_squared_error: 30.5365\n",
            "Epoch 255/500\n",
            "10/10 [==============================] - 0s 6ms/step - loss: 20.7616 - root_mean_squared_error: 25.9624 - val_loss: 25.8712 - val_root_mean_squared_error: 33.2562\n",
            "Epoch 256/500\n",
            "10/10 [==============================] - 0s 7ms/step - loss: 21.5196 - root_mean_squared_error: 26.5121 - val_loss: 24.0365 - val_root_mean_squared_error: 31.6881\n",
            "Epoch 257/500\n",
            "10/10 [==============================] - 0s 8ms/step - loss: 21.3816 - root_mean_squared_error: 26.0001 - val_loss: 21.7428 - val_root_mean_squared_error: 30.3349\n",
            "Epoch 258/500\n",
            "10/10 [==============================] - 0s 6ms/step - loss: 20.6438 - root_mean_squared_error: 25.6729 - val_loss: 24.0156 - val_root_mean_squared_error: 31.6269\n",
            "Epoch 259/500\n",
            "10/10 [==============================] - 0s 6ms/step - loss: 20.6801 - root_mean_squared_error: 25.4552 - val_loss: 21.8442 - val_root_mean_squared_error: 30.2201\n",
            "Epoch 260/500\n",
            "10/10 [==============================] - 0s 8ms/step - loss: 21.6798 - root_mean_squared_error: 26.8953 - val_loss: 27.4745 - val_root_mean_squared_error: 34.3253\n",
            "Epoch 261/500\n",
            "10/10 [==============================] - 0s 6ms/step - loss: 22.2368 - root_mean_squared_error: 27.8637 - val_loss: 22.3688 - val_root_mean_squared_error: 30.5709\n",
            "Epoch 262/500\n",
            "10/10 [==============================] - 0s 8ms/step - loss: 21.8673 - root_mean_squared_error: 26.6071 - val_loss: 22.2263 - val_root_mean_squared_error: 30.6747\n",
            "Epoch 263/500\n",
            "10/10 [==============================] - 0s 8ms/step - loss: 23.1368 - root_mean_squared_error: 28.9023 - val_loss: 25.4320 - val_root_mean_squared_error: 32.7537\n",
            "Epoch 264/500\n",
            "10/10 [==============================] - 0s 6ms/step - loss: 21.8295 - root_mean_squared_error: 27.0219 - val_loss: 25.4419 - val_root_mean_squared_error: 32.8719\n",
            "Epoch 265/500\n",
            "10/10 [==============================] - 0s 7ms/step - loss: 21.0598 - root_mean_squared_error: 25.8824 - val_loss: 22.0317 - val_root_mean_squared_error: 30.4993\n",
            "Epoch 266/500\n",
            "10/10 [==============================] - 0s 8ms/step - loss: 21.0408 - root_mean_squared_error: 26.3141 - val_loss: 26.1784 - val_root_mean_squared_error: 33.4635\n",
            "Epoch 267/500\n",
            "10/10 [==============================] - 0s 6ms/step - loss: 20.8806 - root_mean_squared_error: 25.8381 - val_loss: 22.0081 - val_root_mean_squared_error: 30.4700\n",
            "Epoch 268/500\n",
            "10/10 [==============================] - 0s 6ms/step - loss: 21.4203 - root_mean_squared_error: 26.4890 - val_loss: 22.8371 - val_root_mean_squared_error: 30.9814\n",
            "Epoch 269/500\n",
            "10/10 [==============================] - 0s 8ms/step - loss: 21.3366 - root_mean_squared_error: 26.2308 - val_loss: 23.4682 - val_root_mean_squared_error: 31.4302\n",
            "Epoch 270/500\n",
            "10/10 [==============================] - 0s 7ms/step - loss: 21.4590 - root_mean_squared_error: 26.7277 - val_loss: 23.8738 - val_root_mean_squared_error: 31.6523\n",
            "Epoch 271/500\n",
            "10/10 [==============================] - 0s 6ms/step - loss: 20.8559 - root_mean_squared_error: 25.8192 - val_loss: 22.2276 - val_root_mean_squared_error: 30.5864\n",
            "Epoch 272/500\n",
            "10/10 [==============================] - 0s 6ms/step - loss: 20.8728 - root_mean_squared_error: 25.9985 - val_loss: 23.1056 - val_root_mean_squared_error: 31.1518\n",
            "Epoch 273/500\n",
            "10/10 [==============================] - 0s 8ms/step - loss: 21.0003 - root_mean_squared_error: 25.6866 - val_loss: 21.8250 - val_root_mean_squared_error: 30.2335\n",
            "Epoch 274/500\n",
            "10/10 [==============================] - 0s 6ms/step - loss: 21.2327 - root_mean_squared_error: 26.1676 - val_loss: 22.8007 - val_root_mean_squared_error: 30.6176\n",
            "Epoch 275/500\n",
            "10/10 [==============================] - 0s 6ms/step - loss: 21.2399 - root_mean_squared_error: 26.4831 - val_loss: 27.2242 - val_root_mean_squared_error: 33.9849\n",
            "Epoch 276/500\n",
            "10/10 [==============================] - 0s 6ms/step - loss: 22.1319 - root_mean_squared_error: 27.1857 - val_loss: 22.1497 - val_root_mean_squared_error: 30.6146\n",
            "Epoch 277/500\n",
            "10/10 [==============================] - 0s 8ms/step - loss: 22.1872 - root_mean_squared_error: 27.1732 - val_loss: 22.1849 - val_root_mean_squared_error: 30.6905\n",
            "Epoch 278/500\n",
            "10/10 [==============================] - 0s 8ms/step - loss: 20.8742 - root_mean_squared_error: 26.0079 - val_loss: 24.3725 - val_root_mean_squared_error: 32.0581\n",
            "Epoch 279/500\n",
            "10/10 [==============================] - 0s 7ms/step - loss: 21.2701 - root_mean_squared_error: 26.3067 - val_loss: 26.4346 - val_root_mean_squared_error: 33.6492\n",
            "Epoch 280/500\n",
            "10/10 [==============================] - 0s 7ms/step - loss: 22.0453 - root_mean_squared_error: 27.1592 - val_loss: 21.9072 - val_root_mean_squared_error: 30.4960\n",
            "Epoch 281/500\n",
            "10/10 [==============================] - 0s 6ms/step - loss: 21.3547 - root_mean_squared_error: 26.5610 - val_loss: 26.5283 - val_root_mean_squared_error: 33.6125\n",
            "Epoch 282/500\n",
            "10/10 [==============================] - 0s 8ms/step - loss: 21.4280 - root_mean_squared_error: 26.2842 - val_loss: 23.2867 - val_root_mean_squared_error: 31.2165\n",
            "Epoch 283/500\n",
            "10/10 [==============================] - 0s 8ms/step - loss: 21.1125 - root_mean_squared_error: 26.0378 - val_loss: 21.6867 - val_root_mean_squared_error: 30.3163\n",
            "Epoch 284/500\n",
            "10/10 [==============================] - 0s 9ms/step - loss: 20.9897 - root_mean_squared_error: 26.5231 - val_loss: 28.6915 - val_root_mean_squared_error: 35.2304\n",
            "Epoch 285/500\n",
            "10/10 [==============================] - 0s 8ms/step - loss: 21.8948 - root_mean_squared_error: 26.7899 - val_loss: 21.6132 - val_root_mean_squared_error: 30.1522\n",
            "Epoch 286/500\n",
            "10/10 [==============================] - 0s 6ms/step - loss: 21.1978 - root_mean_squared_error: 26.0337 - val_loss: 22.1682 - val_root_mean_squared_error: 30.5779\n",
            "Epoch 287/500\n",
            "10/10 [==============================] - 0s 6ms/step - loss: 20.8725 - root_mean_squared_error: 25.8679 - val_loss: 22.5042 - val_root_mean_squared_error: 30.8414\n",
            "Epoch 288/500\n",
            "10/10 [==============================] - 0s 8ms/step - loss: 21.1646 - root_mean_squared_error: 25.7734 - val_loss: 22.2097 - val_root_mean_squared_error: 30.6424\n",
            "Epoch 289/500\n",
            "10/10 [==============================] - 0s 7ms/step - loss: 22.3536 - root_mean_squared_error: 27.9999 - val_loss: 27.3557 - val_root_mean_squared_error: 34.4150\n",
            "Epoch 290/500\n",
            "10/10 [==============================] - 0s 6ms/step - loss: 21.4998 - root_mean_squared_error: 26.5702 - val_loss: 22.1856 - val_root_mean_squared_error: 30.4847\n",
            "Epoch 291/500\n",
            "10/10 [==============================] - 0s 8ms/step - loss: 21.2005 - root_mean_squared_error: 26.0243 - val_loss: 21.9017 - val_root_mean_squared_error: 30.3332\n",
            "Epoch 292/500\n",
            "10/10 [==============================] - 0s 6ms/step - loss: 21.2551 - root_mean_squared_error: 26.3595 - val_loss: 22.7868 - val_root_mean_squared_error: 30.9611\n",
            "Epoch 293/500\n",
            "10/10 [==============================] - 0s 8ms/step - loss: 20.7327 - root_mean_squared_error: 25.9450 - val_loss: 22.7037 - val_root_mean_squared_error: 30.9339\n",
            "Epoch 294/500\n",
            "10/10 [==============================] - 0s 7ms/step - loss: 20.7086 - root_mean_squared_error: 25.6614 - val_loss: 23.1867 - val_root_mean_squared_error: 31.1486\n",
            "Epoch 295/500\n",
            "10/10 [==============================] - 0s 8ms/step - loss: 21.1527 - root_mean_squared_error: 26.3932 - val_loss: 25.7388 - val_root_mean_squared_error: 33.1353\n",
            "Epoch 296/500\n",
            "10/10 [==============================] - 0s 9ms/step - loss: 21.5279 - root_mean_squared_error: 26.5264 - val_loss: 21.8401 - val_root_mean_squared_error: 30.4902\n",
            "Epoch 297/500\n",
            "10/10 [==============================] - 0s 7ms/step - loss: 20.8206 - root_mean_squared_error: 25.9547 - val_loss: 25.0069 - val_root_mean_squared_error: 32.7031\n",
            "Epoch 298/500\n",
            "10/10 [==============================] - 0s 7ms/step - loss: 20.9128 - root_mean_squared_error: 25.7299 - val_loss: 23.4225 - val_root_mean_squared_error: 31.2732\n",
            "Epoch 299/500\n",
            "10/10 [==============================] - 0s 7ms/step - loss: 21.4537 - root_mean_squared_error: 26.1656 - val_loss: 21.9775 - val_root_mean_squared_error: 30.2434\n",
            "Epoch 300/500\n",
            "10/10 [==============================] - 0s 6ms/step - loss: 21.7944 - root_mean_squared_error: 27.0329 - val_loss: 23.5044 - val_root_mean_squared_error: 31.4238\n",
            "Epoch 301/500\n",
            "10/10 [==============================] - 0s 6ms/step - loss: 21.2292 - root_mean_squared_error: 26.5486 - val_loss: 24.5706 - val_root_mean_squared_error: 32.3579\n",
            "Epoch 302/500\n",
            "10/10 [==============================] - 0s 6ms/step - loss: 21.9036 - root_mean_squared_error: 27.1357 - val_loss: 21.8573 - val_root_mean_squared_error: 30.5226\n",
            "Epoch 303/500\n",
            "10/10 [==============================] - 0s 6ms/step - loss: 21.4899 - root_mean_squared_error: 26.1395 - val_loss: 21.8222 - val_root_mean_squared_error: 30.4110\n",
            "Epoch 304/500\n",
            "10/10 [==============================] - 0s 7ms/step - loss: 22.7512 - root_mean_squared_error: 28.6629 - val_loss: 28.5732 - val_root_mean_squared_error: 35.4553\n",
            "Epoch 305/500\n",
            "10/10 [==============================] - 0s 6ms/step - loss: 22.1927 - root_mean_squared_error: 27.5327 - val_loss: 22.5575 - val_root_mean_squared_error: 30.6502\n",
            "Epoch 306/500\n",
            "10/10 [==============================] - 0s 6ms/step - loss: 21.4346 - root_mean_squared_error: 26.3197 - val_loss: 22.0188 - val_root_mean_squared_error: 30.3332\n",
            "Epoch 307/500\n",
            "10/10 [==============================] - 0s 6ms/step - loss: 20.8350 - root_mean_squared_error: 25.9873 - val_loss: 24.6213 - val_root_mean_squared_error: 32.2136\n",
            "Epoch 308/500\n",
            "10/10 [==============================] - 0s 8ms/step - loss: 21.2747 - root_mean_squared_error: 26.0444 - val_loss: 21.7989 - val_root_mean_squared_error: 30.3390\n",
            "Epoch 309/500\n",
            "10/10 [==============================] - 0s 7ms/step - loss: 21.0183 - root_mean_squared_error: 25.9469 - val_loss: 24.2594 - val_root_mean_squared_error: 31.9284\n",
            "Epoch 310/500\n",
            "10/10 [==============================] - 0s 7ms/step - loss: 20.9980 - root_mean_squared_error: 25.8268 - val_loss: 22.4681 - val_root_mean_squared_error: 30.7438\n",
            "Epoch 311/500\n",
            "10/10 [==============================] - 0s 6ms/step - loss: 20.8591 - root_mean_squared_error: 25.6731 - val_loss: 22.9810 - val_root_mean_squared_error: 30.9597\n",
            "Epoch 312/500\n",
            "10/10 [==============================] - 0s 9ms/step - loss: 20.7229 - root_mean_squared_error: 25.6428 - val_loss: 22.0093 - val_root_mean_squared_error: 30.4572\n",
            "Epoch 313/500\n",
            "10/10 [==============================] - 0s 6ms/step - loss: 21.2301 - root_mean_squared_error: 26.5560 - val_loss: 23.6622 - val_root_mean_squared_error: 31.4506\n",
            "Epoch 314/500\n",
            "10/10 [==============================] - 0s 8ms/step - loss: 21.1046 - root_mean_squared_error: 26.2249 - val_loss: 24.9958 - val_root_mean_squared_error: 32.4865\n",
            "Epoch 315/500\n",
            "10/10 [==============================] - 0s 8ms/step - loss: 21.5040 - root_mean_squared_error: 26.0261 - val_loss: 21.6701 - val_root_mean_squared_error: 30.3747\n",
            "Epoch 316/500\n",
            "10/10 [==============================] - 0s 8ms/step - loss: 20.8096 - root_mean_squared_error: 25.7389 - val_loss: 23.2557 - val_root_mean_squared_error: 31.3801\n",
            "Epoch 317/500\n",
            "10/10 [==============================] - 0s 8ms/step - loss: 21.1437 - root_mean_squared_error: 26.0857 - val_loss: 21.8190 - val_root_mean_squared_error: 30.3580\n",
            "Epoch 318/500\n",
            "10/10 [==============================] - 0s 6ms/step - loss: 20.8892 - root_mean_squared_error: 25.5335 - val_loss: 22.1719 - val_root_mean_squared_error: 30.3913\n",
            "Epoch 319/500\n",
            "10/10 [==============================] - 0s 8ms/step - loss: 21.2469 - root_mean_squared_error: 26.2585 - val_loss: 22.4626 - val_root_mean_squared_error: 30.5795\n",
            "Epoch 320/500\n",
            "10/10 [==============================] - 0s 8ms/step - loss: 20.8078 - root_mean_squared_error: 25.8747 - val_loss: 23.6056 - val_root_mean_squared_error: 31.4016\n",
            "Epoch 321/500\n",
            "10/10 [==============================] - 0s 8ms/step - loss: 20.9916 - root_mean_squared_error: 25.7097 - val_loss: 23.5881 - val_root_mean_squared_error: 31.4870\n",
            "Epoch 322/500\n",
            "10/10 [==============================] - 0s 7ms/step - loss: 21.9326 - root_mean_squared_error: 26.7463 - val_loss: 21.8553 - val_root_mean_squared_error: 30.4009\n",
            "Epoch 323/500\n",
            "10/10 [==============================] - 0s 7ms/step - loss: 20.8789 - root_mean_squared_error: 25.8822 - val_loss: 25.4247 - val_root_mean_squared_error: 32.7613\n",
            "Epoch 324/500\n",
            "10/10 [==============================] - 0s 6ms/step - loss: 20.9741 - root_mean_squared_error: 25.9628 - val_loss: 22.9152 - val_root_mean_squared_error: 30.9755\n",
            "Epoch 325/500\n",
            "10/10 [==============================] - 0s 6ms/step - loss: 20.8742 - root_mean_squared_error: 25.5131 - val_loss: 22.8497 - val_root_mean_squared_error: 31.1104\n",
            "Epoch 326/500\n",
            "10/10 [==============================] - 0s 6ms/step - loss: 20.9246 - root_mean_squared_error: 25.9772 - val_loss: 24.3600 - val_root_mean_squared_error: 32.0826\n",
            "Epoch 327/500\n",
            "10/10 [==============================] - 0s 8ms/step - loss: 21.6979 - root_mean_squared_error: 26.5091 - val_loss: 21.8959 - val_root_mean_squared_error: 30.5800\n",
            "Epoch 328/500\n",
            "10/10 [==============================] - 0s 8ms/step - loss: 20.9789 - root_mean_squared_error: 26.3392 - val_loss: 25.9108 - val_root_mean_squared_error: 33.3163\n",
            "Epoch 329/500\n",
            "10/10 [==============================] - 0s 6ms/step - loss: 21.7558 - root_mean_squared_error: 27.0252 - val_loss: 23.6430 - val_root_mean_squared_error: 31.5146\n",
            "Epoch 330/500\n",
            "10/10 [==============================] - 0s 6ms/step - loss: 21.8170 - root_mean_squared_error: 26.6097 - val_loss: 21.9228 - val_root_mean_squared_error: 30.5867\n",
            "Epoch 331/500\n",
            "10/10 [==============================] - 0s 8ms/step - loss: 21.7815 - root_mean_squared_error: 27.1243 - val_loss: 26.3042 - val_root_mean_squared_error: 33.5423\n",
            "Epoch 332/500\n",
            "10/10 [==============================] - 0s 7ms/step - loss: 21.4556 - root_mean_squared_error: 26.6691 - val_loss: 22.9743 - val_root_mean_squared_error: 30.9775\n",
            "Epoch 333/500\n",
            "10/10 [==============================] - 0s 8ms/step - loss: 21.1925 - root_mean_squared_error: 26.3247 - val_loss: 24.1287 - val_root_mean_squared_error: 31.8899\n",
            "Epoch 334/500\n",
            "10/10 [==============================] - 0s 7ms/step - loss: 20.8841 - root_mean_squared_error: 25.8235 - val_loss: 23.1326 - val_root_mean_squared_error: 31.1841\n",
            "Epoch 335/500\n",
            "10/10 [==============================] - 0s 6ms/step - loss: 20.7201 - root_mean_squared_error: 25.7027 - val_loss: 23.4192 - val_root_mean_squared_error: 31.4098\n",
            "Epoch 336/500\n",
            "10/10 [==============================] - 0s 7ms/step - loss: 20.9940 - root_mean_squared_error: 25.8390 - val_loss: 22.2464 - val_root_mean_squared_error: 30.5291\n",
            "Epoch 337/500\n",
            "10/10 [==============================] - 0s 8ms/step - loss: 21.0256 - root_mean_squared_error: 26.0919 - val_loss: 23.9771 - val_root_mean_squared_error: 31.6820\n",
            "Epoch 338/500\n",
            "10/10 [==============================] - 0s 7ms/step - loss: 20.9350 - root_mean_squared_error: 26.2285 - val_loss: 24.4574 - val_root_mean_squared_error: 32.0593\n",
            "Epoch 339/500\n",
            "10/10 [==============================] - 0s 6ms/step - loss: 21.3721 - root_mean_squared_error: 26.0934 - val_loss: 22.8389 - val_root_mean_squared_error: 30.8124\n",
            "Epoch 340/500\n",
            "10/10 [==============================] - 0s 6ms/step - loss: 20.8735 - root_mean_squared_error: 26.1764 - val_loss: 23.2093 - val_root_mean_squared_error: 31.1926\n",
            "Epoch 341/500\n",
            "10/10 [==============================] - 0s 6ms/step - loss: 20.8475 - root_mean_squared_error: 25.7937 - val_loss: 23.5379 - val_root_mean_squared_error: 31.4397\n",
            "Epoch 342/500\n",
            "10/10 [==============================] - 0s 8ms/step - loss: 20.7731 - root_mean_squared_error: 25.5435 - val_loss: 22.0941 - val_root_mean_squared_error: 30.4924\n",
            "Epoch 343/500\n",
            "10/10 [==============================] - 0s 7ms/step - loss: 21.5174 - root_mean_squared_error: 26.6924 - val_loss: 26.1728 - val_root_mean_squared_error: 33.4626\n",
            "Epoch 344/500\n",
            "10/10 [==============================] - 0s 8ms/step - loss: 21.5020 - root_mean_squared_error: 26.3563 - val_loss: 22.4982 - val_root_mean_squared_error: 30.7576\n",
            "Epoch 345/500\n",
            "10/10 [==============================] - 0s 8ms/step - loss: 20.9520 - root_mean_squared_error: 25.9879 - val_loss: 22.6097 - val_root_mean_squared_error: 30.8609\n",
            "Epoch 346/500\n",
            "10/10 [==============================] - 0s 8ms/step - loss: 20.8135 - root_mean_squared_error: 25.5966 - val_loss: 22.4564 - val_root_mean_squared_error: 30.6289\n",
            "Epoch 347/500\n",
            "10/10 [==============================] - 0s 8ms/step - loss: 20.9459 - root_mean_squared_error: 26.0024 - val_loss: 23.1949 - val_root_mean_squared_error: 31.1382\n",
            "Epoch 348/500\n",
            "10/10 [==============================] - 0s 8ms/step - loss: 20.9055 - root_mean_squared_error: 25.8055 - val_loss: 23.2957 - val_root_mean_squared_error: 31.1506\n",
            "Epoch 349/500\n",
            "10/10 [==============================] - 0s 9ms/step - loss: 20.9863 - root_mean_squared_error: 26.0409 - val_loss: 22.6018 - val_root_mean_squared_error: 30.7137\n",
            "Epoch 350/500\n",
            "10/10 [==============================] - 0s 6ms/step - loss: 20.9283 - root_mean_squared_error: 25.7192 - val_loss: 22.6215 - val_root_mean_squared_error: 30.8346\n",
            "Epoch 351/500\n",
            "10/10 [==============================] - 0s 8ms/step - loss: 20.8077 - root_mean_squared_error: 25.5356 - val_loss: 22.1694 - val_root_mean_squared_error: 30.5261\n",
            "Epoch 352/500\n",
            "10/10 [==============================] - 0s 8ms/step - loss: 20.8696 - root_mean_squared_error: 26.0721 - val_loss: 26.4316 - val_root_mean_squared_error: 33.8682\n",
            "Epoch 353/500\n",
            "10/10 [==============================] - 0s 8ms/step - loss: 22.0778 - root_mean_squared_error: 27.2913 - val_loss: 23.3541 - val_root_mean_squared_error: 31.1942\n",
            "Epoch 354/500\n",
            "10/10 [==============================] - 0s 9ms/step - loss: 21.0584 - root_mean_squared_error: 25.7271 - val_loss: 22.1183 - val_root_mean_squared_error: 30.4501\n",
            "Epoch 355/500\n",
            "10/10 [==============================] - 0s 9ms/step - loss: 21.1400 - root_mean_squared_error: 26.8258 - val_loss: 27.6908 - val_root_mean_squared_error: 34.7943\n",
            "Epoch 356/500\n",
            "10/10 [==============================] - 0s 9ms/step - loss: 22.5171 - root_mean_squared_error: 27.3299 - val_loss: 22.9706 - val_root_mean_squared_error: 30.9706\n",
            "Epoch 357/500\n",
            "10/10 [==============================] - 0s 10ms/step - loss: 21.4633 - root_mean_squared_error: 27.3654 - val_loss: 27.9509 - val_root_mean_squared_error: 34.8808\n",
            "Epoch 358/500\n",
            "10/10 [==============================] - 0s 10ms/step - loss: 20.7992 - root_mean_squared_error: 26.2098 - val_loss: 23.6780 - val_root_mean_squared_error: 31.5145\n",
            "Epoch 359/500\n",
            "10/10 [==============================] - 0s 10ms/step - loss: 23.3337 - root_mean_squared_error: 28.6932 - val_loss: 22.8493 - val_root_mean_squared_error: 30.9406\n",
            "Epoch 360/500\n",
            "10/10 [==============================] - 0s 11ms/step - loss: 22.0761 - root_mean_squared_error: 27.9823 - val_loss: 27.0225 - val_root_mean_squared_error: 34.1511\n",
            "Epoch 361/500\n",
            "10/10 [==============================] - 0s 9ms/step - loss: 21.5153 - root_mean_squared_error: 26.6544 - val_loss: 21.8409 - val_root_mean_squared_error: 30.5280\n",
            "Epoch 362/500\n",
            "10/10 [==============================] - 0s 8ms/step - loss: 21.8783 - root_mean_squared_error: 26.7956 - val_loss: 22.3984 - val_root_mean_squared_error: 30.7882\n",
            "Epoch 363/500\n",
            "10/10 [==============================] - 0s 10ms/step - loss: 20.9883 - root_mean_squared_error: 26.1326 - val_loss: 23.9945 - val_root_mean_squared_error: 31.8715\n",
            "Epoch 364/500\n",
            "10/10 [==============================] - 0s 10ms/step - loss: 20.7894 - root_mean_squared_error: 25.5224 - val_loss: 21.8705 - val_root_mean_squared_error: 30.5350\n",
            "Epoch 365/500\n",
            "10/10 [==============================] - 0s 9ms/step - loss: 21.3916 - root_mean_squared_error: 26.1548 - val_loss: 23.9401 - val_root_mean_squared_error: 31.6262\n",
            "Epoch 366/500\n",
            "10/10 [==============================] - 0s 10ms/step - loss: 20.8830 - root_mean_squared_error: 25.7681 - val_loss: 23.0473 - val_root_mean_squared_error: 30.8503\n",
            "Epoch 367/500\n",
            "10/10 [==============================] - 0s 9ms/step - loss: 21.0669 - root_mean_squared_error: 26.4411 - val_loss: 25.9278 - val_root_mean_squared_error: 33.2016\n",
            "Epoch 368/500\n",
            "10/10 [==============================] - 0s 9ms/step - loss: 21.3128 - root_mean_squared_error: 26.2074 - val_loss: 23.1636 - val_root_mean_squared_error: 31.1396\n",
            "Epoch 369/500\n",
            "10/10 [==============================] - 0s 10ms/step - loss: 20.7409 - root_mean_squared_error: 25.6569 - val_loss: 22.3064 - val_root_mean_squared_error: 30.6225\n",
            "Epoch 370/500\n",
            "10/10 [==============================] - 0s 10ms/step - loss: 20.7401 - root_mean_squared_error: 25.9626 - val_loss: 24.7556 - val_root_mean_squared_error: 32.3865\n",
            "Epoch 371/500\n",
            "10/10 [==============================] - 0s 10ms/step - loss: 21.1374 - root_mean_squared_error: 25.7854 - val_loss: 21.8148 - val_root_mean_squared_error: 30.4273\n",
            "Epoch 372/500\n",
            "10/10 [==============================] - 0s 10ms/step - loss: 21.0507 - root_mean_squared_error: 25.9235 - val_loss: 22.2263 - val_root_mean_squared_error: 30.5491\n",
            "Epoch 373/500\n",
            "10/10 [==============================] - 0s 8ms/step - loss: 21.1681 - root_mean_squared_error: 25.8409 - val_loss: 22.1683 - val_root_mean_squared_error: 30.3864\n",
            "Epoch 374/500\n",
            "10/10 [==============================] - 0s 8ms/step - loss: 21.3677 - root_mean_squared_error: 26.1943 - val_loss: 22.8167 - val_root_mean_squared_error: 30.6846\n",
            "Epoch 375/500\n",
            "10/10 [==============================] - 0s 9ms/step - loss: 20.9969 - root_mean_squared_error: 26.1929 - val_loss: 23.6206 - val_root_mean_squared_error: 31.3591\n",
            "Epoch 376/500\n",
            "10/10 [==============================] - 0s 9ms/step - loss: 20.7776 - root_mean_squared_error: 25.6915 - val_loss: 22.8053 - val_root_mean_squared_error: 30.9158\n",
            "Epoch 377/500\n",
            "10/10 [==============================] - 0s 9ms/step - loss: 21.1472 - root_mean_squared_error: 25.8609 - val_loss: 21.8462 - val_root_mean_squared_error: 30.5153\n",
            "Epoch 378/500\n",
            "10/10 [==============================] - 0s 8ms/step - loss: 22.8961 - root_mean_squared_error: 29.1763 - val_loss: 27.9067 - val_root_mean_squared_error: 34.8724\n",
            "Epoch 379/500\n",
            "10/10 [==============================] - 0s 10ms/step - loss: 22.2199 - root_mean_squared_error: 27.3063 - val_loss: 22.1120 - val_root_mean_squared_error: 30.7968\n",
            "Epoch 380/500\n",
            "10/10 [==============================] - 0s 11ms/step - loss: 21.4458 - root_mean_squared_error: 25.9799 - val_loss: 22.2792 - val_root_mean_squared_error: 30.8460\n",
            "Epoch 381/500\n",
            "10/10 [==============================] - 0s 9ms/step - loss: 22.3806 - root_mean_squared_error: 27.8532 - val_loss: 25.8656 - val_root_mean_squared_error: 33.0467\n",
            "Epoch 382/500\n",
            "10/10 [==============================] - 0s 8ms/step - loss: 21.0910 - root_mean_squared_error: 26.4388 - val_loss: 21.5978 - val_root_mean_squared_error: 30.1164\n",
            "Epoch 383/500\n",
            "10/10 [==============================] - 0s 9ms/step - loss: 21.1984 - root_mean_squared_error: 25.8834 - val_loss: 22.5520 - val_root_mean_squared_error: 30.6637\n",
            "Epoch 384/500\n",
            "10/10 [==============================] - 0s 9ms/step - loss: 20.9394 - root_mean_squared_error: 25.8543 - val_loss: 23.1784 - val_root_mean_squared_error: 31.1840\n",
            "Epoch 385/500\n",
            "10/10 [==============================] - 0s 9ms/step - loss: 20.7611 - root_mean_squared_error: 25.7556 - val_loss: 23.5423 - val_root_mean_squared_error: 31.5259\n",
            "Epoch 386/500\n",
            "10/10 [==============================] - 0s 8ms/step - loss: 21.1531 - root_mean_squared_error: 25.8175 - val_loss: 21.8360 - val_root_mean_squared_error: 30.4138\n",
            "Epoch 387/500\n",
            "10/10 [==============================] - 0s 7ms/step - loss: 20.9187 - root_mean_squared_error: 25.8438 - val_loss: 23.1458 - val_root_mean_squared_error: 31.1882\n",
            "Epoch 388/500\n",
            "10/10 [==============================] - 0s 8ms/step - loss: 20.8567 - root_mean_squared_error: 25.8796 - val_loss: 22.1273 - val_root_mean_squared_error: 30.6110\n",
            "Epoch 389/500\n",
            "10/10 [==============================] - 0s 7ms/step - loss: 20.7904 - root_mean_squared_error: 25.6625 - val_loss: 22.2176 - val_root_mean_squared_error: 30.6264\n",
            "Epoch 390/500\n",
            "10/10 [==============================] - 0s 6ms/step - loss: 21.0728 - root_mean_squared_error: 26.2434 - val_loss: 23.3905 - val_root_mean_squared_error: 31.3843\n",
            "Epoch 391/500\n",
            "10/10 [==============================] - 0s 9ms/step - loss: 21.0115 - root_mean_squared_error: 26.0745 - val_loss: 25.8340 - val_root_mean_squared_error: 33.2282\n",
            "Epoch 392/500\n",
            "10/10 [==============================] - 0s 6ms/step - loss: 22.2729 - root_mean_squared_error: 27.1445 - val_loss: 21.9680 - val_root_mean_squared_error: 30.7801\n",
            "Epoch 393/500\n",
            "10/10 [==============================] - 0s 6ms/step - loss: 21.2968 - root_mean_squared_error: 26.3494 - val_loss: 24.4814 - val_root_mean_squared_error: 32.1837\n",
            "Epoch 394/500\n",
            "10/10 [==============================] - 0s 7ms/step - loss: 21.3658 - root_mean_squared_error: 26.2724 - val_loss: 23.5570 - val_root_mean_squared_error: 31.4316\n",
            "Epoch 395/500\n",
            "10/10 [==============================] - 0s 8ms/step - loss: 20.9216 - root_mean_squared_error: 25.9690 - val_loss: 23.3630 - val_root_mean_squared_error: 31.3384\n",
            "Epoch 396/500\n",
            "10/10 [==============================] - 0s 6ms/step - loss: 21.2311 - root_mean_squared_error: 26.2648 - val_loss: 23.1296 - val_root_mean_squared_error: 31.1764\n",
            "Epoch 397/500\n",
            "10/10 [==============================] - 0s 7ms/step - loss: 21.0579 - root_mean_squared_error: 25.8594 - val_loss: 21.8577 - val_root_mean_squared_error: 30.3456\n",
            "Epoch 398/500\n",
            "10/10 [==============================] - 0s 6ms/step - loss: 20.9507 - root_mean_squared_error: 25.9463 - val_loss: 26.1447 - val_root_mean_squared_error: 33.4175\n",
            "Epoch 399/500\n",
            "10/10 [==============================] - 0s 7ms/step - loss: 20.6773 - root_mean_squared_error: 25.5374 - val_loss: 21.8938 - val_root_mean_squared_error: 30.4033\n",
            "Epoch 400/500\n",
            "10/10 [==============================] - 0s 6ms/step - loss: 20.9883 - root_mean_squared_error: 26.0181 - val_loss: 24.2673 - val_root_mean_squared_error: 31.8212\n",
            "Epoch 401/500\n",
            "10/10 [==============================] - 0s 6ms/step - loss: 20.8962 - root_mean_squared_error: 25.7373 - val_loss: 23.8242 - val_root_mean_squared_error: 31.5493\n",
            "Epoch 402/500\n",
            "10/10 [==============================] - 0s 7ms/step - loss: 21.4410 - root_mean_squared_error: 26.0540 - val_loss: 21.7175 - val_root_mean_squared_error: 30.3722\n",
            "Epoch 403/500\n",
            "10/10 [==============================] - 0s 8ms/step - loss: 20.9920 - root_mean_squared_error: 26.2282 - val_loss: 26.6325 - val_root_mean_squared_error: 33.6944\n",
            "Epoch 404/500\n",
            "10/10 [==============================] - 0s 7ms/step - loss: 20.9408 - root_mean_squared_error: 25.8830 - val_loss: 21.7127 - val_root_mean_squared_error: 30.3835\n",
            "Epoch 405/500\n",
            "10/10 [==============================] - 0s 8ms/step - loss: 21.0868 - root_mean_squared_error: 26.0727 - val_loss: 27.8877 - val_root_mean_squared_error: 34.6536\n",
            "Epoch 406/500\n",
            "10/10 [==============================] - 0s 8ms/step - loss: 22.8445 - root_mean_squared_error: 28.0473 - val_loss: 22.1880 - val_root_mean_squared_error: 30.6167\n",
            "Epoch 407/500\n",
            "10/10 [==============================] - 0s 7ms/step - loss: 21.3618 - root_mean_squared_error: 26.5616 - val_loss: 24.1337 - val_root_mean_squared_error: 31.6933\n",
            "Epoch 408/500\n",
            "10/10 [==============================] - 0s 7ms/step - loss: 20.7308 - root_mean_squared_error: 25.6304 - val_loss: 21.8394 - val_root_mean_squared_error: 30.3389\n",
            "Epoch 409/500\n",
            "10/10 [==============================] - 0s 7ms/step - loss: 20.7880 - root_mean_squared_error: 26.0406 - val_loss: 25.1311 - val_root_mean_squared_error: 32.6754\n",
            "Epoch 410/500\n",
            "10/10 [==============================] - 0s 8ms/step - loss: 20.9539 - root_mean_squared_error: 25.7051 - val_loss: 21.6869 - val_root_mean_squared_error: 30.3704\n",
            "Epoch 411/500\n",
            "10/10 [==============================] - 0s 6ms/step - loss: 21.3533 - root_mean_squared_error: 26.5425 - val_loss: 28.4207 - val_root_mean_squared_error: 35.2256\n",
            "Epoch 412/500\n",
            "10/10 [==============================] - 0s 7ms/step - loss: 21.6350 - root_mean_squared_error: 26.8952 - val_loss: 22.1009 - val_root_mean_squared_error: 30.4233\n",
            "Epoch 413/500\n",
            "10/10 [==============================] - 0s 7ms/step - loss: 21.6052 - root_mean_squared_error: 26.6355 - val_loss: 21.8379 - val_root_mean_squared_error: 30.3251\n",
            "Epoch 414/500\n",
            "10/10 [==============================] - 0s 8ms/step - loss: 21.6851 - root_mean_squared_error: 27.4650 - val_loss: 26.1377 - val_root_mean_squared_error: 33.2654\n",
            "Epoch 415/500\n",
            "10/10 [==============================] - 0s 6ms/step - loss: 20.8254 - root_mean_squared_error: 25.8316 - val_loss: 21.9170 - val_root_mean_squared_error: 30.4967\n",
            "Epoch 416/500\n",
            "10/10 [==============================] - 0s 6ms/step - loss: 21.2422 - root_mean_squared_error: 26.2941 - val_loss: 23.9016 - val_root_mean_squared_error: 31.6703\n",
            "Epoch 417/500\n",
            "10/10 [==============================] - 0s 7ms/step - loss: 20.7805 - root_mean_squared_error: 25.6154 - val_loss: 21.9325 - val_root_mean_squared_error: 30.4318\n",
            "Epoch 418/500\n",
            "10/10 [==============================] - 0s 6ms/step - loss: 21.2168 - root_mean_squared_error: 25.8669 - val_loss: 22.0120 - val_root_mean_squared_error: 30.3030\n",
            "Epoch 419/500\n",
            "10/10 [==============================] - 0s 6ms/step - loss: 21.7815 - root_mean_squared_error: 26.8349 - val_loss: 24.7310 - val_root_mean_squared_error: 32.3651\n",
            "Epoch 420/500\n",
            "10/10 [==============================] - 0s 6ms/step - loss: 20.7806 - root_mean_squared_error: 25.7172 - val_loss: 22.0104 - val_root_mean_squared_error: 30.4493\n",
            "Epoch 421/500\n",
            "10/10 [==============================] - 0s 9ms/step - loss: 21.0263 - root_mean_squared_error: 25.8077 - val_loss: 23.0629 - val_root_mean_squared_error: 30.9977\n",
            "Epoch 422/500\n",
            "10/10 [==============================] - 0s 8ms/step - loss: 20.9713 - root_mean_squared_error: 26.3579 - val_loss: 26.4172 - val_root_mean_squared_error: 33.8022\n",
            "Epoch 423/500\n",
            "10/10 [==============================] - 0s 6ms/step - loss: 21.6905 - root_mean_squared_error: 26.6614 - val_loss: 22.0029 - val_root_mean_squared_error: 30.5301\n",
            "Epoch 424/500\n",
            "10/10 [==============================] - 0s 6ms/step - loss: 21.2978 - root_mean_squared_error: 26.3162 - val_loss: 23.4604 - val_root_mean_squared_error: 31.2879\n",
            "Epoch 425/500\n",
            "10/10 [==============================] - 0s 8ms/step - loss: 20.5731 - root_mean_squared_error: 25.7855 - val_loss: 21.9987 - val_root_mean_squared_error: 30.2738\n",
            "Epoch 426/500\n",
            "10/10 [==============================] - 0s 7ms/step - loss: 21.0140 - root_mean_squared_error: 26.2654 - val_loss: 25.2804 - val_root_mean_squared_error: 32.7692\n",
            "Epoch 427/500\n",
            "10/10 [==============================] - 0s 6ms/step - loss: 20.9811 - root_mean_squared_error: 26.2116 - val_loss: 22.7087 - val_root_mean_squared_error: 30.7946\n",
            "Epoch 428/500\n",
            "10/10 [==============================] - 0s 8ms/step - loss: 20.6767 - root_mean_squared_error: 25.4141 - val_loss: 22.6196 - val_root_mean_squared_error: 30.6273\n",
            "Epoch 429/500\n",
            "10/10 [==============================] - 0s 8ms/step - loss: 21.2861 - root_mean_squared_error: 26.3299 - val_loss: 24.7398 - val_root_mean_squared_error: 32.3212\n",
            "Epoch 430/500\n",
            "10/10 [==============================] - 0s 7ms/step - loss: 20.8491 - root_mean_squared_error: 25.5441 - val_loss: 22.1666 - val_root_mean_squared_error: 30.6140\n",
            "Epoch 431/500\n",
            "10/10 [==============================] - 0s 8ms/step - loss: 21.3058 - root_mean_squared_error: 26.5369 - val_loss: 24.3200 - val_root_mean_squared_error: 31.8269\n",
            "Epoch 432/500\n",
            "10/10 [==============================] - 0s 8ms/step - loss: 21.1527 - root_mean_squared_error: 25.7584 - val_loss: 21.9780 - val_root_mean_squared_error: 30.2270\n",
            "Epoch 433/500\n",
            "10/10 [==============================] - 0s 6ms/step - loss: 20.8352 - root_mean_squared_error: 25.7071 - val_loss: 23.6988 - val_root_mean_squared_error: 31.4377\n",
            "Epoch 434/500\n",
            "10/10 [==============================] - 0s 9ms/step - loss: 21.3034 - root_mean_squared_error: 26.3165 - val_loss: 21.9609 - val_root_mean_squared_error: 30.3619\n",
            "Epoch 435/500\n",
            "10/10 [==============================] - 0s 7ms/step - loss: 20.8075 - root_mean_squared_error: 25.5711 - val_loss: 23.5041 - val_root_mean_squared_error: 31.3242\n",
            "Epoch 436/500\n",
            "10/10 [==============================] - 0s 8ms/step - loss: 20.8113 - root_mean_squared_error: 25.6291 - val_loss: 22.3762 - val_root_mean_squared_error: 30.5987\n",
            "Epoch 437/500\n",
            "10/10 [==============================] - 0s 6ms/step - loss: 20.6877 - root_mean_squared_error: 25.5366 - val_loss: 26.7036 - val_root_mean_squared_error: 33.9276\n",
            "Epoch 438/500\n",
            "10/10 [==============================] - 0s 8ms/step - loss: 21.6641 - root_mean_squared_error: 26.5861 - val_loss: 22.6551 - val_root_mean_squared_error: 30.9121\n",
            "Epoch 439/500\n",
            "10/10 [==============================] - 0s 8ms/step - loss: 20.8811 - root_mean_squared_error: 25.7676 - val_loss: 23.2085 - val_root_mean_squared_error: 31.2759\n",
            "Epoch 440/500\n",
            "10/10 [==============================] - 0s 7ms/step - loss: 21.2533 - root_mean_squared_error: 26.1359 - val_loss: 21.8020 - val_root_mean_squared_error: 30.4394\n",
            "Epoch 441/500\n",
            "10/10 [==============================] - 0s 8ms/step - loss: 21.1043 - root_mean_squared_error: 26.0502 - val_loss: 24.4461 - val_root_mean_squared_error: 32.0856\n",
            "Epoch 442/500\n",
            "10/10 [==============================] - 0s 6ms/step - loss: 20.5765 - root_mean_squared_error: 25.3887 - val_loss: 22.0576 - val_root_mean_squared_error: 30.2945\n",
            "Epoch 443/500\n",
            "10/10 [==============================] - 0s 6ms/step - loss: 21.8712 - root_mean_squared_error: 27.5651 - val_loss: 27.6918 - val_root_mean_squared_error: 34.6155\n",
            "Epoch 444/500\n",
            "10/10 [==============================] - 0s 6ms/step - loss: 21.4164 - root_mean_squared_error: 26.5325 - val_loss: 21.9709 - val_root_mean_squared_error: 30.2978\n",
            "Epoch 445/500\n",
            "10/10 [==============================] - 0s 6ms/step - loss: 21.1475 - root_mean_squared_error: 25.8403 - val_loss: 22.3059 - val_root_mean_squared_error: 30.7452\n",
            "Epoch 446/500\n",
            "10/10 [==============================] - 0s 6ms/step - loss: 20.7872 - root_mean_squared_error: 25.8920 - val_loss: 23.2954 - val_root_mean_squared_error: 31.4593\n",
            "Epoch 447/500\n",
            "10/10 [==============================] - 0s 10ms/step - loss: 20.7666 - root_mean_squared_error: 25.4350 - val_loss: 21.7577 - val_root_mean_squared_error: 30.4709\n",
            "Epoch 448/500\n",
            "10/10 [==============================] - 0s 6ms/step - loss: 21.2450 - root_mean_squared_error: 25.9794 - val_loss: 25.7022 - val_root_mean_squared_error: 33.2124\n",
            "Epoch 449/500\n",
            "10/10 [==============================] - 0s 6ms/step - loss: 21.1407 - root_mean_squared_error: 26.1165 - val_loss: 21.9838 - val_root_mean_squared_error: 30.5166\n",
            "Epoch 450/500\n",
            "10/10 [==============================] - 0s 6ms/step - loss: 20.8969 - root_mean_squared_error: 25.7294 - val_loss: 21.9975 - val_root_mean_squared_error: 30.4761\n",
            "Epoch 451/500\n",
            "10/10 [==============================] - 0s 6ms/step - loss: 20.7824 - root_mean_squared_error: 25.8412 - val_loss: 24.6372 - val_root_mean_squared_error: 32.2547\n",
            "Epoch 452/500\n",
            "10/10 [==============================] - 0s 6ms/step - loss: 21.3551 - root_mean_squared_error: 26.1441 - val_loss: 21.7764 - val_root_mean_squared_error: 30.4306\n",
            "Epoch 453/500\n",
            "10/10 [==============================] - 0s 8ms/step - loss: 21.0992 - root_mean_squared_error: 26.1247 - val_loss: 22.7294 - val_root_mean_squared_error: 30.9765\n",
            "Epoch 454/500\n",
            "10/10 [==============================] - 0s 8ms/step - loss: 21.1966 - root_mean_squared_error: 26.3630 - val_loss: 24.1179 - val_root_mean_squared_error: 31.7800\n",
            "Epoch 455/500\n",
            "10/10 [==============================] - 0s 6ms/step - loss: 20.6583 - root_mean_squared_error: 25.8071 - val_loss: 21.9187 - val_root_mean_squared_error: 30.4680\n",
            "Epoch 456/500\n",
            "10/10 [==============================] - 0s 6ms/step - loss: 20.9811 - root_mean_squared_error: 25.7381 - val_loss: 22.1875 - val_root_mean_squared_error: 30.7044\n",
            "Epoch 457/500\n",
            "10/10 [==============================] - 0s 8ms/step - loss: 20.9776 - root_mean_squared_error: 25.9582 - val_loss: 24.5535 - val_root_mean_squared_error: 32.1746\n",
            "Epoch 458/500\n",
            "10/10 [==============================] - 0s 6ms/step - loss: 20.7374 - root_mean_squared_error: 25.7475 - val_loss: 22.3170 - val_root_mean_squared_error: 30.4444\n",
            "Epoch 459/500\n",
            "10/10 [==============================] - 0s 6ms/step - loss: 21.0980 - root_mean_squared_error: 25.9342 - val_loss: 22.8965 - val_root_mean_squared_error: 30.7448\n",
            "Epoch 460/500\n",
            "10/10 [==============================] - 0s 8ms/step - loss: 20.7800 - root_mean_squared_error: 25.5844 - val_loss: 23.0945 - val_root_mean_squared_error: 31.0244\n",
            "Epoch 461/500\n",
            "10/10 [==============================] - 0s 6ms/step - loss: 20.8918 - root_mean_squared_error: 25.8504 - val_loss: 24.5497 - val_root_mean_squared_error: 32.2100\n",
            "Epoch 462/500\n",
            "10/10 [==============================] - 0s 9ms/step - loss: 20.6611 - root_mean_squared_error: 25.5964 - val_loss: 21.7651 - val_root_mean_squared_error: 30.4667\n",
            "Epoch 463/500\n",
            "10/10 [==============================] - 0s 9ms/step - loss: 20.8111 - root_mean_squared_error: 25.8927 - val_loss: 24.3043 - val_root_mean_squared_error: 32.1100\n",
            "Epoch 464/500\n",
            "10/10 [==============================] - 0s 8ms/step - loss: 21.0191 - root_mean_squared_error: 25.7464 - val_loss: 21.6467 - val_root_mean_squared_error: 30.3612\n",
            "Epoch 465/500\n",
            "10/10 [==============================] - 0s 6ms/step - loss: 20.9600 - root_mean_squared_error: 25.8403 - val_loss: 26.5492 - val_root_mean_squared_error: 33.6032\n",
            "Epoch 466/500\n",
            "10/10 [==============================] - 0s 8ms/step - loss: 22.2293 - root_mean_squared_error: 27.3576 - val_loss: 22.4035 - val_root_mean_squared_error: 30.5413\n",
            "Epoch 467/500\n",
            "10/10 [==============================] - 0s 8ms/step - loss: 20.9619 - root_mean_squared_error: 25.7700 - val_loss: 22.8571 - val_root_mean_squared_error: 30.8687\n",
            "Epoch 468/500\n",
            "10/10 [==============================] - 0s 6ms/step - loss: 20.8630 - root_mean_squared_error: 26.2037 - val_loss: 23.0282 - val_root_mean_squared_error: 30.9696\n",
            "Epoch 469/500\n",
            "10/10 [==============================] - 0s 7ms/step - loss: 20.7113 - root_mean_squared_error: 25.5746 - val_loss: 22.0363 - val_root_mean_squared_error: 30.4986\n",
            "Epoch 470/500\n",
            "10/10 [==============================] - 0s 8ms/step - loss: 20.9131 - root_mean_squared_error: 25.8181 - val_loss: 24.9271 - val_root_mean_squared_error: 32.6987\n",
            "Epoch 471/500\n",
            "10/10 [==============================] - 0s 8ms/step - loss: 21.0413 - root_mean_squared_error: 26.1924 - val_loss: 23.1703 - val_root_mean_squared_error: 31.3956\n",
            "Epoch 472/500\n",
            "10/10 [==============================] - 0s 6ms/step - loss: 21.1343 - root_mean_squared_error: 25.7385 - val_loss: 21.9548 - val_root_mean_squared_error: 30.5581\n",
            "Epoch 473/500\n",
            "10/10 [==============================] - 0s 7ms/step - loss: 21.4450 - root_mean_squared_error: 26.3320 - val_loss: 25.2935 - val_root_mean_squared_error: 32.9257\n",
            "Epoch 474/500\n",
            "10/10 [==============================] - 0s 8ms/step - loss: 21.8975 - root_mean_squared_error: 27.3454 - val_loss: 23.7225 - val_root_mean_squared_error: 31.7072\n",
            "Epoch 475/500\n",
            "10/10 [==============================] - 0s 6ms/step - loss: 21.0267 - root_mean_squared_error: 25.8833 - val_loss: 22.1732 - val_root_mean_squared_error: 30.5066\n",
            "Epoch 476/500\n",
            "10/10 [==============================] - 0s 8ms/step - loss: 21.2928 - root_mean_squared_error: 26.3563 - val_loss: 23.3618 - val_root_mean_squared_error: 31.1731\n",
            "Epoch 477/500\n",
            "10/10 [==============================] - 0s 7ms/step - loss: 20.9249 - root_mean_squared_error: 26.0467 - val_loss: 23.8540 - val_root_mean_squared_error: 31.6632\n",
            "Epoch 478/500\n",
            "10/10 [==============================] - 0s 6ms/step - loss: 21.0011 - root_mean_squared_error: 25.6908 - val_loss: 23.2923 - val_root_mean_squared_error: 31.1641\n",
            "Epoch 479/500\n",
            "10/10 [==============================] - 0s 8ms/step - loss: 20.7873 - root_mean_squared_error: 25.6290 - val_loss: 22.7940 - val_root_mean_squared_error: 30.7580\n",
            "Epoch 480/500\n",
            "10/10 [==============================] - 0s 6ms/step - loss: 20.7535 - root_mean_squared_error: 25.8202 - val_loss: 24.0782 - val_root_mean_squared_error: 31.7720\n",
            "Epoch 481/500\n",
            "10/10 [==============================] - 0s 8ms/step - loss: 21.1777 - root_mean_squared_error: 26.1342 - val_loss: 21.9147 - val_root_mean_squared_error: 30.4605\n",
            "Epoch 482/500\n",
            "10/10 [==============================] - 0s 6ms/step - loss: 21.1196 - root_mean_squared_error: 26.2925 - val_loss: 22.8025 - val_root_mean_squared_error: 30.8222\n",
            "Epoch 483/500\n",
            "10/10 [==============================] - 0s 8ms/step - loss: 21.1064 - root_mean_squared_error: 25.9166 - val_loss: 21.9124 - val_root_mean_squared_error: 30.4439\n",
            "Epoch 484/500\n",
            "10/10 [==============================] - 0s 6ms/step - loss: 20.9766 - root_mean_squared_error: 26.0342 - val_loss: 25.8881 - val_root_mean_squared_error: 33.2847\n",
            "Epoch 485/500\n",
            "10/10 [==============================] - 0s 8ms/step - loss: 21.3659 - root_mean_squared_error: 26.5473 - val_loss: 21.8161 - val_root_mean_squared_error: 30.5473\n",
            "Epoch 486/500\n",
            "10/10 [==============================] - 0s 9ms/step - loss: 20.7550 - root_mean_squared_error: 25.7502 - val_loss: 22.6957 - val_root_mean_squared_error: 30.9671\n",
            "Epoch 487/500\n",
            "10/10 [==============================] - 0s 6ms/step - loss: 20.8339 - root_mean_squared_error: 25.6385 - val_loss: 21.8406 - val_root_mean_squared_error: 30.5223\n",
            "Epoch 488/500\n",
            "10/10 [==============================] - 0s 6ms/step - loss: 21.1589 - root_mean_squared_error: 26.5200 - val_loss: 25.5601 - val_root_mean_squared_error: 32.9888\n",
            "Epoch 489/500\n",
            "10/10 [==============================] - 0s 8ms/step - loss: 20.7719 - root_mean_squared_error: 25.5472 - val_loss: 21.9997 - val_root_mean_squared_error: 30.4346\n",
            "Epoch 490/500\n",
            "10/10 [==============================] - 0s 6ms/step - loss: 21.0352 - root_mean_squared_error: 26.0983 - val_loss: 23.0765 - val_root_mean_squared_error: 31.0206\n",
            "Epoch 491/500\n",
            "10/10 [==============================] - 0s 9ms/step - loss: 20.8566 - root_mean_squared_error: 25.6337 - val_loss: 21.9051 - val_root_mean_squared_error: 30.3402\n",
            "Epoch 492/500\n",
            "10/10 [==============================] - 0s 7ms/step - loss: 21.0678 - root_mean_squared_error: 25.9103 - val_loss: 22.7844 - val_root_mean_squared_error: 30.8351\n",
            "Epoch 493/500\n",
            "10/10 [==============================] - 0s 8ms/step - loss: 21.0818 - root_mean_squared_error: 26.1137 - val_loss: 24.3894 - val_root_mean_squared_error: 31.9960\n",
            "Epoch 494/500\n",
            "10/10 [==============================] - 0s 7ms/step - loss: 20.7061 - root_mean_squared_error: 25.7192 - val_loss: 22.1104 - val_root_mean_squared_error: 30.4607\n",
            "Epoch 495/500\n",
            "10/10 [==============================] - 0s 8ms/step - loss: 20.9522 - root_mean_squared_error: 25.8873 - val_loss: 22.1463 - val_root_mean_squared_error: 30.5257\n",
            "Epoch 496/500\n",
            "10/10 [==============================] - 0s 7ms/step - loss: 20.7514 - root_mean_squared_error: 25.8018 - val_loss: 23.5317 - val_root_mean_squared_error: 31.4227\n",
            "Epoch 497/500\n",
            "10/10 [==============================] - 0s 6ms/step - loss: 20.9011 - root_mean_squared_error: 26.0230 - val_loss: 23.7682 - val_root_mean_squared_error: 31.5764\n",
            "Epoch 498/500\n",
            "10/10 [==============================] - 0s 7ms/step - loss: 20.8809 - root_mean_squared_error: 25.6133 - val_loss: 21.9331 - val_root_mean_squared_error: 30.2392\n",
            "Epoch 499/500\n",
            "10/10 [==============================] - 0s 8ms/step - loss: 21.0030 - root_mean_squared_error: 25.7471 - val_loss: 22.0692 - val_root_mean_squared_error: 30.3739\n",
            "Epoch 500/500\n",
            "10/10 [==============================] - 0s 6ms/step - loss: 20.9236 - root_mean_squared_error: 25.9494 - val_loss: 22.3057 - val_root_mean_squared_error: 30.6894\n"
          ]
        }
      ]
    },
    {
      "cell_type": "code",
      "source": [
        "def plot_loss(history):\n",
        "  plt.plot(history.history['loss'], label='loss')\n",
        "  plt.plot(history.history['val_loss'], label='val_loss')\n",
        "  plt.ylim([0, 500])\n",
        "  plt.xlabel('Epoch')\n",
        "  plt.ylabel('Error [WORK_LIFE_BALANCE]')\n",
        "  plt.legend()\n",
        "  plt.grid(True)"
      ],
      "metadata": {
        "id": "9KET1eWTHFfb"
      },
      "execution_count": null,
      "outputs": []
    },
    {
      "cell_type": "code",
      "source": [
        "plot_loss(history)"
      ],
      "metadata": {
        "colab": {
          "base_uri": "https://localhost:8080/",
          "height": 455
        },
        "id": "Kw-TA_k6HJnn",
        "outputId": "e70d320f-dd33-42a1-d2f1-c5f7aad38e61"
      },
      "execution_count": null,
      "outputs": [
        {
          "output_type": "display_data",
          "data": {
            "text/plain": [
              "<Figure size 640x480 with 1 Axes>"
            ],
            "image/png": "[encoded data removed]"
          },
          "metadata": {}
        }
      ]
    },
    {
      "cell_type": "code",
      "source": [
        "#Evaluate the Model\n",
        "NN_model.evaluate(X_test, Y_test)"
      ],
      "metadata": {
        "colab": {
          "base_uri": "https://localhost:8080/"
        },
        "id": "dqoEssXlAnIc",
        "outputId": "f7f4575f-1042-4b39-a1a2-a2c612b57b12"
      },
      "execution_count": null,
      "outputs": [
        {
          "output_type": "stream",
          "name": "stdout",
          "text": [
            "2/2 [==============================] - 0s 7ms/step - loss: 21.0961 - root_mean_squared_error: 26.6203\n"
          ]
        },
        {
          "output_type": "execute_result",
          "data": {
            "text/plain": [
              "[21.096073150634766, 26.620288848876953]"
            ]
          },
          "metadata": {},
          "execution_count": 83
        }
      ]
    },
    {
      "cell_type": "code",
      "source": [
        "predictions = NN_model.predict([[8,3,7,4]])\n",
        "print(predictions)"
      ],
      "metadata": {
        "colab": {
          "base_uri": "https://localhost:8080/"
        },
        "id": "HOY2JrKbBUSb",
        "outputId": "71e804c0-cf7d-4ab0-d966-a60751bb8c96"
      },
      "execution_count": null,
      "outputs": [
        {
          "output_type": "stream",
          "name": "stdout",
          "text": [
            "1/1 [==============================] - 0s 56ms/step\n",
            "[[667.3636]]\n"
          ]
        }
      ]
    },
    {
      "cell_type": "code",
      "source": [
        "NN_model.save('stress_model.h5')\n",
        "\n"
      ],
      "metadata": {
        "id": "DdpcKyx8BY0B"
      },
      "execution_count": null,
      "outputs": []
    },
    {
      "cell_type": "code",
      "source": [
        "from google.colab import files\n",
        "files.download('stress_model.h5')"
      ],
      "metadata": {
        "id": "JenwDWcPBpLH",
        "outputId": "696a5ccc-47d7-4d1e-b391-59bd4af43cba",
        "colab": {
          "base_uri": "https://localhost:8080/",
          "height": 17
        }
      },
      "execution_count": null,
      "outputs": [
        {
          "output_type": "display_data",
          "data": {
            "text/plain": [
              "<IPython.core.display.Javascript object>"
            ],
            "application/javascript": [
              "\n",
              "    async function download(id, filename, size) {\n",
              "      if (!google.colab.kernel.accessAllowed) {\n",
              "        return;\n",
              "      }\n",
              "      const div = document.createElement('div');\n",
              "      const label = document.createElement('label');\n",
              "      label.textContent = `Downloading \"${filename}\": `;\n",
              "      div.appendChild(label);\n",
              "      const progress = document.createElement('progress');\n",
              "      progress.max = size;\n",
              "      div.appendChild(progress);\n",
              "      document.body.appendChild(div);\n",
              "\n",
              "      const buffers = [];\n",
              "      let downloaded = 0;\n",
              "\n",
              "      const channel = await google.colab.kernel.comms.open(id);\n",
              "      // Send a message to notify the kernel that we're ready.\n",
              "      channel.send({})\n",
              "\n",
              "      for await (const message of channel.messages) {\n",
              "        // Send a message to notify the kernel that we're ready.\n",
              "        channel.send({})\n",
              "        if (message.buffers) {\n",
              "          for (const buffer of message.buffers) {\n",
              "            buffers.push(buffer);\n",
              "            downloaded += buffer.byteLength;\n",
              "            progress.value = downloaded;\n",
              "          }\n",
              "        }\n",
              "      }\n",
              "      const blob = new Blob(buffers, {type: 'application/binary'});\n",
              "      const a = document.createElement('a');\n",
              "      a.href = window.URL.createObjectURL(blob);\n",
              "      a.download = filename;\n",
              "      div.appendChild(a);\n",
              "      a.click();\n",
              "      div.remove();\n",
              "    }\n",
              "  "
            ]
          },
          "metadata": {}
        },
        {
          "output_type": "display_data",
          "data": {
            "text/plain": [
              "<IPython.core.display.Javascript object>"
            ],
            "application/javascript": [
              "download(\"download_c03148bc-2414-4448-b0fe-203eeb1d8ae6\", \"stress_model.h5\", 27040)"
            ]
          },
          "metadata": {}
        }
      ]
    },
    {
      "cell_type": "markdown",
      "source": [
        "Saving the model"
      ],
      "metadata": {
        "id": "-_TGBODJRUai"
      }
    },
    {
      "cell_type": "code",
      "source": [
        "import time\n",
        "saved_model_path = \"/tmp/saved_models/{}\".format(int(time.time()))\n",
        "tf.keras.saving.save_model(\n",
        "    NN_model, saved_model_path)"
      ],
      "metadata": {
        "colab": {
          "base_uri": "https://localhost:8080/"
        },
        "id": "G7y_qUjNRW3C",
        "outputId": "a7a37f0e-4fee-4dc6-ecd3-57f2c07fd6fa"
      },
      "execution_count": null,
      "outputs": [
        {
          "output_type": "stream",
          "name": "stderr",
          "text": [
            "WARNING:absl:Found untraced functions such as _update_step_xla while saving (showing 1 of 1). These functions will not be directly callable after loading.\n"
          ]
        }
      ]
    },
    {
      "cell_type": "code",
      "source": [
        "!pip install tensorflowjs"
      ],
      "metadata": {
        "colab": {
          "base_uri": "https://localhost:8080/",
          "height": 1000
        },
        "id": "ixVzzigKVpIY",
        "outputId": "82100726-1594-4531-8d44-620a45795ed9"
      },
      "execution_count": null,
      "outputs": [
        {
          "output_type": "stream",
          "name": "stdout",
          "text": [
            "Looking in indexes: https://pypi.org/simple, https://us-python.pkg.dev/colab-wheels/public/simple/\n",
            "Collecting tensorflowjs\n",
            "  Downloading tensorflowjs-4.6.0-py3-none-any.whl (85 kB)\n",
            "\u001b[2K     \u001b[90m━━━━━━━━━━━━━━━━━━━━━━━━━━━━━━━━━━━━━━━━\u001b[0m \u001b[32m85.1/85.1 kB\u001b[0m \u001b[31m3.9 MB/s\u001b[0m eta \u001b[36m0:00:00\u001b[0m\n",
            "\u001b[?25hCollecting flax<0.6.3,>=0.6.2 (from tensorflowjs)\n",
            "  Downloading flax-0.6.2-py3-none-any.whl (189 kB)\n",
            "\u001b[2K     \u001b[90m━━━━━━━━━━━━━━━━━━━━━━━━━━━━━━━━━━━━━━\u001b[0m \u001b[32m189.9/189.9 kB\u001b[0m \u001b[31m19.8 MB/s\u001b[0m eta \u001b[36m0:00:00\u001b[0m\n",
            "\u001b[?25hRequirement already satisfied: importlib_resources>=5.9.0 in /usr/local/lib/python3.10/dist-packages (from tensorflowjs) (5.12.0)\n",
            "Requirement already satisfied: jax>=0.3.16 in /usr/local/lib/python3.10/dist-packages (from tensorflowjs) (0.4.10)\n",
            "Requirement already satisfied: tensorflow<3,>=2.12.0 in /usr/local/lib/python3.10/dist-packages (from tensorflowjs) (2.12.0)\n",
            "Collecting tensorflow-decision-forests>=1.3.0 (from tensorflowjs)\n",
            "  Downloading tensorflow_decision_forests-1.3.0-cp310-cp310-manylinux_2_17_x86_64.manylinux2014_x86_64.whl (16.4 MB)\n",
            "\u001b[2K     \u001b[90m━━━━━━━━━━━━━━━━━━━━━━━━━━━━━━━━━━━━━━━━\u001b[0m \u001b[32m16.4/16.4 MB\u001b[0m \u001b[31m70.8 MB/s\u001b[0m eta \u001b[36m0:00:00\u001b[0m\n",
            "\u001b[?25hRequirement already satisfied: six<2,>=1.12.0 in /usr/local/lib/python3.10/dist-packages (from tensorflowjs) (1.16.0)\n",
            "Requirement already satisfied: tensorflow-hub>=0.13.0 in /usr/local/lib/python3.10/dist-packages (from tensorflowjs) (0.13.0)\n",
            "Collecting packaging~=20.9 (from tensorflowjs)\n",
            "  Downloading packaging-20.9-py2.py3-none-any.whl (40 kB)\n",
            "\u001b[2K     \u001b[90m━━━━━━━━━━━━━━━━━━━━━━━━━━━━━━━━━━━━━━━━\u001b[0m \u001b[32m40.9/40.9 kB\u001b[0m \u001b[31m6.3 MB/s\u001b[0m eta \u001b[36m0:00:00\u001b[0m\n",
            "\u001b[?25hRequirement already satisfied: numpy>=1.12 in /usr/local/lib/python3.10/dist-packages (from flax<0.6.3,>=0.6.2->tensorflowjs) (1.22.4)\n",
            "Requirement already satisfied: matplotlib in /usr/local/lib/python3.10/dist-packages (from flax<0.6.3,>=0.6.2->tensorflowjs) (3.7.1)\n",
            "Requirement already satisfied: msgpack in /usr/local/lib/python3.10/dist-packages (from flax<0.6.3,>=0.6.2->tensorflowjs) (1.0.5)\n",
            "Requirement already satisfied: optax in /usr/local/lib/python3.10/dist-packages (from flax<0.6.3,>=0.6.2->tensorflowjs) (0.1.5)\n",
            "Requirement already satisfied: tensorstore in /usr/local/lib/python3.10/dist-packages (from flax<0.6.3,>=0.6.2->tensorflowjs) (0.1.36)\n",
            "Requirement already satisfied: rich>=11.1 in /usr/local/lib/python3.10/dist-packages (from flax<0.6.3,>=0.6.2->tensorflowjs) (13.3.4)\n",
            "Requirement already satisfied: typing-extensions>=4.1.1 in /usr/local/lib/python3.10/dist-packages (from flax<0.6.3,>=0.6.2->tensorflowjs) (4.5.0)\n",
            "Requirement already satisfied: PyYAML>=5.4.1 in /usr/local/lib/python3.10/dist-packages (from flax<0.6.3,>=0.6.2->tensorflowjs) (6.0)\n",
            "Requirement already satisfied: ml-dtypes>=0.1.0 in /usr/local/lib/python3.10/dist-packages (from jax>=0.3.16->tensorflowjs) (0.1.0)\n",
            "Requirement already satisfied: opt-einsum in /usr/local/lib/python3.10/dist-packages (from jax>=0.3.16->tensorflowjs) (3.3.0)\n",
            "Requirement already satisfied: scipy>=1.7 in /usr/local/lib/python3.10/dist-packages (from jax>=0.3.16->tensorflowjs) (1.10.1)\n",
            "Requirement already satisfied: pyparsing>=2.0.2 in /usr/local/lib/python3.10/dist-packages (from packaging~=20.9->tensorflowjs) (3.0.9)\n",
            "Requirement already satisfied: absl-py>=1.0.0 in /usr/local/lib/python3.10/dist-packages (from tensorflow<3,>=2.12.0->tensorflowjs) (1.4.0)\n",
            "Requirement already satisfied: astunparse>=1.6.0 in /usr/local/lib/python3.10/dist-packages (from tensorflow<3,>=2.12.0->tensorflowjs) (1.6.3)\n",
            "Requirement already satisfied: flatbuffers>=2.0 in /usr/local/lib/python3.10/dist-packages (from tensorflow<3,>=2.12.0->tensorflowjs) (23.3.3)\n",
            "Requirement already satisfied: gast<=0.4.0,>=0.2.1 in /usr/local/lib/python3.10/dist-packages (from tensorflow<3,>=2.12.0->tensorflowjs) (0.4.0)\n",
            "Requirement already satisfied: google-pasta>=0.1.1 in /usr/local/lib/python3.10/dist-packages (from tensorflow<3,>=2.12.0->tensorflowjs) (0.2.0)\n",
            "Requirement already satisfied: grpcio<2.0,>=1.24.3 in /usr/local/lib/python3.10/dist-packages (from tensorflow<3,>=2.12.0->tensorflowjs) (1.54.0)\n",
            "Requirement already satisfied: h5py>=2.9.0 in /usr/local/lib/python3.10/dist-packages (from tensorflow<3,>=2.12.0->tensorflowjs) (3.8.0)\n",
            "Requirement already satisfied: keras<2.13,>=2.12.0 in /usr/local/lib/python3.10/dist-packages (from tensorflow<3,>=2.12.0->tensorflowjs) (2.12.0)\n",
            "Requirement already satisfied: libclang>=13.0.0 in /usr/local/lib/python3.10/dist-packages (from tensorflow<3,>=2.12.0->tensorflowjs) (16.0.0)\n",
            "Requirement already satisfied: protobuf!=4.21.0,!=4.21.1,!=4.21.2,!=4.21.3,!=4.21.4,!=4.21.5,<5.0.0dev,>=3.20.3 in /usr/local/lib/python3.10/dist-packages (from tensorflow<3,>=2.12.0->tensorflowjs) (3.20.3)\n",
            "Requirement already satisfied: setuptools in /usr/local/lib/python3.10/dist-packages (from tensorflow<3,>=2.12.0->tensorflowjs) (67.7.2)\n",
            "Requirement already satisfied: tensorboard<2.13,>=2.12 in /usr/local/lib/python3.10/dist-packages (from tensorflow<3,>=2.12.0->tensorflowjs) (2.12.2)\n",
            "Requirement already satisfied: tensorflow-estimator<2.13,>=2.12.0 in /usr/local/lib/python3.10/dist-packages (from tensorflow<3,>=2.12.0->tensorflowjs) (2.12.0)\n",
            "Requirement already satisfied: termcolor>=1.1.0 in /usr/local/lib/python3.10/dist-packages (from tensorflow<3,>=2.12.0->tensorflowjs) (2.3.0)\n",
            "Requirement already satisfied: wrapt<1.15,>=1.11.0 in /usr/local/lib/python3.10/dist-packages (from tensorflow<3,>=2.12.0->tensorflowjs) (1.14.1)\n",
            "Requirement already satisfied: tensorflow-io-gcs-filesystem>=0.23.1 in /usr/local/lib/python3.10/dist-packages (from tensorflow<3,>=2.12.0->tensorflowjs) (0.32.0)\n",
            "Requirement already satisfied: pandas in /usr/local/lib/python3.10/dist-packages (from tensorflow-decision-forests>=1.3.0->tensorflowjs) (1.5.3)\n",
            "Requirement already satisfied: wheel in /usr/local/lib/python3.10/dist-packages (from tensorflow-decision-forests>=1.3.0->tensorflowjs) (0.40.0)\n",
            "Collecting wurlitzer (from tensorflow-decision-forests>=1.3.0->tensorflowjs)\n",
            "  Downloading wurlitzer-3.0.3-py3-none-any.whl (7.3 kB)\n",
            "Requirement already satisfied: markdown-it-py<3.0.0,>=2.2.0 in /usr/local/lib/python3.10/dist-packages (from rich>=11.1->flax<0.6.3,>=0.6.2->tensorflowjs) (2.2.0)\n",
            "Requirement already satisfied: pygments<3.0.0,>=2.13.0 in /usr/local/lib/python3.10/dist-packages (from rich>=11.1->flax<0.6.3,>=0.6.2->tensorflowjs) (2.14.0)\n",
            "Requirement already satisfied: google-auth<3,>=1.6.3 in /usr/local/lib/python3.10/dist-packages (from tensorboard<2.13,>=2.12->tensorflow<3,>=2.12.0->tensorflowjs) (2.17.3)\n",
            "Requirement already satisfied: google-auth-oauthlib<1.1,>=0.5 in /usr/local/lib/python3.10/dist-packages (from tensorboard<2.13,>=2.12->tensorflow<3,>=2.12.0->tensorflowjs) (1.0.0)\n",
            "Requirement already satisfied: markdown>=2.6.8 in /usr/local/lib/python3.10/dist-packages (from tensorboard<2.13,>=2.12->tensorflow<3,>=2.12.0->tensorflowjs) (3.4.3)\n",
            "Requirement already satisfied: requests<3,>=2.21.0 in /usr/local/lib/python3.10/dist-packages (from tensorboard<2.13,>=2.12->tensorflow<3,>=2.12.0->tensorflowjs) (2.27.1)\n",
            "Requirement already satisfied: tensorboard-data-server<0.8.0,>=0.7.0 in /usr/local/lib/python3.10/dist-packages (from tensorboard<2.13,>=2.12->tensorflow<3,>=2.12.0->tensorflowjs) (0.7.0)\n",
            "Requirement already satisfied: tensorboard-plugin-wit>=1.6.0 in /usr/local/lib/python3.10/dist-packages (from tensorboard<2.13,>=2.12->tensorflow<3,>=2.12.0->tensorflowjs) (1.8.1)\n",
            "Requirement already satisfied: werkzeug>=1.0.1 in /usr/local/lib/python3.10/dist-packages (from tensorboard<2.13,>=2.12->tensorflow<3,>=2.12.0->tensorflowjs) (2.3.0)\n",
            "Requirement already satisfied: contourpy>=1.0.1 in /usr/local/lib/python3.10/dist-packages (from matplotlib->flax<0.6.3,>=0.6.2->tensorflowjs) (1.0.7)\n",
            "Requirement already satisfied: cycler>=0.10 in /usr/local/lib/python3.10/dist-packages (from matplotlib->flax<0.6.3,>=0.6.2->tensorflowjs) (0.11.0)\n",
            "Requirement already satisfied: fonttools>=4.22.0 in /usr/local/lib/python3.10/dist-packages (from matplotlib->flax<0.6.3,>=0.6.2->tensorflowjs) (4.39.3)\n",
            "Requirement already satisfied: kiwisolver>=1.0.1 in /usr/local/lib/python3.10/dist-packages (from matplotlib->flax<0.6.3,>=0.6.2->tensorflowjs) (1.4.4)\n",
            "Requirement already satisfied: pillow>=6.2.0 in /usr/local/lib/python3.10/dist-packages (from matplotlib->flax<0.6.3,>=0.6.2->tensorflowjs) (8.4.0)\n",
            "Requirement already satisfied: python-dateutil>=2.7 in /usr/local/lib/python3.10/dist-packages (from matplotlib->flax<0.6.3,>=0.6.2->tensorflowjs) (2.8.2)\n",
            "Requirement already satisfied: chex>=0.1.5 in /usr/local/lib/python3.10/dist-packages (from optax->flax<0.6.3,>=0.6.2->tensorflowjs) (0.1.7)\n",
            "Requirement already satisfied: jaxlib>=0.1.37 in /usr/local/lib/python3.10/dist-packages (from optax->flax<0.6.3,>=0.6.2->tensorflowjs) (0.4.10+cuda11.cudnn86)\n",
            "Requirement already satisfied: pytz>=2020.1 in /usr/local/lib/python3.10/dist-packages (from pandas->tensorflow-decision-forests>=1.3.0->tensorflowjs) (2022.7.1)\n",
            "Requirement already satisfied: dm-tree>=0.1.5 in /usr/local/lib/python3.10/dist-packages (from chex>=0.1.5->optax->flax<0.6.3,>=0.6.2->tensorflowjs) (0.1.8)\n",
            "Requirement already satisfied: toolz>=0.9.0 in /usr/local/lib/python3.10/dist-packages (from chex>=0.1.5->optax->flax<0.6.3,>=0.6.2->tensorflowjs) (0.12.0)\n",
            "Requirement already satisfied: cachetools<6.0,>=2.0.0 in /usr/local/lib/python3.10/dist-packages (from google-auth<3,>=1.6.3->tensorboard<2.13,>=2.12->tensorflow<3,>=2.12.0->tensorflowjs) (5.3.0)\n",
            "Requirement already satisfied: pyasn1-modules>=0.2.1 in /usr/local/lib/python3.10/dist-packages (from google-auth<3,>=1.6.3->tensorboard<2.13,>=2.12->tensorflow<3,>=2.12.0->tensorflowjs) (0.3.0)\n",
            "Requirement already satisfied: rsa<5,>=3.1.4 in /usr/local/lib/python3.10/dist-packages (from google-auth<3,>=1.6.3->tensorboard<2.13,>=2.12->tensorflow<3,>=2.12.0->tensorflowjs) (4.9)\n",
            "Requirement already satisfied: requests-oauthlib>=0.7.0 in /usr/local/lib/python3.10/dist-packages (from google-auth-oauthlib<1.1,>=0.5->tensorboard<2.13,>=2.12->tensorflow<3,>=2.12.0->tensorflowjs) (1.3.1)\n",
            "Requirement already satisfied: mdurl~=0.1 in /usr/local/lib/python3.10/dist-packages (from markdown-it-py<3.0.0,>=2.2.0->rich>=11.1->flax<0.6.3,>=0.6.2->tensorflowjs) (0.1.2)\n",
            "Requirement already satisfied: urllib3<1.27,>=1.21.1 in /usr/local/lib/python3.10/dist-packages (from requests<3,>=2.21.0->tensorboard<2.13,>=2.12->tensorflow<3,>=2.12.0->tensorflowjs) (1.26.15)\n",
            "Requirement already satisfied: certifi>=2017.4.17 in /usr/local/lib/python3.10/dist-packages (from requests<3,>=2.21.0->tensorboard<2.13,>=2.12->tensorflow<3,>=2.12.0->tensorflowjs) (2022.12.7)\n",
            "Requirement already satisfied: charset-normalizer~=2.0.0 in /usr/local/lib/python3.10/dist-packages (from requests<3,>=2.21.0->tensorboard<2.13,>=2.12->tensorflow<3,>=2.12.0->tensorflowjs) (2.0.12)\n",
            "Requirement already satisfied: idna<4,>=2.5 in /usr/local/lib/python3.10/dist-packages (from requests<3,>=2.21.0->tensorboard<2.13,>=2.12->tensorflow<3,>=2.12.0->tensorflowjs) (3.4)\n",
            "Requirement already satisfied: MarkupSafe>=2.1.1 in /usr/local/lib/python3.10/dist-packages (from werkzeug>=1.0.1->tensorboard<2.13,>=2.12->tensorflow<3,>=2.12.0->tensorflowjs) (2.1.2)\n",
            "Requirement already satisfied: pyasn1<0.6.0,>=0.4.6 in /usr/local/lib/python3.10/dist-packages (from pyasn1-modules>=0.2.1->google-auth<3,>=1.6.3->tensorboard<2.13,>=2.12->tensorflow<3,>=2.12.0->tensorflowjs) (0.5.0)\n",
            "Requirement already satisfied: oauthlib>=3.0.0 in /usr/local/lib/python3.10/dist-packages (from requests-oauthlib>=0.7.0->google-auth-oauthlib<1.1,>=0.5->tensorboard<2.13,>=2.12->tensorflow<3,>=2.12.0->tensorflowjs) (3.2.2)\n",
            "Installing collected packages: wurlitzer, packaging, flax, tensorflow-decision-forests, tensorflowjs\n",
            "  Attempting uninstall: packaging\n",
            "    Found existing installation: packaging 23.1\n",
            "    Uninstalling packaging-23.1:\n",
            "      Successfully uninstalled packaging-23.1\n",
            "  Attempting uninstall: flax\n",
            "    Found existing installation: flax 0.6.9\n",
            "    Uninstalling flax-0.6.9:\n",
            "      Successfully uninstalled flax-0.6.9\n",
            "\u001b[31mERROR: pip's dependency resolver does not currently take into account all the packages that are installed. This behaviour is the source of the following dependency conflicts.\n",
            "statsmodels 0.13.5 requires packaging>=21.3, but you have packaging 20.9 which is incompatible.\n",
            "xarray 2022.12.0 requires packaging>=21.3, but you have packaging 20.9 which is incompatible.\u001b[0m\u001b[31m\n",
            "\u001b[0mSuccessfully installed flax-0.6.2 packaging-20.9 tensorflow-decision-forests-1.3.0 tensorflowjs-4.6.0 wurlitzer-3.0.3\n"
          ]
        },
        {
          "output_type": "display_data",
          "data": {
            "application/vnd.colab-display-data+json": {
              "pip_warning": {
                "packages": [
                  "packaging"
                ]
              }
            }
          },
          "metadata": {}
        }
      ]
    },
    {
      "cell_type": "code",
      "source": [
        "!tensorflowjs_converter \\\n",
        " --input_format=keras_saved_model \\\n",
        " /tmp/saved_models/1685767474 \\\n",
        " /tmp/linear"
      ],
      "metadata": {
        "colab": {
          "base_uri": "https://localhost:8080/"
        },
        "id": "2Nx4BDVkWHdU",
        "outputId": "215f828f-dbcc-40f4-c581-a0cc8d059003"
      },
      "execution_count": null,
      "outputs": [
        {
          "output_type": "stream",
          "name": "stdout",
          "text": [
            "2023-06-05 05:51:53.019126: W tensorflow/compiler/tf2tensorrt/utils/py_utils.cc:38] TF-TRT Warning: Could not find TensorRT\n",
            "2023-06-05 05:51:56.148174: W tensorflow/core/common_runtime/gpu/gpu_bfc_allocator.cc:47] Overriding orig_value setting because the TF_FORCE_GPU_ALLOW_GROWTH environment variable is set. Original config value was 0.\n",
            "Traceback (most recent call last):\n",
            "  File \"/usr/local/bin/tensorflowjs_converter\", line 8, in <module>\n",
            "    sys.exit(pip_main())\n",
            "  File \"/usr/local/lib/python3.10/dist-packages/tensorflowjs/converters/converter.py\", line 827, in pip_main\n",
            "    main([' '.join(sys.argv[1:])])\n",
            "  File \"/usr/local/lib/python3.10/dist-packages/tensorflowjs/converters/converter.py\", line 831, in main\n",
            "    convert(argv[0].split(' '))\n",
            "  File \"/usr/local/lib/python3.10/dist-packages/tensorflowjs/converters/converter.py\", line 817, in convert\n",
            "    _dispatch_converter(input_format, output_format, args, quantization_dtype_map,\n",
            "  File \"/usr/local/lib/python3.10/dist-packages/tensorflowjs/converters/converter.py\", line 520, in _dispatch_converter\n",
            "    dispatch_keras_saved_model_to_tensorflowjs_conversion(\n",
            "  File \"/usr/local/lib/python3.10/dist-packages/tensorflowjs/converters/converter.py\", line 194, in dispatch_keras_saved_model_to_tensorflowjs_conversion\n",
            "    model = tf.keras.models.load_model(keras_saved_model_path)\n",
            "  File \"/usr/local/lib/python3.10/dist-packages/keras/saving/saving_api.py\", line 212, in load_model\n",
            "    return legacy_sm_saving_lib.load_model(\n",
            "  File \"/usr/local/lib/python3.10/dist-packages/keras/utils/traceback_utils.py\", line 70, in error_handler\n",
            "    raise e.with_traceback(filtered_tb) from None\n",
            "  File \"/usr/local/lib/python3.10/dist-packages/keras/saving/legacy/save.py\", line 230, in load_model\n",
            "    raise IOError(\n",
            "OSError: No file or directory found at /tmp/saved_models/1685767474\n"
          ]
        }
      ]
    },
    {
      "cell_type": "markdown",
      "source": [
        "Create and train the model using Deep Neural Network"
      ],
      "metadata": {
        "id": "-IeQBiPll-AA"
      }
    },
    {
      "cell_type": "code",
      "source": [
        "DNN_model = Sequential([\n",
        "    Dense(128, input_shape=(4,)),\n",
        "    Dropout(0.4),\n",
        "    Dense(64),\n",
        "    Dense(64),\n",
        "    Dense(1)\n",
        "])"
      ],
      "metadata": {
        "id": "Fq4QlM3Bl9dC"
      },
      "execution_count": null,
      "outputs": []
    },
    {
      "cell_type": "code",
      "source": [
        "import tensorflow as tf\n",
        "loss = tf.keras.losses.MeanAbsoluteError()\n",
        "optimizer = tf.keras.optimizers.Adam(learning_rate=0.001)\n",
        "metrics = tf.keras.metrics.RootMeanSquaredError()\n",
        "DNN_model.compile(optimizer=optimizer,\n",
        "              loss=loss,\n",
        "              metrics=metrics)\n",
        "\n",
        "DNN_hist = DNN_model.fit(X_train, Y_train,\n",
        "          batch_size=32, epochs=100,\n",
        "          validation_data=(X_val, Y_val))"
      ],
      "metadata": {
        "id": "I7RNbebOnRqA",
        "outputId": "60642e6b-8159-4af3-ac4a-0e6e13474e0e",
        "colab": {
          "base_uri": "https://localhost:8080/"
        }
      },
      "execution_count": null,
      "outputs": [
        {
          "output_type": "stream",
          "name": "stdout",
          "text": [
            "Epoch 1/100\n",
            "10/10 [==============================] - 3s 21ms/step - loss: 657.6425 - root_mean_squared_error: 658.9164 - val_loss: 648.3380 - val_root_mean_squared_error: 649.4988\n",
            "Epoch 2/100\n",
            "10/10 [==============================] - 0s 6ms/step - loss: 627.5341 - root_mean_squared_error: 628.4806 - val_loss: 603.5869 - val_root_mean_squared_error: 604.3845\n",
            "Epoch 3/100\n",
            "10/10 [==============================] - 0s 9ms/step - loss: 561.2908 - root_mean_squared_error: 562.7015 - val_loss: 503.1696 - val_root_mean_squared_error: 504.9265\n",
            "Epoch 4/100\n",
            "10/10 [==============================] - 0s 6ms/step - loss: 412.2262 - root_mean_squared_error: 421.2159 - val_loss: 289.7872 - val_root_mean_squared_error: 310.9588\n",
            "Epoch 5/100\n",
            "10/10 [==============================] - 0s 6ms/step - loss: 201.7895 - root_mean_squared_error: 237.3656 - val_loss: 186.6861 - val_root_mean_squared_error: 219.4459\n",
            "Epoch 6/100\n",
            "10/10 [==============================] - 0s 9ms/step - loss: 183.0632 - root_mean_squared_error: 225.4626 - val_loss: 163.5676 - val_root_mean_squared_error: 203.4447\n",
            "Epoch 7/100\n",
            "10/10 [==============================] - 0s 6ms/step - loss: 165.7138 - root_mean_squared_error: 202.5052 - val_loss: 167.9071 - val_root_mean_squared_error: 214.3641\n",
            "Epoch 8/100\n",
            "10/10 [==============================] - 0s 7ms/step - loss: 166.1634 - root_mean_squared_error: 200.5271 - val_loss: 160.2066 - val_root_mean_squared_error: 200.7959\n",
            "Epoch 9/100\n",
            "10/10 [==============================] - 0s 6ms/step - loss: 156.1471 - root_mean_squared_error: 189.9215 - val_loss: 157.9841 - val_root_mean_squared_error: 201.0534\n",
            "Epoch 10/100\n",
            "10/10 [==============================] - 0s 6ms/step - loss: 155.3502 - root_mean_squared_error: 191.9836 - val_loss: 157.8289 - val_root_mean_squared_error: 200.9373\n",
            "Epoch 11/100\n",
            "10/10 [==============================] - 0s 7ms/step - loss: 159.2937 - root_mean_squared_error: 194.6463 - val_loss: 156.2792 - val_root_mean_squared_error: 198.4724\n",
            "Epoch 12/100\n",
            "10/10 [==============================] - 0s 7ms/step - loss: 156.5078 - root_mean_squared_error: 192.2168 - val_loss: 158.3077 - val_root_mean_squared_error: 201.2233\n",
            "Epoch 13/100\n",
            "10/10 [==============================] - 0s 6ms/step - loss: 155.5192 - root_mean_squared_error: 191.5824 - val_loss: 154.7502 - val_root_mean_squared_error: 196.4651\n",
            "Epoch 14/100\n",
            "10/10 [==============================] - 0s 8ms/step - loss: 147.2353 - root_mean_squared_error: 185.1540 - val_loss: 154.7280 - val_root_mean_squared_error: 193.8623\n",
            "Epoch 15/100\n",
            "10/10 [==============================] - 0s 8ms/step - loss: 151.6647 - root_mean_squared_error: 188.5376 - val_loss: 156.4072 - val_root_mean_squared_error: 198.5511\n",
            "Epoch 16/100\n",
            "10/10 [==============================] - 0s 6ms/step - loss: 149.4116 - root_mean_squared_error: 184.1776 - val_loss: 152.0988 - val_root_mean_squared_error: 192.3284\n",
            "Epoch 17/100\n",
            "10/10 [==============================] - 0s 6ms/step - loss: 145.9851 - root_mean_squared_error: 177.9875 - val_loss: 153.0389 - val_root_mean_squared_error: 193.9225\n",
            "Epoch 18/100\n",
            "10/10 [==============================] - 0s 6ms/step - loss: 146.6099 - root_mean_squared_error: 181.6213 - val_loss: 152.4040 - val_root_mean_squared_error: 193.1583\n",
            "Epoch 19/100\n",
            "10/10 [==============================] - 0s 6ms/step - loss: 146.6900 - root_mean_squared_error: 180.7368 - val_loss: 149.6833 - val_root_mean_squared_error: 189.4060\n",
            "Epoch 20/100\n",
            "10/10 [==============================] - 0s 7ms/step - loss: 145.1484 - root_mean_squared_error: 179.6652 - val_loss: 151.1720 - val_root_mean_squared_error: 191.9038\n",
            "Epoch 21/100\n",
            "10/10 [==============================] - 0s 6ms/step - loss: 139.1361 - root_mean_squared_error: 172.6225 - val_loss: 149.9365 - val_root_mean_squared_error: 186.7033\n",
            "Epoch 22/100\n",
            "10/10 [==============================] - 0s 6ms/step - loss: 142.9421 - root_mean_squared_error: 176.8160 - val_loss: 148.9356 - val_root_mean_squared_error: 189.4799\n",
            "Epoch 23/100\n",
            "10/10 [==============================] - 0s 6ms/step - loss: 142.5771 - root_mean_squared_error: 177.0334 - val_loss: 147.4700 - val_root_mean_squared_error: 187.8895\n",
            "Epoch 24/100\n",
            "10/10 [==============================] - 0s 8ms/step - loss: 140.8962 - root_mean_squared_error: 175.6623 - val_loss: 148.8284 - val_root_mean_squared_error: 189.9604\n",
            "Epoch 25/100\n",
            "10/10 [==============================] - 0s 8ms/step - loss: 139.6100 - root_mean_squared_error: 175.0323 - val_loss: 146.7590 - val_root_mean_squared_error: 187.4609\n",
            "Epoch 26/100\n",
            "10/10 [==============================] - 0s 8ms/step - loss: 139.9279 - root_mean_squared_error: 174.2791 - val_loss: 145.0639 - val_root_mean_squared_error: 182.8199\n",
            "Epoch 27/100\n",
            "10/10 [==============================] - 0s 6ms/step - loss: 137.9389 - root_mean_squared_error: 170.2969 - val_loss: 143.7595 - val_root_mean_squared_error: 183.5171\n",
            "Epoch 28/100\n",
            "10/10 [==============================] - 0s 6ms/step - loss: 133.2964 - root_mean_squared_error: 167.3099 - val_loss: 143.5308 - val_root_mean_squared_error: 179.7249\n",
            "Epoch 29/100\n",
            "10/10 [==============================] - 0s 6ms/step - loss: 139.0930 - root_mean_squared_error: 172.4994 - val_loss: 141.8639 - val_root_mean_squared_error: 180.4797\n",
            "Epoch 30/100\n",
            "10/10 [==============================] - 0s 6ms/step - loss: 138.2603 - root_mean_squared_error: 170.4192 - val_loss: 141.1492 - val_root_mean_squared_error: 178.4702\n",
            "Epoch 31/100\n",
            "10/10 [==============================] - 0s 6ms/step - loss: 134.4440 - root_mean_squared_error: 169.5827 - val_loss: 144.4394 - val_root_mean_squared_error: 185.7954\n",
            "Epoch 32/100\n",
            "10/10 [==============================] - 0s 9ms/step - loss: 125.0288 - root_mean_squared_error: 159.7070 - val_loss: 139.6055 - val_root_mean_squared_error: 175.1326\n",
            "Epoch 33/100\n",
            "10/10 [==============================] - 0s 6ms/step - loss: 132.9188 - root_mean_squared_error: 165.6093 - val_loss: 139.7858 - val_root_mean_squared_error: 179.8709\n",
            "Epoch 34/100\n",
            "10/10 [==============================] - 0s 8ms/step - loss: 132.3033 - root_mean_squared_error: 167.6407 - val_loss: 138.2362 - val_root_mean_squared_error: 178.1094\n",
            "Epoch 35/100\n",
            "10/10 [==============================] - 0s 22ms/step - loss: 128.6816 - root_mean_squared_error: 160.4896 - val_loss: 136.0725 - val_root_mean_squared_error: 173.3493\n",
            "Epoch 36/100\n",
            "10/10 [==============================] - 0s 11ms/step - loss: 128.5699 - root_mean_squared_error: 160.9508 - val_loss: 135.1568 - val_root_mean_squared_error: 170.7739\n",
            "Epoch 37/100\n",
            "10/10 [==============================] - 0s 14ms/step - loss: 127.1232 - root_mean_squared_error: 158.4661 - val_loss: 136.3692 - val_root_mean_squared_error: 175.7555\n",
            "Epoch 38/100\n",
            "10/10 [==============================] - 0s 11ms/step - loss: 129.6603 - root_mean_squared_error: 163.2910 - val_loss: 132.6384 - val_root_mean_squared_error: 168.8887\n",
            "Epoch 39/100\n",
            "10/10 [==============================] - 0s 11ms/step - loss: 127.8540 - root_mean_squared_error: 157.5903 - val_loss: 131.9702 - val_root_mean_squared_error: 164.6655\n",
            "Epoch 40/100\n",
            "10/10 [==============================] - 0s 12ms/step - loss: 130.8051 - root_mean_squared_error: 160.0395 - val_loss: 130.0978 - val_root_mean_squared_error: 167.1653\n",
            "Epoch 41/100\n",
            "10/10 [==============================] - 0s 11ms/step - loss: 124.1989 - root_mean_squared_error: 156.9003 - val_loss: 129.6065 - val_root_mean_squared_error: 167.5620\n",
            "Epoch 42/100\n",
            "10/10 [==============================] - 0s 14ms/step - loss: 125.7787 - root_mean_squared_error: 155.1763 - val_loss: 127.4182 - val_root_mean_squared_error: 164.4337\n",
            "Epoch 43/100\n",
            "10/10 [==============================] - 0s 14ms/step - loss: 120.2451 - root_mean_squared_error: 151.1505 - val_loss: 125.8837 - val_root_mean_squared_error: 162.3227\n",
            "Epoch 44/100\n",
            "10/10 [==============================] - 0s 13ms/step - loss: 122.3391 - root_mean_squared_error: 152.0308 - val_loss: 123.5585 - val_root_mean_squared_error: 157.6243\n",
            "Epoch 45/100\n",
            "10/10 [==============================] - 0s 21ms/step - loss: 123.4669 - root_mean_squared_error: 152.9778 - val_loss: 122.0384 - val_root_mean_squared_error: 155.5054\n",
            "Epoch 46/100\n",
            "10/10 [==============================] - 0s 11ms/step - loss: 120.1311 - root_mean_squared_error: 150.0166 - val_loss: 120.5770 - val_root_mean_squared_error: 153.6025\n",
            "Epoch 47/100\n",
            "10/10 [==============================] - 0s 13ms/step - loss: 119.1521 - root_mean_squared_error: 148.8403 - val_loss: 119.0155 - val_root_mean_squared_error: 153.9119\n",
            "Epoch 48/100\n",
            "10/10 [==============================] - 0s 15ms/step - loss: 110.7416 - root_mean_squared_error: 138.1161 - val_loss: 117.6166 - val_root_mean_squared_error: 147.9682\n",
            "Epoch 49/100\n",
            "10/10 [==============================] - 0s 10ms/step - loss: 117.2531 - root_mean_squared_error: 144.5566 - val_loss: 114.8951 - val_root_mean_squared_error: 147.7473\n",
            "Epoch 50/100\n",
            "10/10 [==============================] - 0s 19ms/step - loss: 113.6782 - root_mean_squared_error: 140.3282 - val_loss: 112.6906 - val_root_mean_squared_error: 142.4848\n",
            "Epoch 51/100\n",
            "10/10 [==============================] - 0s 13ms/step - loss: 109.0224 - root_mean_squared_error: 134.6511 - val_loss: 113.0178 - val_root_mean_squared_error: 146.4386\n",
            "Epoch 52/100\n",
            "10/10 [==============================] - 0s 11ms/step - loss: 110.5117 - root_mean_squared_error: 136.5907 - val_loss: 107.8542 - val_root_mean_squared_error: 135.3139\n",
            "Epoch 53/100\n",
            "10/10 [==============================] - 0s 22ms/step - loss: 106.6185 - root_mean_squared_error: 133.8843 - val_loss: 106.7217 - val_root_mean_squared_error: 138.2261\n",
            "Epoch 54/100\n",
            "10/10 [==============================] - 0s 14ms/step - loss: 105.0633 - root_mean_squared_error: 129.6399 - val_loss: 102.3631 - val_root_mean_squared_error: 132.0375\n",
            "Epoch 55/100\n",
            "10/10 [==============================] - 0s 13ms/step - loss: 102.7142 - root_mean_squared_error: 125.9790 - val_loss: 101.1107 - val_root_mean_squared_error: 130.4381\n",
            "Epoch 56/100\n",
            "10/10 [==============================] - 0s 11ms/step - loss: 95.2570 - root_mean_squared_error: 119.5471 - val_loss: 95.0140 - val_root_mean_squared_error: 118.6738\n",
            "Epoch 57/100\n",
            "10/10 [==============================] - 0s 19ms/step - loss: 97.5250 - root_mean_squared_error: 119.9323 - val_loss: 91.0100 - val_root_mean_squared_error: 117.8353\n",
            "Epoch 58/100\n",
            "10/10 [==============================] - 0s 12ms/step - loss: 94.5380 - root_mean_squared_error: 116.8981 - val_loss: 88.2386 - val_root_mean_squared_error: 115.1809\n",
            "Epoch 59/100\n",
            "10/10 [==============================] - 0s 11ms/step - loss: 89.1715 - root_mean_squared_error: 112.3455 - val_loss: 84.5708 - val_root_mean_squared_error: 104.0618\n",
            "Epoch 60/100\n",
            "10/10 [==============================] - 0s 13ms/step - loss: 90.6036 - root_mean_squared_error: 110.1279 - val_loss: 78.6237 - val_root_mean_squared_error: 100.8046\n",
            "Epoch 61/100\n",
            "10/10 [==============================] - 0s 16ms/step - loss: 81.5603 - root_mean_squared_error: 102.3762 - val_loss: 81.2953 - val_root_mean_squared_error: 106.5650\n",
            "Epoch 62/100\n",
            "10/10 [==============================] - 0s 12ms/step - loss: 82.0465 - root_mean_squared_error: 99.8144 - val_loss: 72.6745 - val_root_mean_squared_error: 87.6863\n",
            "Epoch 63/100\n",
            "10/10 [==============================] - 0s 13ms/step - loss: 78.5491 - root_mean_squared_error: 98.6489 - val_loss: 68.7078 - val_root_mean_squared_error: 89.4613\n",
            "Epoch 64/100\n",
            "10/10 [==============================] - 0s 9ms/step - loss: 73.2610 - root_mean_squared_error: 89.3408 - val_loss: 58.6544 - val_root_mean_squared_error: 74.8958\n",
            "Epoch 65/100\n",
            "10/10 [==============================] - 0s 11ms/step - loss: 63.7612 - root_mean_squared_error: 80.6310 - val_loss: 53.0935 - val_root_mean_squared_error: 68.2490\n",
            "Epoch 66/100\n",
            "10/10 [==============================] - 0s 9ms/step - loss: 67.1850 - root_mean_squared_error: 81.7442 - val_loss: 48.1722 - val_root_mean_squared_error: 61.7990\n",
            "Epoch 67/100\n",
            "10/10 [==============================] - 0s 13ms/step - loss: 62.3285 - root_mean_squared_error: 79.9998 - val_loss: 46.6063 - val_root_mean_squared_error: 60.5229\n",
            "Epoch 68/100\n",
            "10/10 [==============================] - 0s 13ms/step - loss: 58.2879 - root_mean_squared_error: 73.6688 - val_loss: 44.3834 - val_root_mean_squared_error: 55.4646\n",
            "Epoch 69/100\n",
            "10/10 [==============================] - 0s 16ms/step - loss: 63.3967 - root_mean_squared_error: 80.6754 - val_loss: 43.9787 - val_root_mean_squared_error: 51.7515\n",
            "Epoch 70/100\n",
            "10/10 [==============================] - 0s 11ms/step - loss: 60.8202 - root_mean_squared_error: 77.5729 - val_loss: 42.2470 - val_root_mean_squared_error: 49.3330\n",
            "Epoch 71/100\n",
            "10/10 [==============================] - 0s 10ms/step - loss: 61.4743 - root_mean_squared_error: 76.0927 - val_loss: 36.3205 - val_root_mean_squared_error: 43.6085\n",
            "Epoch 72/100\n",
            "10/10 [==============================] - 0s 11ms/step - loss: 58.2335 - root_mean_squared_error: 72.8700 - val_loss: 28.5326 - val_root_mean_squared_error: 36.3506\n",
            "Epoch 73/100\n",
            "10/10 [==============================] - 0s 10ms/step - loss: 50.5198 - root_mean_squared_error: 65.4464 - val_loss: 28.9892 - val_root_mean_squared_error: 37.1993\n",
            "Epoch 74/100\n",
            "10/10 [==============================] - 0s 11ms/step - loss: 56.2264 - root_mean_squared_error: 68.9085 - val_loss: 26.4885 - val_root_mean_squared_error: 34.1862\n",
            "Epoch 75/100\n",
            "10/10 [==============================] - 0s 17ms/step - loss: 55.8055 - root_mean_squared_error: 70.4305 - val_loss: 41.2716 - val_root_mean_squared_error: 47.5275\n",
            "Epoch 76/100\n",
            "10/10 [==============================] - 0s 13ms/step - loss: 50.7161 - root_mean_squared_error: 63.8998 - val_loss: 25.4245 - val_root_mean_squared_error: 34.0343\n",
            "Epoch 77/100\n",
            "10/10 [==============================] - 0s 17ms/step - loss: 54.1053 - root_mean_squared_error: 68.9716 - val_loss: 31.7067 - val_root_mean_squared_error: 38.3834\n",
            "Epoch 78/100\n",
            "10/10 [==============================] - 0s 17ms/step - loss: 50.9151 - root_mean_squared_error: 64.0908 - val_loss: 24.7014 - val_root_mean_squared_error: 32.8856\n",
            "Epoch 79/100\n",
            "10/10 [==============================] - 0s 16ms/step - loss: 51.7718 - root_mean_squared_error: 67.4591 - val_loss: 26.1011 - val_root_mean_squared_error: 33.6659\n",
            "Epoch 80/100\n",
            "10/10 [==============================] - 0s 15ms/step - loss: 55.9456 - root_mean_squared_error: 72.0249 - val_loss: 39.3949 - val_root_mean_squared_error: 45.6633\n",
            "Epoch 81/100\n",
            "10/10 [==============================] - 0s 30ms/step - loss: 53.4339 - root_mean_squared_error: 67.6367 - val_loss: 32.0510 - val_root_mean_squared_error: 38.6653\n",
            "Epoch 82/100\n",
            "10/10 [==============================] - 0s 27ms/step - loss: 47.6624 - root_mean_squared_error: 59.6421 - val_loss: 23.8108 - val_root_mean_squared_error: 32.2471\n",
            "Epoch 83/100\n",
            "10/10 [==============================] - 0s 18ms/step - loss: 54.0291 - root_mean_squared_error: 67.1068 - val_loss: 28.5921 - val_root_mean_squared_error: 36.9165\n",
            "Epoch 84/100\n",
            "10/10 [==============================] - 0s 16ms/step - loss: 50.6834 - root_mean_squared_error: 63.4720 - val_loss: 35.6919 - val_root_mean_squared_error: 43.3698\n",
            "Epoch 85/100\n",
            "10/10 [==============================] - 0s 21ms/step - loss: 51.8884 - root_mean_squared_error: 66.7967 - val_loss: 25.5351 - val_root_mean_squared_error: 33.3611\n",
            "Epoch 86/100\n",
            "10/10 [==============================] - 0s 19ms/step - loss: 50.8627 - root_mean_squared_error: 63.4850 - val_loss: 47.4072 - val_root_mean_squared_error: 52.8847\n",
            "Epoch 87/100\n",
            "10/10 [==============================] - 0s 16ms/step - loss: 60.8170 - root_mean_squared_error: 76.0837 - val_loss: 30.4335 - val_root_mean_squared_error: 37.0718\n",
            "Epoch 88/100\n",
            "10/10 [==============================] - 0s 25ms/step - loss: 50.1064 - root_mean_squared_error: 64.9916 - val_loss: 26.0151 - val_root_mean_squared_error: 34.1809\n",
            "Epoch 89/100\n",
            "10/10 [==============================] - 0s 24ms/step - loss: 49.8248 - root_mean_squared_error: 61.9006 - val_loss: 26.0391 - val_root_mean_squared_error: 34.4188\n",
            "Epoch 90/100\n",
            "10/10 [==============================] - 0s 19ms/step - loss: 49.0231 - root_mean_squared_error: 62.1697 - val_loss: 31.1908 - val_root_mean_squared_error: 40.2976\n",
            "Epoch 91/100\n",
            "10/10 [==============================] - 0s 20ms/step - loss: 52.0061 - root_mean_squared_error: 67.1885 - val_loss: 35.7766 - val_root_mean_squared_error: 42.2586\n",
            "Epoch 92/100\n",
            "10/10 [==============================] - 0s 22ms/step - loss: 53.3762 - root_mean_squared_error: 67.4064 - val_loss: 29.4515 - val_root_mean_squared_error: 37.0255\n",
            "Epoch 93/100\n",
            "10/10 [==============================] - 0s 21ms/step - loss: 45.3979 - root_mean_squared_error: 57.1952 - val_loss: 28.4263 - val_root_mean_squared_error: 35.3219\n",
            "Epoch 94/100\n",
            "10/10 [==============================] - 0s 17ms/step - loss: 49.9700 - root_mean_squared_error: 61.4054 - val_loss: 29.6573 - val_root_mean_squared_error: 36.4338\n",
            "Epoch 95/100\n",
            "10/10 [==============================] - 0s 21ms/step - loss: 48.1315 - root_mean_squared_error: 59.5561 - val_loss: 31.9922 - val_root_mean_squared_error: 39.0636\n",
            "Epoch 96/100\n",
            "10/10 [==============================] - 0s 15ms/step - loss: 51.0359 - root_mean_squared_error: 63.7648 - val_loss: 44.3526 - val_root_mean_squared_error: 50.0168\n",
            "Epoch 97/100\n",
            "10/10 [==============================] - 0s 9ms/step - loss: 52.8046 - root_mean_squared_error: 67.5083 - val_loss: 25.1096 - val_root_mean_squared_error: 33.3039\n",
            "Epoch 98/100\n",
            "10/10 [==============================] - 0s 11ms/step - loss: 45.9046 - root_mean_squared_error: 57.4965 - val_loss: 25.1015 - val_root_mean_squared_error: 33.9849\n",
            "Epoch 99/100\n",
            "10/10 [==============================] - 0s 12ms/step - loss: 54.3363 - root_mean_squared_error: 68.6949 - val_loss: 25.0835 - val_root_mean_squared_error: 34.0244\n",
            "Epoch 100/100\n",
            "10/10 [==============================] - 0s 13ms/step - loss: 51.9853 - root_mean_squared_error: 66.3046 - val_loss: 24.8931 - val_root_mean_squared_error: 33.6286\n"
          ]
        }
      ]
    },
    {
      "cell_type": "code",
      "source": [
        "plt.plot(DNN_hist.history['loss'])\n",
        "plt.plot(DNN_hist.history['val_loss'])\n",
        "plt.title('Mean Absolute Error')\n",
        "plt.ylabel('Loss')\n",
        "plt.xlabel('Epoch')\n",
        "plt.legend(['Train', 'Val'], loc='upper right')\n",
        "plt.show()"
      ],
      "metadata": {
        "id": "CCnzFSuun18k",
        "outputId": "026bc3ff-ee62-4df7-deba-aa3126680ab1",
        "colab": {
          "base_uri": "https://localhost:8080/",
          "height": 472
        }
      },
      "execution_count": null,
      "outputs": [
        {
          "output_type": "display_data",
          "data": {
            "text/plain": [
              "<Figure size 640x480 with 1 Axes>"
            ],
            "image/png": "[encoded data removed]"
          },
          "metadata": {}
        }
      ]
    },
    {
      "cell_type": "code",
      "source": [
        "plt.plot(DNN_hist.history['root_mean_squared_error'])\n",
        "plt.plot(DNN_hist.history['val_root_mean_squared_error'])\n",
        "plt.title('Root mean square error')\n",
        "plt.ylabel('RMSE')\n",
        "plt.xlabel('Epoch')\n",
        "plt.legend(['Train', 'Val'], loc='upper right')\n",
        "plt.show()"
      ],
      "metadata": {
        "colab": {
          "base_uri": "https://localhost:8080/",
          "height": 472
        },
        "id": "R_a1uZh03h8C",
        "outputId": "d1a16684-ef10-48f3-808f-f661a6c57fa1"
      },
      "execution_count": null,
      "outputs": [
        {
          "output_type": "display_data",
          "data": {
            "text/plain": [
              "<Figure size 640x480 with 1 Axes>"
            ],
            "image/png": "[encoded data removed]"
          },
          "metadata": {}
        }
      ]
    },
    {
      "cell_type": "code",
      "source": [
        "NN_model.evaluate(X_test, Y_test)"
      ],
      "metadata": {
        "id": "S0dGp6Wr4j0v",
        "outputId": "acb8d182-d417-46f7-b104-b295c1f2f2dc",
        "colab": {
          "base_uri": "https://localhost:8080/"
        }
      },
      "execution_count": null,
      "outputs": [
        {
          "output_type": "stream",
          "name": "stdout",
          "text": [
            "2/2 [==============================] - 0s 19ms/step - loss: 53.1881 - root_mean_squared_error: 59.4405\n"
          ]
        },
        {
          "output_type": "execute_result",
          "data": {
            "text/plain": [
              "[53.18809127807617, 59.44050979614258]"
            ]
          },
          "metadata": {},
          "execution_count": 55
        }
      ]
    },
    {
      "cell_type": "code",
      "source": [
        "predictions = DNN_model.predict([[8,3,7,4]])\n",
        "print(predictions)"
      ],
      "metadata": {
        "id": "O494TydK-3nG",
        "colab": {
          "base_uri": "https://localhost:8080/"
        },
        "outputId": "a60e2474-0955-469d-f1b4-5cfc4efacf53"
      },
      "execution_count": null,
      "outputs": [
        {
          "output_type": "stream",
          "name": "stdout",
          "text": [
            "1/1 [==============================] - 0s 135ms/step\n",
            "[[689.28534]]\n"
          ]
        }
      ]
    },
    {
      "cell_type": "code",
      "source": [],
      "metadata": {
        "id": "77H255YW8jSv"
      },
      "execution_count": null,
      "outputs": []
    }
  ]
}